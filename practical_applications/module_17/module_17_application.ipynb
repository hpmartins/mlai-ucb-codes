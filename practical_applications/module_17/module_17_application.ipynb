{
 "cells": [
  {
   "cell_type": "markdown",
   "metadata": {},
   "source": [
    "# Practical Application III: Comparing Classifiers\n",
    "\n",
    "**Overview**: In this practical application, the goal is to compare the performance of the following classifiers: Nearest Neighbor, Logistic Regression, Decision Trees, and Support Vector Machines. The target dataset is related to marketing bank products over the telephone.  \n",
    "\n"
   ]
  },
  {
   "cell_type": "markdown",
   "metadata": {},
   "source": [
    "### Getting Started\n",
    "\n",
    "The dataset comes from the UCI Machine Learning repository [link](https://archive.ics.uci.edu/ml/datasets/bank+marketing).  The data is from a Portugese banking institution and is a collection of the results of multiple marketing campaigns.  We will make use of the article accompanying the dataset [here](CRISP-DM-BANK.pdf) for more information on the data and features.\n",
    "\n"
   ]
  },
  {
   "cell_type": "markdown",
   "metadata": {},
   "source": [
    "### Problem 1: Understanding the Data\n",
    "\n",
    "To gain a better understanding of the data, please read the information provided in the UCI link above, and examine the **Materials and Methods** section of the paper.  How many marketing campaigns does this data represent?"
   ]
  },
  {
   "cell_type": "markdown",
   "metadata": {},
   "source": [
    "A: The dataset is about 17 campaigns between May 2008 and November 2010."
   ]
  },
  {
   "cell_type": "markdown",
   "metadata": {},
   "source": [
    "### Problem 2: Read in the Data\n",
    "\n",
    "Use pandas to read in the dataset `bank-additional-full.csv` and assign to a meaningful variable name."
   ]
  },
  {
   "cell_type": "code",
   "execution_count": 1,
   "metadata": {},
   "outputs": [],
   "source": [
    "import pandas as pd\n",
    "import numpy as np\n",
    "import matplotlib.pyplot as plt\n",
    "import seaborn as sns\n",
    "\n",
    "import time"
   ]
  },
  {
   "cell_type": "code",
   "execution_count": 87,
   "metadata": {},
   "outputs": [],
   "source": [
    "from sklearn.preprocessing import OneHotEncoder, StandardScaler\n",
    "from sklearn.metrics import accuracy_score, RocCurveDisplay\n",
    "from sklearn.metrics import PrecisionRecallDisplay\n",
    "from sklearn import metrics\n",
    "from sklearn.metrics import ConfusionMatrixDisplay\n",
    "from sklearn.model_selection import train_test_split, GridSearchCV\n",
    "from sklearn.compose import make_column_transformer, make_column_selector\n",
    "\n",
    "from sklearn.dummy import DummyClassifier\n",
    "from sklearn.feature_selection import chi2\n",
    "from sklearn.impute import SimpleImputer\n",
    "\n",
    "from sklearn.linear_model import LogisticRegression\n",
    "from sklearn.neighbors import KNeighborsClassifier\n",
    "from sklearn.tree import DecisionTreeClassifier\n",
    "from sklearn.svm import SVC\n",
    "\n",
    "from sklearn import set_config\n",
    "\n",
    "set_config(display=\"diagram\")"
   ]
  },
  {
   "cell_type": "code",
   "execution_count": 3,
   "metadata": {},
   "outputs": [
    {
     "data": {
      "text/html": [
       "<div>\n",
       "<style scoped>\n",
       "    .dataframe tbody tr th:only-of-type {\n",
       "        vertical-align: middle;\n",
       "    }\n",
       "\n",
       "    .dataframe tbody tr th {\n",
       "        vertical-align: top;\n",
       "    }\n",
       "\n",
       "    .dataframe thead th {\n",
       "        text-align: right;\n",
       "    }\n",
       "</style>\n",
       "<table border=\"1\" class=\"dataframe\">\n",
       "  <thead>\n",
       "    <tr style=\"text-align: right;\">\n",
       "      <th></th>\n",
       "      <th>age</th>\n",
       "      <th>job</th>\n",
       "      <th>marital</th>\n",
       "      <th>education</th>\n",
       "      <th>default</th>\n",
       "      <th>housing</th>\n",
       "      <th>loan</th>\n",
       "      <th>contact</th>\n",
       "      <th>month</th>\n",
       "      <th>day_of_week</th>\n",
       "      <th>...</th>\n",
       "      <th>campaign</th>\n",
       "      <th>pdays</th>\n",
       "      <th>previous</th>\n",
       "      <th>poutcome</th>\n",
       "      <th>emp.var.rate</th>\n",
       "      <th>cons.price.idx</th>\n",
       "      <th>cons.conf.idx</th>\n",
       "      <th>euribor3m</th>\n",
       "      <th>nr.employed</th>\n",
       "      <th>y</th>\n",
       "    </tr>\n",
       "  </thead>\n",
       "  <tbody>\n",
       "    <tr>\n",
       "      <th>0</th>\n",
       "      <td>56</td>\n",
       "      <td>housemaid</td>\n",
       "      <td>married</td>\n",
       "      <td>basic.4y</td>\n",
       "      <td>no</td>\n",
       "      <td>no</td>\n",
       "      <td>no</td>\n",
       "      <td>telephone</td>\n",
       "      <td>may</td>\n",
       "      <td>mon</td>\n",
       "      <td>...</td>\n",
       "      <td>1</td>\n",
       "      <td>999</td>\n",
       "      <td>0</td>\n",
       "      <td>nonexistent</td>\n",
       "      <td>1.1</td>\n",
       "      <td>93.994</td>\n",
       "      <td>-36.4</td>\n",
       "      <td>4.857</td>\n",
       "      <td>5191.0</td>\n",
       "      <td>no</td>\n",
       "    </tr>\n",
       "    <tr>\n",
       "      <th>1</th>\n",
       "      <td>57</td>\n",
       "      <td>services</td>\n",
       "      <td>married</td>\n",
       "      <td>high.school</td>\n",
       "      <td>unknown</td>\n",
       "      <td>no</td>\n",
       "      <td>no</td>\n",
       "      <td>telephone</td>\n",
       "      <td>may</td>\n",
       "      <td>mon</td>\n",
       "      <td>...</td>\n",
       "      <td>1</td>\n",
       "      <td>999</td>\n",
       "      <td>0</td>\n",
       "      <td>nonexistent</td>\n",
       "      <td>1.1</td>\n",
       "      <td>93.994</td>\n",
       "      <td>-36.4</td>\n",
       "      <td>4.857</td>\n",
       "      <td>5191.0</td>\n",
       "      <td>no</td>\n",
       "    </tr>\n",
       "    <tr>\n",
       "      <th>2</th>\n",
       "      <td>37</td>\n",
       "      <td>services</td>\n",
       "      <td>married</td>\n",
       "      <td>high.school</td>\n",
       "      <td>no</td>\n",
       "      <td>yes</td>\n",
       "      <td>no</td>\n",
       "      <td>telephone</td>\n",
       "      <td>may</td>\n",
       "      <td>mon</td>\n",
       "      <td>...</td>\n",
       "      <td>1</td>\n",
       "      <td>999</td>\n",
       "      <td>0</td>\n",
       "      <td>nonexistent</td>\n",
       "      <td>1.1</td>\n",
       "      <td>93.994</td>\n",
       "      <td>-36.4</td>\n",
       "      <td>4.857</td>\n",
       "      <td>5191.0</td>\n",
       "      <td>no</td>\n",
       "    </tr>\n",
       "    <tr>\n",
       "      <th>3</th>\n",
       "      <td>40</td>\n",
       "      <td>admin.</td>\n",
       "      <td>married</td>\n",
       "      <td>basic.6y</td>\n",
       "      <td>no</td>\n",
       "      <td>no</td>\n",
       "      <td>no</td>\n",
       "      <td>telephone</td>\n",
       "      <td>may</td>\n",
       "      <td>mon</td>\n",
       "      <td>...</td>\n",
       "      <td>1</td>\n",
       "      <td>999</td>\n",
       "      <td>0</td>\n",
       "      <td>nonexistent</td>\n",
       "      <td>1.1</td>\n",
       "      <td>93.994</td>\n",
       "      <td>-36.4</td>\n",
       "      <td>4.857</td>\n",
       "      <td>5191.0</td>\n",
       "      <td>no</td>\n",
       "    </tr>\n",
       "    <tr>\n",
       "      <th>4</th>\n",
       "      <td>56</td>\n",
       "      <td>services</td>\n",
       "      <td>married</td>\n",
       "      <td>high.school</td>\n",
       "      <td>no</td>\n",
       "      <td>no</td>\n",
       "      <td>yes</td>\n",
       "      <td>telephone</td>\n",
       "      <td>may</td>\n",
       "      <td>mon</td>\n",
       "      <td>...</td>\n",
       "      <td>1</td>\n",
       "      <td>999</td>\n",
       "      <td>0</td>\n",
       "      <td>nonexistent</td>\n",
       "      <td>1.1</td>\n",
       "      <td>93.994</td>\n",
       "      <td>-36.4</td>\n",
       "      <td>4.857</td>\n",
       "      <td>5191.0</td>\n",
       "      <td>no</td>\n",
       "    </tr>\n",
       "  </tbody>\n",
       "</table>\n",
       "<p>5 rows × 21 columns</p>\n",
       "</div>"
      ],
      "text/plain": [
       "   age        job  marital    education  default housing loan    contact  \\\n",
       "0   56  housemaid  married     basic.4y       no      no   no  telephone   \n",
       "1   57   services  married  high.school  unknown      no   no  telephone   \n",
       "2   37   services  married  high.school       no     yes   no  telephone   \n",
       "3   40     admin.  married     basic.6y       no      no   no  telephone   \n",
       "4   56   services  married  high.school       no      no  yes  telephone   \n",
       "\n",
       "  month day_of_week  ...  campaign  pdays  previous     poutcome emp.var.rate  \\\n",
       "0   may         mon  ...         1    999         0  nonexistent          1.1   \n",
       "1   may         mon  ...         1    999         0  nonexistent          1.1   \n",
       "2   may         mon  ...         1    999         0  nonexistent          1.1   \n",
       "3   may         mon  ...         1    999         0  nonexistent          1.1   \n",
       "4   may         mon  ...         1    999         0  nonexistent          1.1   \n",
       "\n",
       "   cons.price.idx  cons.conf.idx  euribor3m  nr.employed   y  \n",
       "0          93.994          -36.4      4.857       5191.0  no  \n",
       "1          93.994          -36.4      4.857       5191.0  no  \n",
       "2          93.994          -36.4      4.857       5191.0  no  \n",
       "3          93.994          -36.4      4.857       5191.0  no  \n",
       "4          93.994          -36.4      4.857       5191.0  no  \n",
       "\n",
       "[5 rows x 21 columns]"
      ]
     },
     "execution_count": 3,
     "metadata": {},
     "output_type": "execute_result"
    }
   ],
   "source": [
    "full_df = pd.read_csv('data/bank-additional-full.csv', sep = ';')\n",
    "full_df.head()"
   ]
  },
  {
   "cell_type": "code",
   "execution_count": 4,
   "metadata": {},
   "outputs": [
    {
     "name": "stdout",
     "output_type": "stream",
     "text": [
      "<class 'pandas.core.frame.DataFrame'>\n",
      "RangeIndex: 41188 entries, 0 to 41187\n",
      "Data columns (total 21 columns):\n",
      " #   Column          Non-Null Count  Dtype  \n",
      "---  ------          --------------  -----  \n",
      " 0   age             41188 non-null  int64  \n",
      " 1   job             41188 non-null  object \n",
      " 2   marital         41188 non-null  object \n",
      " 3   education       41188 non-null  object \n",
      " 4   default         41188 non-null  object \n",
      " 5   housing         41188 non-null  object \n",
      " 6   loan            41188 non-null  object \n",
      " 7   contact         41188 non-null  object \n",
      " 8   month           41188 non-null  object \n",
      " 9   day_of_week     41188 non-null  object \n",
      " 10  duration        41188 non-null  int64  \n",
      " 11  campaign        41188 non-null  int64  \n",
      " 12  pdays           41188 non-null  int64  \n",
      " 13  previous        41188 non-null  int64  \n",
      " 14  poutcome        41188 non-null  object \n",
      " 15  emp.var.rate    41188 non-null  float64\n",
      " 16  cons.price.idx  41188 non-null  float64\n",
      " 17  cons.conf.idx   41188 non-null  float64\n",
      " 18  euribor3m       41188 non-null  float64\n",
      " 19  nr.employed     41188 non-null  float64\n",
      " 20  y               41188 non-null  object \n",
      "dtypes: float64(5), int64(5), object(11)\n",
      "memory usage: 6.6+ MB\n"
     ]
    }
   ],
   "source": [
    "full_df.info()"
   ]
  },
  {
   "cell_type": "markdown",
   "metadata": {},
   "source": [
    "### Problem 3: Understanding the Features\n",
    "\n",
    "\n",
    "Examine the data description below, and determine if any of the features are missing values or need to be coerced to a different data type.\n",
    "\n",
    "\n",
    "```\n",
    "Input variables:\n",
    "# bank client data:\n",
    "1 - age (numeric)\n",
    "2 - job : type of job (categorical: 'admin.','blue-collar','entrepreneur','housemaid','management','retired','self-employed','services','student','technician','unemployed','unknown')\n",
    "3 - marital : marital status (categorical: 'divorced','married','single','unknown'; note: 'divorced' means divorced or widowed)\n",
    "4 - education (categorical: 'basic.4y','basic.6y','basic.9y','high.school','illiterate','professional.course','university.degree','unknown')\n",
    "5 - default: has credit in default? (categorical: 'no','yes','unknown')\n",
    "6 - housing: has housing loan? (categorical: 'no','yes','unknown')\n",
    "7 - loan: has personal loan? (categorical: 'no','yes','unknown')\n",
    "# related with the last contact of the current campaign:\n",
    "8 - contact: contact communication type (categorical: 'cellular','telephone')\n",
    "9 - month: last contact month of year (categorical: 'jan', 'feb', 'mar', ..., 'nov', 'dec')\n",
    "10 - day_of_week: last contact day of the week (categorical: 'mon','tue','wed','thu','fri')\n",
    "11 - duration: last contact duration, in seconds (numeric). Important note: this attribute highly affects the output target (e.g., if duration=0 then y='no'). Yet, the duration is not known before a call is performed. Also, after the end of the call y is obviously known. Thus, this input should only be included for benchmark purposes and should be discarded if the intention is to have a realistic predictive model.\n",
    "# other attributes:\n",
    "12 - campaign: number of contacts performed during this campaign and for this client (numeric, includes last contact)\n",
    "13 - pdays: number of days that passed by after the client was last contacted from a previous campaign (numeric; 999 means client was not previously contacted)\n",
    "14 - previous: number of contacts performed before this campaign and for this client (numeric)\n",
    "15 - poutcome: outcome of the previous marketing campaign (categorical: 'failure','nonexistent','success')\n",
    "# social and economic context attributes\n",
    "16 - emp.var.rate: employment variation rate - quarterly indicator (numeric)\n",
    "17 - cons.price.idx: consumer price index - monthly indicator (numeric)\n",
    "18 - cons.conf.idx: consumer confidence index - monthly indicator (numeric)\n",
    "19 - euribor3m: euribor 3 month rate - daily indicator (numeric)\n",
    "20 - nr.employed: number of employees - quarterly indicator (numeric)\n",
    "\n",
    "Output variable (desired target):\n",
    "21 - y - has the client subscribed a term deposit? (binary: 'yes','no')\n",
    "```\n",
    "\n"
   ]
  },
  {
   "cell_type": "markdown",
   "metadata": {},
   "source": [
    "The following function and subsequent calls to specific columns is to test whether the unknown answers have some relationship to the target column, in order to decide whether to impute, delete or keep the unknown values. All known features are grouped into a 'known' column to be compared against the unknown. The ratios are given by the cross-table and after that the features are tested using a chi2 test. If the p_value is below a certain threshold (0.01) we can say that the variable is related to the target."
   ]
  },
  {
   "cell_type": "code",
   "execution_count": 5,
   "metadata": {},
   "outputs": [],
   "source": [
    "def test_unknown_values(X, y, column):\n",
    "    df_to_test = X[[column]].copy()\n",
    "    df_to_test[column] = np.where(df_to_test[column] == 'unknown', 'unknown', 'known')\n",
    "\n",
    "    crosstab = pd.crosstab(df_to_test[column], y, margins=True)\n",
    "    crosstab[\"Ratio\"] = crosstab[\"yes\"] / crosstab[\"All\"]\n",
    "\n",
    "    test_transformer = make_column_transformer(\n",
    "        (OneHotEncoder(sparse_output=False), [column]), verbose_feature_names_out=False\n",
    "    ).fit(df_to_test)\n",
    "    test_df = pd.DataFrame(\n",
    "        test_transformer.transform(df_to_test),\n",
    "        columns=test_transformer.get_feature_names_out(),\n",
    "    )\n",
    "    chi2_stats, p_values = chi2(test_df, y)\n",
    "    chi2_df = pd.DataFrame(\n",
    "        [chi2_stats, p_values],\n",
    "        columns=test_transformer.get_feature_names_out(),\n",
    "        index=[\"chi2\", \"p_value\"],\n",
    "    ).T\n",
    "\n",
    "    print(f\"Column: {column}\")\n",
    "    display(crosstab)\n",
    "    display(chi2_df)"
   ]
  },
  {
   "cell_type": "code",
   "execution_count": 6,
   "metadata": {},
   "outputs": [
    {
     "name": "stdout",
     "output_type": "stream",
     "text": [
      "Column: housing\n"
     ]
    },
    {
     "data": {
      "text/html": [
       "<div>\n",
       "<style scoped>\n",
       "    .dataframe tbody tr th:only-of-type {\n",
       "        vertical-align: middle;\n",
       "    }\n",
       "\n",
       "    .dataframe tbody tr th {\n",
       "        vertical-align: top;\n",
       "    }\n",
       "\n",
       "    .dataframe thead th {\n",
       "        text-align: right;\n",
       "    }\n",
       "</style>\n",
       "<table border=\"1\" class=\"dataframe\">\n",
       "  <thead>\n",
       "    <tr style=\"text-align: right;\">\n",
       "      <th>y</th>\n",
       "      <th>no</th>\n",
       "      <th>yes</th>\n",
       "      <th>All</th>\n",
       "      <th>Ratio</th>\n",
       "    </tr>\n",
       "    <tr>\n",
       "      <th>housing</th>\n",
       "      <th></th>\n",
       "      <th></th>\n",
       "      <th></th>\n",
       "      <th></th>\n",
       "    </tr>\n",
       "  </thead>\n",
       "  <tbody>\n",
       "    <tr>\n",
       "      <th>known</th>\n",
       "      <td>35665</td>\n",
       "      <td>4533</td>\n",
       "      <td>40198</td>\n",
       "      <td>0.112767</td>\n",
       "    </tr>\n",
       "    <tr>\n",
       "      <th>unknown</th>\n",
       "      <td>883</td>\n",
       "      <td>107</td>\n",
       "      <td>990</td>\n",
       "      <td>0.108081</td>\n",
       "    </tr>\n",
       "    <tr>\n",
       "      <th>All</th>\n",
       "      <td>36548</td>\n",
       "      <td>4640</td>\n",
       "      <td>41188</td>\n",
       "      <td>0.112654</td>\n",
       "    </tr>\n",
       "  </tbody>\n",
       "</table>\n",
       "</div>"
      ],
      "text/plain": [
       "y           no   yes    All     Ratio\n",
       "housing                              \n",
       "known    35665  4533  40198  0.112767\n",
       "unknown    883   107    990  0.108081\n",
       "All      36548  4640  41188  0.112654"
      ]
     },
     "metadata": {},
     "output_type": "display_data"
    },
    {
     "data": {
      "text/html": [
       "<div>\n",
       "<style scoped>\n",
       "    .dataframe tbody tr th:only-of-type {\n",
       "        vertical-align: middle;\n",
       "    }\n",
       "\n",
       "    .dataframe tbody tr th {\n",
       "        vertical-align: top;\n",
       "    }\n",
       "\n",
       "    .dataframe thead th {\n",
       "        text-align: right;\n",
       "    }\n",
       "</style>\n",
       "<table border=\"1\" class=\"dataframe\">\n",
       "  <thead>\n",
       "    <tr style=\"text-align: right;\">\n",
       "      <th></th>\n",
       "      <th>chi2</th>\n",
       "      <th>p_value</th>\n",
       "    </tr>\n",
       "  </thead>\n",
       "  <tbody>\n",
       "    <tr>\n",
       "      <th>housing_known</th>\n",
       "      <td>0.005101</td>\n",
       "      <td>0.943060</td>\n",
       "    </tr>\n",
       "    <tr>\n",
       "      <th>housing_unknown</th>\n",
       "      <td>0.207141</td>\n",
       "      <td>0.649017</td>\n",
       "    </tr>\n",
       "  </tbody>\n",
       "</table>\n",
       "</div>"
      ],
      "text/plain": [
       "                     chi2   p_value\n",
       "housing_known    0.005101  0.943060\n",
       "housing_unknown  0.207141  0.649017"
      ]
     },
     "metadata": {},
     "output_type": "display_data"
    },
    {
     "name": "stdout",
     "output_type": "stream",
     "text": [
      "Column: default\n"
     ]
    },
    {
     "data": {
      "text/html": [
       "<div>\n",
       "<style scoped>\n",
       "    .dataframe tbody tr th:only-of-type {\n",
       "        vertical-align: middle;\n",
       "    }\n",
       "\n",
       "    .dataframe tbody tr th {\n",
       "        vertical-align: top;\n",
       "    }\n",
       "\n",
       "    .dataframe thead th {\n",
       "        text-align: right;\n",
       "    }\n",
       "</style>\n",
       "<table border=\"1\" class=\"dataframe\">\n",
       "  <thead>\n",
       "    <tr style=\"text-align: right;\">\n",
       "      <th>y</th>\n",
       "      <th>no</th>\n",
       "      <th>yes</th>\n",
       "      <th>All</th>\n",
       "      <th>Ratio</th>\n",
       "    </tr>\n",
       "    <tr>\n",
       "      <th>default</th>\n",
       "      <th></th>\n",
       "      <th></th>\n",
       "      <th></th>\n",
       "      <th></th>\n",
       "    </tr>\n",
       "  </thead>\n",
       "  <tbody>\n",
       "    <tr>\n",
       "      <th>known</th>\n",
       "      <td>28394</td>\n",
       "      <td>4197</td>\n",
       "      <td>32591</td>\n",
       "      <td>0.128778</td>\n",
       "    </tr>\n",
       "    <tr>\n",
       "      <th>unknown</th>\n",
       "      <td>8154</td>\n",
       "      <td>443</td>\n",
       "      <td>8597</td>\n",
       "      <td>0.051530</td>\n",
       "    </tr>\n",
       "    <tr>\n",
       "      <th>All</th>\n",
       "      <td>36548</td>\n",
       "      <td>4640</td>\n",
       "      <td>41188</td>\n",
       "      <td>0.112654</td>\n",
       "    </tr>\n",
       "  </tbody>\n",
       "</table>\n",
       "</div>"
      ],
      "text/plain": [
       "y           no   yes    All     Ratio\n",
       "default                              \n",
       "known    28394  4197  32591  0.128778\n",
       "unknown   8154   443   8597  0.051530\n",
       "All      36548  4640  41188  0.112654"
      ]
     },
     "metadata": {},
     "output_type": "display_data"
    },
    {
     "data": {
      "text/html": [
       "<div>\n",
       "<style scoped>\n",
       "    .dataframe tbody tr th:only-of-type {\n",
       "        vertical-align: middle;\n",
       "    }\n",
       "\n",
       "    .dataframe tbody tr th {\n",
       "        vertical-align: top;\n",
       "    }\n",
       "\n",
       "    .dataframe thead th {\n",
       "        text-align: right;\n",
       "    }\n",
       "</style>\n",
       "<table border=\"1\" class=\"dataframe\">\n",
       "  <thead>\n",
       "    <tr style=\"text-align: right;\">\n",
       "      <th></th>\n",
       "      <th>chi2</th>\n",
       "      <th>p_value</th>\n",
       "    </tr>\n",
       "  </thead>\n",
       "  <tbody>\n",
       "    <tr>\n",
       "      <th>default_known</th>\n",
       "      <td>84.759343</td>\n",
       "      <td>3.369830e-20</td>\n",
       "    </tr>\n",
       "    <tr>\n",
       "      <th>default_unknown</th>\n",
       "      <td>321.320431</td>\n",
       "      <td>7.469382e-72</td>\n",
       "    </tr>\n",
       "  </tbody>\n",
       "</table>\n",
       "</div>"
      ],
      "text/plain": [
       "                       chi2       p_value\n",
       "default_known     84.759343  3.369830e-20\n",
       "default_unknown  321.320431  7.469382e-72"
      ]
     },
     "metadata": {},
     "output_type": "display_data"
    },
    {
     "name": "stdout",
     "output_type": "stream",
     "text": [
      "Column: marital\n"
     ]
    },
    {
     "data": {
      "text/html": [
       "<div>\n",
       "<style scoped>\n",
       "    .dataframe tbody tr th:only-of-type {\n",
       "        vertical-align: middle;\n",
       "    }\n",
       "\n",
       "    .dataframe tbody tr th {\n",
       "        vertical-align: top;\n",
       "    }\n",
       "\n",
       "    .dataframe thead th {\n",
       "        text-align: right;\n",
       "    }\n",
       "</style>\n",
       "<table border=\"1\" class=\"dataframe\">\n",
       "  <thead>\n",
       "    <tr style=\"text-align: right;\">\n",
       "      <th>y</th>\n",
       "      <th>no</th>\n",
       "      <th>yes</th>\n",
       "      <th>All</th>\n",
       "      <th>Ratio</th>\n",
       "    </tr>\n",
       "    <tr>\n",
       "      <th>marital</th>\n",
       "      <th></th>\n",
       "      <th></th>\n",
       "      <th></th>\n",
       "      <th></th>\n",
       "    </tr>\n",
       "  </thead>\n",
       "  <tbody>\n",
       "    <tr>\n",
       "      <th>known</th>\n",
       "      <td>36480</td>\n",
       "      <td>4628</td>\n",
       "      <td>41108</td>\n",
       "      <td>0.112581</td>\n",
       "    </tr>\n",
       "    <tr>\n",
       "      <th>unknown</th>\n",
       "      <td>68</td>\n",
       "      <td>12</td>\n",
       "      <td>80</td>\n",
       "      <td>0.150000</td>\n",
       "    </tr>\n",
       "    <tr>\n",
       "      <th>All</th>\n",
       "      <td>36548</td>\n",
       "      <td>4640</td>\n",
       "      <td>41188</td>\n",
       "      <td>0.112654</td>\n",
       "    </tr>\n",
       "  </tbody>\n",
       "</table>\n",
       "</div>"
      ],
      "text/plain": [
       "y           no   yes    All     Ratio\n",
       "marital                              \n",
       "known    36480  4628  41108  0.112581\n",
       "unknown     68    12     80  0.150000\n",
       "All      36548  4640  41188  0.112654"
      ]
     },
     "metadata": {},
     "output_type": "display_data"
    },
    {
     "data": {
      "text/html": [
       "<div>\n",
       "<style scoped>\n",
       "    .dataframe tbody tr th:only-of-type {\n",
       "        vertical-align: middle;\n",
       "    }\n",
       "\n",
       "    .dataframe tbody tr th {\n",
       "        vertical-align: top;\n",
       "    }\n",
       "\n",
       "    .dataframe thead th {\n",
       "        text-align: right;\n",
       "    }\n",
       "</style>\n",
       "<table border=\"1\" class=\"dataframe\">\n",
       "  <thead>\n",
       "    <tr style=\"text-align: right;\">\n",
       "      <th></th>\n",
       "      <th>chi2</th>\n",
       "      <th>p_value</th>\n",
       "    </tr>\n",
       "  </thead>\n",
       "  <tbody>\n",
       "    <tr>\n",
       "      <th>marital_known</th>\n",
       "      <td>0.002172</td>\n",
       "      <td>0.962827</td>\n",
       "    </tr>\n",
       "    <tr>\n",
       "      <th>marital_unknown</th>\n",
       "      <td>1.116179</td>\n",
       "      <td>0.290743</td>\n",
       "    </tr>\n",
       "  </tbody>\n",
       "</table>\n",
       "</div>"
      ],
      "text/plain": [
       "                     chi2   p_value\n",
       "marital_known    0.002172  0.962827\n",
       "marital_unknown  1.116179  0.290743"
      ]
     },
     "metadata": {},
     "output_type": "display_data"
    },
    {
     "name": "stdout",
     "output_type": "stream",
     "text": [
      "Column: job\n"
     ]
    },
    {
     "data": {
      "text/html": [
       "<div>\n",
       "<style scoped>\n",
       "    .dataframe tbody tr th:only-of-type {\n",
       "        vertical-align: middle;\n",
       "    }\n",
       "\n",
       "    .dataframe tbody tr th {\n",
       "        vertical-align: top;\n",
       "    }\n",
       "\n",
       "    .dataframe thead th {\n",
       "        text-align: right;\n",
       "    }\n",
       "</style>\n",
       "<table border=\"1\" class=\"dataframe\">\n",
       "  <thead>\n",
       "    <tr style=\"text-align: right;\">\n",
       "      <th>y</th>\n",
       "      <th>no</th>\n",
       "      <th>yes</th>\n",
       "      <th>All</th>\n",
       "      <th>Ratio</th>\n",
       "    </tr>\n",
       "    <tr>\n",
       "      <th>job</th>\n",
       "      <th></th>\n",
       "      <th></th>\n",
       "      <th></th>\n",
       "      <th></th>\n",
       "    </tr>\n",
       "  </thead>\n",
       "  <tbody>\n",
       "    <tr>\n",
       "      <th>known</th>\n",
       "      <td>36255</td>\n",
       "      <td>4603</td>\n",
       "      <td>40858</td>\n",
       "      <td>0.112658</td>\n",
       "    </tr>\n",
       "    <tr>\n",
       "      <th>unknown</th>\n",
       "      <td>293</td>\n",
       "      <td>37</td>\n",
       "      <td>330</td>\n",
       "      <td>0.112121</td>\n",
       "    </tr>\n",
       "    <tr>\n",
       "      <th>All</th>\n",
       "      <td>36548</td>\n",
       "      <td>4640</td>\n",
       "      <td>41188</td>\n",
       "      <td>0.112654</td>\n",
       "    </tr>\n",
       "  </tbody>\n",
       "</table>\n",
       "</div>"
      ],
      "text/plain": [
       "y           no   yes    All     Ratio\n",
       "job                                  \n",
       "known    36255  4603  40858  0.112658\n",
       "unknown    293    37    330  0.112121\n",
       "All      36548  4640  41188  0.112654"
      ]
     },
     "metadata": {},
     "output_type": "display_data"
    },
    {
     "data": {
      "text/html": [
       "<div>\n",
       "<style scoped>\n",
       "    .dataframe tbody tr th:only-of-type {\n",
       "        vertical-align: middle;\n",
       "    }\n",
       "\n",
       "    .dataframe tbody tr th {\n",
       "        vertical-align: top;\n",
       "    }\n",
       "\n",
       "    .dataframe thead th {\n",
       "        text-align: right;\n",
       "    }\n",
       "</style>\n",
       "<table border=\"1\" class=\"dataframe\">\n",
       "  <thead>\n",
       "    <tr style=\"text-align: right;\">\n",
       "      <th></th>\n",
       "      <th>chi2</th>\n",
       "      <th>p_value</th>\n",
       "    </tr>\n",
       "  </thead>\n",
       "  <tbody>\n",
       "    <tr>\n",
       "      <th>job_known</th>\n",
       "      <td>0.000008</td>\n",
       "      <td>0.997804</td>\n",
       "    </tr>\n",
       "    <tr>\n",
       "      <th>job_unknown</th>\n",
       "      <td>0.000938</td>\n",
       "      <td>0.975571</td>\n",
       "    </tr>\n",
       "  </tbody>\n",
       "</table>\n",
       "</div>"
      ],
      "text/plain": [
       "                 chi2   p_value\n",
       "job_known    0.000008  0.997804\n",
       "job_unknown  0.000938  0.975571"
      ]
     },
     "metadata": {},
     "output_type": "display_data"
    },
    {
     "name": "stdout",
     "output_type": "stream",
     "text": [
      "Column: education\n"
     ]
    },
    {
     "data": {
      "text/html": [
       "<div>\n",
       "<style scoped>\n",
       "    .dataframe tbody tr th:only-of-type {\n",
       "        vertical-align: middle;\n",
       "    }\n",
       "\n",
       "    .dataframe tbody tr th {\n",
       "        vertical-align: top;\n",
       "    }\n",
       "\n",
       "    .dataframe thead th {\n",
       "        text-align: right;\n",
       "    }\n",
       "</style>\n",
       "<table border=\"1\" class=\"dataframe\">\n",
       "  <thead>\n",
       "    <tr style=\"text-align: right;\">\n",
       "      <th>y</th>\n",
       "      <th>no</th>\n",
       "      <th>yes</th>\n",
       "      <th>All</th>\n",
       "      <th>Ratio</th>\n",
       "    </tr>\n",
       "    <tr>\n",
       "      <th>education</th>\n",
       "      <th></th>\n",
       "      <th></th>\n",
       "      <th></th>\n",
       "      <th></th>\n",
       "    </tr>\n",
       "  </thead>\n",
       "  <tbody>\n",
       "    <tr>\n",
       "      <th>known</th>\n",
       "      <td>35068</td>\n",
       "      <td>4389</td>\n",
       "      <td>39457</td>\n",
       "      <td>0.111235</td>\n",
       "    </tr>\n",
       "    <tr>\n",
       "      <th>unknown</th>\n",
       "      <td>1480</td>\n",
       "      <td>251</td>\n",
       "      <td>1731</td>\n",
       "      <td>0.145003</td>\n",
       "    </tr>\n",
       "    <tr>\n",
       "      <th>All</th>\n",
       "      <td>36548</td>\n",
       "      <td>4640</td>\n",
       "      <td>41188</td>\n",
       "      <td>0.112654</td>\n",
       "    </tr>\n",
       "  </tbody>\n",
       "</table>\n",
       "</div>"
      ],
      "text/plain": [
       "y             no   yes    All     Ratio\n",
       "education                              \n",
       "known      35068  4389  39457  0.111235\n",
       "unknown     1480   251   1731  0.145003\n",
       "All        36548  4640  41188  0.112654"
      ]
     },
     "metadata": {},
     "output_type": "display_data"
    },
    {
     "data": {
      "text/html": [
       "<div>\n",
       "<style scoped>\n",
       "    .dataframe tbody tr th:only-of-type {\n",
       "        vertical-align: middle;\n",
       "    }\n",
       "\n",
       "    .dataframe tbody tr th {\n",
       "        vertical-align: top;\n",
       "    }\n",
       "\n",
       "    .dataframe thead th {\n",
       "        text-align: right;\n",
       "    }\n",
       "</style>\n",
       "<table border=\"1\" class=\"dataframe\">\n",
       "  <thead>\n",
       "    <tr style=\"text-align: right;\">\n",
       "      <th></th>\n",
       "      <th>chi2</th>\n",
       "      <th>p_value</th>\n",
       "    </tr>\n",
       "  </thead>\n",
       "  <tbody>\n",
       "    <tr>\n",
       "      <th>education_known</th>\n",
       "      <td>0.794958</td>\n",
       "      <td>0.372605</td>\n",
       "    </tr>\n",
       "    <tr>\n",
       "      <th>education_unknown</th>\n",
       "      <td>18.120535</td>\n",
       "      <td>0.000021</td>\n",
       "    </tr>\n",
       "  </tbody>\n",
       "</table>\n",
       "</div>"
      ],
      "text/plain": [
       "                        chi2   p_value\n",
       "education_known     0.794958  0.372605\n",
       "education_unknown  18.120535  0.000021"
      ]
     },
     "metadata": {},
     "output_type": "display_data"
    },
    {
     "name": "stdout",
     "output_type": "stream",
     "text": [
      "Column: loan\n"
     ]
    },
    {
     "data": {
      "text/html": [
       "<div>\n",
       "<style scoped>\n",
       "    .dataframe tbody tr th:only-of-type {\n",
       "        vertical-align: middle;\n",
       "    }\n",
       "\n",
       "    .dataframe tbody tr th {\n",
       "        vertical-align: top;\n",
       "    }\n",
       "\n",
       "    .dataframe thead th {\n",
       "        text-align: right;\n",
       "    }\n",
       "</style>\n",
       "<table border=\"1\" class=\"dataframe\">\n",
       "  <thead>\n",
       "    <tr style=\"text-align: right;\">\n",
       "      <th>y</th>\n",
       "      <th>no</th>\n",
       "      <th>yes</th>\n",
       "      <th>All</th>\n",
       "      <th>Ratio</th>\n",
       "    </tr>\n",
       "    <tr>\n",
       "      <th>loan</th>\n",
       "      <th></th>\n",
       "      <th></th>\n",
       "      <th></th>\n",
       "      <th></th>\n",
       "    </tr>\n",
       "  </thead>\n",
       "  <tbody>\n",
       "    <tr>\n",
       "      <th>known</th>\n",
       "      <td>35665</td>\n",
       "      <td>4533</td>\n",
       "      <td>40198</td>\n",
       "      <td>0.112767</td>\n",
       "    </tr>\n",
       "    <tr>\n",
       "      <th>unknown</th>\n",
       "      <td>883</td>\n",
       "      <td>107</td>\n",
       "      <td>990</td>\n",
       "      <td>0.108081</td>\n",
       "    </tr>\n",
       "    <tr>\n",
       "      <th>All</th>\n",
       "      <td>36548</td>\n",
       "      <td>4640</td>\n",
       "      <td>41188</td>\n",
       "      <td>0.112654</td>\n",
       "    </tr>\n",
       "  </tbody>\n",
       "</table>\n",
       "</div>"
      ],
      "text/plain": [
       "y           no   yes    All     Ratio\n",
       "loan                                 \n",
       "known    35665  4533  40198  0.112767\n",
       "unknown    883   107    990  0.108081\n",
       "All      36548  4640  41188  0.112654"
      ]
     },
     "metadata": {},
     "output_type": "display_data"
    },
    {
     "data": {
      "text/html": [
       "<div>\n",
       "<style scoped>\n",
       "    .dataframe tbody tr th:only-of-type {\n",
       "        vertical-align: middle;\n",
       "    }\n",
       "\n",
       "    .dataframe tbody tr th {\n",
       "        vertical-align: top;\n",
       "    }\n",
       "\n",
       "    .dataframe thead th {\n",
       "        text-align: right;\n",
       "    }\n",
       "</style>\n",
       "<table border=\"1\" class=\"dataframe\">\n",
       "  <thead>\n",
       "    <tr style=\"text-align: right;\">\n",
       "      <th></th>\n",
       "      <th>chi2</th>\n",
       "      <th>p_value</th>\n",
       "    </tr>\n",
       "  </thead>\n",
       "  <tbody>\n",
       "    <tr>\n",
       "      <th>loan_known</th>\n",
       "      <td>0.005101</td>\n",
       "      <td>0.943060</td>\n",
       "    </tr>\n",
       "    <tr>\n",
       "      <th>loan_unknown</th>\n",
       "      <td>0.207141</td>\n",
       "      <td>0.649017</td>\n",
       "    </tr>\n",
       "  </tbody>\n",
       "</table>\n",
       "</div>"
      ],
      "text/plain": [
       "                  chi2   p_value\n",
       "loan_known    0.005101  0.943060\n",
       "loan_unknown  0.207141  0.649017"
      ]
     },
     "metadata": {},
     "output_type": "display_data"
    }
   ],
   "source": [
    "test_unknown_values(full_df.drop(['y'], axis=1), full_df['y'], 'housing')\n",
    "test_unknown_values(full_df.drop(['y'], axis=1), full_df['y'], 'default')\n",
    "test_unknown_values(full_df.drop(['y'], axis=1), full_df['y'], 'marital')\n",
    "test_unknown_values(full_df.drop(['y'], axis=1), full_df['y'], 'job')\n",
    "test_unknown_values(full_df.drop(['y'], axis=1), full_df['y'], 'education')\n",
    "test_unknown_values(full_df.drop(['y'], axis=1), full_df['y'], 'loan')"
   ]
  },
  {
   "cell_type": "code",
   "execution_count": 7,
   "metadata": {},
   "outputs": [
    {
     "data": {
      "text/html": [
       "<div>\n",
       "<style scoped>\n",
       "    .dataframe tbody tr th:only-of-type {\n",
       "        vertical-align: middle;\n",
       "    }\n",
       "\n",
       "    .dataframe tbody tr th {\n",
       "        vertical-align: top;\n",
       "    }\n",
       "\n",
       "    .dataframe thead th {\n",
       "        text-align: right;\n",
       "    }\n",
       "</style>\n",
       "<table border=\"1\" class=\"dataframe\">\n",
       "  <thead>\n",
       "    <tr style=\"text-align: right;\">\n",
       "      <th></th>\n",
       "      <th>age</th>\n",
       "      <th>job</th>\n",
       "      <th>marital</th>\n",
       "      <th>education</th>\n",
       "      <th>default</th>\n",
       "      <th>housing</th>\n",
       "      <th>loan</th>\n",
       "      <th>contact</th>\n",
       "      <th>month</th>\n",
       "      <th>day_of_week</th>\n",
       "      <th>campaign</th>\n",
       "      <th>pdays</th>\n",
       "      <th>previous</th>\n",
       "      <th>poutcome</th>\n",
       "      <th>emp.var.rate</th>\n",
       "      <th>cons.price.idx</th>\n",
       "      <th>cons.conf.idx</th>\n",
       "      <th>euribor3m</th>\n",
       "      <th>nr.employed</th>\n",
       "      <th>y</th>\n",
       "    </tr>\n",
       "  </thead>\n",
       "  <tbody>\n",
       "    <tr>\n",
       "      <th>16003</th>\n",
       "      <td>31</td>\n",
       "      <td>technician</td>\n",
       "      <td>married</td>\n",
       "      <td>basic.9y</td>\n",
       "      <td>no</td>\n",
       "      <td>1</td>\n",
       "      <td>0</td>\n",
       "      <td>cellular</td>\n",
       "      <td>jul</td>\n",
       "      <td>wed</td>\n",
       "      <td>1</td>\n",
       "      <td>never</td>\n",
       "      <td>0</td>\n",
       "      <td>nonexistent</td>\n",
       "      <td>1.4</td>\n",
       "      <td>93.918</td>\n",
       "      <td>-42.7</td>\n",
       "      <td>4.963</td>\n",
       "      <td>5228.1</td>\n",
       "      <td>0</td>\n",
       "    </tr>\n",
       "    <tr>\n",
       "      <th>12029</th>\n",
       "      <td>24</td>\n",
       "      <td>services</td>\n",
       "      <td>married</td>\n",
       "      <td>high.school</td>\n",
       "      <td>no</td>\n",
       "      <td>1</td>\n",
       "      <td>0</td>\n",
       "      <td>cellular</td>\n",
       "      <td>jul</td>\n",
       "      <td>mon</td>\n",
       "      <td>4</td>\n",
       "      <td>never</td>\n",
       "      <td>0</td>\n",
       "      <td>nonexistent</td>\n",
       "      <td>1.4</td>\n",
       "      <td>93.918</td>\n",
       "      <td>-42.7</td>\n",
       "      <td>4.960</td>\n",
       "      <td>5228.1</td>\n",
       "      <td>0</td>\n",
       "    </tr>\n",
       "    <tr>\n",
       "      <th>33005</th>\n",
       "      <td>30</td>\n",
       "      <td>technician</td>\n",
       "      <td>single</td>\n",
       "      <td>high.school</td>\n",
       "      <td>no</td>\n",
       "      <td>1</td>\n",
       "      <td>0</td>\n",
       "      <td>cellular</td>\n",
       "      <td>may</td>\n",
       "      <td>wed</td>\n",
       "      <td>3</td>\n",
       "      <td>never</td>\n",
       "      <td>0</td>\n",
       "      <td>nonexistent</td>\n",
       "      <td>-1.8</td>\n",
       "      <td>92.893</td>\n",
       "      <td>-46.2</td>\n",
       "      <td>1.281</td>\n",
       "      <td>5099.1</td>\n",
       "      <td>0</td>\n",
       "    </tr>\n",
       "    <tr>\n",
       "      <th>10208</th>\n",
       "      <td>31</td>\n",
       "      <td>blue-collar</td>\n",
       "      <td>married</td>\n",
       "      <td>basic.9y</td>\n",
       "      <td>unknown</td>\n",
       "      <td>1</td>\n",
       "      <td>0</td>\n",
       "      <td>telephone</td>\n",
       "      <td>jun</td>\n",
       "      <td>tue</td>\n",
       "      <td>3</td>\n",
       "      <td>never</td>\n",
       "      <td>0</td>\n",
       "      <td>nonexistent</td>\n",
       "      <td>1.4</td>\n",
       "      <td>94.465</td>\n",
       "      <td>-41.8</td>\n",
       "      <td>4.961</td>\n",
       "      <td>5228.1</td>\n",
       "      <td>1</td>\n",
       "    </tr>\n",
       "    <tr>\n",
       "      <th>616</th>\n",
       "      <td>32</td>\n",
       "      <td>housemaid</td>\n",
       "      <td>married</td>\n",
       "      <td>high.school</td>\n",
       "      <td>no</td>\n",
       "      <td>0</td>\n",
       "      <td>0</td>\n",
       "      <td>telephone</td>\n",
       "      <td>may</td>\n",
       "      <td>tue</td>\n",
       "      <td>1</td>\n",
       "      <td>never</td>\n",
       "      <td>0</td>\n",
       "      <td>nonexistent</td>\n",
       "      <td>1.1</td>\n",
       "      <td>93.994</td>\n",
       "      <td>-36.4</td>\n",
       "      <td>4.857</td>\n",
       "      <td>5191.0</td>\n",
       "      <td>0</td>\n",
       "    </tr>\n",
       "  </tbody>\n",
       "</table>\n",
       "</div>"
      ],
      "text/plain": [
       "       age          job  marital    education  default  housing  loan  \\\n",
       "16003   31   technician  married     basic.9y       no        1     0   \n",
       "12029   24     services  married  high.school       no        1     0   \n",
       "33005   30   technician   single  high.school       no        1     0   \n",
       "10208   31  blue-collar  married     basic.9y  unknown        1     0   \n",
       "616     32    housemaid  married  high.school       no        0     0   \n",
       "\n",
       "         contact month day_of_week  campaign  pdays  previous     poutcome  \\\n",
       "16003   cellular   jul         wed         1  never         0  nonexistent   \n",
       "12029   cellular   jul         mon         4  never         0  nonexistent   \n",
       "33005   cellular   may         wed         3  never         0  nonexistent   \n",
       "10208  telephone   jun         tue         3  never         0  nonexistent   \n",
       "616    telephone   may         tue         1  never         0  nonexistent   \n",
       "\n",
       "       emp.var.rate  cons.price.idx  cons.conf.idx  euribor3m  nr.employed  y  \n",
       "16003           1.4          93.918          -42.7      4.963       5228.1  0  \n",
       "12029           1.4          93.918          -42.7      4.960       5228.1  0  \n",
       "33005          -1.8          92.893          -46.2      1.281       5099.1  0  \n",
       "10208           1.4          94.465          -41.8      4.961       5228.1  1  \n",
       "616             1.1          93.994          -36.4      4.857       5191.0  0  "
      ]
     },
     "execution_count": 7,
     "metadata": {},
     "output_type": "execute_result"
    }
   ],
   "source": [
    "df = full_df.copy()\n",
    "\n",
    "# The data description says that the 'duration' column is directly related\n",
    "# to the output target 'y', so I am dropping it.\n",
    "df = df.drop([\"duration\"], axis=1)\n",
    "\n",
    "# Imputations: education and housing\n",
    "imp_education = SimpleImputer(missing_values='unknown', strategy='most_frequent').fit_transform(df[['education']])\n",
    "imp_housing = SimpleImputer(missing_values='unknown', strategy='most_frequent').fit_transform(df[['housing']])\n",
    "df['education'] = [x[0] for x in imp_education]\n",
    "df['housing'] = [x[0] for x in imp_housing]\n",
    "\n",
    "# The 'default' feature has 32588 'no', 8597 'unknown', and only 3 'yes'.\n",
    "# The test showed that the unknown values are related to the target column,\n",
    "# so these unknown values cannot be dropped.\n",
    "\n",
    "# The marital/job/loan features have unknown values but the test above showed\n",
    "# that they are not related to the target column, so I am dropping these rows.\n",
    "df = df[df.marital != 'unknown']\n",
    "df = df[df.job != 'unknown']\n",
    "df = df[df.loan != 'unknown']\n",
    "\n",
    "# pdays is the number of days the client was last contacted since a previous\n",
    "# campaign. 999 is 'never', so to better model this I am binning the values\n",
    "# into four ranges: within 1 week, within 2 weeks, within 4 weeks, and never\n",
    "df.pdays = pd.cut(\n",
    "    df.pdays,\n",
    "    bins=[-0.01, 3, 14, 30, 1000],\n",
    "    labels=[\n",
    "        \"within_3_days\",\n",
    "        \"within_2_weeks\",\n",
    "        \"within_4_weeks\",\n",
    "        \"never\",\n",
    "    ],\n",
    "    retbins=False,\n",
    ").astype(\"object\")\n",
    "\n",
    "# Resetting the index\n",
    "df = df.reset_index(drop=True)\n",
    "\n",
    "# Encoding housing, loan, and target yes/no values into 1/0\n",
    "df.housing = df.housing.map({'yes': 1, 'no': 0})\n",
    "df.loan = df.loan.map({'yes': 1, 'no': 0})\n",
    "df.y = df.y.map({'yes': 1, 'no': 0})\n",
    "\n",
    "# Prints value_counts for all categorical features\n",
    "# for i in df.select_dtypes(include=\"object\"):\n",
    "#     print(df[i].value_counts())\n",
    "#     print(\"\")\n",
    "\n",
    "df.sample(5)"
   ]
  },
  {
   "cell_type": "markdown",
   "metadata": {},
   "source": [
    "### Problem 4: Understanding the Task\n",
    "\n",
    "After examining the description and data, your goal now is to clearly state the *Business Objective* of the task.  State the objective below."
   ]
  },
  {
   "cell_type": "markdown",
   "metadata": {},
   "source": [
    "A: Marketing campaigns are important to companies such as banks, but sometimes they can be a nuisance to the customers if done poorly or to uninterested customers. The business goal around this dataset analysis is to find a model that can predict the success of a campaign given a set of features about the people that are contacted. If done correctly, the model can increase campaign efficiency which in turn will help the company to better use their resources and also target people that are really potential customers."
   ]
  },
  {
   "cell_type": "markdown",
   "metadata": {},
   "source": [
    "### Problem 5: Engineering Features\n",
    "\n",
    "Now that you understand your business objective, we will build a basic model to get started.  Before we can do this, we must work to encode the data.  Using just the bank information features, prepare the features and target column for modeling with appropriate encoding and transformations."
   ]
  },
  {
   "cell_type": "code",
   "execution_count": 43,
   "metadata": {},
   "outputs": [],
   "source": [
    "df_features = df.drop('y', axis = 1)\n",
    "df_features = df_features[['age', 'job', 'marital', 'education', 'default', 'housing', 'loan', 'contact', 'campaign', 'pdays', 'previous', 'poutcome']]\n",
    "df_target = df['y'].copy()\n",
    "\n",
    "features_column_transformer = make_column_transformer(\n",
    "    (OneHotEncoder(sparse_output=False), make_column_selector(dtype_include=object)),\n",
    "    remainder = StandardScaler(), verbose_feature_names_out=False,\n",
    ").fit(df_features)\n",
    "\n",
    "X = pd.DataFrame(features_column_transformer.transform(df_features), columns = features_column_transformer.get_feature_names_out())\n",
    "y = df_target.copy()"
   ]
  },
  {
   "cell_type": "code",
   "execution_count": 44,
   "metadata": {},
   "outputs": [
    {
     "data": {
      "text/html": [
       "<div>\n",
       "<style scoped>\n",
       "    .dataframe tbody tr th:only-of-type {\n",
       "        vertical-align: middle;\n",
       "    }\n",
       "\n",
       "    .dataframe tbody tr th {\n",
       "        vertical-align: top;\n",
       "    }\n",
       "\n",
       "    .dataframe thead th {\n",
       "        text-align: right;\n",
       "    }\n",
       "</style>\n",
       "<table border=\"1\" class=\"dataframe\">\n",
       "  <thead>\n",
       "    <tr style=\"text-align: right;\">\n",
       "      <th></th>\n",
       "      <th>job_admin.</th>\n",
       "      <th>job_blue-collar</th>\n",
       "      <th>job_entrepreneur</th>\n",
       "      <th>job_housemaid</th>\n",
       "      <th>job_management</th>\n",
       "      <th>job_retired</th>\n",
       "      <th>job_self-employed</th>\n",
       "      <th>job_services</th>\n",
       "      <th>job_student</th>\n",
       "      <th>job_technician</th>\n",
       "      <th>...</th>\n",
       "      <th>pdays_within_3_days</th>\n",
       "      <th>pdays_within_4_weeks</th>\n",
       "      <th>poutcome_failure</th>\n",
       "      <th>poutcome_nonexistent</th>\n",
       "      <th>poutcome_success</th>\n",
       "      <th>age</th>\n",
       "      <th>housing</th>\n",
       "      <th>loan</th>\n",
       "      <th>campaign</th>\n",
       "      <th>previous</th>\n",
       "    </tr>\n",
       "  </thead>\n",
       "  <tbody>\n",
       "    <tr>\n",
       "      <th>0</th>\n",
       "      <td>0.0</td>\n",
       "      <td>0.0</td>\n",
       "      <td>0.0</td>\n",
       "      <td>1.0</td>\n",
       "      <td>0.0</td>\n",
       "      <td>0.0</td>\n",
       "      <td>0.0</td>\n",
       "      <td>0.0</td>\n",
       "      <td>0.0</td>\n",
       "      <td>0.0</td>\n",
       "      <td>...</td>\n",
       "      <td>0.0</td>\n",
       "      <td>0.0</td>\n",
       "      <td>0.0</td>\n",
       "      <td>1.0</td>\n",
       "      <td>0.0</td>\n",
       "      <td>1.539987</td>\n",
       "      <td>-1.077050</td>\n",
       "      <td>-0.428845</td>\n",
       "      <td>-0.566762</td>\n",
       "      <td>-0.349299</td>\n",
       "    </tr>\n",
       "    <tr>\n",
       "      <th>1</th>\n",
       "      <td>0.0</td>\n",
       "      <td>0.0</td>\n",
       "      <td>0.0</td>\n",
       "      <td>0.0</td>\n",
       "      <td>0.0</td>\n",
       "      <td>0.0</td>\n",
       "      <td>0.0</td>\n",
       "      <td>1.0</td>\n",
       "      <td>0.0</td>\n",
       "      <td>0.0</td>\n",
       "      <td>...</td>\n",
       "      <td>0.0</td>\n",
       "      <td>0.0</td>\n",
       "      <td>0.0</td>\n",
       "      <td>1.0</td>\n",
       "      <td>0.0</td>\n",
       "      <td>1.636117</td>\n",
       "      <td>-1.077050</td>\n",
       "      <td>-0.428845</td>\n",
       "      <td>-0.566762</td>\n",
       "      <td>-0.349299</td>\n",
       "    </tr>\n",
       "    <tr>\n",
       "      <th>2</th>\n",
       "      <td>0.0</td>\n",
       "      <td>0.0</td>\n",
       "      <td>0.0</td>\n",
       "      <td>0.0</td>\n",
       "      <td>0.0</td>\n",
       "      <td>0.0</td>\n",
       "      <td>0.0</td>\n",
       "      <td>1.0</td>\n",
       "      <td>0.0</td>\n",
       "      <td>0.0</td>\n",
       "      <td>...</td>\n",
       "      <td>0.0</td>\n",
       "      <td>0.0</td>\n",
       "      <td>0.0</td>\n",
       "      <td>1.0</td>\n",
       "      <td>0.0</td>\n",
       "      <td>-0.286490</td>\n",
       "      <td>0.928462</td>\n",
       "      <td>-0.428845</td>\n",
       "      <td>-0.566762</td>\n",
       "      <td>-0.349299</td>\n",
       "    </tr>\n",
       "    <tr>\n",
       "      <th>3</th>\n",
       "      <td>1.0</td>\n",
       "      <td>0.0</td>\n",
       "      <td>0.0</td>\n",
       "      <td>0.0</td>\n",
       "      <td>0.0</td>\n",
       "      <td>0.0</td>\n",
       "      <td>0.0</td>\n",
       "      <td>0.0</td>\n",
       "      <td>0.0</td>\n",
       "      <td>0.0</td>\n",
       "      <td>...</td>\n",
       "      <td>0.0</td>\n",
       "      <td>0.0</td>\n",
       "      <td>0.0</td>\n",
       "      <td>1.0</td>\n",
       "      <td>0.0</td>\n",
       "      <td>0.001901</td>\n",
       "      <td>-1.077050</td>\n",
       "      <td>-0.428845</td>\n",
       "      <td>-0.566762</td>\n",
       "      <td>-0.349299</td>\n",
       "    </tr>\n",
       "    <tr>\n",
       "      <th>4</th>\n",
       "      <td>0.0</td>\n",
       "      <td>0.0</td>\n",
       "      <td>0.0</td>\n",
       "      <td>0.0</td>\n",
       "      <td>0.0</td>\n",
       "      <td>0.0</td>\n",
       "      <td>0.0</td>\n",
       "      <td>1.0</td>\n",
       "      <td>0.0</td>\n",
       "      <td>0.0</td>\n",
       "      <td>...</td>\n",
       "      <td>0.0</td>\n",
       "      <td>0.0</td>\n",
       "      <td>0.0</td>\n",
       "      <td>1.0</td>\n",
       "      <td>0.0</td>\n",
       "      <td>1.539987</td>\n",
       "      <td>-1.077050</td>\n",
       "      <td>2.331843</td>\n",
       "      <td>-0.566762</td>\n",
       "      <td>-0.349299</td>\n",
       "    </tr>\n",
       "  </tbody>\n",
       "</table>\n",
       "<p>5 rows × 38 columns</p>\n",
       "</div>"
      ],
      "text/plain": [
       "   job_admin.  job_blue-collar  job_entrepreneur  job_housemaid  \\\n",
       "0         0.0              0.0               0.0            1.0   \n",
       "1         0.0              0.0               0.0            0.0   \n",
       "2         0.0              0.0               0.0            0.0   \n",
       "3         1.0              0.0               0.0            0.0   \n",
       "4         0.0              0.0               0.0            0.0   \n",
       "\n",
       "   job_management  job_retired  job_self-employed  job_services  job_student  \\\n",
       "0             0.0          0.0                0.0           0.0          0.0   \n",
       "1             0.0          0.0                0.0           1.0          0.0   \n",
       "2             0.0          0.0                0.0           1.0          0.0   \n",
       "3             0.0          0.0                0.0           0.0          0.0   \n",
       "4             0.0          0.0                0.0           1.0          0.0   \n",
       "\n",
       "   job_technician  ...  pdays_within_3_days  pdays_within_4_weeks  \\\n",
       "0             0.0  ...                  0.0                   0.0   \n",
       "1             0.0  ...                  0.0                   0.0   \n",
       "2             0.0  ...                  0.0                   0.0   \n",
       "3             0.0  ...                  0.0                   0.0   \n",
       "4             0.0  ...                  0.0                   0.0   \n",
       "\n",
       "   poutcome_failure  poutcome_nonexistent  poutcome_success       age  \\\n",
       "0               0.0                   1.0               0.0  1.539987   \n",
       "1               0.0                   1.0               0.0  1.636117   \n",
       "2               0.0                   1.0               0.0 -0.286490   \n",
       "3               0.0                   1.0               0.0  0.001901   \n",
       "4               0.0                   1.0               0.0  1.539987   \n",
       "\n",
       "    housing      loan  campaign  previous  \n",
       "0 -1.077050 -0.428845 -0.566762 -0.349299  \n",
       "1 -1.077050 -0.428845 -0.566762 -0.349299  \n",
       "2  0.928462 -0.428845 -0.566762 -0.349299  \n",
       "3 -1.077050 -0.428845 -0.566762 -0.349299  \n",
       "4 -1.077050  2.331843 -0.566762 -0.349299  \n",
       "\n",
       "[5 rows x 38 columns]"
      ]
     },
     "execution_count": 44,
     "metadata": {},
     "output_type": "execute_result"
    }
   ],
   "source": [
    "X.head()"
   ]
  },
  {
   "cell_type": "code",
   "execution_count": 45,
   "metadata": {},
   "outputs": [
    {
     "data": {
      "image/png": "[encoded data removed]",
      "text/plain": [
       "<Figure size 400x400 with 1 Axes>"
      ]
     },
     "metadata": {},
     "output_type": "display_data"
    },
    {
     "data": {
      "text/plain": [
       "y\n",
       "no     0.887346\n",
       "yes    0.112654\n",
       "Name: proportion, dtype: float64"
      ]
     },
     "metadata": {},
     "output_type": "display_data"
    }
   ],
   "source": [
    "f, ax = plt.subplots(figsize=(4,4))\n",
    "\n",
    "sns.countplot(data = full_df, x = 'y', ax=ax)\n",
    "plt.title('Target distribution')\n",
    "\n",
    "plt.tight_layout()\n",
    "plt.show()\n",
    "\n",
    "display(full_df['y'].value_counts(normalize=True))"
   ]
  },
  {
   "cell_type": "markdown",
   "metadata": {},
   "source": [
    "### Problem 6: Train/Test Split\n",
    "\n",
    "With your data prepared, split it into a train and test set."
   ]
  },
  {
   "cell_type": "code",
   "execution_count": 64,
   "metadata": {},
   "outputs": [],
   "source": [
    "X_train, X_test, y_train, y_test = train_test_split(X, y, test_size=0.2, stratify=y, random_state=42)"
   ]
  },
  {
   "cell_type": "markdown",
   "metadata": {},
   "source": [
    "### Baseline Model"
   ]
  },
  {
   "cell_type": "code",
   "execution_count": 65,
   "metadata": {},
   "outputs": [
    {
     "name": "stdout",
     "output_type": "stream",
     "text": [
      "Baseline accuracy for training data: 0.887255825639093\n",
      "Baseline accuracy for testing data: 0.8873257128501445\n"
     ]
    }
   ],
   "source": [
    "model_dummy = DummyClassifier(strategy='most_frequent').fit(X_train, y_train)\n",
    "\n",
    "print(f'Baseline accuracy for training data: {model_dummy.score(X_train, y_train)}')\n",
    "print(f'Baseline accuracy for testing data: {model_dummy.score(X_test, y_test)}')"
   ]
  },
  {
   "cell_type": "markdown",
   "metadata": {},
   "source": [
    "This accuracy is expected since the target is 88.7% no and 11.3% yes."
   ]
  },
  {
   "cell_type": "markdown",
   "metadata": {},
   "source": [
    "### Problem 8: A Simple Model\n",
    "\n",
    "Use Logistic Regression to build a basic model on your data.  "
   ]
  },
  {
   "cell_type": "code",
   "execution_count": 66,
   "metadata": {},
   "outputs": [],
   "source": [
    "simple_lreg = LogisticRegression(max_iter=5000).fit(X_train, y_train)"
   ]
  },
  {
   "cell_type": "markdown",
   "metadata": {},
   "source": [
    "### Problem 9: Score the Model\n",
    "\n",
    "What is the accuracy of your model?"
   ]
  },
  {
   "cell_type": "code",
   "execution_count": 67,
   "metadata": {},
   "outputs": [
    {
     "name": "stdout",
     "output_type": "stream",
     "text": [
      "Accuracy of simple Logistic Regression model\n",
      "... on training data: 0.8972426355128447\n",
      "... on test data: 0.8988820499937193\n",
      "Precision of simple Logistic Regression model\n",
      "... on training data: 0.658051689860835\n",
      "... on test data: 0.6796875\n"
     ]
    }
   ],
   "source": [
    "print(f'Accuracy of simple Logistic Regression model')\n",
    "print(f'... on training data: {accuracy_score(y_train, simple_lreg.predict(X_train))}')\n",
    "print(f'... on test data: {accuracy_score(y_test, simple_lreg.predict(X_test))}')\n",
    "print(f'Precision of simple Logistic Regression model')\n",
    "print(f'... on training data: {metrics.precision_score(y_train, simple_lreg.predict(X_train))}')\n",
    "print(f'... on test data: {metrics.precision_score(y_test, simple_lreg.predict(X_test))}')"
   ]
  },
  {
   "cell_type": "code",
   "execution_count": 68,
   "metadata": {},
   "outputs": [
    {
     "data": {
      "image/png": "[encoded data removed]",
      "text/plain": [
       "<Figure size 640x480 with 2 Axes>"
      ]
     },
     "metadata": {},
     "output_type": "display_data"
    }
   ],
   "source": [
    "ConfusionMatrixDisplay.from_estimator(simple_lreg, X_test, y_test, values_format='d')\n",
    "plt.show()"
   ]
  },
  {
   "cell_type": "markdown",
   "metadata": {},
   "source": [
    "### Problem 10: Model Comparisons\n",
    "\n",
    "Now, we aim to compare the performance of the Logistic Regression model to our KNN algorithm, Decision Tree, and SVM models.  Using the default settings for each of the models, fit and score each.  Also, be sure to compare the fit time of each of the models.  Present your findings in a `DataFrame` similar to that below:\n",
    "\n",
    "| Model | Train Time | Train Accuracy | Test Accuracy |\n",
    "| ----- | ---------- | -------------  | -----------   |\n",
    "|     |    |.     |.     |"
   ]
  },
  {
   "cell_type": "code",
   "execution_count": 69,
   "metadata": {},
   "outputs": [],
   "source": [
    "test_models = {\n",
    "    'KNN': KNeighborsClassifier(),\n",
    "    'Decision Tree': DecisionTreeClassifier(),\n",
    "    'SVM': SVC(),\n",
    "}\n",
    "\n",
    "test_models_output = {}\n",
    "for model_name, model in test_models.items():\n",
    "    test_models_output[model_name] = {}\n",
    "    \n",
    "    start_time = time.time()\n",
    "    test_models_output[model_name]['model'] = model.fit(X_train, y_train)\n",
    "    test_models_output[model_name]['train_time'] = time.time() - start_time\n",
    "    test_models_output[model_name]['train_accuracy'] = accuracy_score(y_train, test_models_output[model_name]['model'].predict(X_train))\n",
    "    test_models_output[model_name]['test_accuracy'] = accuracy_score(y_test, test_models_output[model_name]['model'].predict(X_test))\n"
   ]
  },
  {
   "cell_type": "code",
   "execution_count": 70,
   "metadata": {},
   "outputs": [
    {
     "name": "stdout",
     "output_type": "stream",
     "text": [
      "KNN number_of_neighbors: 5\n",
      "Decision Tree max_depth: 39\n"
     ]
    }
   ],
   "source": [
    "# KNN\n",
    "print(f'KNN number_of_neighbors: {test_models[\"KNN\"].n_neighbors}')\n",
    "\n",
    "# Decision Tree\n",
    "print(f'Decision Tree max_depth: {test_models[\"Decision Tree\"].tree_.max_depth}')"
   ]
  },
  {
   "cell_type": "code",
   "execution_count": 71,
   "metadata": {},
   "outputs": [
    {
     "data": {
      "text/html": [
       "<div>\n",
       "<style scoped>\n",
       "    .dataframe tbody tr th:only-of-type {\n",
       "        vertical-align: middle;\n",
       "    }\n",
       "\n",
       "    .dataframe tbody tr th {\n",
       "        vertical-align: top;\n",
       "    }\n",
       "\n",
       "    .dataframe thead th {\n",
       "        text-align: right;\n",
       "    }\n",
       "</style>\n",
       "<table border=\"1\" class=\"dataframe\">\n",
       "  <thead>\n",
       "    <tr style=\"text-align: right;\">\n",
       "      <th></th>\n",
       "      <th>Train Time</th>\n",
       "      <th>Train Accuracy</th>\n",
       "      <th>Test Accuracy</th>\n",
       "    </tr>\n",
       "    <tr>\n",
       "      <th>Model</th>\n",
       "      <th></th>\n",
       "      <th></th>\n",
       "      <th></th>\n",
       "    </tr>\n",
       "  </thead>\n",
       "  <tbody>\n",
       "    <tr>\n",
       "      <th>KNN</th>\n",
       "      <td>0.003651</td>\n",
       "      <td>0.905471</td>\n",
       "      <td>0.888959</td>\n",
       "    </tr>\n",
       "    <tr>\n",
       "      <th>Decision Tree</th>\n",
       "      <td>0.130518</td>\n",
       "      <td>0.964167</td>\n",
       "      <td>0.843361</td>\n",
       "    </tr>\n",
       "    <tr>\n",
       "      <th>SVM</th>\n",
       "      <td>87.008188</td>\n",
       "      <td>0.899567</td>\n",
       "      <td>0.898505</td>\n",
       "    </tr>\n",
       "  </tbody>\n",
       "</table>\n",
       "</div>"
      ],
      "text/plain": [
       "               Train Time  Train Accuracy  Test Accuracy\n",
       "Model                                                   \n",
       "KNN              0.003651        0.905471       0.888959\n",
       "Decision Tree    0.130518        0.964167       0.843361\n",
       "SVM             87.008188        0.899567       0.898505"
      ]
     },
     "execution_count": 71,
     "metadata": {},
     "output_type": "execute_result"
    }
   ],
   "source": [
    "test_models_df = pd.DataFrame({\n",
    "    'Model': list(test_models_output.keys()),\n",
    "    'Train Time': [test_models_output[model_name]['train_time'] for model_name in test_models_output.keys()],\n",
    "    'Train Accuracy': [test_models_output[model_name]['train_accuracy'] for model_name in test_models_output.keys()],\n",
    "    'Test Accuracy': [test_models_output[model_name]['test_accuracy'] for model_name in test_models_output.keys()],\n",
    "}).set_index('Model')\n",
    "\n",
    "test_models_df"
   ]
  },
  {
   "cell_type": "markdown",
   "metadata": {},
   "source": [
    "### Problem 11: Improving the Model\n",
    "\n",
    "Now that we have some basic models on the board, we want to try to improve these.  Below, we list a few things to explore in this pursuit.\n",
    "\n",
    "- More feature engineering and exploration.  For example, should we keep the gender feature?  Why or why not?\n",
    "- Hyperparameter tuning and grid search.  All of our models have additional hyperparameters to tune and explore.  For example the number of neighbors in KNN or the maximum depth of a Decision Tree.  \n",
    "- Adjust your performance metric"
   ]
  },
  {
   "cell_type": "markdown",
   "metadata": {},
   "source": [
    "#### Performance metric\n",
    "\n",
    "I have chosen recall as the main performance metric since I want to maximize the number of true positives. I will also track the precision in order to track the false positives, since the less false positives we have, the less time we will spend with people that will probably not subscribe to term deposit."
   ]
  },
  {
   "cell_type": "markdown",
   "metadata": {},
   "source": [
    "#### Logistic Regression"
   ]
  },
  {
   "cell_type": "code",
   "execution_count": 72,
   "metadata": {},
   "outputs": [
    {
     "name": "stdout",
     "output_type": "stream",
     "text": [
      "Best params:\n"
     ]
    },
    {
     "data": {
      "text/plain": [
       "{'C': 0.01}"
      ]
     },
     "execution_count": 72,
     "metadata": {},
     "output_type": "execute_result"
    }
   ],
   "source": [
    "grid_logreg = GridSearchCV(\n",
    "    LogisticRegression(max_iter=5000, class_weight=\"balanced\"),\n",
    "    param_grid={\n",
    "        \"C\": 10.0 ** np.array([-3, -2, -1, 0]),\n",
    "    },\n",
    "    scoring=\"recall\",\n",
    "    n_jobs=-1,\n",
    ").fit(X_train, y_train)\n",
    "\n",
    "print(\"Best params:\")\n",
    "grid_logreg.best_params_"
   ]
  },
  {
   "cell_type": "code",
   "execution_count": 73,
   "metadata": {},
   "outputs": [
    {
     "name": "stdout",
     "output_type": "stream",
     "text": [
      "Logistic Regression\n",
      "** accuracy score:\n",
      "... on training data: 0.6756171094780479\n",
      "... on test data: 0.6801909307875895\n",
      "** recall score:\n",
      "... on training data: 0.6462395543175488\n",
      "... on test data: 0.6465997770345596\n",
      "** precision score:\n",
      "... on training data: 0.2038843483610159\n",
      "... on test data: 0.20647917408330366\n"
     ]
    }
   ],
   "source": [
    "print(\"Logistic Regression\")\n",
    "print(\"** accuracy score:\")\n",
    "print(f\"... on training data: {metrics.accuracy_score(y_train, grid_logreg.predict(X_train))}\")\n",
    "print(f\"... on test data: {metrics.accuracy_score(y_test, grid_logreg.predict(X_test))}\")\n",
    "print(\"** recall score:\")\n",
    "print(f\"... on training data: {metrics.recall_score(y_train, grid_logreg.predict(X_train))}\")\n",
    "print(f\"... on test data: {metrics.recall_score(y_test, grid_logreg.predict(X_test))}\")\n",
    "print(\"** precision score:\")\n",
    "print(f\"... on training data: {metrics.precision_score(y_train, grid_logreg.predict(X_train))}\")\n",
    "print(f\"... on test data: {metrics.precision_score(y_test, grid_logreg.predict(X_test))}\")\n"
   ]
  },
  {
   "cell_type": "code",
   "execution_count": 74,
   "metadata": {},
   "outputs": [
    {
     "data": {
      "image/png": "[encoded data removed]",
      "text/plain": [
       "<Figure size 640x480 with 2 Axes>"
      ]
     },
     "metadata": {},
     "output_type": "display_data"
    }
   ],
   "source": [
    "ConfusionMatrixDisplay.from_estimator(grid_logreg.best_estimator_, X_test, y_test, values_format='d', display_labels=['no', 'yes'])\n",
    "plt.title('Confusion Matrix for balanced Logistic Regression')\n",
    "plt.show()"
   ]
  },
  {
   "cell_type": "markdown",
   "metadata": {},
   "source": [
    "#### KNN"
   ]
  },
  {
   "cell_type": "code",
   "execution_count": 75,
   "metadata": {},
   "outputs": [
    {
     "name": "stdout",
     "output_type": "stream",
     "text": [
      "Best params:\n"
     ]
    },
    {
     "data": {
      "text/plain": [
       "{'n_neighbors': 1}"
      ]
     },
     "execution_count": 75,
     "metadata": {},
     "output_type": "execute_result"
    }
   ],
   "source": [
    "grid_knn = GridSearchCV(\n",
    "    KNeighborsClassifier(),\n",
    "    param_grid={\n",
    "        \"n_neighbors\": [*range(1, 27, 5), 100],\n",
    "    },\n",
    "    scoring=\"recall\",\n",
    "    n_jobs=4,\n",
    "    cv=[[X_train.index.values, X_test.index.values]],\n",
    "    # verbose=4,\n",
    ").fit(X, y)\n",
    "\n",
    "print(\"Best params:\")\n",
    "grid_knn.best_params_"
   ]
  },
  {
   "cell_type": "code",
   "execution_count": 76,
   "metadata": {},
   "outputs": [
    {
     "name": "stdout",
     "output_type": "stream",
     "text": [
      "K-Nearest Neighbors Classifier\n",
      "** accuracy score:\n",
      "... on training data: 0.9548395201306451\n",
      "... on test data: 0.9574174098731315\n",
      "** precision score:\n",
      "... on training data: 0.8525557011795544\n",
      "... on test data: 0.849624060150376\n",
      "** recall score:\n",
      "... on training data: 0.7247910863509749\n",
      "... on test data: 0.7558528428093646\n"
     ]
    }
   ],
   "source": [
    "grid_knn_train_preds = grid_knn.predict(X_train)\n",
    "grid_knn_test_preds = grid_knn.predict(X_test)\n",
    "\n",
    "print(\"K-Nearest Neighbors Classifier\")\n",
    "print(\"** accuracy score:\")\n",
    "print(f\"... on training data: {metrics.accuracy_score(y_train, grid_knn_train_preds)}\")\n",
    "print(f\"... on test data: {metrics.accuracy_score(y_test, grid_knn_test_preds)}\")\n",
    "print(\"** precision score:\")\n",
    "print(f\"... on training data: {metrics.precision_score(y_train, grid_knn_train_preds)}\")\n",
    "print(f\"... on test data: {metrics.precision_score(y_test, grid_knn_test_preds)}\")\n",
    "print(\"** recall score:\")\n",
    "print(f\"... on training data: {metrics.recall_score(y_train, grid_knn_train_preds)}\")\n",
    "print(f\"... on test data: {metrics.recall_score(y_test, grid_knn_test_preds)}\")"
   ]
  },
  {
   "cell_type": "code",
   "execution_count": 77,
   "metadata": {},
   "outputs": [
    {
     "data": {
      "image/png": "[encoded data removed]",
      "text/plain": [
       "<Figure size 640x480 with 2 Axes>"
      ]
     },
     "metadata": {},
     "output_type": "display_data"
    }
   ],
   "source": [
    "ConfusionMatrixDisplay.from_estimator(grid_knn.best_estimator_, X_test, y_test, values_format='d', display_labels=['no', 'yes'])\n",
    "plt.title('Confusion Matrix for K-Nearest Neighbors')\n",
    "plt.show()"
   ]
  },
  {
   "cell_type": "markdown",
   "metadata": {},
   "source": [
    "#### Decision Tree"
   ]
  },
  {
   "cell_type": "code",
   "execution_count": 78,
   "metadata": {},
   "outputs": [
    {
     "name": "stdout",
     "output_type": "stream",
     "text": [
      "Best params:\n"
     ]
    },
    {
     "data": {
      "text/plain": [
       "{'criterion': 'gini',\n",
       " 'max_depth': 2,\n",
       " 'min_samples_leaf': 1,\n",
       " 'min_samples_split': 2}"
      ]
     },
     "execution_count": 78,
     "metadata": {},
     "output_type": "execute_result"
    }
   ],
   "source": [
    "grid_dt = GridSearchCV(\n",
    "    DecisionTreeClassifier(class_weight=\"balanced\"),\n",
    "    param_grid={\n",
    "        \"criterion\": [\"gini\", \"entropy\"],\n",
    "        \"max_depth\": [2, 3, 4, 6, 10, 15],\n",
    "        \"min_samples_split\": range(2, 11, 4),\n",
    "        \"min_samples_leaf\": range(1, 9, 4),\n",
    "    },\n",
    "    scoring=\"recall\",\n",
    "    n_jobs=4,\n",
    "    # verbose=4,\n",
    ").fit(X_train, y_train)\n",
    "\n",
    "print(\"Best params:\")\n",
    "grid_dt.best_params_"
   ]
  },
  {
   "cell_type": "code",
   "execution_count": 79,
   "metadata": {},
   "outputs": [
    {
     "name": "stdout",
     "output_type": "stream",
     "text": [
      "Decision Tree Classifier\n",
      "** accuracy score:\n",
      "... on training data: 0.4376609509452924\n",
      "... on test data: 0.4396432608968723\n",
      "** precision score:\n",
      "... on training data: 0.14884222919937207\n",
      "... on test data: 0.1496264254817145\n",
      "** recall score:\n",
      "... on training data: 0.8451253481894151\n",
      "... on test data: 0.8483835005574136\n"
     ]
    }
   ],
   "source": [
    "grid_dt_train_preds = grid_dt.predict(X_train)\n",
    "grid_dt_test_preds = grid_dt.predict(X_test)\n",
    "\n",
    "print(\"Decision Tree Classifier\")\n",
    "print(\"** accuracy score:\")\n",
    "print(f\"... on training data: {metrics.accuracy_score(y_train, grid_dt_train_preds)}\")\n",
    "print(f\"... on test data: {metrics.accuracy_score(y_test, grid_dt_test_preds)}\")\n",
    "print(\"** precision score:\")\n",
    "print(f\"... on training data: {metrics.precision_score(y_train, grid_dt_train_preds)}\")\n",
    "print(f\"... on test data: {metrics.precision_score(y_test, grid_dt_test_preds)}\")\n",
    "print(\"** recall score:\")\n",
    "print(f\"... on training data: {metrics.recall_score(y_train, grid_dt_train_preds)}\")\n",
    "print(f\"... on test data: {metrics.recall_score(y_test, grid_dt_test_preds)}\")"
   ]
  },
  {
   "cell_type": "code",
   "execution_count": 80,
   "metadata": {},
   "outputs": [
    {
     "data": {
      "image/png": "[encoded data removed]",
      "text/plain": [
       "<Figure size 640x480 with 2 Axes>"
      ]
     },
     "metadata": {},
     "output_type": "display_data"
    }
   ],
   "source": [
    "ConfusionMatrixDisplay.from_estimator(grid_dt.best_estimator_, X_test, y_test, values_format='d', display_labels=['no', 'yes'])\n",
    "plt.title('Confusion Matrix for Decision Tree')\n",
    "plt.show()"
   ]
  },
  {
   "cell_type": "markdown",
   "metadata": {},
   "source": [
    "#### SVM"
   ]
  },
  {
   "cell_type": "code",
   "execution_count": 81,
   "metadata": {},
   "outputs": [
    {
     "name": "stdout",
     "output_type": "stream",
     "text": [
      "Best params:\n"
     ]
    },
    {
     "data": {
      "text/plain": [
       "{'C': 0.001, 'kernel': 'sigmoid'}"
      ]
     },
     "execution_count": 81,
     "metadata": {},
     "output_type": "execute_result"
    }
   ],
   "source": [
    "from sklearn.utils import resample\n",
    "\n",
    "X_small, y_small = resample(X, y, random_state=42, n_samples=6000, stratify=y)\n",
    "X_small = X_test.reset_index(drop = True)\n",
    "y_small = y_test.reset_index(drop = True)\n",
    "X_train_small, X_test_small, y_train_small, y_test_small = train_test_split(X_small, y_small, test_size=0.2, stratify=y_small, random_state=42)\n",
    "\n",
    "grid_svm = GridSearchCV(\n",
    "    SVC(class_weight=\"balanced\"),\n",
    "    param_grid={\n",
    "        \"C\": 10.0 ** np.array([-5, -4, -3]),\n",
    "        \"kernel\": [\"rbf\", \"linear\", \"sigmoid\"],\n",
    "    },\n",
    "    scoring=\"recall\",\n",
    "    n_jobs=4,\n",
    "    # cv=[[X_train_small.index.values, X_test_small.index.values]],\n",
    "    # verbose=4,\n",
    ").fit(X_train_small, y_train_small)\n",
    "\n",
    "print(\"Best params:\")\n",
    "grid_svm.best_params_"
   ]
  },
  {
   "cell_type": "code",
   "execution_count": 86,
   "metadata": {},
   "outputs": [
    {
     "name": "stdout",
     "output_type": "stream",
     "text": [
      "SVM\n",
      "** accuracy score:\n",
      "... on training data: 0.48533383581433326\n",
      "... on test data: 0.48260268810450946\n",
      "... on small training data: 0.48533383581433326\n",
      "... on small test data: 0.48260268810450946\n",
      "** precision score:\n",
      "... on training data: 0.1577708845865868\n",
      "... on test data: 0.15650319829424306\n",
      "... on small training data: 0.1577708845865868\n",
      "... on small test data: 0.15650319829424306\n",
      "** recall score:\n",
      "... on training data: 0.8217270194986073\n",
      "... on test data: 0.8182831661092531\n",
      "... on small training data: 0.8217270194986073\n",
      "... on small test data: 0.8182831661092531\n"
     ]
    }
   ],
   "source": [
    "grid_svm_train_preds = grid_svm.predict(X_train)\n",
    "grid_svm_test_preds = grid_svm.predict(X_test)\n",
    "grid_svm_train_small_preds = grid_svm.predict(X_train_small)\n",
    "grid_svm_test_small_preds = grid_svm.predict(X_test_small)\n",
    "\n",
    "print(\"SVM\")\n",
    "print(\"** accuracy score:\")\n",
    "print(f\"... on training data: {metrics.accuracy_score(y_train, grid_svm_train_preds)}\")\n",
    "print(f\"... on test data: {metrics.accuracy_score(y_test, grid_svm_test_preds)}\")\n",
    "print(f\"... on small training data: {metrics.accuracy_score(y_train, grid_svm_train_preds)}\")\n",
    "print(f\"... on small test data: {metrics.accuracy_score(y_test, grid_svm_test_preds)}\")\n",
    "print(\"** precision score:\")\n",
    "print(f\"... on training data: {metrics.precision_score(y_train, grid_svm_train_preds)}\")\n",
    "print(f\"... on test data: {metrics.precision_score(y_test, grid_svm_test_preds)}\")\n",
    "print(f\"... on small training data: {metrics.precision_score(y_train, grid_svm_train_preds)}\")\n",
    "print(f\"... on small test data: {metrics.precision_score(y_test, grid_svm_test_preds)}\")\n",
    "print(\"** recall score:\")\n",
    "print(f\"... on training data: {metrics.recall_score(y_train, grid_svm_train_preds)}\")\n",
    "print(f\"... on test data: {metrics.recall_score(y_test, grid_svm_test_preds)}\")\n",
    "print(f\"... on small training data: {metrics.recall_score(y_train, grid_svm_train_preds)}\")\n",
    "print(f\"... on small test data: {metrics.recall_score(y_test, grid_svm_test_preds)}\")"
   ]
  },
  {
   "cell_type": "code",
   "execution_count": 83,
   "metadata": {},
   "outputs": [
    {
     "data": {
      "image/png": "[encoded data removed]",
      "text/plain": [
       "<Figure size 640x480 with 2 Axes>"
      ]
     },
     "metadata": {},
     "output_type": "display_data"
    }
   ],
   "source": [
    "ConfusionMatrixDisplay.from_estimator(grid_svm, X_test, y_test, values_format='d')\n",
    "plt.show()"
   ]
  },
  {
   "cell_type": "code",
   "execution_count": 84,
   "metadata": {},
   "outputs": [
    {
     "data": {
      "image/png": "[encoded data removed]",
      "text/plain": [
       "<Figure size 500x500 with 1 Axes>"
      ]
     },
     "metadata": {},
     "output_type": "display_data"
    }
   ],
   "source": [
    "f, ax = plt.subplots(figsize=(5,5))\n",
    "\n",
    "PrecisionRecallDisplay.from_estimator(grid_logreg, X_test, y_test, name='LogReg', ax = ax, plot_chance_level=True)\n",
    "PrecisionRecallDisplay.from_estimator(grid_knn, X_test, y_test, name='KNN', ax = ax)\n",
    "PrecisionRecallDisplay.from_estimator(grid_dt, X_test, y_test, name='DecTree', ax = ax)\n",
    "PrecisionRecallDisplay.from_estimator(grid_svm, X_test, y_test, name='SVC', ax = ax)\n",
    "PrecisionRecallDisplay.from_estimator(model_dummy, X_test, y_test, name='Baseline', ax = ax)\n",
    "\n",
    "plt.title('P-R curves for the best estimators')\n",
    "plt.legend(loc=1, frameon=False)\n",
    "\n",
    "plt.tight_layout()\n",
    "plt.show()"
   ]
  },
  {
   "cell_type": "markdown",
   "metadata": {},
   "source": [
    "##### Findings"
   ]
  },
  {
   "cell_type": "markdown",
   "metadata": {},
   "source": [
    "I have used Logistic Regression, KNN, Decision Tree, and SVM to try to model the marketing dataset. My main evaluation metric was recall due to the imbalanced target column and also to try to get a better prediction for positive outcomes (client subscribing to a term deposit). In all models, when available, I used the balanced class weight since only around 12% of the outcomes are positive.\n",
    "\n",
    "The Logistic Regression model achieved moderate recall scores of approximately 0.646 on both training and test data, though it had low precision scores around 0.20, indicating a high number of false positives. Its accuracy was around 0.68 for both training and test sets. This suggests that while Logistic Regression was somewhat effective at identifying positive cases, it often misclassified negative cases as positive.\n",
    "\n",
    "In contrast, the K-Nearest Neighbors (KNN) classifier showed high accuracy scores above 0.95 on both datasets and recall scores of approximately 0.75, but precision was around 0.85, which indicates a better balance between false positives and true positives compared to Logistic Regression. The Decision Tree classifier had lower accuracy (around 0.44) but high recall scores above 0.84, making it very sensitive in identifying positive cases, though with lower precision (~0.15), leading to many false positives. The SVM performed similarly to the Decision Tree with accuracy around 0.48 and recall around 0.82, maintaining consistent performance even with a smaller subset of the data. These results suggest that while KNN provided a good balance, the Decision Tree and SVM were highly effective in maximizing recall at the expense of precision and overall accuracy."
   ]
  }
 ],
 "metadata": {
  "kernelspec": {
   "display_name": "Python 3",
   "language": "python",
   "name": "python3"
  },
  "language_info": {
   "codemirror_mode": {
    "name": "ipython",
    "version": 3
   },
   "file_extension": ".py",
   "mimetype": "text/x-python",
   "name": "python",
   "nbconvert_exporter": "python",
   "pygments_lexer": "ipython3",
   "version": "3.11.2"
  },
  "widgets": {
   "application/vnd.jupyter.widget-state+json": {
    "state": {},
    "version_major": 2,
    "version_minor": 0
   }
  }
 },
 "nbformat": 4,
 "nbformat_minor": 4
}
