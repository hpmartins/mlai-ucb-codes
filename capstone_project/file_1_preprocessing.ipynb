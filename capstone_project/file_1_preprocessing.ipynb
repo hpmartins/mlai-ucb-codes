{
 "cells": [
  {
   "cell_type": "markdown",
   "metadata": {},
   "source": [
    "# Home Loan Approval/Denial: Data preprocessing"
   ]
  },
  {
   "cell_type": "markdown",
   "metadata": {},
   "source": [
    "This project aims to develop a machine learning model that can predict the approval or denial of home mortgage applications using the U.S. Home Mortgage Disclosure Act (HMDA) dataset. Individuals can utilize this model as a preliminary assessment tool before formally applying for a mortgage, while lenders can leverage it for initial screening purposes. The ultimate goal is to empower both parties with information that facilitates informed decision-making in the mortgage application process.\n",
    "\n",
    "In this project I will be using the 2019-to-2022 data of the SF East Bay counties, namely **Alameda County** and **Contra Costa County** (California, US). The dataset can be downloaded [here](https://ffiec.cfpb.gov/data-browser/data/2022?category=states&items=CA), and [here](https://ffiec.cfpb.gov/documentation/publications/loan-level-datasets/lar-data-fields) is its documentation."
   ]
  },
  {
   "cell_type": "markdown",
   "metadata": {},
   "source": [
    "#### Imports"
   ]
  },
  {
   "cell_type": "code",
   "execution_count": 1,
   "metadata": {},
   "outputs": [],
   "source": [
    "from io import StringIO\n",
    "import requests\n",
    "from pathlib import Path\n",
    "import pandas as pd\n",
    "import numpy as np\n",
    "\n",
    "from scipy.stats import chi2_contingency"
   ]
  },
  {
   "cell_type": "code",
   "execution_count": 2,
   "metadata": {},
   "outputs": [],
   "source": [
    "import matplotlib.pyplot as plt\n",
    "import seaborn as sns"
   ]
  },
  {
   "cell_type": "code",
   "execution_count": 3,
   "metadata": {},
   "outputs": [],
   "source": [
    "filename_input = 'data-hdma-eastbay-2019-2022'\n",
    "filename_output = 'data-hdma-eastbay-2019-2022-preprocessed'"
   ]
  },
  {
   "cell_type": "markdown",
   "metadata": {},
   "source": [
    "#### Auxiliary functions"
   ]
  },
  {
   "cell_type": "code",
   "execution_count": 4,
   "metadata": {},
   "outputs": [],
   "source": [
    "def test_cuts(x, col, thr, n=4):\n",
    "    \"\"\"\n",
    "    This function display the data grouped in bins.\n",
    "    \"\"\"\n",
    "    display(pd.cut(x[x[col] < thr][col], bins=n).value_counts(sort=False, dropna=False))\n",
    "    display(pd.qcut(x[x[col] < thr][col], q=n).value_counts(sort=False, dropna=False))\n",
    "\n",
    "def crosstab_and_chi2(A, B):\n",
    "    crosstab = pd.crosstab(index=A, columns=B)\n",
    "    chi2 = chi2_contingency(crosstab)\n",
    "\n",
    "    display(crosstab)\n",
    "    print(f'{A.name} p-value={chi2[1]}')\n",
    "\n",
    "def download_datasets():\n",
    "    counties = \",\".join([\"06001\", \"06013\"])  # Alameda, Contra Costa\n",
    "    actions = \",\".join([\"1\", \"3\"])  # Loan originated, Application denied\n",
    "    dfs = []\n",
    "    print(\"Downloading...\")\n",
    "    for year in [2019, 2020, 2021, 2022]:\n",
    "        print(f\"- year {year}\")\n",
    "        req = requests.get(\n",
    "            f\"https://ffiec.cfpb.gov/v2/data-browser-api/view/csv?years={year}&counties={counties}&actions_taken={actions}\"\n",
    "        )\n",
    "        df = pd.read_csv(StringIO(req.text))\n",
    "        dfs.append(df)\n",
    "    return dfs\n",
    "\n",
    "\n",
    "def open_dataset(filepath):\n",
    "    file = Path(filepath)\n",
    "    if file.exists() and file.stat().st_size > 1e6:\n",
    "        df = pd.read_csv(filepath)\n",
    "    else:\n",
    "        dfs = download_datasets()\n",
    "        df = pd.concat(dfs).drop_duplicates().reset_index(drop=True)\n",
    "        df.to_csv(filepath, index=False)\n",
    "    return df"
   ]
  },
  {
   "cell_type": "markdown",
   "metadata": {},
   "source": [
    "#### Loading the raw data"
   ]
  },
  {
   "cell_type": "markdown",
   "metadata": {},
   "source": [
    "Using the auxiliary functions defined above the data be loaded from the filesystem or downloaded and saved in case the file does not exist. The data is downloaded using the [FFIEC Data Browser API](https://ffiec.cfpb.gov/documentation/api/data-browser/)."
   ]
  },
  {
   "cell_type": "code",
   "execution_count": 5,
   "metadata": {},
   "outputs": [
    {
     "name": "stderr",
     "output_type": "stream",
     "text": [
      "/tmp/ipykernel_956282/2007743128.py:33: DtypeWarning: Columns (22,23,24,26,27,28,29,30,31,32,33,38,43,44) have mixed types. Specify dtype option on import or set low_memory=False.\n",
      "  df = pd.read_csv(filepath)\n"
     ]
    }
   ],
   "source": [
    "orig_df = open_dataset(f\"../../{filename_input}.csv\")"
   ]
  },
  {
   "cell_type": "markdown",
   "metadata": {},
   "source": [
    "The dataset contains 616388 entries and 99 columns, and the description of the features is [documented here](https://ffiec.cfpb.gov/documentation/publications/loan-level-datasets/lar-data-fields).\n",
    "\n",
    "Below is the info for all the columns in the raw dataset. We can see that multiple columns have a huge amount of null values, mostly the ones that are related to questions with multiple possible answers, such as race, etchnicity (of both the applicant and the co-applicant, if there is one), and the application denial reason. A few columns also should be numbers-only but contain a mix of number and strings, and will be properly converted. Also, quite a few of the numerical features are actually encoded categorical features, and they will be translated into strings using the documentation.\n",
    "\n",
    "The main outcome of the dataset is in the `action_taken` column. All the possible values are:\n",
    "\n",
    "- 1 - Loan originated\n",
    "- 2 - Application approved but not accepted\n",
    "- 3 - Application denied\n",
    "- 4 - Application withdrawn by applicant\n",
    "- 5 - File closed for incompleteness\n",
    "- 6 - Purchased loan\n",
    "- 7 - Preapproval request denied\n",
    "- 8 - Preapproval request approved but not accepted\n",
    "\n",
    "Since the main focus here is to screen through applications that are either *approved* or *denied*, I only fetch values `1` (Loan originated, application was approved), `2` (loan was approved but parties did not go through) and `3` (application denied)."
   ]
  },
  {
   "cell_type": "code",
   "execution_count": 6,
   "metadata": {},
   "outputs": [
    {
     "name": "stdout",
     "output_type": "stream",
     "text": [
      "<class 'pandas.core.frame.DataFrame'>\n",
      "RangeIndex: 616388 entries, 0 to 616387\n",
      "Data columns (total 99 columns):\n",
      " #   Column                                    Non-Null Count   Dtype  \n",
      "---  ------                                    --------------   -----  \n",
      " 0   activity_year                             616388 non-null  int64  \n",
      " 1   lei                                       616388 non-null  object \n",
      " 2   derived_msa-md                            616388 non-null  int64  \n",
      " 3   state_code                                616313 non-null  object \n",
      " 4   county_code                               616388 non-null  int64  \n",
      " 5   census_tract                              616170 non-null  float64\n",
      " 6   conforming_loan_limit                     613507 non-null  object \n",
      " 7   derived_loan_product_type                 616388 non-null  object \n",
      " 8   derived_dwelling_category                 616388 non-null  object \n",
      " 9   derived_ethnicity                         616388 non-null  object \n",
      " 10  derived_race                              616388 non-null  object \n",
      " 11  derived_sex                               616388 non-null  object \n",
      " 12  action_taken                              616388 non-null  int64  \n",
      " 13  purchaser_type                            616388 non-null  int64  \n",
      " 14  preapproval                               616388 non-null  int64  \n",
      " 15  loan_type                                 616388 non-null  int64  \n",
      " 16  loan_purpose                              616388 non-null  int64  \n",
      " 17  lien_status                               616388 non-null  int64  \n",
      " 18  reverse_mortgage                          616388 non-null  int64  \n",
      " 19  open-end_line_of_credit                   616388 non-null  int64  \n",
      " 20  business_or_commercial_purpose            616388 non-null  int64  \n",
      " 21  loan_amount                               616388 non-null  float64\n",
      " 22  loan_to_value_ratio                       594813 non-null  object \n",
      " 23  interest_rate                             522789 non-null  object \n",
      " 24  rate_spread                               488838 non-null  object \n",
      " 25  hoepa_status                              616388 non-null  int64  \n",
      " 26  total_loan_costs                          441935 non-null  object \n",
      " 27  total_points_and_fees                     5042 non-null    object \n",
      " 28  origination_charges                       444263 non-null  object \n",
      " 29  discount_points                           138841 non-null  object \n",
      " 30  lender_credits                            218589 non-null  object \n",
      " 31  loan_term                                 610215 non-null  object \n",
      " 32  prepayment_penalty_term                   31552 non-null   object \n",
      " 33  intro_rate_period                         135606 non-null  object \n",
      " 34  negative_amortization                     616388 non-null  int64  \n",
      " 35  interest_only_payment                     616388 non-null  int64  \n",
      " 36  balloon_payment                           616388 non-null  int64  \n",
      " 37  other_nonamortizing_features              616388 non-null  int64  \n",
      " 38  property_value                            604647 non-null  object \n",
      " 39  construction_method                       616388 non-null  int64  \n",
      " 40  occupancy_type                            616388 non-null  int64  \n",
      " 41  manufactured_home_secured_property_type   616388 non-null  int64  \n",
      " 42  manufactured_home_land_property_interest  616388 non-null  int64  \n",
      " 43  total_units                               616388 non-null  object \n",
      " 44  multifamily_affordable_units              4180 non-null    object \n",
      " 45  income                                    591155 non-null  float64\n",
      " 46  debt_to_income_ratio                      585527 non-null  object \n",
      " 47  applicant_credit_score_type               616388 non-null  int64  \n",
      " 48  co-applicant_credit_score_type            616388 non-null  int64  \n",
      " 49  applicant_ethnicity-1                     616054 non-null  float64\n",
      " 50  applicant_ethnicity-2                     28689 non-null   float64\n",
      " 51  applicant_ethnicity-3                     785 non-null     float64\n",
      " 52  applicant_ethnicity-4                     19 non-null      float64\n",
      " 53  applicant_ethnicity-5                     3 non-null       float64\n",
      " 54  co-applicant_ethnicity-1                  616255 non-null  float64\n",
      " 55  co-applicant_ethnicity-2                  13759 non-null   float64\n",
      " 56  co-applicant_ethnicity-3                  336 non-null     float64\n",
      " 57  co-applicant_ethnicity-4                  10 non-null      float64\n",
      " 58  co-applicant_ethnicity-5                  1 non-null       float64\n",
      " 59  applicant_ethnicity_observed              616388 non-null  int64  \n",
      " 60  co-applicant_ethnicity_observed           616388 non-null  int64  \n",
      " 61  applicant_race-1                          616237 non-null  float64\n",
      " 62  applicant_race-2                          125678 non-null  float64\n",
      " 63  applicant_race-3                          7273 non-null    float64\n",
      " 64  applicant_race-4                          525 non-null     float64\n",
      " 65  applicant_race-5                          118 non-null     float64\n",
      " 66  co-applicant_race-1                       616324 non-null  float64\n",
      " 67  co-applicant_race-2                       57907 non-null   float64\n",
      " 68  co-applicant_race-3                       3294 non-null    float64\n",
      " 69  co-applicant_race-4                       202 non-null     float64\n",
      " 70  co-applicant_race-5                       34 non-null      float64\n",
      " 71  applicant_race_observed                   616388 non-null  int64  \n",
      " 72  co-applicant_race_observed                616388 non-null  int64  \n",
      " 73  applicant_sex                             616388 non-null  int64  \n",
      " 74  co-applicant_sex                          616388 non-null  int64  \n",
      " 75  applicant_sex_observed                    616388 non-null  int64  \n",
      " 76  co-applicant_sex_observed                 616388 non-null  int64  \n",
      " 77  applicant_age                             616388 non-null  object \n",
      " 78  co-applicant_age                          616388 non-null  object \n",
      " 79  applicant_age_above_62                    611755 non-null  object \n",
      " 80  co-applicant_age_above_62                 305376 non-null  object \n",
      " 81  submission_of_application                 616388 non-null  int64  \n",
      " 82  initially_payable_to_institution          616388 non-null  int64  \n",
      " 83  aus-1                                     616388 non-null  int64  \n",
      " 84  aus-2                                     52941 non-null   float64\n",
      " 85  aus-3                                     9001 non-null    float64\n",
      " 86  aus-4                                     2648 non-null    float64\n",
      " 87  aus-5                                     2261 non-null    float64\n",
      " 88  denial_reason-1                           616388 non-null  int64  \n",
      " 89  denial_reason-2                           16939 non-null   float64\n",
      " 90  denial_reason-3                           2831 non-null    float64\n",
      " 91  denial_reason-4                           277 non-null     float64\n",
      " 92  tract_population                          616388 non-null  int64  \n",
      " 93  tract_minority_population_percent         616388 non-null  float64\n",
      " 94  ffiec_msa_md_median_family_income         616388 non-null  int64  \n",
      " 95  tract_to_msa_income_percentage            616388 non-null  int64  \n",
      " 96  tract_owner_occupied_units                616388 non-null  int64  \n",
      " 97  tract_one_to_four_family_homes            616388 non-null  int64  \n",
      " 98  tract_median_age_of_housing_units         616388 non-null  int64  \n",
      "dtypes: float64(31), int64(41), object(27)\n",
      "memory usage: 465.6+ MB\n"
     ]
    }
   ],
   "source": [
    "orig_df.info()"
   ]
  },
  {
   "cell_type": "code",
   "execution_count": 7,
   "metadata": {},
   "outputs": [
    {
     "data": {
      "text/html": [
       "<div>\n",
       "<style scoped>\n",
       "    .dataframe tbody tr th:only-of-type {\n",
       "        vertical-align: middle;\n",
       "    }\n",
       "\n",
       "    .dataframe tbody tr th {\n",
       "        vertical-align: top;\n",
       "    }\n",
       "\n",
       "    .dataframe thead th {\n",
       "        text-align: right;\n",
       "    }\n",
       "</style>\n",
       "<table border=\"1\" class=\"dataframe\">\n",
       "  <thead>\n",
       "    <tr style=\"text-align: right;\">\n",
       "      <th></th>\n",
       "      <th>activity_year</th>\n",
       "      <th>lei</th>\n",
       "      <th>derived_msa-md</th>\n",
       "      <th>state_code</th>\n",
       "      <th>county_code</th>\n",
       "      <th>census_tract</th>\n",
       "      <th>conforming_loan_limit</th>\n",
       "      <th>derived_loan_product_type</th>\n",
       "      <th>derived_dwelling_category</th>\n",
       "      <th>derived_ethnicity</th>\n",
       "      <th>...</th>\n",
       "      <th>denial_reason-2</th>\n",
       "      <th>denial_reason-3</th>\n",
       "      <th>denial_reason-4</th>\n",
       "      <th>tract_population</th>\n",
       "      <th>tract_minority_population_percent</th>\n",
       "      <th>ffiec_msa_md_median_family_income</th>\n",
       "      <th>tract_to_msa_income_percentage</th>\n",
       "      <th>tract_owner_occupied_units</th>\n",
       "      <th>tract_one_to_four_family_homes</th>\n",
       "      <th>tract_median_age_of_housing_units</th>\n",
       "    </tr>\n",
       "  </thead>\n",
       "  <tbody>\n",
       "    <tr>\n",
       "      <th>0</th>\n",
       "      <td>2019</td>\n",
       "      <td>254900VHUBSJJKOMBF27</td>\n",
       "      <td>36084</td>\n",
       "      <td>CA</td>\n",
       "      <td>6001</td>\n",
       "      <td>6.001437e+09</td>\n",
       "      <td>C</td>\n",
       "      <td>Conventional:First Lien</td>\n",
       "      <td>Single Family (1-4 Units):Site-Built</td>\n",
       "      <td>Not Hispanic or Latino</td>\n",
       "      <td>...</td>\n",
       "      <td>NaN</td>\n",
       "      <td>NaN</td>\n",
       "      <td>NaN</td>\n",
       "      <td>4260</td>\n",
       "      <td>85.45</td>\n",
       "      <td>111700</td>\n",
       "      <td>66</td>\n",
       "      <td>632</td>\n",
       "      <td>795</td>\n",
       "      <td>51</td>\n",
       "    </tr>\n",
       "    <tr>\n",
       "      <th>1</th>\n",
       "      <td>2019</td>\n",
       "      <td>254900VHUBSJJKOMBF27</td>\n",
       "      <td>36084</td>\n",
       "      <td>CA</td>\n",
       "      <td>6013</td>\n",
       "      <td>6.013392e+09</td>\n",
       "      <td>C</td>\n",
       "      <td>FHA:First Lien</td>\n",
       "      <td>Single Family (1-4 Units):Site-Built</td>\n",
       "      <td>Not Hispanic or Latino</td>\n",
       "      <td>...</td>\n",
       "      <td>NaN</td>\n",
       "      <td>NaN</td>\n",
       "      <td>NaN</td>\n",
       "      <td>11300</td>\n",
       "      <td>80.65</td>\n",
       "      <td>111700</td>\n",
       "      <td>83</td>\n",
       "      <td>2124</td>\n",
       "      <td>2984</td>\n",
       "      <td>45</td>\n",
       "    </tr>\n",
       "    <tr>\n",
       "      <th>2</th>\n",
       "      <td>2019</td>\n",
       "      <td>254900VHUBSJJKOMBF27</td>\n",
       "      <td>36084</td>\n",
       "      <td>CA</td>\n",
       "      <td>6013</td>\n",
       "      <td>6.013392e+09</td>\n",
       "      <td>C</td>\n",
       "      <td>Conventional:Subordinate Lien</td>\n",
       "      <td>Single Family (1-4 Units):Site-Built</td>\n",
       "      <td>Not Hispanic or Latino</td>\n",
       "      <td>...</td>\n",
       "      <td>NaN</td>\n",
       "      <td>NaN</td>\n",
       "      <td>NaN</td>\n",
       "      <td>11300</td>\n",
       "      <td>80.65</td>\n",
       "      <td>111700</td>\n",
       "      <td>83</td>\n",
       "      <td>2124</td>\n",
       "      <td>2984</td>\n",
       "      <td>45</td>\n",
       "    </tr>\n",
       "    <tr>\n",
       "      <th>3</th>\n",
       "      <td>2019</td>\n",
       "      <td>254900VHUBSJJKOMBF27</td>\n",
       "      <td>36084</td>\n",
       "      <td>CA</td>\n",
       "      <td>6013</td>\n",
       "      <td>6.013392e+09</td>\n",
       "      <td>C</td>\n",
       "      <td>Conventional:Subordinate Lien</td>\n",
       "      <td>Single Family (1-4 Units):Site-Built</td>\n",
       "      <td>Not Hispanic or Latino</td>\n",
       "      <td>...</td>\n",
       "      <td>NaN</td>\n",
       "      <td>NaN</td>\n",
       "      <td>NaN</td>\n",
       "      <td>11300</td>\n",
       "      <td>80.65</td>\n",
       "      <td>111700</td>\n",
       "      <td>83</td>\n",
       "      <td>2124</td>\n",
       "      <td>2984</td>\n",
       "      <td>45</td>\n",
       "    </tr>\n",
       "    <tr>\n",
       "      <th>4</th>\n",
       "      <td>2019</td>\n",
       "      <td>254900VHUBSJJKOMBF27</td>\n",
       "      <td>36084</td>\n",
       "      <td>CA</td>\n",
       "      <td>6001</td>\n",
       "      <td>6.001434e+09</td>\n",
       "      <td>C</td>\n",
       "      <td>Conventional:First Lien</td>\n",
       "      <td>Single Family (1-4 Units):Site-Built</td>\n",
       "      <td>Not Hispanic or Latino</td>\n",
       "      <td>...</td>\n",
       "      <td>NaN</td>\n",
       "      <td>NaN</td>\n",
       "      <td>NaN</td>\n",
       "      <td>5848</td>\n",
       "      <td>74.73</td>\n",
       "      <td>111700</td>\n",
       "      <td>77</td>\n",
       "      <td>1175</td>\n",
       "      <td>1413</td>\n",
       "      <td>56</td>\n",
       "    </tr>\n",
       "  </tbody>\n",
       "</table>\n",
       "<p>5 rows × 99 columns</p>\n",
       "</div>"
      ],
      "text/plain": [
       "   activity_year                   lei  derived_msa-md state_code  \\\n",
       "0           2019  254900VHUBSJJKOMBF27           36084         CA   \n",
       "1           2019  254900VHUBSJJKOMBF27           36084         CA   \n",
       "2           2019  254900VHUBSJJKOMBF27           36084         CA   \n",
       "3           2019  254900VHUBSJJKOMBF27           36084         CA   \n",
       "4           2019  254900VHUBSJJKOMBF27           36084         CA   \n",
       "\n",
       "   county_code  census_tract conforming_loan_limit  \\\n",
       "0         6001  6.001437e+09                     C   \n",
       "1         6013  6.013392e+09                     C   \n",
       "2         6013  6.013392e+09                     C   \n",
       "3         6013  6.013392e+09                     C   \n",
       "4         6001  6.001434e+09                     C   \n",
       "\n",
       "       derived_loan_product_type             derived_dwelling_category  \\\n",
       "0        Conventional:First Lien  Single Family (1-4 Units):Site-Built   \n",
       "1                 FHA:First Lien  Single Family (1-4 Units):Site-Built   \n",
       "2  Conventional:Subordinate Lien  Single Family (1-4 Units):Site-Built   \n",
       "3  Conventional:Subordinate Lien  Single Family (1-4 Units):Site-Built   \n",
       "4        Conventional:First Lien  Single Family (1-4 Units):Site-Built   \n",
       "\n",
       "        derived_ethnicity  ... denial_reason-2 denial_reason-3  \\\n",
       "0  Not Hispanic or Latino  ...             NaN             NaN   \n",
       "1  Not Hispanic or Latino  ...             NaN             NaN   \n",
       "2  Not Hispanic or Latino  ...             NaN             NaN   \n",
       "3  Not Hispanic or Latino  ...             NaN             NaN   \n",
       "4  Not Hispanic or Latino  ...             NaN             NaN   \n",
       "\n",
       "   denial_reason-4  tract_population  tract_minority_population_percent  \\\n",
       "0              NaN              4260                              85.45   \n",
       "1              NaN             11300                              80.65   \n",
       "2              NaN             11300                              80.65   \n",
       "3              NaN             11300                              80.65   \n",
       "4              NaN              5848                              74.73   \n",
       "\n",
       "   ffiec_msa_md_median_family_income  tract_to_msa_income_percentage  \\\n",
       "0                             111700                              66   \n",
       "1                             111700                              83   \n",
       "2                             111700                              83   \n",
       "3                             111700                              83   \n",
       "4                             111700                              77   \n",
       "\n",
       "   tract_owner_occupied_units  tract_one_to_four_family_homes  \\\n",
       "0                         632                             795   \n",
       "1                        2124                            2984   \n",
       "2                        2124                            2984   \n",
       "3                        2124                            2984   \n",
       "4                        1175                            1413   \n",
       "\n",
       "   tract_median_age_of_housing_units  \n",
       "0                                 51  \n",
       "1                                 45  \n",
       "2                                 45  \n",
       "3                                 45  \n",
       "4                                 56  \n",
       "\n",
       "[5 rows x 99 columns]"
      ]
     },
     "execution_count": 7,
     "metadata": {},
     "output_type": "execute_result"
    }
   ],
   "source": [
    "orig_df.head()"
   ]
  },
  {
   "cell_type": "code",
   "execution_count": 8,
   "metadata": {},
   "outputs": [
    {
     "data": {
      "text/html": [
       "<div>\n",
       "<style scoped>\n",
       "    .dataframe tbody tr th:only-of-type {\n",
       "        vertical-align: middle;\n",
       "    }\n",
       "\n",
       "    .dataframe tbody tr th {\n",
       "        vertical-align: top;\n",
       "    }\n",
       "\n",
       "    .dataframe thead th {\n",
       "        text-align: right;\n",
       "    }\n",
       "</style>\n",
       "<table border=\"1\" class=\"dataframe\">\n",
       "  <thead>\n",
       "    <tr style=\"text-align: right;\">\n",
       "      <th></th>\n",
       "      <th>activity_year</th>\n",
       "      <th>lei</th>\n",
       "      <th>derived_msa-md</th>\n",
       "      <th>state_code</th>\n",
       "      <th>county_code</th>\n",
       "      <th>census_tract</th>\n",
       "      <th>conforming_loan_limit</th>\n",
       "      <th>derived_loan_product_type</th>\n",
       "      <th>derived_dwelling_category</th>\n",
       "      <th>derived_ethnicity</th>\n",
       "      <th>...</th>\n",
       "      <th>denial_reason-2</th>\n",
       "      <th>denial_reason-3</th>\n",
       "      <th>denial_reason-4</th>\n",
       "      <th>tract_population</th>\n",
       "      <th>tract_minority_population_percent</th>\n",
       "      <th>ffiec_msa_md_median_family_income</th>\n",
       "      <th>tract_to_msa_income_percentage</th>\n",
       "      <th>tract_owner_occupied_units</th>\n",
       "      <th>tract_one_to_four_family_homes</th>\n",
       "      <th>tract_median_age_of_housing_units</th>\n",
       "    </tr>\n",
       "  </thead>\n",
       "  <tbody>\n",
       "    <tr>\n",
       "      <th>616383</th>\n",
       "      <td>2022</td>\n",
       "      <td>5493000YNV8IX4VD3X12</td>\n",
       "      <td>36084</td>\n",
       "      <td>CA</td>\n",
       "      <td>6013</td>\n",
       "      <td>6.013355e+09</td>\n",
       "      <td>C</td>\n",
       "      <td>Conventional:First Lien</td>\n",
       "      <td>Single Family (1-4 Units):Manufactured</td>\n",
       "      <td>Hispanic or Latino</td>\n",
       "      <td>...</td>\n",
       "      <td>NaN</td>\n",
       "      <td>NaN</td>\n",
       "      <td>NaN</td>\n",
       "      <td>5793</td>\n",
       "      <td>66.80</td>\n",
       "      <td>142800</td>\n",
       "      <td>108</td>\n",
       "      <td>1448</td>\n",
       "      <td>1709</td>\n",
       "      <td>32</td>\n",
       "    </tr>\n",
       "    <tr>\n",
       "      <th>616384</th>\n",
       "      <td>2022</td>\n",
       "      <td>5493000YNV8IX4VD3X12</td>\n",
       "      <td>36084</td>\n",
       "      <td>CA</td>\n",
       "      <td>6013</td>\n",
       "      <td>6.013335e+09</td>\n",
       "      <td>C</td>\n",
       "      <td>Conventional:First Lien</td>\n",
       "      <td>Single Family (1-4 Units):Manufactured</td>\n",
       "      <td>Hispanic or Latino</td>\n",
       "      <td>...</td>\n",
       "      <td>NaN</td>\n",
       "      <td>NaN</td>\n",
       "      <td>NaN</td>\n",
       "      <td>3463</td>\n",
       "      <td>48.46</td>\n",
       "      <td>142800</td>\n",
       "      <td>94</td>\n",
       "      <td>816</td>\n",
       "      <td>1235</td>\n",
       "      <td>66</td>\n",
       "    </tr>\n",
       "    <tr>\n",
       "      <th>616385</th>\n",
       "      <td>2022</td>\n",
       "      <td>5493000YNV8IX4VD3X12</td>\n",
       "      <td>36084</td>\n",
       "      <td>CA</td>\n",
       "      <td>6013</td>\n",
       "      <td>6.013355e+09</td>\n",
       "      <td>C</td>\n",
       "      <td>Conventional:First Lien</td>\n",
       "      <td>Single Family (1-4 Units):Manufactured</td>\n",
       "      <td>Not Hispanic or Latino</td>\n",
       "      <td>...</td>\n",
       "      <td>7.0</td>\n",
       "      <td>NaN</td>\n",
       "      <td>NaN</td>\n",
       "      <td>4434</td>\n",
       "      <td>82.68</td>\n",
       "      <td>142800</td>\n",
       "      <td>79</td>\n",
       "      <td>808</td>\n",
       "      <td>1205</td>\n",
       "      <td>32</td>\n",
       "    </tr>\n",
       "    <tr>\n",
       "      <th>616386</th>\n",
       "      <td>2022</td>\n",
       "      <td>5493000YNV8IX4VD3X12</td>\n",
       "      <td>36084</td>\n",
       "      <td>CA</td>\n",
       "      <td>6013</td>\n",
       "      <td>6.013355e+09</td>\n",
       "      <td>C</td>\n",
       "      <td>Conventional:First Lien</td>\n",
       "      <td>Single Family (1-4 Units):Manufactured</td>\n",
       "      <td>Ethnicity Not Available</td>\n",
       "      <td>...</td>\n",
       "      <td>NaN</td>\n",
       "      <td>NaN</td>\n",
       "      <td>NaN</td>\n",
       "      <td>5000</td>\n",
       "      <td>26.24</td>\n",
       "      <td>142800</td>\n",
       "      <td>125</td>\n",
       "      <td>1503</td>\n",
       "      <td>1660</td>\n",
       "      <td>46</td>\n",
       "    </tr>\n",
       "    <tr>\n",
       "      <th>616387</th>\n",
       "      <td>2022</td>\n",
       "      <td>5493000YNV8IX4VD3X12</td>\n",
       "      <td>36084</td>\n",
       "      <td>CA</td>\n",
       "      <td>6001</td>\n",
       "      <td>6.001451e+09</td>\n",
       "      <td>C</td>\n",
       "      <td>Conventional:First Lien</td>\n",
       "      <td>Single Family (1-4 Units):Manufactured</td>\n",
       "      <td>Ethnicity Not Available</td>\n",
       "      <td>...</td>\n",
       "      <td>NaN</td>\n",
       "      <td>NaN</td>\n",
       "      <td>NaN</td>\n",
       "      <td>8901</td>\n",
       "      <td>82.44</td>\n",
       "      <td>142800</td>\n",
       "      <td>122</td>\n",
       "      <td>814</td>\n",
       "      <td>1290</td>\n",
       "      <td>28</td>\n",
       "    </tr>\n",
       "  </tbody>\n",
       "</table>\n",
       "<p>5 rows × 99 columns</p>\n",
       "</div>"
      ],
      "text/plain": [
       "        activity_year                   lei  derived_msa-md state_code  \\\n",
       "616383           2022  5493000YNV8IX4VD3X12           36084         CA   \n",
       "616384           2022  5493000YNV8IX4VD3X12           36084         CA   \n",
       "616385           2022  5493000YNV8IX4VD3X12           36084         CA   \n",
       "616386           2022  5493000YNV8IX4VD3X12           36084         CA   \n",
       "616387           2022  5493000YNV8IX4VD3X12           36084         CA   \n",
       "\n",
       "        county_code  census_tract conforming_loan_limit  \\\n",
       "616383         6013  6.013355e+09                     C   \n",
       "616384         6013  6.013335e+09                     C   \n",
       "616385         6013  6.013355e+09                     C   \n",
       "616386         6013  6.013355e+09                     C   \n",
       "616387         6001  6.001451e+09                     C   \n",
       "\n",
       "       derived_loan_product_type               derived_dwelling_category  \\\n",
       "616383   Conventional:First Lien  Single Family (1-4 Units):Manufactured   \n",
       "616384   Conventional:First Lien  Single Family (1-4 Units):Manufactured   \n",
       "616385   Conventional:First Lien  Single Family (1-4 Units):Manufactured   \n",
       "616386   Conventional:First Lien  Single Family (1-4 Units):Manufactured   \n",
       "616387   Conventional:First Lien  Single Family (1-4 Units):Manufactured   \n",
       "\n",
       "              derived_ethnicity  ... denial_reason-2 denial_reason-3  \\\n",
       "616383       Hispanic or Latino  ...             NaN             NaN   \n",
       "616384       Hispanic or Latino  ...             NaN             NaN   \n",
       "616385   Not Hispanic or Latino  ...             7.0             NaN   \n",
       "616386  Ethnicity Not Available  ...             NaN             NaN   \n",
       "616387  Ethnicity Not Available  ...             NaN             NaN   \n",
       "\n",
       "        denial_reason-4  tract_population  tract_minority_population_percent  \\\n",
       "616383              NaN              5793                              66.80   \n",
       "616384              NaN              3463                              48.46   \n",
       "616385              NaN              4434                              82.68   \n",
       "616386              NaN              5000                              26.24   \n",
       "616387              NaN              8901                              82.44   \n",
       "\n",
       "        ffiec_msa_md_median_family_income  tract_to_msa_income_percentage  \\\n",
       "616383                             142800                             108   \n",
       "616384                             142800                              94   \n",
       "616385                             142800                              79   \n",
       "616386                             142800                             125   \n",
       "616387                             142800                             122   \n",
       "\n",
       "        tract_owner_occupied_units  tract_one_to_four_family_homes  \\\n",
       "616383                        1448                            1709   \n",
       "616384                         816                            1235   \n",
       "616385                         808                            1205   \n",
       "616386                        1503                            1660   \n",
       "616387                         814                            1290   \n",
       "\n",
       "        tract_median_age_of_housing_units  \n",
       "616383                                 32  \n",
       "616384                                 66  \n",
       "616385                                 32  \n",
       "616386                                 46  \n",
       "616387                                 28  \n",
       "\n",
       "[5 rows x 99 columns]"
      ]
     },
     "execution_count": 8,
     "metadata": {},
     "output_type": "execute_result"
    }
   ],
   "source": [
    "orig_df.tail()"
   ]
  },
  {
   "cell_type": "markdown",
   "metadata": {},
   "source": [
    "## Cleaning the data"
   ]
  },
  {
   "cell_type": "markdown",
   "metadata": {},
   "source": [
    "### First-round: Simplifying"
   ]
  },
  {
   "cell_type": "markdown",
   "metadata": {},
   "source": [
    "My first step here is to do first-round of data cleaning, mostly simplifying the data by renaming some features and dropping the ones that will not be used.\n",
    "\n",
    "Dropping:\n",
    "\n",
    "- `activity_year`, `state_code`, `county_code`, `derived_msa-md`: constants, codes\n",
    "- `lei`: I will not differentiate between the financial institutions\n",
    "- `aus-*`: The automated underwriting system(s) (AUS) used by the financial institution to evaluate the application\n",
    "- `_observed`: whether the information was collected on the basis of visual observation or surname\n",
    "- `census_tract`\n",
    "- `preapproval`: all pre-approved applications are approved\n",
    "\n",
    "Simplifying:\n",
    "\n",
    "- `denial-reason-*`: columns are directly related to the `Denied` applications and will not be used in the training, but are useful to analyze before modeling. I will join all reasons in one feature.\n",
    "- `[co-]applicant_race-*` and `[co-]applicant_ethnicity-*`: will keep only option 1 with broader groups\n",
    "\n",
    "Renaming:\n",
    "\n",
    "- `action_taken` to `application_outcome`\n",
    "\n",
    "Removing:\n",
    "\n",
    "- all rows with `Exempt`"
   ]
  },
  {
   "cell_type": "code",
   "execution_count": 9,
   "metadata": {},
   "outputs": [
    {
     "name": "stdout",
     "output_type": "stream",
     "text": [
      "(616388, 53)\n"
     ]
    }
   ],
   "source": [
    "unused_columns = [\n",
    "    *[x for x in orig_df.columns if x.startswith(\"aus-\")],\n",
    "    *[x for x in orig_df.columns if x.endswith(\"observed\")],\n",
    "    *[x for x in orig_df.columns if x.endswith(\"_credit_score_type\")],\n",
    "    \"activity_year\",\n",
    "    \"state_code\",\n",
    "    \"county_code\",\n",
    "    \"derived_msa-md\",\n",
    "    \"lei\",\n",
    "    \"census_tract\",\n",
    "    \"preapproval\",\n",
    "    \"submission_of_application\",\n",
    "    \"manufactured_home_secured_property_type\",\n",
    "    \"manufactured_home_land_property_interest\",\n",
    "    \"other_nonamortizing_features\",\n",
    "    \"negative_amortization\",\n",
    "    \"initially_payable_to_institution\",\n",
    "    \"ffiec_msa_md_median_family_income\",\n",
    "]\n",
    "\n",
    "df = orig_df.drop(unused_columns, axis=1)\n",
    "df = df[df != \"Exempt\"]\n",
    "df = df.rename(\n",
    "    columns={\n",
    "        \"action_taken\": \"application_outcome\",\n",
    "        \"co-applicant_sex\": \"coapplicant_sex\",\n",
    "        \"co-applicant_age\": \"coapplicant_age\",\n",
    "    }\n",
    ")\n",
    "\n",
    "# joining all denial_reasons\n",
    "df[\"denial_reason\"] = (\n",
    "    df[[x for x in df.columns if x.startswith(\"denial_reason-\")]]\n",
    "    .replace(\n",
    "        {\n",
    "            1: \"Debt-to-income ratio\",\n",
    "            2: \"Employment history\",\n",
    "            3: \"Credit history\",\n",
    "            4: \"Collateral\",\n",
    "            5: \"Insufficient cash\",\n",
    "            6: \"Unverifiable information\",\n",
    "            7: \"Credit application incomplete\",\n",
    "            8: \"Mortgage insurance denied\",\n",
    "            9: \"Other\",\n",
    "            10: \"not_applicable\",\n",
    "        }\n",
    "    )\n",
    "    .apply(\n",
    "        lambda x: \";\".join([str(reason) for reason in x if pd.notnull(reason)]), axis=1\n",
    "    )\n",
    ")\n",
    "df = df.drop([x for x in df.columns if x.startswith(\"denial_reason-\")], axis=1)\n",
    "\n",
    "# applicant race\n",
    "df[\"applicant_race\"] = (\n",
    "    df[[\"applicant_race-1\"]]\n",
    "    .map(lambda x: int(str(int(x))[:1]) if pd.notnull(x) else np.nan)\n",
    "    .replace(\n",
    "        {\n",
    "            1: \"NA/PI\",\n",
    "            2: \"Asian\",\n",
    "            3: \"Black\",\n",
    "            4: \"NA/PI\",\n",
    "            5: \"White\",\n",
    "            6: \"not_provided\",\n",
    "            7: \"not_applicable\",\n",
    "        }\n",
    "    )\n",
    ")\n",
    "df = df.drop([x for x in df.columns if x.startswith(\"applicant_race-\")], axis=1)\n",
    "\n",
    "# co-applicant race\n",
    "df[\"coapplicant_race\"] = (\n",
    "    df[[\"co-applicant_race-1\"]]\n",
    "    .map(lambda x: int(str(int(x))[:1]) if pd.notnull(x) else np.nan)\n",
    "    .replace(\n",
    "        {\n",
    "            1: \"NA/PI\",\n",
    "            2: \"Asian\",\n",
    "            3: \"Black\",\n",
    "            4: \"NA/PI\",\n",
    "            5: \"White\",\n",
    "            6: \"not_provided\",\n",
    "            7: \"not_applicable\",\n",
    "            8: \"no_coapplicant\",\n",
    "        }\n",
    "    )\n",
    ")\n",
    "df = df.drop([x for x in df.columns if x.startswith(\"co-applicant_race-\")], axis=1)\n",
    "\n",
    "# applicant ethnicity\n",
    "df[\"applicant_ethnicity\"] = (\n",
    "    df[[\"applicant_ethnicity-1\"]]\n",
    "    .map(lambda x: int(str(int(x))[:1]) if pd.notnull(x) else np.nan)\n",
    "    .replace(\n",
    "        {\n",
    "            1: \"Hispanic/Latino\",\n",
    "            2: \"Not Hispanic/Latino\",\n",
    "            3: \"not_provided\",\n",
    "            4: \"not_applicable\",\n",
    "        }\n",
    "    )\n",
    ")\n",
    "df = df.drop([x for x in df.columns if x.startswith(\"applicant_ethnicity-\")], axis=1)\n",
    "\n",
    "# co-applicant ethnicity\n",
    "df[\"coapplicant_ethnicity\"] = (\n",
    "    df[[\"co-applicant_ethnicity-1\"]]\n",
    "    .map(lambda x: int(str(int(x))[:1]) if pd.notnull(x) else np.nan)\n",
    "    .replace(\n",
    "        {\n",
    "            1: \"Hispanic/Latino\",\n",
    "            2: \"Not Hispanic/Latino\",\n",
    "            3: \"not_provided\",\n",
    "            4: \"not_applicable\",\n",
    "            5: \"no_coapplicant\",\n",
    "        }\n",
    "    )\n",
    ")\n",
    "df = df.drop([x for x in df.columns if x.startswith(\"co-applicant_ethnicity-\")], axis=1)\n",
    "\n",
    "print(df.shape)"
   ]
  },
  {
   "cell_type": "markdown",
   "metadata": {},
   "source": [
    "### Second-round: Analyse column counts and map to new variables\n",
    "\n",
    "Here I will go column by column checking the distribution of values and mapping them to better values. This will also be used to filter and remove rows in order to simplify the dataset."
   ]
  },
  {
   "cell_type": "markdown",
   "metadata": {},
   "source": [
    "#### Target feature: application outcome"
   ]
  },
  {
   "cell_type": "code",
   "execution_count": 10,
   "metadata": {},
   "outputs": [
    {
     "data": {
      "text/plain": [
       "application_outcome\n",
       "1    522942\n",
       "3     93446\n",
       "Name: count, dtype: int64"
      ]
     },
     "metadata": {},
     "output_type": "display_data"
    }
   ],
   "source": [
    "# 1 - Loan originated\n",
    "# 3 - Application denied\n",
    "display(df[\"application_outcome\"].value_counts(dropna=False))"
   ]
  },
  {
   "cell_type": "code",
   "execution_count": 11,
   "metadata": {},
   "outputs": [
    {
     "data": {
      "text/plain": [
       "application_outcome\n",
       "Approved    522942\n",
       "Denied       93446\n",
       "Name: count, dtype: int64"
      ]
     },
     "metadata": {},
     "output_type": "display_data"
    }
   ],
   "source": [
    "# Target feature\n",
    "df[\"application_outcome\"] = df[\"application_outcome\"].map({1: \"Approved\", 3: \"Denied\"})\n",
    "display(df[\"application_outcome\"].value_counts(dropna=False))"
   ]
  },
  {
   "cell_type": "code",
   "execution_count": 12,
   "metadata": {},
   "outputs": [
    {
     "name": "stdout",
     "output_type": "stream",
     "text": [
      "application_outcome\n",
      "Approved    0.848397\n",
      "Denied      0.151603\n",
      "Name: proportion, dtype: float64\n"
     ]
    },
    {
     "data": {
      "image/png": "[encoded data removed]",
      "text/plain": [
       "<Figure size 400x300 with 1 Axes>"
      ]
     },
     "metadata": {},
     "output_type": "display_data"
    }
   ],
   "source": [
    "print(f'{df[\"application_outcome\"].value_counts(normalize=True)}')\n",
    "\n",
    "f, ax = plt.subplots(figsize=(4, 3))\n",
    "sns.countplot(\n",
    "    df, x=\"application_outcome\", stat=\"percent\", hue=\"application_outcome\", ax=ax\n",
    ")\n",
    "plt.show()"
   ]
  },
  {
   "cell_type": "markdown",
   "metadata": {},
   "source": [
    "#### Age of applicant and co-applicant"
   ]
  },
  {
   "cell_type": "code",
   "execution_count": 13,
   "metadata": {},
   "outputs": [
    {
     "data": {
      "text/plain": [
       "applicant_age\n",
       "35-44    176687\n",
       "45-54    155520\n",
       "55-64    109602\n",
       "25-34     86380\n",
       "65-74     57704\n",
       ">74       23196\n",
       "<25        2666\n",
       "Name: count, dtype: int64"
      ]
     },
     "metadata": {},
     "output_type": "display_data"
    }
   ],
   "source": [
    "df[\"applicant_age\"] = df[\"applicant_age\"].replace(\n",
    "    { \"8888\": np.nan}\n",
    ")\n",
    "df = df.dropna(axis=0, subset=\"applicant_age\")\n",
    "display(df[\"applicant_age\"].value_counts(dropna=False))"
   ]
  },
  {
   "cell_type": "code",
   "execution_count": 14,
   "metadata": {},
   "outputs": [
    {
     "data": {
      "text/plain": [
       "coapplicant_age\n",
       "no_coapplicant    305070\n",
       "35-44              88697\n",
       "45-54              73271\n",
       "55-64              52685\n",
       "25-34              49668\n",
       "65-74              29394\n",
       ">74                 9416\n",
       "<25                 2008\n",
       "Name: count, dtype: int64"
      ]
     },
     "metadata": {},
     "output_type": "display_data"
    }
   ],
   "source": [
    "df[\"coapplicant_age\"] = df[\"coapplicant_age\"].replace(\n",
    "    {\"9999\": \"no_coapplicant\", \"8888\": np.nan}\n",
    ")\n",
    "df = df.dropna(axis=0, subset=\"coapplicant_age\")\n",
    "display(df[\"coapplicant_age\"].value_counts(dropna=False))"
   ]
  },
  {
   "cell_type": "markdown",
   "metadata": {},
   "source": [
    "#### Sex of applicant and co-applicant"
   ]
  },
  {
   "cell_type": "code",
   "execution_count": 15,
   "metadata": {},
   "outputs": [
    {
     "data": {
      "text/plain": [
       "applicant_sex\n",
       "1    371356\n",
       "2    177838\n",
       "3     60614\n",
       "6       388\n",
       "4        13\n",
       "Name: count, dtype: int64"
      ]
     },
     "metadata": {},
     "output_type": "display_data"
    }
   ],
   "source": [
    "# 1 - Male\n",
    "# 2 - Female\n",
    "# 3 - Information not provided by applicant in mail, internet, or telephone application\n",
    "# 4 - Not applicable\n",
    "# 6 - Applicant selected both male and female\n",
    "display(df[\"applicant_sex\"].value_counts(dropna=False))"
   ]
  },
  {
   "cell_type": "code",
   "execution_count": 16,
   "metadata": {},
   "outputs": [
    {
     "data": {
      "text/plain": [
       "applicant_sex\n",
       "Male            371356\n",
       "Female          177838\n",
       "not_provided     60614\n",
       "Name: count, dtype: int64"
      ]
     },
     "metadata": {},
     "output_type": "display_data"
    }
   ],
   "source": [
    "# Selecting Male (1), Female (2), not_provided (3); dropping the rest\n",
    "df[\"applicant_sex\"] = df[\"applicant_sex\"].map(\n",
    "    {1: \"Male\", 2: \"Female\", 3: \"not_provided\"}\n",
    ")\n",
    "df = df.dropna(axis=0, subset=\"applicant_sex\")\n",
    "display(df[\"applicant_sex\"].value_counts(dropna=False))"
   ]
  },
  {
   "cell_type": "code",
   "execution_count": 17,
   "metadata": {},
   "outputs": [
    {
     "data": {
      "text/plain": [
       "coapplicant_sex\n",
       "5    304429\n",
       "2    197729\n",
       "1     73393\n",
       "3     33598\n",
       "4       479\n",
       "6       180\n",
       "Name: count, dtype: int64"
      ]
     },
     "metadata": {},
     "output_type": "display_data"
    }
   ],
   "source": [
    "# 1 - Male\n",
    "# 2 - Female\n",
    "# 3 - Information not provided by applicant in mail, internet, or telephone application\n",
    "# 4 - Not applicable\n",
    "# 5 - no co-applicant\n",
    "# 6 - Applicant selected both male and female\n",
    "display(df[\"coapplicant_sex\"].value_counts())"
   ]
  },
  {
   "cell_type": "code",
   "execution_count": 18,
   "metadata": {},
   "outputs": [
    {
     "data": {
      "text/plain": [
       "coapplicant_sex\n",
       "no_coapplicant    304429\n",
       "Female            197729\n",
       "Male               73393\n",
       "not_provided       33598\n",
       "Name: count, dtype: int64"
      ]
     },
     "metadata": {},
     "output_type": "display_data"
    }
   ],
   "source": [
    "# Selecting Male (1), Female (2), not_provided (3), no_coapplicant (5)\n",
    "df[\"coapplicant_sex\"] = df[\"coapplicant_sex\"].map(\n",
    "    {1: \"Male\", 2: \"Female\", 3: \"not_provided\", 5: \"no_coapplicant\"}\n",
    ")\n",
    "df = df.dropna(axis=0, subset=\"coapplicant_sex\")\n",
    "display(df[\"coapplicant_sex\"].value_counts())"
   ]
  },
  {
   "cell_type": "markdown",
   "metadata": {},
   "source": [
    "#### Loan details"
   ]
  },
  {
   "cell_type": "markdown",
   "metadata": {},
   "source": [
    "##### `loan_type`"
   ]
  },
  {
   "cell_type": "code",
   "execution_count": 19,
   "metadata": {},
   "outputs": [
    {
     "data": {
      "text/plain": [
       "loan_type\n",
       "1    571472\n",
       "2     22381\n",
       "3     15120\n",
       "4       176\n",
       "Name: count, dtype: int64"
      ]
     },
     "metadata": {},
     "output_type": "display_data"
    }
   ],
   "source": [
    "# 1 - Conventional (not insured or guaranteed by FHA, VA, RHS, or FSA)\n",
    "# 2 - Federal Housing Administration insured (FHA)\n",
    "# 3 - Veterans Affairs guaranteed (VA)\n",
    "# 4 - USDA Rural Housing Service or Farm Service Agency guaranteed (RHS or FSA)\n",
    "display(df[\"loan_type\"].value_counts())"
   ]
  },
  {
   "cell_type": "code",
   "execution_count": 20,
   "metadata": {},
   "outputs": [
    {
     "data": {
      "text/plain": [
       "loan_type\n",
       "Conventional    571472\n",
       "FHA              22381\n",
       "VA               15120\n",
       "Name: count, dtype: int64"
      ]
     },
     "metadata": {},
     "output_type": "display_data"
    }
   ],
   "source": [
    "# Loan type - keeping 1/2/3\n",
    "df[\"loan_type\"] = df[\"loan_type\"].map({1: \"Conventional\", 2: \"FHA\", 3: \"VA\"})\n",
    "df = df.dropna(axis=0, subset=\"loan_type\")\n",
    "display(df[\"loan_type\"].value_counts())"
   ]
  },
  {
   "cell_type": "markdown",
   "metadata": {},
   "source": [
    "##### `purchaser_type`"
   ]
  },
  {
   "cell_type": "code",
   "execution_count": 21,
   "metadata": {},
   "outputs": [
    {
     "data": {
      "text/plain": [
       "purchaser_type\n",
       "GSE               259886\n",
       "not_applicable    250782\n",
       "CU/MC/FC           44500\n",
       "Bank               31334\n",
       "Private             9357\n",
       "Other               8403\n",
       "Affiliate           2680\n",
       "LifeInsurance       2030\n",
       "Farmer Mac             1\n",
       "Name: count, dtype: int64"
      ]
     },
     "metadata": {},
     "output_type": "display_data"
    }
   ],
   "source": [
    "# 0 - Not applicable\n",
    "# 1 - Fannie Mae\n",
    "# 2 - Ginnie Mae\n",
    "# 3 - Freddie Mac\n",
    "# 4 - Farmer Mac\n",
    "# 5 - Private securitizer\n",
    "# 6 - Commercial bank, savings bank, or savings association\n",
    "# 71 - Credit union, mortgage company, or finance company\n",
    "# 72 - Life insurance company\n",
    "# 8 - Affiliate institution\n",
    "# 9 - Other type of purchaser\n",
    "df[\"purchaser_type\"] = df[\"purchaser_type\"].map(\n",
    "    {\n",
    "        0: \"not_applicable\",\n",
    "        1: \"GSE\",\n",
    "        2: \"GSE\",\n",
    "        3: \"GSE\",\n",
    "        4: \"Farmer Mac\",\n",
    "        5: \"Private\",\n",
    "        6: \"Bank\",\n",
    "        71: \"CU/MC/FC\",\n",
    "        72: \"LifeInsurance\",\n",
    "        8: \"Affiliate\",\n",
    "        9: \"Other\",\n",
    "    }\n",
    ")\n",
    "display(df[\"purchaser_type\"].value_counts(dropna=False))"
   ]
  },
  {
   "cell_type": "code",
   "execution_count": 22,
   "metadata": {},
   "outputs": [
    {
     "data": {
      "text/plain": [
       "purchaser_type\n",
       "GSE               259886\n",
       "not_applicable    250782\n",
       "CU/MC/FC           44500\n",
       "Bank               31334\n",
       "Private             9357\n",
       "Affiliate           2680\n",
       "LifeInsurance       2030\n",
       "Name: count, dtype: int64"
      ]
     },
     "metadata": {},
     "output_type": "display_data"
    }
   ],
   "source": [
    "# Keeping not_applicable (0), GSE (1+2+3), Private (5), Bank (6), CU/MC/FC (71), LifeInsurance (72), Affiliate (8); dropping 9 and 4\n",
    "df = df[(df[\"purchaser_type\"] != \"Farmer Mac\") & (df[\"purchaser_type\"] != \"Other\")]\n",
    "display(df[\"purchaser_type\"].value_counts(dropna=False))"
   ]
  },
  {
   "cell_type": "markdown",
   "metadata": {},
   "source": [
    "##### `loan_purpose`"
   ]
  },
  {
   "cell_type": "code",
   "execution_count": 23,
   "metadata": {},
   "outputs": [
    {
     "data": {
      "text/plain": [
       "loan_purpose\n",
       "Refinancing             280118\n",
       "Home purchase           129186\n",
       "Cash-out refinancing    120038\n",
       "Home improvement         37312\n",
       "Other                    33833\n",
       "not_applicable              82\n",
       "Name: count, dtype: int64"
      ]
     },
     "metadata": {},
     "output_type": "display_data"
    }
   ],
   "source": [
    "# Description: The purpose of covered loan or application\n",
    "# Values:\n",
    "# 1 - Home purchase\n",
    "# 2 - Home improvement\n",
    "# 31 - Refinancing\n",
    "# 32 - Cash-out refinancing\n",
    "# 4 - Other purpose\n",
    "# 5 - Not applicable\n",
    "df[\"loan_purpose\"] = df[\"loan_purpose\"].map(\n",
    "    {\n",
    "        1: \"Home purchase\",\n",
    "        2: \"Home improvement\",\n",
    "        31: \"Refinancing\",\n",
    "        32: \"Cash-out refinancing\",\n",
    "        4: \"Other\",\n",
    "        5: \"not_applicable\",\n",
    "    }\n",
    ")\n",
    "display(df[\"loan_purpose\"].value_counts())"
   ]
  },
  {
   "cell_type": "code",
   "execution_count": 24,
   "metadata": {},
   "outputs": [
    {
     "data": {
      "text/plain": [
       "loan_purpose\n",
       "Refinancing             280118\n",
       "Home purchase           129186\n",
       "Cash-out refinancing    120038\n",
       "Home improvement         37312\n",
       "Other                    33833\n",
       "Name: count, dtype: int64"
      ]
     },
     "metadata": {},
     "output_type": "display_data"
    }
   ],
   "source": [
    "# Dropping `not_applicable`\n",
    "df = df[df[\"loan_purpose\"] != \"not_applicable\"]\n",
    "display(df[\"loan_purpose\"].value_counts(dropna=False))"
   ]
  },
  {
   "cell_type": "markdown",
   "metadata": {},
   "source": [
    "##### `lien_status`"
   ]
  },
  {
   "cell_type": "code",
   "execution_count": 25,
   "metadata": {},
   "outputs": [
    {
     "data": {
      "text/plain": [
       "lien_status\n",
       "First          524329\n",
       "Subordinate     76158\n",
       "Name: count, dtype: int64"
      ]
     },
     "metadata": {},
     "output_type": "display_data"
    }
   ],
   "source": [
    "# Description: Lien status of the property securing the covered loan, or in the case of an application, proposed to secure the covered loan\n",
    "# Values:\n",
    "# 1 - Secured by a first lien\n",
    "# 2 - Secured by a subordinate lien\n",
    "df[\"lien_status\"] = df[\"lien_status\"].map(\n",
    "    {\n",
    "        1: \"First\",\n",
    "        2: \"Subordinate\",\n",
    "    }\n",
    ")\n",
    "display(df[\"lien_status\"].value_counts(dropna=False))"
   ]
  },
  {
   "cell_type": "markdown",
   "metadata": {},
   "source": [
    "##### `business_or_commercial_purpose`"
   ]
  },
  {
   "cell_type": "code",
   "execution_count": 26,
   "metadata": {},
   "outputs": [
    {
     "data": {
      "text/plain": [
       "business_or_commercial_purpose\n",
       "2       578917\n",
       "1        20160\n",
       "1111      1410\n",
       "Name: count, dtype: int64"
      ]
     },
     "metadata": {},
     "output_type": "display_data"
    }
   ],
   "source": [
    "# Description: Whether the covered loan or application is primarily for a business or commercial purpose\n",
    "# Values:\n",
    "# 1 - Primarily for a business or commercial purpose\n",
    "# 2 - Not primarily for a business or commercial purpose\n",
    "# 1111 - Exempt\n",
    "display(df[\"business_or_commercial_purpose\"].value_counts(dropna=False))"
   ]
  },
  {
   "cell_type": "code",
   "execution_count": 27,
   "metadata": {},
   "outputs": [
    {
     "data": {
      "text/plain": [
       "business_or_commercial_purpose\n",
       "No     578917\n",
       "Yes     20160\n",
       "Name: count, dtype: int64"
      ]
     },
     "metadata": {},
     "output_type": "display_data"
    }
   ],
   "source": [
    "# Dropping Exempt\n",
    "df[\"business_or_commercial_purpose\"] = df[\"business_or_commercial_purpose\"].map(\n",
    "    {1: \"Yes\", 2: \"No\"}\n",
    ")\n",
    "df = df.dropna(axis=0, subset=\"business_or_commercial_purpose\")\n",
    "display(df[\"business_or_commercial_purpose\"].value_counts(dropna=False))"
   ]
  },
  {
   "cell_type": "markdown",
   "metadata": {},
   "source": [
    "#### Race and ethnicity"
   ]
  },
  {
   "cell_type": "markdown",
   "metadata": {},
   "source": [
    "##### `applicant_race`"
   ]
  },
  {
   "cell_type": "code",
   "execution_count": 28,
   "metadata": {},
   "outputs": [
    {
     "data": {
      "text/plain": [
       "applicant_race\n",
       "White             240337\n",
       "Asian             184994\n",
       "not_provided      136876\n",
       "Black              29430\n",
       "NA/PI               7253\n",
       "NaN                  149\n",
       "not_applicable        38\n",
       "Name: count, dtype: int64"
      ]
     },
     "metadata": {},
     "output_type": "display_data"
    }
   ],
   "source": [
    "display(df[\"applicant_race\"].value_counts(dropna=False))"
   ]
  },
  {
   "cell_type": "code",
   "execution_count": 29,
   "metadata": {},
   "outputs": [
    {
     "data": {
      "text/plain": [
       "applicant_race\n",
       "White           240337\n",
       "Asian           184994\n",
       "not_provided    136876\n",
       "Black            29430\n",
       "NA/PI             7253\n",
       "Name: count, dtype: int64"
      ]
     },
     "metadata": {},
     "output_type": "display_data"
    }
   ],
   "source": [
    "df = df.dropna(axis=0, subset=\"applicant_race\")\n",
    "df = df[df[\"applicant_race\"] != \"not_applicable\"]\n",
    "display(df[\"applicant_race\"].value_counts(dropna=False))"
   ]
  },
  {
   "cell_type": "markdown",
   "metadata": {},
   "source": [
    "##### `coapplicant_race`"
   ]
  },
  {
   "cell_type": "code",
   "execution_count": 30,
   "metadata": {},
   "outputs": [
    {
     "data": {
      "text/plain": [
       "coapplicant_race\n",
       "no_coapplicant    299161\n",
       "White             124249\n",
       "Asian              88603\n",
       "not_provided       74364\n",
       "Black               9092\n",
       "NA/PI               3377\n",
       "NaN                   23\n",
       "not_applicable        21\n",
       "Name: count, dtype: int64"
      ]
     },
     "metadata": {},
     "output_type": "display_data"
    }
   ],
   "source": [
    "display(df[\"coapplicant_race\"].value_counts(dropna=False))"
   ]
  },
  {
   "cell_type": "code",
   "execution_count": 31,
   "metadata": {},
   "outputs": [
    {
     "data": {
      "text/plain": [
       "coapplicant_race\n",
       "no_coapplicant    299161\n",
       "White             124249\n",
       "Asian              88603\n",
       "not_provided       74364\n",
       "Black               9092\n",
       "NA/PI               3377\n",
       "Name: count, dtype: int64"
      ]
     },
     "metadata": {},
     "output_type": "display_data"
    }
   ],
   "source": [
    "df = df.dropna(axis=0, subset=\"coapplicant_race\")\n",
    "df = df[df[\"coapplicant_race\"] != \"not_applicable\"]\n",
    "display(df[\"coapplicant_race\"].value_counts(dropna=False))"
   ]
  },
  {
   "cell_type": "markdown",
   "metadata": {},
   "source": [
    "##### `applicant_ethnicity`"
   ]
  },
  {
   "cell_type": "code",
   "execution_count": 32,
   "metadata": {},
   "outputs": [
    {
     "data": {
      "text/plain": [
       "applicant_ethnicity\n",
       "Not Hispanic/Latino    412110\n",
       "not_provided           127295\n",
       "Hispanic/Latino         59098\n",
       "NaN                       305\n",
       "not_applicable             38\n",
       "Name: count, dtype: int64"
      ]
     },
     "metadata": {},
     "output_type": "display_data"
    }
   ],
   "source": [
    "display(df[\"applicant_ethnicity\"].value_counts(dropna=False))"
   ]
  },
  {
   "cell_type": "code",
   "execution_count": 33,
   "metadata": {},
   "outputs": [
    {
     "data": {
      "text/plain": [
       "applicant_ethnicity\n",
       "Not Hispanic/Latino    412110\n",
       "not_provided           127295\n",
       "Hispanic/Latino         59098\n",
       "Name: count, dtype: int64"
      ]
     },
     "metadata": {},
     "output_type": "display_data"
    }
   ],
   "source": [
    "df = df.dropna(axis=0, subset=\"applicant_ethnicity\")\n",
    "df = df[df[\"applicant_ethnicity\"] != \"not_applicable\"]\n",
    "display(df[\"applicant_ethnicity\"].value_counts(dropna=False))"
   ]
  },
  {
   "cell_type": "markdown",
   "metadata": {},
   "source": [
    "##### `coapplicant_ethnicity`"
   ]
  },
  {
   "cell_type": "code",
   "execution_count": 34,
   "metadata": {},
   "outputs": [
    {
     "data": {
      "text/plain": [
       "coapplicant_ethnicity\n",
       "no_coapplicant         298785\n",
       "Not Hispanic/Latino    200587\n",
       "not_provided            69800\n",
       "Hispanic/Latino         29296\n",
       "NaN                        25\n",
       "not_applicable             10\n",
       "Name: count, dtype: int64"
      ]
     },
     "metadata": {},
     "output_type": "display_data"
    }
   ],
   "source": [
    "display(df[\"coapplicant_ethnicity\"].value_counts(dropna=False))"
   ]
  },
  {
   "cell_type": "code",
   "execution_count": 35,
   "metadata": {},
   "outputs": [
    {
     "data": {
      "text/plain": [
       "coapplicant_ethnicity\n",
       "no_coapplicant         298785\n",
       "Not Hispanic/Latino    200587\n",
       "not_provided            69800\n",
       "Hispanic/Latino         29296\n",
       "Name: count, dtype: int64"
      ]
     },
     "metadata": {},
     "output_type": "display_data"
    }
   ],
   "source": [
    "df = df.dropna(axis=0, subset=\"coapplicant_ethnicity\")\n",
    "df = df[df[\"coapplicant_ethnicity\"] != \"not_applicable\"]\n",
    "display(df[\"coapplicant_ethnicity\"].value_counts(dropna=False))"
   ]
  },
  {
   "cell_type": "markdown",
   "metadata": {},
   "source": [
    "#### Other"
   ]
  },
  {
   "cell_type": "markdown",
   "metadata": {},
   "source": [
    "##### `derived_loan_product_type`"
   ]
  },
  {
   "cell_type": "code",
   "execution_count": 36,
   "metadata": {},
   "outputs": [
    {
     "data": {
      "text/plain": [
       "derived_loan_product_type\n",
       "Conventional:First Lien          486170\n",
       "Conventional:Subordinate Lien     75844\n",
       "FHA:First Lien                    21470\n",
       "VA:First Lien                     14947\n",
       "FHA:Subordinate Lien                 36\n",
       "VA:Subordinate Lien                   1\n",
       "Name: count, dtype: int64"
      ]
     },
     "metadata": {},
     "output_type": "display_data"
    }
   ],
   "source": [
    "display(df[\"derived_loan_product_type\"].value_counts(dropna=False))"
   ]
  },
  {
   "cell_type": "code",
   "execution_count": 37,
   "metadata": {},
   "outputs": [
    {
     "data": {
      "text/plain": [
       "derived_loan_product_type\n",
       "Conventional:First Lien          486170\n",
       "Conventional:Subordinate Lien     75844\n",
       "FHA:First Lien                    21470\n",
       "VA:First Lien                     14947\n",
       "FHA:Subordinate Lien                 36\n",
       "VA:Subordinate Lien                   1\n",
       "Name: count, dtype: int64"
      ]
     },
     "metadata": {},
     "output_type": "display_data"
    }
   ],
   "source": [
    "df = df[(df[\"derived_loan_product_type\"] != \"FHA:Subordinate Lien\") | (df[\"derived_loan_product_type\"] != \"VA:Subordinate Lien\")]\n",
    "display(df[\"derived_loan_product_type\"].value_counts())"
   ]
  },
  {
   "cell_type": "markdown",
   "metadata": {},
   "source": [
    "##### `construction_method`"
   ]
  },
  {
   "cell_type": "code",
   "execution_count": 38,
   "metadata": {},
   "outputs": [
    {
     "data": {
      "text/plain": [
       "construction_method\n",
       "1    595980\n",
       "2      2488\n",
       "Name: count, dtype: int64"
      ]
     },
     "metadata": {},
     "output_type": "display_data"
    }
   ],
   "source": [
    "# Description: Construction method for the dwelling\n",
    "# Values:\n",
    "# 1 - Site-built\n",
    "# 2 - Manufactured home\n",
    "display(df[\"construction_method\"].value_counts(dropna=False))\n",
    "# keeping only site-built constrution method and dropping the column\n",
    "df = df[df[\"construction_method\"] == 1]\n",
    "df = df.drop(\"construction_method\", axis=1)"
   ]
  },
  {
   "cell_type": "markdown",
   "metadata": {},
   "source": [
    "##### `total_units`"
   ]
  },
  {
   "cell_type": "code",
   "execution_count": 39,
   "metadata": {},
   "outputs": [
    {
     "data": {
      "text/plain": [
       "total_units\n",
       "1        484746\n",
       "1         95759\n",
       "2          7840\n",
       "4          2710\n",
       "3          2154\n",
       "2          1353\n",
       "5-24        550\n",
       "4           457\n",
       "3           377\n",
       "25-49        28\n",
       "50-99         6\n",
       "Name: count, dtype: int64"
      ]
     },
     "metadata": {},
     "output_type": "display_data"
    }
   ],
   "source": [
    "display(df[\"total_units\"].value_counts(dropna=False))"
   ]
  },
  {
   "cell_type": "code",
   "execution_count": 40,
   "metadata": {},
   "outputs": [
    {
     "data": {
      "text/plain": [
       "total_units\n",
       "1-4    595396\n",
       "5+        584\n",
       "Name: count, dtype: int64"
      ]
     },
     "metadata": {},
     "output_type": "display_data"
    }
   ],
   "source": [
    "# keeping only 1-4 units and dropping the column\n",
    "df[\"total_units\"] = (\n",
    "    df[\"total_units\"]\n",
    "    .astype(str)\n",
    "    .map(lambda x: \"1-4\" if int(x.split(\"-\")[0]) <= 4 else \"5+\")\n",
    ")\n",
    "display(df[\"total_units\"].value_counts(dropna=False))\n",
    "df = df[df[\"total_units\"] == \"1-4\"]\n",
    "df = df.drop(\"total_units\", axis=1)"
   ]
  },
  {
   "cell_type": "markdown",
   "metadata": {},
   "source": [
    "##### `derived_dwelling_category`"
   ]
  },
  {
   "cell_type": "code",
   "execution_count": 41,
   "metadata": {},
   "outputs": [
    {
     "data": {
      "text/plain": [
       "derived_dwelling_category\n",
       "Single Family (1-4 Units):Site-Built    595396\n",
       "Name: count, dtype: int64"
      ]
     },
     "metadata": {},
     "output_type": "display_data"
    }
   ],
   "source": [
    "# this column is based on the previous 2, so now can be dropped\n",
    "display(df[\"derived_dwelling_category\"].value_counts(dropna=False))\n",
    "df = df.drop(\"derived_dwelling_category\", axis=1)"
   ]
  },
  {
   "cell_type": "markdown",
   "metadata": {},
   "source": [
    "##### `open-end_line_of_credit`"
   ]
  },
  {
   "cell_type": "code",
   "execution_count": 42,
   "metadata": {},
   "outputs": [
    {
     "data": {
      "text/plain": [
       "open-end_line_of_credit\n",
       "2    516193\n",
       "1     79203\n",
       "Name: count, dtype: int64"
      ]
     },
     "metadata": {},
     "output_type": "display_data"
    },
    {
     "data": {
      "text/plain": [
       "open-end_line_of_credit\n",
       "No     516193\n",
       "Yes     79203\n",
       "Name: count, dtype: int64"
      ]
     },
     "metadata": {},
     "output_type": "display_data"
    }
   ],
   "source": [
    "display(df[\"open-end_line_of_credit\"].value_counts(dropna=False))\n",
    "df[\"open-end_line_of_credit\"] = df[\"open-end_line_of_credit\"].map({1: \"Yes\", 2: \"No\"})\n",
    "display(df[\"open-end_line_of_credit\"].value_counts(dropna=False))"
   ]
  },
  {
   "cell_type": "markdown",
   "metadata": {},
   "source": [
    "##### `hoepa_status`"
   ]
  },
  {
   "cell_type": "code",
   "execution_count": 43,
   "metadata": {},
   "outputs": [
    {
     "data": {
      "text/plain": [
       "hoepa_status\n",
       "No                466500\n",
       "not_applicable    128748\n",
       "High-cost            148\n",
       "Name: count, dtype: int64"
      ]
     },
     "metadata": {},
     "output_type": "display_data"
    }
   ],
   "source": [
    "# Description: Whether the covered loan is a high-cost mortgage\n",
    "# Values:\n",
    "# 1 - High-cost mortgage\n",
    "# 2 - Not a high-cost mortgage\n",
    "# 3 - Not applicable\n",
    "df[\"hoepa_status\"] = df[\"hoepa_status\"].map(\n",
    "    {\n",
    "        1: \"High-cost\",\n",
    "        2: \"No\",\n",
    "        3: \"not_applicable\",\n",
    "    }\n",
    ")\n",
    "display(df[\"hoepa_status\"].value_counts(dropna=False))"
   ]
  },
  {
   "cell_type": "code",
   "execution_count": 44,
   "metadata": {},
   "outputs": [
    {
     "data": {
      "text/plain": [
       "hoepa_status\n",
       "No                466500\n",
       "not_applicable    128748\n",
       "Name: count, dtype: int64"
      ]
     },
     "metadata": {},
     "output_type": "display_data"
    }
   ],
   "source": [
    "# dropping high-cost\n",
    "df = df[df[\"hoepa_status\"] != \"High-cost\"]\n",
    "display(df[\"hoepa_status\"].value_counts(dropna=False))"
   ]
  },
  {
   "cell_type": "markdown",
   "metadata": {},
   "source": [
    "##### `reverse_mortgage`"
   ]
  },
  {
   "cell_type": "code",
   "execution_count": 45,
   "metadata": {},
   "outputs": [
    {
     "data": {
      "text/plain": [
       "reverse_mortgage\n",
       "2       590715\n",
       "1         4532\n",
       "1111         1\n",
       "Name: count, dtype: int64"
      ]
     },
     "metadata": {},
     "output_type": "display_data"
    }
   ],
   "source": [
    "display(df[\"reverse_mortgage\"].value_counts(dropna=False))\n",
    "# dropping this column\n",
    "df = df.drop(\"reverse_mortgage\", axis=1)"
   ]
  },
  {
   "cell_type": "markdown",
   "metadata": {},
   "source": [
    "##### `interest_only_payment`"
   ]
  },
  {
   "cell_type": "code",
   "execution_count": 46,
   "metadata": {},
   "outputs": [
    {
     "data": {
      "text/plain": [
       "interest_only_payment\n",
       "2       548310\n",
       "1        46195\n",
       "1111       743\n",
       "Name: count, dtype: int64"
      ]
     },
     "metadata": {},
     "output_type": "display_data"
    }
   ],
   "source": [
    "display(df[\"interest_only_payment\"].value_counts(dropna=False))\n",
    "df[\"interest_only_payment\"] = df[\"interest_only_payment\"].map({1: \"Yes\", 2: \"No\"})\n",
    "df = df.dropna(axis=0, subset=\"interest_only_payment\")  # dropping Exempt (1111)"
   ]
  },
  {
   "cell_type": "markdown",
   "metadata": {},
   "source": [
    "##### `balloon_payment`"
   ]
  },
  {
   "cell_type": "code",
   "execution_count": 47,
   "metadata": {},
   "outputs": [
    {
     "data": {
      "text/plain": [
       "balloon_payment\n",
       "2    593527\n",
       "1       978\n",
       "Name: count, dtype: int64"
      ]
     },
     "metadata": {},
     "output_type": "display_data"
    }
   ],
   "source": [
    "display(df[\"balloon_payment\"].value_counts())\n",
    "df = df.drop(\"balloon_payment\", axis=1)  # dropping"
   ]
  },
  {
   "cell_type": "markdown",
   "metadata": {},
   "source": [
    "##### `occupancy_type`"
   ]
  },
  {
   "cell_type": "code",
   "execution_count": 48,
   "metadata": {},
   "outputs": [
    {
     "data": {
      "text/plain": [
       "occupancy_type\n",
       "1    549686\n",
       "3     40242\n",
       "2      4577\n",
       "Name: count, dtype: int64"
      ]
     },
     "metadata": {},
     "output_type": "display_data"
    }
   ],
   "source": [
    "display(df[\"occupancy_type\"].value_counts())\n",
    "df[\"occupancy_type\"] = df[\"occupancy_type\"].map(\n",
    "    {1: \"Main residence\", 2: \"Second residence\", 3: \"Investment property\"}\n",
    ")"
   ]
  },
  {
   "cell_type": "markdown",
   "metadata": {},
   "source": [
    "### Check-point: check null values\n",
    "\n",
    "Here I check the columns for how many null values they have to decide what will be done."
   ]
  },
  {
   "cell_type": "code",
   "execution_count": 49,
   "metadata": {},
   "outputs": [
    {
     "name": "stdout",
     "output_type": "stream",
     "text": [
      "loan_to_value_ratio 18730\n",
      "interest_rate 90644\n",
      "rate_spread 118812\n",
      "total_loan_costs 164452\n",
      "total_points_and_fees 591806\n",
      "origination_charges 162956\n",
      "discount_points 460143\n",
      "lender_credits 381418\n",
      "loan_term 5633\n",
      "prepayment_penalty_term 564863\n",
      "intro_rate_period 465413\n",
      "property_value 11191\n",
      "multifamily_affordable_units 594505\n",
      "income 19236\n",
      "debt_to_income_ratio 25044\n",
      "co-applicant_age_above_62 296818\n"
     ]
    }
   ],
   "source": [
    "for col in df.columns:\n",
    "    is_null = df[col].isnull().sum()\n",
    "    if is_null > 0:\n",
    "        print(col, is_null)"
   ]
  },
  {
   "cell_type": "markdown",
   "metadata": {},
   "source": [
    "The features that have a lot of missing values and cannot be rebuilt will be dropped."
   ]
  },
  {
   "cell_type": "code",
   "execution_count": 50,
   "metadata": {},
   "outputs": [],
   "source": [
    "df = df.drop(\n",
    "    [\n",
    "        \"total_loan_costs\",\n",
    "        \"total_points_and_fees\",\n",
    "        \"origination_charges\",\n",
    "        \"discount_points\",\n",
    "        \"lender_credits\",\n",
    "        \"prepayment_penalty_term\",\n",
    "        \"intro_rate_period\",\n",
    "        \"multifamily_affordable_units\",\n",
    "        \"co-applicant_age_above_62\",\n",
    "        \"interest_rate\",\n",
    "        \"rate_spread\",\n",
    "    ],\n",
    "    axis=1,\n",
    "    errors=\"ignore\",\n",
    ")"
   ]
  },
  {
   "cell_type": "code",
   "execution_count": 51,
   "metadata": {},
   "outputs": [
    {
     "name": "stdout",
     "output_type": "stream",
     "text": [
      "loan_to_value_ratio 18730\n",
      "loan_term 5633\n",
      "property_value 11191\n",
      "income 19236\n",
      "debt_to_income_ratio 25044\n"
     ]
    }
   ],
   "source": [
    "for col in df.columns:\n",
    "    is_null = df[col].isnull().sum()\n",
    "    if is_null > 0:\n",
    "        print(col, is_null)"
   ]
  },
  {
   "cell_type": "markdown",
   "metadata": {},
   "source": [
    "The features `loan_term`, `property_value` and `income` are important, so all rows with null values will be dropped."
   ]
  },
  {
   "cell_type": "code",
   "execution_count": 52,
   "metadata": {},
   "outputs": [
    {
     "name": "stdout",
     "output_type": "stream",
     "text": [
      "loan_to_value_ratio 2156\n",
      "debt_to_income_ratio 2903\n"
     ]
    }
   ],
   "source": [
    "df = df.dropna(axis=0, subset=[\"loan_term\", \"property_value\", \"income\"])\n",
    "\n",
    "for col in df.columns:\n",
    "    is_null = df[col].isnull().sum()\n",
    "    if is_null > 0:\n",
    "        print(col, is_null)"
   ]
  },
  {
   "cell_type": "markdown",
   "metadata": {},
   "source": [
    "Finally, I will drop the remaining rows with null values:"
   ]
  },
  {
   "cell_type": "code",
   "execution_count": 53,
   "metadata": {},
   "outputs": [
    {
     "name": "stdout",
     "output_type": "stream",
     "text": [
      "loan_to_value_ratio 2156\n",
      "debt_to_income_ratio 2903\n"
     ]
    }
   ],
   "source": [
    "for col in df.columns:\n",
    "    is_null = df[col].isnull().sum()\n",
    "    if is_null > 0:\n",
    "        print(col, is_null)"
   ]
  },
  {
   "cell_type": "code",
   "execution_count": 54,
   "metadata": {},
   "outputs": [],
   "source": [
    "df = df.dropna()"
   ]
  },
  {
   "cell_type": "code",
   "execution_count": 55,
   "metadata": {},
   "outputs": [
    {
     "name": "stdout",
     "output_type": "stream",
     "text": [
      "(558161, 37)\n"
     ]
    }
   ],
   "source": [
    "print(df.shape)\n",
    "for col in df.columns:\n",
    "    is_null = df[col].isnull().sum()\n",
    "    if is_null > 0:\n",
    "        print(col, is_null)"
   ]
  },
  {
   "cell_type": "markdown",
   "metadata": {},
   "source": [
    "### More transformations and filters"
   ]
  },
  {
   "cell_type": "markdown",
   "metadata": {},
   "source": [
    "#### `loan_term`\n",
    "\n",
    "- converting from months to years"
   ]
  },
  {
   "cell_type": "code",
   "execution_count": 56,
   "metadata": {},
   "outputs": [],
   "source": [
    "df[\"loan_term\"] = pd.to_numeric(df[\"loan_term\"]) / 12"
   ]
  },
  {
   "cell_type": "markdown",
   "metadata": {},
   "source": [
    "#### `loan_amount`\n",
    "\n",
    "- limiting from 10k to 3kk USD"
   ]
  },
  {
   "cell_type": "code",
   "execution_count": 57,
   "metadata": {},
   "outputs": [
    {
     "data": {
      "image/png": "[encoded data removed]",
      "text/plain": [
       "<Figure size 400x300 with 1 Axes>"
      ]
     },
     "metadata": {},
     "output_type": "display_data"
    }
   ],
   "source": [
    "f, ax = plt.subplots(figsize=(4, 3))\n",
    "df[(df[\"loan_amount\"] > 1e4) & (df[\"loan_amount\"] < 3e6)][\"loan_amount\"].hist(\n",
    "    bins=100, ax=ax\n",
    ")\n",
    "plt.ylabel(\"Count\")\n",
    "plt.xlabel(\"Loan amount (millions of USD)\")\n",
    "plt.title(\"Distribution of loan amounts\")\n",
    "plt.show()"
   ]
  },
  {
   "cell_type": "code",
   "execution_count": 58,
   "metadata": {},
   "outputs": [],
   "source": [
    "df = df[(df[\"loan_amount\"] > 1e4) & (df[\"loan_amount\"] < 2e6)]"
   ]
  },
  {
   "cell_type": "markdown",
   "metadata": {},
   "source": [
    "#### `property_value`\n",
    "\n",
    "- above 100k and below 4kk USD"
   ]
  },
  {
   "cell_type": "code",
   "execution_count": 59,
   "metadata": {},
   "outputs": [],
   "source": [
    "df[\"property_value\"] = pd.to_numeric(df[\"property_value\"])"
   ]
  },
  {
   "cell_type": "code",
   "execution_count": 60,
   "metadata": {},
   "outputs": [
    {
     "data": {
      "image/png": "[encoded data removed]",
      "text/plain": [
       "<Figure size 400x300 with 1 Axes>"
      ]
     },
     "metadata": {},
     "output_type": "display_data"
    }
   ],
   "source": [
    "f, ax = plt.subplots(figsize=(4, 3))\n",
    "df[(df[\"property_value\"] >= 100e3) & (df[\"property_value\"] < 4e6)][\n",
    "    \"property_value\"\n",
    "].hist(bins=100, ax=ax)\n",
    "plt.ylabel(\"Count\")\n",
    "plt.xlabel(\"Property value (millions of USD)\")\n",
    "plt.title(\"Distribution of property values\")\n",
    "plt.show()"
   ]
  },
  {
   "cell_type": "code",
   "execution_count": 61,
   "metadata": {},
   "outputs": [],
   "source": [
    "df = df[(df[\"property_value\"] >= 100e3) & (df[\"property_value\"] < 4e6)]"
   ]
  },
  {
   "cell_type": "markdown",
   "metadata": {},
   "source": [
    "#### `income`\n",
    "\n",
    "- convert to millions of USD\n",
    "- limiting from above 10k USD and below 2kk USD"
   ]
  },
  {
   "cell_type": "code",
   "execution_count": 62,
   "metadata": {},
   "outputs": [],
   "source": [
    "df[\"income\"] *= 1000"
   ]
  },
  {
   "cell_type": "code",
   "execution_count": 63,
   "metadata": {},
   "outputs": [
    {
     "data": {
      "image/png": "[encoded data removed]",
      "text/plain": [
       "<Figure size 400x300 with 1 Axes>"
      ]
     },
     "metadata": {},
     "output_type": "display_data"
    }
   ],
   "source": [
    "f, ax = plt.subplots(figsize=(4, 3))\n",
    "df[(df[\"income\"] > 10e3) & (df[\"income\"] < 2e6)][\"income\"].hist(bins=100, ax=ax)\n",
    "plt.ylabel(\"Count\")\n",
    "plt.xlabel(\"Income (millions of USD)\")\n",
    "plt.title(\"Distribution of incomes\")\n",
    "plt.show()"
   ]
  },
  {
   "cell_type": "code",
   "execution_count": 64,
   "metadata": {},
   "outputs": [],
   "source": [
    "df = df[(df[\"income\"] > 10e3) & (df[\"income\"] < 1e6)]"
   ]
  },
  {
   "cell_type": "markdown",
   "metadata": {},
   "source": [
    "#### `loan_to_value_ratio`"
   ]
  },
  {
   "cell_type": "code",
   "execution_count": 65,
   "metadata": {},
   "outputs": [
    {
     "data": {
      "image/png": "[encoded data removed]",
      "text/plain": [
       "<Figure size 400x300 with 1 Axes>"
      ]
     },
     "metadata": {},
     "output_type": "display_data"
    }
   ],
   "source": [
    "df[\"loan_to_value_ratio\"] = pd.to_numeric(df[\"loan_to_value_ratio\"])\n",
    "df = df[df[\"loan_to_value_ratio\"] <= 100.0]  # almost all values are <100%\n",
    "\n",
    "f, ax = plt.subplots(figsize=(4, 3))\n",
    "df[\"loan_to_value_ratio\"].hist(bins=100, ax=ax)\n",
    "plt.show()"
   ]
  },
  {
   "cell_type": "markdown",
   "metadata": {},
   "source": [
    "#### `debt_to_income_ratio`"
   ]
  },
  {
   "cell_type": "code",
   "execution_count": 66,
   "metadata": {},
   "outputs": [],
   "source": [
    "df['debt_to_income_ratio'] = df['debt_to_income_ratio'].replace({\n",
    "    '<20%': 18,\n",
    "    '20%-<30%': 25,\n",
    "    '30%-<36%': 33,\n",
    "    '50%-60%': 55,\n",
    "    '>60%': 70,\n",
    "}).apply(lambda x: float(x)/100)"
   ]
  },
  {
   "cell_type": "markdown",
   "metadata": {},
   "source": [
    "#### `debt_to_income_ratio_df`"
   ]
  },
  {
   "cell_type": "code",
   "execution_count": 67,
   "metadata": {},
   "outputs": [
    {
     "data": {
      "text/plain": [
       "debt_to_income_ratio_df\n",
       "(-7.07e-05, 0.15]    400985\n",
       "(0.15, 0.3]          139424\n",
       "(0.3, 0.45]            4292\n",
       "(0.45, 0.599]          1068\n",
       "Name: count, dtype: int64"
      ]
     },
     "metadata": {},
     "output_type": "display_data"
    },
    {
     "data": {
      "text/plain": [
       "debt_to_income_ratio_df\n",
       "(-0.000472, 0.077]    136470\n",
       "(0.077, 0.115]        136494\n",
       "(0.115, 0.153]        136386\n",
       "(0.153, 0.599]        136419\n",
       "Name: count, dtype: int64"
      ]
     },
     "metadata": {},
     "output_type": "display_data"
    },
    {
     "data": {
      "image/png": "[encoded data removed]",
      "text/plain": [
       "<Figure size 400x300 with 1 Axes>"
      ]
     },
     "metadata": {},
     "output_type": "display_data"
    }
   ],
   "source": [
    "# Defining with the values of the dataset\n",
    "df[\"debt_to_income_ratio_df\"] = (df[\"loan_amount\"] / (df[\"loan_term\"])) / df[\"income\"]\n",
    "\n",
    "test_cuts(df, \"debt_to_income_ratio_df\", 0.6, n=4)\n",
    "\n",
    "f, ax = plt.subplots(figsize=(4, 3))\n",
    "df[df[\"debt_to_income_ratio_df\"] <= 0.6][\"debt_to_income_ratio_df\"].hist(bins=100, ax=ax)\n",
    "plt.show()"
   ]
  },
  {
   "cell_type": "code",
   "execution_count": 68,
   "metadata": {},
   "outputs": [],
   "source": [
    "# Removing very large values\n",
    "df = df[df[\"debt_to_income_ratio_df\"] < 0.5]"
   ]
  },
  {
   "cell_type": "markdown",
   "metadata": {},
   "source": [
    "#### tract features"
   ]
  },
  {
   "cell_type": "code",
   "execution_count": 69,
   "metadata": {},
   "outputs": [],
   "source": [
    "df = df[(df[\"tract_population\"] > 0) & (df[\"tract_population\"] < 30000)]\n",
    "df[\"tract_population\"] = pd.to_numeric(df[\"tract_population\"])\n",
    "\n",
    "df = df[df[\"tract_to_msa_income_percentage\"] > 0]\n",
    "\n",
    "df[\"tract_median_age_of_housing_units\"] = pd.to_numeric(\n",
    "    df[\"tract_median_age_of_housing_units\"]\n",
    ")\n",
    "df[\"tract_median_age_of_housing_units\"] = (\n",
    "    df[\"tract_median_age_of_housing_units\"].astype(float) / 10\n",
    ").astype(int)\n",
    "\n",
    "for c in [x for x in df.columns if x.startswith(\"tract\") or x.startswith(\"ffiec\")]:\n",
    "    df[c] = pd.to_numeric(df[c]).astype(float)"
   ]
  },
  {
   "cell_type": "markdown",
   "metadata": {},
   "source": [
    "## Exporting pre-processed data"
   ]
  },
  {
   "cell_type": "code",
   "execution_count": 70,
   "metadata": {},
   "outputs": [],
   "source": [
    "order = {np.dtype(\"float64\"): 0, np.dtype(\"object\"): 1}\n",
    "df = df[df.dtypes.map(order).sort_values().index]"
   ]
  },
  {
   "cell_type": "code",
   "execution_count": 71,
   "metadata": {},
   "outputs": [
    {
     "name": "stdout",
     "output_type": "stream",
     "text": [
      "<class 'pandas.core.frame.DataFrame'>\n",
      "Index: 544844 entries, 0 to 616367\n",
      "Data columns (total 38 columns):\n",
      " #   Column                             Non-Null Count   Dtype  \n",
      "---  ------                             --------------   -----  \n",
      " 0   debt_to_income_ratio_df            544844 non-null  float64\n",
      " 1   property_value                     544844 non-null  float64\n",
      " 2   loan_term                          544844 non-null  float64\n",
      " 3   loan_to_value_ratio                544844 non-null  float64\n",
      " 4   loan_amount                        544844 non-null  float64\n",
      " 5   income                             544844 non-null  float64\n",
      " 6   tract_minority_population_percent  544844 non-null  float64\n",
      " 7   tract_to_msa_income_percentage     544844 non-null  float64\n",
      " 8   tract_population                   544844 non-null  float64\n",
      " 9   tract_one_to_four_family_homes     544844 non-null  float64\n",
      " 10  tract_median_age_of_housing_units  544844 non-null  float64\n",
      " 11  tract_owner_occupied_units         544844 non-null  float64\n",
      " 12  debt_to_income_ratio               544844 non-null  float64\n",
      " 13  applicant_age_above_62             544844 non-null  object \n",
      " 14  denial_reason                      544844 non-null  object \n",
      " 15  applicant_race                     544844 non-null  object \n",
      " 16  coapplicant_age                    544844 non-null  object \n",
      " 17  coapplicant_race                   544844 non-null  object \n",
      " 18  applicant_age                      544844 non-null  object \n",
      " 19  applicant_ethnicity                544844 non-null  object \n",
      " 20  coapplicant_sex                    544844 non-null  object \n",
      " 21  conforming_loan_limit              544844 non-null  object \n",
      " 22  coapplicant_ethnicity              544844 non-null  object \n",
      " 23  interest_only_payment              544844 non-null  object \n",
      " 24  hoepa_status                       544844 non-null  object \n",
      " 25  business_or_commercial_purpose     544844 non-null  object \n",
      " 26  open-end_line_of_credit            544844 non-null  object \n",
      " 27  lien_status                        544844 non-null  object \n",
      " 28  loan_purpose                       544844 non-null  object \n",
      " 29  loan_type                          544844 non-null  object \n",
      " 30  purchaser_type                     544844 non-null  object \n",
      " 31  application_outcome                544844 non-null  object \n",
      " 32  derived_sex                        544844 non-null  object \n",
      " 33  derived_race                       544844 non-null  object \n",
      " 34  derived_ethnicity                  544844 non-null  object \n",
      " 35  derived_loan_product_type          544844 non-null  object \n",
      " 36  applicant_sex                      544844 non-null  object \n",
      " 37  occupancy_type                     544844 non-null  object \n",
      "dtypes: float64(13), object(25)\n",
      "memory usage: 162.1+ MB\n"
     ]
    }
   ],
   "source": [
    "df.info()"
   ]
  },
  {
   "cell_type": "code",
   "execution_count": 72,
   "metadata": {},
   "outputs": [
    {
     "data": {
      "text/plain": [
       "application_outcome\n",
       "Approved    0.862342\n",
       "Denied      0.137658\n",
       "Name: proportion, dtype: float64"
      ]
     },
     "execution_count": 72,
     "metadata": {},
     "output_type": "execute_result"
    }
   ],
   "source": [
    "df[\"application_outcome\"].value_counts(normalize=True)"
   ]
  },
  {
   "cell_type": "code",
   "execution_count": 73,
   "metadata": {},
   "outputs": [],
   "source": [
    "df.reset_index(drop=True).to_csv(f\"../../{filename_output}.csv\")"
   ]
  }
 ],
 "metadata": {
  "kernelspec": {
   "display_name": ".venv",
   "language": "python",
   "name": "python3"
  },
  "language_info": {
   "codemirror_mode": {
    "name": "ipython",
    "version": 3
   },
   "file_extension": ".py",
   "mimetype": "text/x-python",
   "name": "python",
   "nbconvert_exporter": "python",
   "pygments_lexer": "ipython3",
   "version": "3.11.2"
  }
 },
 "nbformat": 4,
 "nbformat_minor": 2
}
