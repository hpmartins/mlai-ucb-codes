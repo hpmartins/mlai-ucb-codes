{
 "cells": [
  {
   "cell_type": "markdown",
   "metadata": {},
   "source": [
    "# Home Loan Approval/Denial: Models, part C: Neural Network"
   ]
  },
  {
   "cell_type": "markdown",
   "metadata": {},
   "source": [
    "#### Imports"
   ]
  },
  {
   "cell_type": "code",
   "execution_count": 1,
   "metadata": {},
   "outputs": [],
   "source": [
    "import pandas as pd\n",
    "import numpy as np\n",
    "import matplotlib.pyplot as plt\n",
    "import seaborn as sns"
   ]
  },
  {
   "cell_type": "code",
   "execution_count": 2,
   "metadata": {},
   "outputs": [
    {
     "name": "stderr",
     "output_type": "stream",
     "text": [
      "2024-07-30 19:49:37.726109: I tensorflow/core/util/port.cc:153] oneDNN custom operations are on. You may see slightly different numerical results due to floating-point round-off errors from different computation orders. To turn them off, set the environment variable `TF_ENABLE_ONEDNN_OPTS=0`.\n",
      "2024-07-30 19:49:37.726923: I external/local_xla/xla/tsl/cuda/cudart_stub.cc:32] Could not find cuda drivers on your machine, GPU will not be used.\n",
      "2024-07-30 19:49:37.729752: I external/local_xla/xla/tsl/cuda/cudart_stub.cc:32] Could not find cuda drivers on your machine, GPU will not be used.\n",
      "2024-07-30 19:49:37.738570: E external/local_xla/xla/stream_executor/cuda/cuda_fft.cc:485] Unable to register cuFFT factory: Attempting to register factory for plugin cuFFT when one has already been registered\n",
      "2024-07-30 19:49:37.753238: E external/local_xla/xla/stream_executor/cuda/cuda_dnn.cc:8454] Unable to register cuDNN factory: Attempting to register factory for plugin cuDNN when one has already been registered\n",
      "2024-07-30 19:49:37.757404: E external/local_xla/xla/stream_executor/cuda/cuda_blas.cc:1452] Unable to register cuBLAS factory: Attempting to register factory for plugin cuBLAS when one has already been registered\n",
      "2024-07-30 19:49:37.768342: I tensorflow/core/platform/cpu_feature_guard.cc:210] This TensorFlow binary is optimized to use available CPU instructions in performance-critical operations.\n",
      "To enable the following instructions: AVX2 AVX_VNNI FMA, in other operations, rebuild TensorFlow with the appropriate compiler flags.\n",
      "2024-07-30 19:49:38.628886: W tensorflow/compiler/tf2tensorrt/utils/py_utils.cc:38] TF-TRT Warning: Could not find TensorRT\n"
     ]
    }
   ],
   "source": [
    "from sklearn.metrics import classification_report\n",
    "from keras import models, layers, callbacks, losses, metrics\n",
    "\n",
    "from sklearn import set_config\n",
    "\n",
    "set_config(display=\"diagram\")"
   ]
  },
  {
   "cell_type": "code",
   "execution_count": 3,
   "metadata": {},
   "outputs": [],
   "source": [
    "# Local functions\n",
    "from modeling_preparation import get_X_y, refit_strategy"
   ]
  },
  {
   "cell_type": "markdown",
   "metadata": {},
   "source": [
    "#### Auxiliary variables"
   ]
  },
  {
   "cell_type": "code",
   "execution_count": 4,
   "metadata": {},
   "outputs": [],
   "source": [
    "filename_input = \"data-hdma-eastbay-2019-2022-processed\""
   ]
  },
  {
   "cell_type": "markdown",
   "metadata": {},
   "source": [
    "## Loading the processed data"
   ]
  },
  {
   "cell_type": "code",
   "execution_count": 5,
   "metadata": {},
   "outputs": [],
   "source": [
    "X_train, X_test, y_train, y_test = get_X_y(filename_input, ohe_transform=True)\n",
    "\n",
    "for col in list(X_train.select_dtypes(include=object).columns):\n",
    "    X_train[col] = X_train[col].astype(\"category\")\n",
    "    X_test[col] = X_test[col].astype(\"category\")"
   ]
  },
  {
   "cell_type": "markdown",
   "metadata": {},
   "source": [
    "## Neural Network"
   ]
  },
  {
   "cell_type": "code",
   "execution_count": 6,
   "metadata": {},
   "outputs": [
    {
     "data": {
      "text/html": [
       "<pre style=\"white-space:pre;overflow-x:auto;line-height:normal;font-family:Menlo,'DejaVu Sans Mono',consolas,'Courier New',monospace\"><span style=\"font-weight: bold\">Model: \"sequential\"</span>\n",
       "</pre>\n"
      ],
      "text/plain": [
       "\u001b[1mModel: \"sequential\"\u001b[0m\n"
      ]
     },
     "metadata": {},
     "output_type": "display_data"
    },
    {
     "data": {
      "text/html": [
       "<pre style=\"white-space:pre;overflow-x:auto;line-height:normal;font-family:Menlo,'DejaVu Sans Mono',consolas,'Courier New',monospace\">┏━━━━━━━━━━━━━━━━━━━━━━━━━━━━━━━━━┳━━━━━━━━━━━━━━━━━━━━━━━━┳━━━━━━━━━━━━━━━┓\n",
       "┃<span style=\"font-weight: bold\"> Layer (type)                    </span>┃<span style=\"font-weight: bold\"> Output Shape           </span>┃<span style=\"font-weight: bold\">       Param # </span>┃\n",
       "┡━━━━━━━━━━━━━━━━━━━━━━━━━━━━━━━━━╇━━━━━━━━━━━━━━━━━━━━━━━━╇━━━━━━━━━━━━━━━┩\n",
       "│ dense (<span style=\"color: #0087ff; text-decoration-color: #0087ff\">Dense</span>)                   │ ?                      │   <span style=\"color: #00af00; text-decoration-color: #00af00\">0</span> (unbuilt) │\n",
       "├─────────────────────────────────┼────────────────────────┼───────────────┤\n",
       "│ dropout (<span style=\"color: #0087ff; text-decoration-color: #0087ff\">Dropout</span>)               │ ?                      │   <span style=\"color: #00af00; text-decoration-color: #00af00\">0</span> (unbuilt) │\n",
       "├─────────────────────────────────┼────────────────────────┼───────────────┤\n",
       "│ dense_1 (<span style=\"color: #0087ff; text-decoration-color: #0087ff\">Dense</span>)                 │ ?                      │   <span style=\"color: #00af00; text-decoration-color: #00af00\">0</span> (unbuilt) │\n",
       "└─────────────────────────────────┴────────────────────────┴───────────────┘\n",
       "</pre>\n"
      ],
      "text/plain": [
       "┏━━━━━━━━━━━━━━━━━━━━━━━━━━━━━━━━━┳━━━━━━━━━━━━━━━━━━━━━━━━┳━━━━━━━━━━━━━━━┓\n",
       "┃\u001b[1m \u001b[0m\u001b[1mLayer (type)                   \u001b[0m\u001b[1m \u001b[0m┃\u001b[1m \u001b[0m\u001b[1mOutput Shape          \u001b[0m\u001b[1m \u001b[0m┃\u001b[1m \u001b[0m\u001b[1m      Param #\u001b[0m\u001b[1m \u001b[0m┃\n",
       "┡━━━━━━━━━━━━━━━━━━━━━━━━━━━━━━━━━╇━━━━━━━━━━━━━━━━━━━━━━━━╇━━━━━━━━━━━━━━━┩\n",
       "│ dense (\u001b[38;5;33mDense\u001b[0m)                   │ ?                      │   \u001b[38;5;34m0\u001b[0m (unbuilt) │\n",
       "├─────────────────────────────────┼────────────────────────┼───────────────┤\n",
       "│ dropout (\u001b[38;5;33mDropout\u001b[0m)               │ ?                      │   \u001b[38;5;34m0\u001b[0m (unbuilt) │\n",
       "├─────────────────────────────────┼────────────────────────┼───────────────┤\n",
       "│ dense_1 (\u001b[38;5;33mDense\u001b[0m)                 │ ?                      │   \u001b[38;5;34m0\u001b[0m (unbuilt) │\n",
       "└─────────────────────────────────┴────────────────────────┴───────────────┘\n"
      ]
     },
     "metadata": {},
     "output_type": "display_data"
    },
    {
     "data": {
      "text/html": [
       "<pre style=\"white-space:pre;overflow-x:auto;line-height:normal;font-family:Menlo,'DejaVu Sans Mono',consolas,'Courier New',monospace\"><span style=\"font-weight: bold\"> Total params: </span><span style=\"color: #00af00; text-decoration-color: #00af00\">0</span> (0.00 B)\n",
       "</pre>\n"
      ],
      "text/plain": [
       "\u001b[1m Total params: \u001b[0m\u001b[38;5;34m0\u001b[0m (0.00 B)\n"
      ]
     },
     "metadata": {},
     "output_type": "display_data"
    },
    {
     "data": {
      "text/html": [
       "<pre style=\"white-space:pre;overflow-x:auto;line-height:normal;font-family:Menlo,'DejaVu Sans Mono',consolas,'Courier New',monospace\"><span style=\"font-weight: bold\"> Trainable params: </span><span style=\"color: #00af00; text-decoration-color: #00af00\">0</span> (0.00 B)\n",
       "</pre>\n"
      ],
      "text/plain": [
       "\u001b[1m Trainable params: \u001b[0m\u001b[38;5;34m0\u001b[0m (0.00 B)\n"
      ]
     },
     "metadata": {},
     "output_type": "display_data"
    },
    {
     "data": {
      "text/html": [
       "<pre style=\"white-space:pre;overflow-x:auto;line-height:normal;font-family:Menlo,'DejaVu Sans Mono',consolas,'Courier New',monospace\"><span style=\"font-weight: bold\"> Non-trainable params: </span><span style=\"color: #00af00; text-decoration-color: #00af00\">0</span> (0.00 B)\n",
       "</pre>\n"
      ],
      "text/plain": [
       "\u001b[1m Non-trainable params: \u001b[0m\u001b[38;5;34m0\u001b[0m (0.00 B)\n"
      ]
     },
     "metadata": {},
     "output_type": "display_data"
    }
   ],
   "source": [
    "model = models.Sequential(\n",
    "    [\n",
    "        layers.Dense(100, activation=\"relu\"),\n",
    "        layers.Dropout(0.1),\n",
    "        layers.Dense(1, activation=\"sigmoid\"),\n",
    "    ]\n",
    ")\n",
    "\n",
    "model.compile(\n",
    "    optimizer=\"adam\",\n",
    "    loss=losses.BinaryFocalCrossentropy(\n",
    "        # apply_class_balancing=False,\n",
    "        alpha=0.35,\n",
    "        name=\"binary_focal_crossentropy\",\n",
    "    ),\n",
    "    metrics=[\"acc\", \"precision\", \"recall\", metrics.AUC(curve=\"PR\")],\n",
    ")\n",
    "model.summary()"
   ]
  },
  {
   "cell_type": "code",
   "execution_count": 7,
   "metadata": {},
   "outputs": [
    {
     "name": "stdout",
     "output_type": "stream",
     "text": [
      "Epoch 1/100\n",
      "\u001b[1m300/300\u001b[0m \u001b[32m━━━━━━━━━━━━━━━━━━━━\u001b[0m\u001b[37m\u001b[0m \u001b[1m2s\u001b[0m 3ms/step - acc: 0.7375 - auc: 0.8371 - loss: 0.1354 - precision: 0.7624 - recall: 0.8715 - val_acc: 0.7918 - val_auc: 0.8851 - val_loss: 0.1167 - val_precision: 0.7845 - val_recall: 0.9424\n",
      "Epoch 2/100\n",
      "\u001b[1m300/300\u001b[0m \u001b[32m━━━━━━━━━━━━━━━━━━━━\u001b[0m\u001b[37m\u001b[0m \u001b[1m1s\u001b[0m 2ms/step - acc: 0.7849 - auc: 0.8769 - loss: 0.1198 - precision: 0.7849 - recall: 0.9268 - val_acc: 0.7950 - val_auc: 0.8890 - val_loss: 0.1153 - val_precision: 0.7879 - val_recall: 0.9421\n",
      "Epoch 3/100\n",
      "\u001b[1m300/300\u001b[0m \u001b[32m━━━━━━━━━━━━━━━━━━━━\u001b[0m\u001b[37m\u001b[0m \u001b[1m1s\u001b[0m 3ms/step - acc: 0.7923 - auc: 0.8826 - loss: 0.1174 - precision: 0.7894 - recall: 0.9338 - val_acc: 0.7968 - val_auc: 0.8903 - val_loss: 0.1148 - val_precision: 0.7870 - val_recall: 0.9476\n",
      "Epoch 4/100\n",
      "\u001b[1m300/300\u001b[0m \u001b[32m━━━━━━━━━━━━━━━━━━━━\u001b[0m\u001b[37m\u001b[0m \u001b[1m1s\u001b[0m 2ms/step - acc: 0.7930 - auc: 0.8846 - loss: 0.1169 - precision: 0.7898 - recall: 0.9339 - val_acc: 0.7977 - val_auc: 0.8911 - val_loss: 0.1143 - val_precision: 0.7938 - val_recall: 0.9355\n",
      "Epoch 5/100\n",
      "\u001b[1m300/300\u001b[0m \u001b[32m━━━━━━━━━━━━━━━━━━━━\u001b[0m\u001b[37m\u001b[0m \u001b[1m1s\u001b[0m 2ms/step - acc: 0.7921 - auc: 0.8843 - loss: 0.1170 - precision: 0.7899 - recall: 0.9311 - val_acc: 0.7995 - val_auc: 0.8922 - val_loss: 0.1140 - val_precision: 0.7925 - val_recall: 0.9420\n",
      "Epoch 6/100\n",
      "\u001b[1m300/300\u001b[0m \u001b[32m━━━━━━━━━━━━━━━━━━━━\u001b[0m\u001b[37m\u001b[0m \u001b[1m1s\u001b[0m 2ms/step - acc: 0.7946 - auc: 0.8858 - loss: 0.1160 - precision: 0.7923 - recall: 0.9324 - val_acc: 0.7999 - val_auc: 0.8925 - val_loss: 0.1139 - val_precision: 0.7946 - val_recall: 0.9384\n",
      "Epoch 7/100\n",
      "\u001b[1m300/300\u001b[0m \u001b[32m━━━━━━━━━━━━━━━━━━━━\u001b[0m\u001b[37m\u001b[0m \u001b[1m1s\u001b[0m 2ms/step - acc: 0.7945 - auc: 0.8854 - loss: 0.1162 - precision: 0.7912 - recall: 0.9334 - val_acc: 0.7986 - val_auc: 0.8930 - val_loss: 0.1136 - val_precision: 0.7962 - val_recall: 0.9327\n",
      "Epoch 8/100\n",
      "\u001b[1m300/300\u001b[0m \u001b[32m━━━━━━━━━━━━━━━━━━━━\u001b[0m\u001b[37m\u001b[0m \u001b[1m1s\u001b[0m 2ms/step - acc: 0.7950 - auc: 0.8867 - loss: 0.1161 - precision: 0.7919 - recall: 0.9339 - val_acc: 0.8004 - val_auc: 0.8930 - val_loss: 0.1135 - val_precision: 0.7913 - val_recall: 0.9462\n",
      "Epoch 9/100\n",
      "\u001b[1m300/300\u001b[0m \u001b[32m━━━━━━━━━━━━━━━━━━━━\u001b[0m\u001b[37m\u001b[0m \u001b[1m1s\u001b[0m 2ms/step - acc: 0.7978 - auc: 0.8907 - loss: 0.1147 - precision: 0.7947 - recall: 0.9343 - val_acc: 0.8001 - val_auc: 0.8938 - val_loss: 0.1135 - val_precision: 0.8006 - val_recall: 0.9271\n",
      "Epoch 10/100\n",
      "\u001b[1m300/300\u001b[0m \u001b[32m━━━━━━━━━━━━━━━━━━━━\u001b[0m\u001b[37m\u001b[0m \u001b[1m1s\u001b[0m 2ms/step - acc: 0.7943 - auc: 0.8875 - loss: 0.1159 - precision: 0.7923 - recall: 0.9313 - val_acc: 0.8002 - val_auc: 0.8944 - val_loss: 0.1131 - val_precision: 0.7988 - val_recall: 0.9309\n",
      "Epoch 11/100\n",
      "\u001b[1m300/300\u001b[0m \u001b[32m━━━━━━━━━━━━━━━━━━━━\u001b[0m\u001b[37m\u001b[0m \u001b[1m1s\u001b[0m 2ms/step - acc: 0.7960 - auc: 0.8884 - loss: 0.1153 - precision: 0.7939 - recall: 0.9305 - val_acc: 0.8014 - val_auc: 0.8945 - val_loss: 0.1131 - val_precision: 0.8013 - val_recall: 0.9285\n",
      "Epoch 12/100\n",
      "\u001b[1m300/300\u001b[0m \u001b[32m━━━━━━━━━━━━━━━━━━━━\u001b[0m\u001b[37m\u001b[0m \u001b[1m1s\u001b[0m 2ms/step - acc: 0.7963 - auc: 0.8894 - loss: 0.1151 - precision: 0.7943 - recall: 0.9303 - val_acc: 0.8007 - val_auc: 0.8943 - val_loss: 0.1130 - val_precision: 0.7939 - val_recall: 0.9415\n",
      "Epoch 13/100\n",
      "\u001b[1m300/300\u001b[0m \u001b[32m━━━━━━━━━━━━━━━━━━━━\u001b[0m\u001b[37m\u001b[0m \u001b[1m1s\u001b[0m 2ms/step - acc: 0.7995 - auc: 0.8913 - loss: 0.1140 - precision: 0.7971 - recall: 0.9339 - val_acc: 0.8018 - val_auc: 0.8948 - val_loss: 0.1129 - val_precision: 0.8023 - val_recall: 0.9273\n",
      "Epoch 14/100\n",
      "\u001b[1m300/300\u001b[0m \u001b[32m━━━━━━━━━━━━━━━━━━━━\u001b[0m\u001b[37m\u001b[0m \u001b[1m1s\u001b[0m 2ms/step - acc: 0.7971 - auc: 0.8904 - loss: 0.1144 - precision: 0.7956 - recall: 0.9316 - val_acc: 0.8002 - val_auc: 0.8946 - val_loss: 0.1129 - val_precision: 0.7926 - val_recall: 0.9433\n",
      "Epoch 15/100\n",
      "\u001b[1m300/300\u001b[0m \u001b[32m━━━━━━━━━━━━━━━━━━━━\u001b[0m\u001b[37m\u001b[0m \u001b[1m1s\u001b[0m 2ms/step - acc: 0.7983 - auc: 0.8908 - loss: 0.1141 - precision: 0.7951 - recall: 0.9338 - val_acc: 0.8008 - val_auc: 0.8951 - val_loss: 0.1131 - val_precision: 0.8020 - val_recall: 0.9257\n",
      "Epoch 16/100\n",
      "\u001b[1m300/300\u001b[0m \u001b[32m━━━━━━━━━━━━━━━━━━━━\u001b[0m\u001b[37m\u001b[0m \u001b[1m1s\u001b[0m 2ms/step - acc: 0.7963 - auc: 0.8910 - loss: 0.1146 - precision: 0.7954 - recall: 0.9304 - val_acc: 0.8014 - val_auc: 0.8949 - val_loss: 0.1128 - val_precision: 0.8014 - val_recall: 0.9281\n",
      "Epoch 17/100\n",
      "\u001b[1m300/300\u001b[0m \u001b[32m━━━━━━━━━━━━━━━━━━━━\u001b[0m\u001b[37m\u001b[0m \u001b[1m1s\u001b[0m 2ms/step - acc: 0.7998 - auc: 0.8934 - loss: 0.1137 - precision: 0.7981 - recall: 0.9325 - val_acc: 0.8023 - val_auc: 0.8953 - val_loss: 0.1127 - val_precision: 0.8001 - val_recall: 0.9324\n",
      "Epoch 18/100\n",
      "\u001b[1m300/300\u001b[0m \u001b[32m━━━━━━━━━━━━━━━━━━━━\u001b[0m\u001b[37m\u001b[0m \u001b[1m1s\u001b[0m 2ms/step - acc: 0.7975 - auc: 0.8918 - loss: 0.1143 - precision: 0.7962 - recall: 0.9306 - val_acc: 0.8018 - val_auc: 0.8953 - val_loss: 0.1126 - val_precision: 0.8007 - val_recall: 0.9303\n",
      "Epoch 19/100\n",
      "\u001b[1m300/300\u001b[0m \u001b[32m━━━━━━━━━━━━━━━━━━━━\u001b[0m\u001b[37m\u001b[0m \u001b[1m1s\u001b[0m 2ms/step - acc: 0.7973 - auc: 0.8904 - loss: 0.1148 - precision: 0.7957 - recall: 0.9308 - val_acc: 0.8013 - val_auc: 0.8951 - val_loss: 0.1126 - val_precision: 0.8001 - val_recall: 0.9305\n",
      "Epoch 20/100\n",
      "\u001b[1m300/300\u001b[0m \u001b[32m━━━━━━━━━━━━━━━━━━━━\u001b[0m\u001b[37m\u001b[0m \u001b[1m1s\u001b[0m 2ms/step - acc: 0.7977 - auc: 0.8910 - loss: 0.1142 - precision: 0.7957 - recall: 0.9309 - val_acc: 0.8007 - val_auc: 0.8952 - val_loss: 0.1126 - val_precision: 0.8017 - val_recall: 0.9262\n",
      "Epoch 21/100\n",
      "\u001b[1m300/300\u001b[0m \u001b[32m━━━━━━━━━━━━━━━━━━━━\u001b[0m\u001b[37m\u001b[0m \u001b[1m1s\u001b[0m 2ms/step - acc: 0.7988 - auc: 0.8932 - loss: 0.1138 - precision: 0.7980 - recall: 0.9297 - val_acc: 0.8013 - val_auc: 0.8953 - val_loss: 0.1127 - val_precision: 0.7937 - val_recall: 0.9431\n",
      "Epoch 22/100\n",
      "\u001b[1m300/300\u001b[0m \u001b[32m━━━━━━━━━━━━━━━━━━━━\u001b[0m\u001b[37m\u001b[0m \u001b[1m1s\u001b[0m 2ms/step - acc: 0.7979 - auc: 0.8923 - loss: 0.1138 - precision: 0.7963 - recall: 0.9306 - val_acc: 0.8020 - val_auc: 0.8954 - val_loss: 0.1126 - val_precision: 0.7978 - val_recall: 0.9365\n",
      "Epoch 23/100\n",
      "\u001b[1m300/300\u001b[0m \u001b[32m━━━━━━━━━━━━━━━━━━━━\u001b[0m\u001b[37m\u001b[0m \u001b[1m1s\u001b[0m 2ms/step - acc: 0.7964 - auc: 0.8900 - loss: 0.1145 - precision: 0.7952 - recall: 0.9290 - val_acc: 0.8003 - val_auc: 0.8952 - val_loss: 0.1127 - val_precision: 0.7936 - val_recall: 0.9413\n",
      "Epoch 24/100\n",
      "\u001b[1m300/300\u001b[0m \u001b[32m━━━━━━━━━━━━━━━━━━━━\u001b[0m\u001b[37m\u001b[0m \u001b[1m1s\u001b[0m 2ms/step - acc: 0.7971 - auc: 0.8904 - loss: 0.1146 - precision: 0.7947 - recall: 0.9314 - val_acc: 0.8016 - val_auc: 0.8957 - val_loss: 0.1125 - val_precision: 0.7984 - val_recall: 0.9344\n",
      "Epoch 25/100\n",
      "\u001b[1m300/300\u001b[0m \u001b[32m━━━━━━━━━━━━━━━━━━━━\u001b[0m\u001b[37m\u001b[0m \u001b[1m1s\u001b[0m 2ms/step - acc: 0.7993 - auc: 0.8943 - loss: 0.1134 - precision: 0.7987 - recall: 0.9299 - val_acc: 0.8022 - val_auc: 0.8956 - val_loss: 0.1126 - val_precision: 0.8013 - val_recall: 0.9299\n",
      "Epoch 26/100\n",
      "\u001b[1m300/300\u001b[0m \u001b[32m━━━━━━━━━━━━━━━━━━━━\u001b[0m\u001b[37m\u001b[0m \u001b[1m1s\u001b[0m 2ms/step - acc: 0.7980 - auc: 0.8923 - loss: 0.1142 - precision: 0.7968 - recall: 0.9292 - val_acc: 0.8019 - val_auc: 0.8956 - val_loss: 0.1126 - val_precision: 0.7962 - val_recall: 0.9394\n",
      "Epoch 27/100\n",
      "\u001b[1m300/300\u001b[0m \u001b[32m━━━━━━━━━━━━━━━━━━━━\u001b[0m\u001b[37m\u001b[0m \u001b[1m1s\u001b[0m 3ms/step - acc: 0.7985 - auc: 0.8923 - loss: 0.1141 - precision: 0.7972 - recall: 0.9305 - val_acc: 0.8012 - val_auc: 0.8954 - val_loss: 0.1125 - val_precision: 0.8005 - val_recall: 0.9297\n",
      "Epoch 28/100\n",
      "\u001b[1m300/300\u001b[0m \u001b[32m━━━━━━━━━━━━━━━━━━━━\u001b[0m\u001b[37m\u001b[0m \u001b[1m1s\u001b[0m 2ms/step - acc: 0.7993 - auc: 0.8939 - loss: 0.1134 - precision: 0.7982 - recall: 0.9304 - val_acc: 0.8012 - val_auc: 0.8955 - val_loss: 0.1126 - val_precision: 0.8019 - val_recall: 0.9269\n",
      "Epoch 29/100\n",
      "\u001b[1m300/300\u001b[0m \u001b[32m━━━━━━━━━━━━━━━━━━━━\u001b[0m\u001b[37m\u001b[0m \u001b[1m1s\u001b[0m 2ms/step - acc: 0.7982 - auc: 0.8906 - loss: 0.1142 - precision: 0.7965 - recall: 0.9304 - val_acc: 0.8022 - val_auc: 0.8955 - val_loss: 0.1127 - val_precision: 0.8029 - val_recall: 0.9270\n",
      "Epoch 30/100\n",
      "\u001b[1m300/300\u001b[0m \u001b[32m━━━━━━━━━━━━━━━━━━━━\u001b[0m\u001b[37m\u001b[0m \u001b[1m1s\u001b[0m 2ms/step - acc: 0.8002 - auc: 0.8917 - loss: 0.1137 - precision: 0.7986 - recall: 0.9310 - val_acc: 0.8019 - val_auc: 0.8955 - val_loss: 0.1124 - val_precision: 0.8026 - val_recall: 0.9267\n",
      "Epoch 31/100\n",
      "\u001b[1m300/300\u001b[0m \u001b[32m━━━━━━━━━━━━━━━━━━━━\u001b[0m\u001b[37m\u001b[0m \u001b[1m1s\u001b[0m 2ms/step - acc: 0.8008 - auc: 0.8930 - loss: 0.1133 - precision: 0.7991 - recall: 0.9307 - val_acc: 0.8013 - val_auc: 0.8956 - val_loss: 0.1125 - val_precision: 0.7983 - val_recall: 0.9339\n",
      "Epoch 32/100\n",
      "\u001b[1m300/300\u001b[0m \u001b[32m━━━━━━━━━━━━━━━━━━━━\u001b[0m\u001b[37m\u001b[0m \u001b[1m1s\u001b[0m 2ms/step - acc: 0.7982 - auc: 0.8911 - loss: 0.1140 - precision: 0.7972 - recall: 0.9306 - val_acc: 0.8015 - val_auc: 0.8954 - val_loss: 0.1126 - val_precision: 0.7995 - val_recall: 0.9320\n",
      "Epoch 33/100\n",
      "\u001b[1m300/300\u001b[0m \u001b[32m━━━━━━━━━━━━━━━━━━━━\u001b[0m\u001b[37m\u001b[0m \u001b[1m1s\u001b[0m 2ms/step - acc: 0.7984 - auc: 0.8928 - loss: 0.1140 - precision: 0.7973 - recall: 0.9301 - val_acc: 0.8018 - val_auc: 0.8955 - val_loss: 0.1124 - val_precision: 0.7971 - val_recall: 0.9373\n",
      "Epoch 34/100\n",
      "\u001b[1m300/300\u001b[0m \u001b[32m━━━━━━━━━━━━━━━━━━━━\u001b[0m\u001b[37m\u001b[0m \u001b[1m1s\u001b[0m 2ms/step - acc: 0.7975 - auc: 0.8910 - loss: 0.1143 - precision: 0.7953 - recall: 0.9309 - val_acc: 0.8016 - val_auc: 0.8956 - val_loss: 0.1124 - val_precision: 0.7987 - val_recall: 0.9337\n",
      "Epoch 35/100\n",
      "\u001b[1m300/300\u001b[0m \u001b[32m━━━━━━━━━━━━━━━━━━━━\u001b[0m\u001b[37m\u001b[0m \u001b[1m1s\u001b[0m 2ms/step - acc: 0.7998 - auc: 0.8935 - loss: 0.1136 - precision: 0.7993 - recall: 0.9289 - val_acc: 0.8009 - val_auc: 0.8953 - val_loss: 0.1125 - val_precision: 0.7972 - val_recall: 0.9354\n",
      "Epoch 36/100\n",
      "\u001b[1m300/300\u001b[0m \u001b[32m━━━━━━━━━━━━━━━━━━━━\u001b[0m\u001b[37m\u001b[0m \u001b[1m1s\u001b[0m 2ms/step - acc: 0.7992 - auc: 0.8938 - loss: 0.1138 - precision: 0.7975 - recall: 0.9317 - val_acc: 0.8018 - val_auc: 0.8956 - val_loss: 0.1126 - val_precision: 0.7961 - val_recall: 0.9393\n",
      "Epoch 37/100\n",
      "\u001b[1m300/300\u001b[0m \u001b[32m━━━━━━━━━━━━━━━━━━━━\u001b[0m\u001b[37m\u001b[0m \u001b[1m1s\u001b[0m 2ms/step - acc: 0.7986 - auc: 0.8928 - loss: 0.1138 - precision: 0.7965 - recall: 0.9313 - val_acc: 0.8012 - val_auc: 0.8952 - val_loss: 0.1126 - val_precision: 0.7969 - val_recall: 0.9366\n",
      "Epoch 38/100\n",
      "\u001b[1m300/300\u001b[0m \u001b[32m━━━━━━━━━━━━━━━━━━━━\u001b[0m\u001b[37m\u001b[0m \u001b[1m1s\u001b[0m 2ms/step - acc: 0.7998 - auc: 0.8923 - loss: 0.1137 - precision: 0.7990 - recall: 0.9294 - val_acc: 0.8017 - val_auc: 0.8953 - val_loss: 0.1124 - val_precision: 0.7986 - val_recall: 0.9341\n",
      "Epoch 39/100\n",
      "\u001b[1m300/300\u001b[0m \u001b[32m━━━━━━━━━━━━━━━━━━━━\u001b[0m\u001b[37m\u001b[0m \u001b[1m1s\u001b[0m 2ms/step - acc: 0.7974 - auc: 0.8926 - loss: 0.1141 - precision: 0.7968 - recall: 0.9295 - val_acc: 0.8020 - val_auc: 0.8955 - val_loss: 0.1124 - val_precision: 0.7975 - val_recall: 0.9370\n"
     ]
    }
   ],
   "source": [
    "early_stopping = callbacks.EarlyStopping(\n",
    "    monitor=\"val_auc\",\n",
    "    mode=\"max\",\n",
    "    restore_best_weights=True,\n",
    "    start_from_epoch=5,\n",
    "    patience=15,\n",
    ")\n",
    "history = model.fit(\n",
    "    X_train,\n",
    "    y_train,\n",
    "    batch_size=512,\n",
    "    epochs=100,\n",
    "    validation_data=(X_test, y_test),\n",
    "    callbacks=[early_stopping],\n",
    ")"
   ]
  },
  {
   "cell_type": "code",
   "execution_count": 8,
   "metadata": {},
   "outputs": [
    {
     "data": {
      "text/plain": [
       "{'acc': 0.8019793033599854,\n",
       " 'auc': 0.8955217003822327,\n",
       " 'loss': 0.11244133859872818,\n",
       " 'precision': 0.7974711060523987,\n",
       " 'recall': 0.9369916915893555}"
      ]
     },
     "execution_count": 8,
     "metadata": {},
     "output_type": "execute_result"
    }
   ],
   "source": [
    "model.get_metrics_result()"
   ]
  },
  {
   "cell_type": "code",
   "execution_count": 9,
   "metadata": {},
   "outputs": [
    {
     "data": {
      "image/png": "[encoded data removed]",
      "text/plain": [
       "<Figure size 400x300 with 1 Axes>"
      ]
     },
     "metadata": {},
     "output_type": "display_data"
    }
   ],
   "source": [
    "plt.figure(figsize=(4, 3))\n",
    "plt.plot(history.history[\"val_recall\"], label=\"validation\")\n",
    "plt.plot(history.history[\"recall\"], label=\"training\")\n",
    "plt.legend()\n",
    "plt.show()"
   ]
  },
  {
   "cell_type": "code",
   "execution_count": 10,
   "metadata": {},
   "outputs": [
    {
     "name": "stdout",
     "output_type": "stream",
     "text": [
      "\u001b[1m129/129\u001b[0m \u001b[32m━━━━━━━━━━━━━━━━━━━━\u001b[0m\u001b[37m\u001b[0m \u001b[1m0s\u001b[0m 1ms/step\n",
      "              precision    recall  f1-score   support\n",
      "\n",
      "           0       0.81      0.55      0.65     22501\n",
      "           1       0.80      0.93      0.86     43280\n",
      "\n",
      "    accuracy                           0.80     65781\n",
      "   macro avg       0.81      0.74      0.76     65781\n",
      "weighted avg       0.80      0.80      0.79     65781\n",
      "\n"
     ]
    }
   ],
   "source": [
    "predictions = np.where(model.predict(X_test, batch_size=512) > 0.5, 1, 0)\n",
    "print(classification_report(y_test, predictions))"
   ]
  }
 ],
 "metadata": {
  "kernelspec": {
   "display_name": ".venv",
   "language": "python",
   "name": "python3"
  },
  "language_info": {
   "codemirror_mode": {
    "name": "ipython",
    "version": 3
   },
   "file_extension": ".py",
   "mimetype": "text/x-python",
   "name": "python",
   "nbconvert_exporter": "python",
   "pygments_lexer": "ipython3",
   "version": "3.11.2"
  }
 },
 "nbformat": 4,
 "nbformat_minor": 2
}
