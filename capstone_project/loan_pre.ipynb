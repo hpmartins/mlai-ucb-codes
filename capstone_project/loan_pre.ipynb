{
 "cells": [
  {
   "cell_type": "markdown",
   "metadata": {},
   "source": [
    "## Home Loan Approval/Denial\n",
    "\n",
    "This project aims to develop a machine learning model that can predict the approval or denial of home mortgage applications using the U.S. Home Mortgage Disclosure Act (HMDA) dataset. Individuals can utilize this model as a preliminary assessment tool before formally applying for a mortgage, while lenders can leverage it for initial screening purposes. The ultimate goal is to empower both parties with information that facilitates informed decision-making in the mortgage application process.\n",
    "\n",
    "In this project I will be using the 2020-to-2022 data of the SF East Bay counties, namely **Alameda County** and **Contra Costa County** (California, US). The dataset can be downloaded [here](https://ffiec.cfpb.gov/data-browser/data/2022?category=states&items=CA), and [here](https://ffiec.cfpb.gov/documentation/publications/loan-level-datasets/lar-data-fields) is its documentation."
   ]
  },
  {
   "cell_type": "code",
   "execution_count": 1,
   "metadata": {},
   "outputs": [],
   "source": [
    "from io import StringIO\n",
    "import requests\n",
    "from pathlib import Path\n",
    "import pandas as pd\n",
    "import numpy as np"
   ]
  },
  {
   "cell_type": "code",
   "execution_count": 2,
   "metadata": {},
   "outputs": [],
   "source": [
    "import matplotlib.pyplot as plt\n",
    "import seaborn as sns"
   ]
  },
  {
   "cell_type": "markdown",
   "metadata": {},
   "source": [
    "### Auxiliary functions"
   ]
  },
  {
   "cell_type": "code",
   "execution_count": 3,
   "metadata": {},
   "outputs": [],
   "source": [
    "def test_cuts(x, col, thr, n=4):\n",
    "    \"\"\"\n",
    "    This function display the data grouped in bins.\n",
    "    \"\"\"\n",
    "    display(pd.cut(x[x[col] < thr][col], bins=n).value_counts(sort=False, dropna=False))\n",
    "    display(pd.qcut(x[x[col] < thr][col], q=n).value_counts(sort=False, dropna=False))\n",
    "\n",
    "\n",
    "def download_datasets():\n",
    "    counties = \",\".join([\"06001\", \"06013\"])  # Alameda, Contra Costa\n",
    "    actions = \",\".join([\"1\", \"3\"])  # Loan originated, Application denied\n",
    "    dfs = []\n",
    "    print(\"Downloading...\")\n",
    "    for year in [2020, 2021, 2022]:\n",
    "        print(f\"- year {year}\")\n",
    "        req = requests.get(\n",
    "            f\"https://ffiec.cfpb.gov/v2/data-browser-api/view/csv?years={year}&counties={counties}&actions_taken={actions}\"\n",
    "        )\n",
    "        df = pd.read_csv(StringIO(req.text))\n",
    "        dfs.append(df)\n",
    "    return dfs\n",
    "\n",
    "\n",
    "def open_dataset(filepath):\n",
    "    file = Path(filepath)\n",
    "    if file.exists() and file.stat().st_size > 1e6:\n",
    "        df = pd.read_csv(filepath)\n",
    "    else:\n",
    "        dfs = download_datasets()\n",
    "        df = pd.concat(dfs).drop_duplicates().reset_index(drop=True)\n",
    "        df.to_csv(filepath, index=False)\n",
    "    return df"
   ]
  },
  {
   "cell_type": "markdown",
   "metadata": {},
   "source": [
    "### Loading the raw data"
   ]
  },
  {
   "cell_type": "markdown",
   "metadata": {},
   "source": [
    "Using the auxiliary functions defined above the data be loaded from the filesystem or downloaded and saved in case the file does not exist. The data is downloaded using the [FFIEC Data Browser API](https://ffiec.cfpb.gov/documentation/api/data-browser/)."
   ]
  },
  {
   "cell_type": "code",
   "execution_count": 4,
   "metadata": {},
   "outputs": [
    {
     "name": "stderr",
     "output_type": "stream",
     "text": [
      "/tmp/ipykernel_294422/1079481606.py:27: DtypeWarning: Columns (22,23,24,26,27,28,29,30,31,32,33,38,43,44) have mixed types. Specify dtype option on import or set low_memory=False.\n",
      "  df = pd.read_csv(filepath)\n"
     ]
    }
   ],
   "source": [
    "orig_df = open_dataset(\"../../data-hdma-eastbay-2020-2022.csv\")"
   ]
  },
  {
   "cell_type": "markdown",
   "metadata": {},
   "source": [
    "The dataset contains 492584 entries and 99 columns, and the description of the features is [documented here](https://ffiec.cfpb.gov/documentation/publications/loan-level-datasets/lar-data-fields).\n",
    "\n",
    "Below is the info for all the columns in the raw dataset. We can see that multiple columns have a huge amount of null values, mostly the ones that are related to questions with multiple possible answers, such as race, etchnicity (of both the applicant and the co-applicant, if there is one), and the application denial reason. A few columns also should be numbers-only but contain a mix of number and strings, and will be properly converted. Also, quite a few of the numerical features are actually encoded categorical features, and they will be translated into strings using the documentation.\n",
    "\n",
    "The main outcome of the dataset is in the `action_taken` column. All the possible values are:\n",
    "\n",
    "- 1 - Loan originated\n",
    "- 2 - Application approved but not accepted\n",
    "- 3 - Application denied\n",
    "- 4 - Application withdrawn by applicant\n",
    "- 5 - File closed for incompleteness\n",
    "- 6 - Purchased loan\n",
    "- 7 - Preapproval request denied\n",
    "- 8 - Preapproval request approved but not accepted\n",
    "\n",
    "Since the main focus here is to screen through applications that are either *approved* or *denied*, I only fetch values `1` (Loan originated, application was approved) and `3` (application denied)."
   ]
  },
  {
   "cell_type": "code",
   "execution_count": 5,
   "metadata": {},
   "outputs": [
    {
     "name": "stdout",
     "output_type": "stream",
     "text": [
      "<class 'pandas.core.frame.DataFrame'>\n",
      "RangeIndex: 492584 entries, 0 to 492583\n",
      "Data columns (total 99 columns):\n",
      " #   Column                                    Non-Null Count   Dtype  \n",
      "---  ------                                    --------------   -----  \n",
      " 0   activity_year                             492584 non-null  int64  \n",
      " 1   lei                                       492584 non-null  object \n",
      " 2   derived_msa-md                            492584 non-null  int64  \n",
      " 3   state_code                                492511 non-null  object \n",
      " 4   county_code                               492584 non-null  int64  \n",
      " 5   census_tract                              492399 non-null  float64\n",
      " 6   conforming_loan_limit                     490488 non-null  object \n",
      " 7   derived_loan_product_type                 492584 non-null  object \n",
      " 8   derived_dwelling_category                 492584 non-null  object \n",
      " 9   derived_ethnicity                         492584 non-null  object \n",
      " 10  derived_race                              492584 non-null  object \n",
      " 11  derived_sex                               492584 non-null  object \n",
      " 12  action_taken                              492584 non-null  int64  \n",
      " 13  purchaser_type                            492584 non-null  int64  \n",
      " 14  preapproval                               492584 non-null  int64  \n",
      " 15  loan_type                                 492584 non-null  int64  \n",
      " 16  loan_purpose                              492584 non-null  int64  \n",
      " 17  lien_status                               492584 non-null  int64  \n",
      " 18  reverse_mortgage                          492584 non-null  int64  \n",
      " 19  open-end_line_of_credit                   492584 non-null  int64  \n",
      " 20  business_or_commercial_purpose            492584 non-null  int64  \n",
      " 21  loan_amount                               492584 non-null  float64\n",
      " 22  loan_to_value_ratio                       475337 non-null  object \n",
      " 23  interest_rate                             422608 non-null  object \n",
      " 24  rate_spread                               395694 non-null  object \n",
      " 25  hoepa_status                              492584 non-null  int64  \n",
      " 26  total_loan_costs                          361892 non-null  object \n",
      " 27  total_points_and_fees                     4232 non-null    object \n",
      " 28  origination_charges                       363902 non-null  object \n",
      " 29  discount_points                           117410 non-null  object \n",
      " 30  lender_credits                            178040 non-null  object \n",
      " 31  loan_term                                 487749 non-null  object \n",
      " 32  prepayment_penalty_term                   22464 non-null   object \n",
      " 33  intro_rate_period                         97624 non-null   object \n",
      " 34  negative_amortization                     492584 non-null  int64  \n",
      " 35  interest_only_payment                     492584 non-null  int64  \n",
      " 36  balloon_payment                           492584 non-null  int64  \n",
      " 37  other_nonamortizing_features              492584 non-null  int64  \n",
      " 38  property_value                            482993 non-null  object \n",
      " 39  construction_method                       492584 non-null  int64  \n",
      " 40  occupancy_type                            492584 non-null  int64  \n",
      " 41  manufactured_home_secured_property_type   492584 non-null  int64  \n",
      " 42  manufactured_home_land_property_interest  492584 non-null  int64  \n",
      " 43  total_units                               492584 non-null  object \n",
      " 44  multifamily_affordable_units              3292 non-null    object \n",
      " 45  income                                    472842 non-null  float64\n",
      " 46  debt_to_income_ratio                      468428 non-null  object \n",
      " 47  applicant_credit_score_type               492584 non-null  int64  \n",
      " 48  co-applicant_credit_score_type            492584 non-null  int64  \n",
      " 49  applicant_ethnicity-1                     492355 non-null  float64\n",
      " 50  applicant_ethnicity-2                     23157 non-null   float64\n",
      " 51  applicant_ethnicity-3                     665 non-null     float64\n",
      " 52  applicant_ethnicity-4                     14 non-null      float64\n",
      " 53  applicant_ethnicity-5                     3 non-null       float64\n",
      " 54  co-applicant_ethnicity-1                  492498 non-null  float64\n",
      " 55  co-applicant_ethnicity-2                  11041 non-null   float64\n",
      " 56  co-applicant_ethnicity-3                  257 non-null     float64\n",
      " 57  co-applicant_ethnicity-4                  8 non-null       float64\n",
      " 58  co-applicant_ethnicity-5                  1 non-null       float64\n",
      " 59  applicant_ethnicity_observed              492584 non-null  int64  \n",
      " 60  co-applicant_ethnicity_observed           492584 non-null  int64  \n",
      " 61  applicant_race-1                          492525 non-null  float64\n",
      " 62  applicant_race-2                          103077 non-null  float64\n",
      " 63  applicant_race-3                          6411 non-null    float64\n",
      " 64  applicant_race-4                          451 non-null     float64\n",
      " 65  applicant_race-5                          94 non-null      float64\n",
      " 66  co-applicant_race-1                       492556 non-null  float64\n",
      " 67  co-applicant_race-2                       47058 non-null   float64\n",
      " 68  co-applicant_race-3                       2893 non-null    float64\n",
      " 69  co-applicant_race-4                       173 non-null     float64\n",
      " 70  co-applicant_race-5                       28 non-null      float64\n",
      " 71  applicant_race_observed                   492584 non-null  int64  \n",
      " 72  co-applicant_race_observed                492584 non-null  int64  \n",
      " 73  applicant_sex                             492584 non-null  int64  \n",
      " 74  co-applicant_sex                          492584 non-null  int64  \n",
      " 75  applicant_sex_observed                    492584 non-null  int64  \n",
      " 76  co-applicant_sex_observed                 492584 non-null  int64  \n",
      " 77  applicant_age                             492584 non-null  object \n",
      " 78  co-applicant_age                          492584 non-null  object \n",
      " 79  applicant_age_above_62                    489196 non-null  object \n",
      " 80  co-applicant_age_above_62                 243129 non-null  object \n",
      " 81  submission_of_application                 492584 non-null  int64  \n",
      " 82  initially_payable_to_institution          492584 non-null  int64  \n",
      " 83  aus-1                                     492584 non-null  int64  \n",
      " 84  aus-2                                     43978 non-null   float64\n",
      " 85  aus-3                                     7225 non-null    float64\n",
      " 86  aus-4                                     2076 non-null    float64\n",
      " 87  aus-5                                     1771 non-null    float64\n",
      " 88  denial_reason-1                           492584 non-null  int64  \n",
      " 89  denial_reason-2                           11582 non-null   float64\n",
      " 90  denial_reason-3                           1803 non-null    float64\n",
      " 91  denial_reason-4                           168 non-null     float64\n",
      " 92  tract_population                          492584 non-null  int64  \n",
      " 93  tract_minority_population_percent         492584 non-null  float64\n",
      " 94  ffiec_msa_md_median_family_income         492584 non-null  int64  \n",
      " 95  tract_to_msa_income_percentage            492584 non-null  int64  \n",
      " 96  tract_owner_occupied_units                492584 non-null  int64  \n",
      " 97  tract_one_to_four_family_homes            492584 non-null  int64  \n",
      " 98  tract_median_age_of_housing_units         492584 non-null  int64  \n",
      "dtypes: float64(31), int64(41), object(27)\n",
      "memory usage: 372.1+ MB\n"
     ]
    }
   ],
   "source": [
    "orig_df.info()"
   ]
  },
  {
   "cell_type": "code",
   "execution_count": 6,
   "metadata": {},
   "outputs": [
    {
     "data": {
      "text/html": [
       "<div>\n",
       "<style scoped>\n",
       "    .dataframe tbody tr th:only-of-type {\n",
       "        vertical-align: middle;\n",
       "    }\n",
       "\n",
       "    .dataframe tbody tr th {\n",
       "        vertical-align: top;\n",
       "    }\n",
       "\n",
       "    .dataframe thead th {\n",
       "        text-align: right;\n",
       "    }\n",
       "</style>\n",
       "<table border=\"1\" class=\"dataframe\">\n",
       "  <thead>\n",
       "    <tr style=\"text-align: right;\">\n",
       "      <th></th>\n",
       "      <th>activity_year</th>\n",
       "      <th>lei</th>\n",
       "      <th>derived_msa-md</th>\n",
       "      <th>state_code</th>\n",
       "      <th>county_code</th>\n",
       "      <th>census_tract</th>\n",
       "      <th>conforming_loan_limit</th>\n",
       "      <th>derived_loan_product_type</th>\n",
       "      <th>derived_dwelling_category</th>\n",
       "      <th>derived_ethnicity</th>\n",
       "      <th>...</th>\n",
       "      <th>denial_reason-2</th>\n",
       "      <th>denial_reason-3</th>\n",
       "      <th>denial_reason-4</th>\n",
       "      <th>tract_population</th>\n",
       "      <th>tract_minority_population_percent</th>\n",
       "      <th>ffiec_msa_md_median_family_income</th>\n",
       "      <th>tract_to_msa_income_percentage</th>\n",
       "      <th>tract_owner_occupied_units</th>\n",
       "      <th>tract_one_to_four_family_homes</th>\n",
       "      <th>tract_median_age_of_housing_units</th>\n",
       "    </tr>\n",
       "  </thead>\n",
       "  <tbody>\n",
       "    <tr>\n",
       "      <th>0</th>\n",
       "      <td>2020</td>\n",
       "      <td>AD6GFRVSDT01YPT1CS68</td>\n",
       "      <td>36084</td>\n",
       "      <td>CA</td>\n",
       "      <td>6013</td>\n",
       "      <td>6.013345e+09</td>\n",
       "      <td>C</td>\n",
       "      <td>Conventional:First Lien</td>\n",
       "      <td>Single Family (1-4 Units):Site-Built</td>\n",
       "      <td>Not Hispanic or Latino</td>\n",
       "      <td>...</td>\n",
       "      <td>NaN</td>\n",
       "      <td>NaN</td>\n",
       "      <td>NaN</td>\n",
       "      <td>5178</td>\n",
       "      <td>63.25</td>\n",
       "      <td>119200</td>\n",
       "      <td>130</td>\n",
       "      <td>1012</td>\n",
       "      <td>1254</td>\n",
       "      <td>31</td>\n",
       "    </tr>\n",
       "    <tr>\n",
       "      <th>1</th>\n",
       "      <td>2020</td>\n",
       "      <td>AD6GFRVSDT01YPT1CS68</td>\n",
       "      <td>36084</td>\n",
       "      <td>CA</td>\n",
       "      <td>6001</td>\n",
       "      <td>6.001445e+09</td>\n",
       "      <td>NC</td>\n",
       "      <td>Conventional:First Lien</td>\n",
       "      <td>Single Family (1-4 Units):Site-Built</td>\n",
       "      <td>Not Hispanic or Latino</td>\n",
       "      <td>...</td>\n",
       "      <td>NaN</td>\n",
       "      <td>NaN</td>\n",
       "      <td>NaN</td>\n",
       "      <td>4341</td>\n",
       "      <td>77.72</td>\n",
       "      <td>119200</td>\n",
       "      <td>117</td>\n",
       "      <td>1114</td>\n",
       "      <td>1357</td>\n",
       "      <td>31</td>\n",
       "    </tr>\n",
       "    <tr>\n",
       "      <th>2</th>\n",
       "      <td>2020</td>\n",
       "      <td>AD6GFRVSDT01YPT1CS68</td>\n",
       "      <td>36084</td>\n",
       "      <td>CA</td>\n",
       "      <td>6013</td>\n",
       "      <td>6.013392e+09</td>\n",
       "      <td>C</td>\n",
       "      <td>Conventional:First Lien</td>\n",
       "      <td>Single Family (1-4 Units):Site-Built</td>\n",
       "      <td>Hispanic or Latino</td>\n",
       "      <td>...</td>\n",
       "      <td>NaN</td>\n",
       "      <td>NaN</td>\n",
       "      <td>NaN</td>\n",
       "      <td>3116</td>\n",
       "      <td>90.89</td>\n",
       "      <td>119200</td>\n",
       "      <td>150</td>\n",
       "      <td>705</td>\n",
       "      <td>763</td>\n",
       "      <td>10</td>\n",
       "    </tr>\n",
       "    <tr>\n",
       "      <th>3</th>\n",
       "      <td>2020</td>\n",
       "      <td>AD6GFRVSDT01YPT1CS68</td>\n",
       "      <td>36084</td>\n",
       "      <td>CA</td>\n",
       "      <td>6001</td>\n",
       "      <td>6.001442e+09</td>\n",
       "      <td>NC</td>\n",
       "      <td>Conventional:First Lien</td>\n",
       "      <td>Single Family (1-4 Units):Site-Built</td>\n",
       "      <td>Not Hispanic or Latino</td>\n",
       "      <td>...</td>\n",
       "      <td>NaN</td>\n",
       "      <td>NaN</td>\n",
       "      <td>NaN</td>\n",
       "      <td>4811</td>\n",
       "      <td>78.07</td>\n",
       "      <td>119200</td>\n",
       "      <td>88</td>\n",
       "      <td>838</td>\n",
       "      <td>1076</td>\n",
       "      <td>45</td>\n",
       "    </tr>\n",
       "    <tr>\n",
       "      <th>4</th>\n",
       "      <td>2020</td>\n",
       "      <td>AD6GFRVSDT01YPT1CS68</td>\n",
       "      <td>36084</td>\n",
       "      <td>CA</td>\n",
       "      <td>6001</td>\n",
       "      <td>6.001428e+09</td>\n",
       "      <td>NC</td>\n",
       "      <td>Conventional:First Lien</td>\n",
       "      <td>Single Family (1-4 Units):Site-Built</td>\n",
       "      <td>Not Hispanic or Latino</td>\n",
       "      <td>...</td>\n",
       "      <td>NaN</td>\n",
       "      <td>NaN</td>\n",
       "      <td>NaN</td>\n",
       "      <td>4924</td>\n",
       "      <td>42.42</td>\n",
       "      <td>119200</td>\n",
       "      <td>118</td>\n",
       "      <td>1028</td>\n",
       "      <td>1664</td>\n",
       "      <td>76</td>\n",
       "    </tr>\n",
       "  </tbody>\n",
       "</table>\n",
       "<p>5 rows × 99 columns</p>\n",
       "</div>"
      ],
      "text/plain": [
       "   activity_year                   lei  derived_msa-md state_code  \\\n",
       "0           2020  AD6GFRVSDT01YPT1CS68           36084         CA   \n",
       "1           2020  AD6GFRVSDT01YPT1CS68           36084         CA   \n",
       "2           2020  AD6GFRVSDT01YPT1CS68           36084         CA   \n",
       "3           2020  AD6GFRVSDT01YPT1CS68           36084         CA   \n",
       "4           2020  AD6GFRVSDT01YPT1CS68           36084         CA   \n",
       "\n",
       "   county_code  census_tract conforming_loan_limit derived_loan_product_type  \\\n",
       "0         6013  6.013345e+09                     C   Conventional:First Lien   \n",
       "1         6001  6.001445e+09                    NC   Conventional:First Lien   \n",
       "2         6013  6.013392e+09                     C   Conventional:First Lien   \n",
       "3         6001  6.001442e+09                    NC   Conventional:First Lien   \n",
       "4         6001  6.001428e+09                    NC   Conventional:First Lien   \n",
       "\n",
       "              derived_dwelling_category       derived_ethnicity  ...  \\\n",
       "0  Single Family (1-4 Units):Site-Built  Not Hispanic or Latino  ...   \n",
       "1  Single Family (1-4 Units):Site-Built  Not Hispanic or Latino  ...   \n",
       "2  Single Family (1-4 Units):Site-Built      Hispanic or Latino  ...   \n",
       "3  Single Family (1-4 Units):Site-Built  Not Hispanic or Latino  ...   \n",
       "4  Single Family (1-4 Units):Site-Built  Not Hispanic or Latino  ...   \n",
       "\n",
       "  denial_reason-2 denial_reason-3  denial_reason-4  tract_population  \\\n",
       "0             NaN             NaN              NaN              5178   \n",
       "1             NaN             NaN              NaN              4341   \n",
       "2             NaN             NaN              NaN              3116   \n",
       "3             NaN             NaN              NaN              4811   \n",
       "4             NaN             NaN              NaN              4924   \n",
       "\n",
       "   tract_minority_population_percent  ffiec_msa_md_median_family_income  \\\n",
       "0                              63.25                             119200   \n",
       "1                              77.72                             119200   \n",
       "2                              90.89                             119200   \n",
       "3                              78.07                             119200   \n",
       "4                              42.42                             119200   \n",
       "\n",
       "   tract_to_msa_income_percentage  tract_owner_occupied_units  \\\n",
       "0                             130                        1012   \n",
       "1                             117                        1114   \n",
       "2                             150                         705   \n",
       "3                              88                         838   \n",
       "4                             118                        1028   \n",
       "\n",
       "   tract_one_to_four_family_homes  tract_median_age_of_housing_units  \n",
       "0                            1254                                 31  \n",
       "1                            1357                                 31  \n",
       "2                             763                                 10  \n",
       "3                            1076                                 45  \n",
       "4                            1664                                 76  \n",
       "\n",
       "[5 rows x 99 columns]"
      ]
     },
     "execution_count": 6,
     "metadata": {},
     "output_type": "execute_result"
    }
   ],
   "source": [
    "orig_df.head()"
   ]
  },
  {
   "cell_type": "code",
   "execution_count": 7,
   "metadata": {},
   "outputs": [
    {
     "data": {
      "text/html": [
       "<div>\n",
       "<style scoped>\n",
       "    .dataframe tbody tr th:only-of-type {\n",
       "        vertical-align: middle;\n",
       "    }\n",
       "\n",
       "    .dataframe tbody tr th {\n",
       "        vertical-align: top;\n",
       "    }\n",
       "\n",
       "    .dataframe thead th {\n",
       "        text-align: right;\n",
       "    }\n",
       "</style>\n",
       "<table border=\"1\" class=\"dataframe\">\n",
       "  <thead>\n",
       "    <tr style=\"text-align: right;\">\n",
       "      <th></th>\n",
       "      <th>activity_year</th>\n",
       "      <th>lei</th>\n",
       "      <th>derived_msa-md</th>\n",
       "      <th>state_code</th>\n",
       "      <th>county_code</th>\n",
       "      <th>census_tract</th>\n",
       "      <th>conforming_loan_limit</th>\n",
       "      <th>derived_loan_product_type</th>\n",
       "      <th>derived_dwelling_category</th>\n",
       "      <th>derived_ethnicity</th>\n",
       "      <th>...</th>\n",
       "      <th>denial_reason-2</th>\n",
       "      <th>denial_reason-3</th>\n",
       "      <th>denial_reason-4</th>\n",
       "      <th>tract_population</th>\n",
       "      <th>tract_minority_population_percent</th>\n",
       "      <th>ffiec_msa_md_median_family_income</th>\n",
       "      <th>tract_to_msa_income_percentage</th>\n",
       "      <th>tract_owner_occupied_units</th>\n",
       "      <th>tract_one_to_four_family_homes</th>\n",
       "      <th>tract_median_age_of_housing_units</th>\n",
       "    </tr>\n",
       "  </thead>\n",
       "  <tbody>\n",
       "    <tr>\n",
       "      <th>492579</th>\n",
       "      <td>2022</td>\n",
       "      <td>5493000YNV8IX4VD3X12</td>\n",
       "      <td>36084</td>\n",
       "      <td>CA</td>\n",
       "      <td>6013</td>\n",
       "      <td>6.013355e+09</td>\n",
       "      <td>C</td>\n",
       "      <td>Conventional:First Lien</td>\n",
       "      <td>Single Family (1-4 Units):Manufactured</td>\n",
       "      <td>Hispanic or Latino</td>\n",
       "      <td>...</td>\n",
       "      <td>NaN</td>\n",
       "      <td>NaN</td>\n",
       "      <td>NaN</td>\n",
       "      <td>5793</td>\n",
       "      <td>66.80</td>\n",
       "      <td>142800</td>\n",
       "      <td>108</td>\n",
       "      <td>1448</td>\n",
       "      <td>1709</td>\n",
       "      <td>32</td>\n",
       "    </tr>\n",
       "    <tr>\n",
       "      <th>492580</th>\n",
       "      <td>2022</td>\n",
       "      <td>5493000YNV8IX4VD3X12</td>\n",
       "      <td>36084</td>\n",
       "      <td>CA</td>\n",
       "      <td>6013</td>\n",
       "      <td>6.013335e+09</td>\n",
       "      <td>C</td>\n",
       "      <td>Conventional:First Lien</td>\n",
       "      <td>Single Family (1-4 Units):Manufactured</td>\n",
       "      <td>Hispanic or Latino</td>\n",
       "      <td>...</td>\n",
       "      <td>NaN</td>\n",
       "      <td>NaN</td>\n",
       "      <td>NaN</td>\n",
       "      <td>3463</td>\n",
       "      <td>48.46</td>\n",
       "      <td>142800</td>\n",
       "      <td>94</td>\n",
       "      <td>816</td>\n",
       "      <td>1235</td>\n",
       "      <td>66</td>\n",
       "    </tr>\n",
       "    <tr>\n",
       "      <th>492581</th>\n",
       "      <td>2022</td>\n",
       "      <td>5493000YNV8IX4VD3X12</td>\n",
       "      <td>36084</td>\n",
       "      <td>CA</td>\n",
       "      <td>6013</td>\n",
       "      <td>6.013355e+09</td>\n",
       "      <td>C</td>\n",
       "      <td>Conventional:First Lien</td>\n",
       "      <td>Single Family (1-4 Units):Manufactured</td>\n",
       "      <td>Not Hispanic or Latino</td>\n",
       "      <td>...</td>\n",
       "      <td>7.0</td>\n",
       "      <td>NaN</td>\n",
       "      <td>NaN</td>\n",
       "      <td>4434</td>\n",
       "      <td>82.68</td>\n",
       "      <td>142800</td>\n",
       "      <td>79</td>\n",
       "      <td>808</td>\n",
       "      <td>1205</td>\n",
       "      <td>32</td>\n",
       "    </tr>\n",
       "    <tr>\n",
       "      <th>492582</th>\n",
       "      <td>2022</td>\n",
       "      <td>5493000YNV8IX4VD3X12</td>\n",
       "      <td>36084</td>\n",
       "      <td>CA</td>\n",
       "      <td>6013</td>\n",
       "      <td>6.013355e+09</td>\n",
       "      <td>C</td>\n",
       "      <td>Conventional:First Lien</td>\n",
       "      <td>Single Family (1-4 Units):Manufactured</td>\n",
       "      <td>Ethnicity Not Available</td>\n",
       "      <td>...</td>\n",
       "      <td>NaN</td>\n",
       "      <td>NaN</td>\n",
       "      <td>NaN</td>\n",
       "      <td>5000</td>\n",
       "      <td>26.24</td>\n",
       "      <td>142800</td>\n",
       "      <td>125</td>\n",
       "      <td>1503</td>\n",
       "      <td>1660</td>\n",
       "      <td>46</td>\n",
       "    </tr>\n",
       "    <tr>\n",
       "      <th>492583</th>\n",
       "      <td>2022</td>\n",
       "      <td>5493000YNV8IX4VD3X12</td>\n",
       "      <td>36084</td>\n",
       "      <td>CA</td>\n",
       "      <td>6001</td>\n",
       "      <td>6.001451e+09</td>\n",
       "      <td>C</td>\n",
       "      <td>Conventional:First Lien</td>\n",
       "      <td>Single Family (1-4 Units):Manufactured</td>\n",
       "      <td>Ethnicity Not Available</td>\n",
       "      <td>...</td>\n",
       "      <td>NaN</td>\n",
       "      <td>NaN</td>\n",
       "      <td>NaN</td>\n",
       "      <td>8901</td>\n",
       "      <td>82.44</td>\n",
       "      <td>142800</td>\n",
       "      <td>122</td>\n",
       "      <td>814</td>\n",
       "      <td>1290</td>\n",
       "      <td>28</td>\n",
       "    </tr>\n",
       "  </tbody>\n",
       "</table>\n",
       "<p>5 rows × 99 columns</p>\n",
       "</div>"
      ],
      "text/plain": [
       "        activity_year                   lei  derived_msa-md state_code  \\\n",
       "492579           2022  5493000YNV8IX4VD3X12           36084         CA   \n",
       "492580           2022  5493000YNV8IX4VD3X12           36084         CA   \n",
       "492581           2022  5493000YNV8IX4VD3X12           36084         CA   \n",
       "492582           2022  5493000YNV8IX4VD3X12           36084         CA   \n",
       "492583           2022  5493000YNV8IX4VD3X12           36084         CA   \n",
       "\n",
       "        county_code  census_tract conforming_loan_limit  \\\n",
       "492579         6013  6.013355e+09                     C   \n",
       "492580         6013  6.013335e+09                     C   \n",
       "492581         6013  6.013355e+09                     C   \n",
       "492582         6013  6.013355e+09                     C   \n",
       "492583         6001  6.001451e+09                     C   \n",
       "\n",
       "       derived_loan_product_type               derived_dwelling_category  \\\n",
       "492579   Conventional:First Lien  Single Family (1-4 Units):Manufactured   \n",
       "492580   Conventional:First Lien  Single Family (1-4 Units):Manufactured   \n",
       "492581   Conventional:First Lien  Single Family (1-4 Units):Manufactured   \n",
       "492582   Conventional:First Lien  Single Family (1-4 Units):Manufactured   \n",
       "492583   Conventional:First Lien  Single Family (1-4 Units):Manufactured   \n",
       "\n",
       "              derived_ethnicity  ... denial_reason-2 denial_reason-3  \\\n",
       "492579       Hispanic or Latino  ...             NaN             NaN   \n",
       "492580       Hispanic or Latino  ...             NaN             NaN   \n",
       "492581   Not Hispanic or Latino  ...             7.0             NaN   \n",
       "492582  Ethnicity Not Available  ...             NaN             NaN   \n",
       "492583  Ethnicity Not Available  ...             NaN             NaN   \n",
       "\n",
       "        denial_reason-4  tract_population  tract_minority_population_percent  \\\n",
       "492579              NaN              5793                              66.80   \n",
       "492580              NaN              3463                              48.46   \n",
       "492581              NaN              4434                              82.68   \n",
       "492582              NaN              5000                              26.24   \n",
       "492583              NaN              8901                              82.44   \n",
       "\n",
       "        ffiec_msa_md_median_family_income  tract_to_msa_income_percentage  \\\n",
       "492579                             142800                             108   \n",
       "492580                             142800                              94   \n",
       "492581                             142800                              79   \n",
       "492582                             142800                             125   \n",
       "492583                             142800                             122   \n",
       "\n",
       "        tract_owner_occupied_units  tract_one_to_four_family_homes  \\\n",
       "492579                        1448                            1709   \n",
       "492580                         816                            1235   \n",
       "492581                         808                            1205   \n",
       "492582                        1503                            1660   \n",
       "492583                         814                            1290   \n",
       "\n",
       "        tract_median_age_of_housing_units  \n",
       "492579                                 32  \n",
       "492580                                 66  \n",
       "492581                                 32  \n",
       "492582                                 46  \n",
       "492583                                 28  \n",
       "\n",
       "[5 rows x 99 columns]"
      ]
     },
     "execution_count": 7,
     "metadata": {},
     "output_type": "execute_result"
    }
   ],
   "source": [
    "orig_df.tail()"
   ]
  },
  {
   "cell_type": "markdown",
   "metadata": {},
   "source": [
    "### Cleaning the data"
   ]
  },
  {
   "cell_type": "markdown",
   "metadata": {},
   "source": [
    "#### First-round: Simplifying"
   ]
  },
  {
   "cell_type": "markdown",
   "metadata": {},
   "source": [
    "My first step here is to do first-round of data cleaning, mostly simplifying the data by renaming some features and dropping the ones that will not be used.\n",
    "\n",
    "Dropping:\n",
    "\n",
    "- `activity_year`, `state_code`, `county_code`, `derived_msa-md`: constants, codes\n",
    "- `lei`: I will not differentiate between the financial institutions\n",
    "- `aus-*`: The automated underwriting system(s) (AUS) used by the financial institution to evaluate the application\n",
    "- `_observed`: whether the information was collected on the basis of visual observation or surname\n",
    "- `census_tract`\n",
    "- `preapproval`: all pre-approved applications are approved\n",
    "\n",
    "Simplifying:\n",
    "\n",
    "- `denial-reason-*`: columns are directly related to the `Denied` applications and will not be used in the training, but are useful to analyze before modeling. I will join all reasons in one feature.\n",
    "- `[co-]applicant_race-*` and `[co-]applicant_ethnicity-*`: will keep only option 1 with broader groups\n",
    "\n",
    "Renaming:\n",
    "\n",
    "- `action_taken` to `application_outcome`\n",
    "\n",
    "Removing:\n",
    "\n",
    "- all rows with `Exempt`"
   ]
  },
  {
   "cell_type": "code",
   "execution_count": 8,
   "metadata": {},
   "outputs": [
    {
     "name": "stdout",
     "output_type": "stream",
     "text": [
      "(492584, 53)\n"
     ]
    }
   ],
   "source": [
    "unused_columns = [\n",
    "    *[x for x in orig_df.columns if x.startswith(\"aus-\")],\n",
    "    *[x for x in orig_df.columns if x.endswith(\"observed\")],\n",
    "    *[x for x in orig_df.columns if x.endswith(\"_credit_score_type\")],\n",
    "    # *[x for x in orig_df.columns if x.endswith(\"derived\")],\n",
    "    \"activity_year\",\n",
    "    \"state_code\",\n",
    "    \"county_code\",\n",
    "    \"derived_msa-md\",\n",
    "    \"lei\",\n",
    "    \"census_tract\",\n",
    "    \"preapproval\",\n",
    "    \"submission_of_application\",\n",
    "    \"manufactured_home_secured_property_type\",\n",
    "    \"manufactured_home_land_property_interest\",\n",
    "    \"other_nonamortizing_features\",\n",
    "    \"negative_amortization\",\n",
    "    \"initially_payable_to_institution\",\n",
    "    \"ffiec_msa_md_median_family_income\",\n",
    "]\n",
    "\n",
    "df = orig_df.drop(unused_columns, axis=1)\n",
    "df = df[df != \"Exempt\"]\n",
    "df = df.rename(\n",
    "    columns={\n",
    "        \"action_taken\": \"application_outcome\",\n",
    "        \"co-applicant_sex\": \"coapplicant_sex\",\n",
    "        \"co-applicant_age\": \"coapplicant_age\",\n",
    "    }\n",
    ")\n",
    "\n",
    "# joining all denial_reasons\n",
    "df[\"denial_reason\"] = (\n",
    "    df[[x for x in df.columns if x.startswith(\"denial_reason-\")]]\n",
    "    .replace(\n",
    "        {\n",
    "            1: \"Debt-to-income ratio\",\n",
    "            2: \"Employment history\",\n",
    "            3: \"Credit history\",\n",
    "            4: \"Collateral\",\n",
    "            5: \"Insufficient cash\",\n",
    "            6: \"Unverifiable information\",\n",
    "            7: \"Credit application incomplete\",\n",
    "            8: \"Mortgage insurance denied\",\n",
    "            9: \"Other\",\n",
    "            10: \"not_applicable\",\n",
    "        }\n",
    "    )\n",
    "    .apply(\n",
    "        lambda x: \";\".join([str(reason) for reason in x if pd.notnull(reason)]), axis=1\n",
    "    )\n",
    ")\n",
    "df = df.drop([x for x in df.columns if x.startswith(\"denial_reason-\")], axis=1)\n",
    "\n",
    "# applicant race\n",
    "df[\"applicant_race\"] = (\n",
    "    df[[\"applicant_race-1\"]]\n",
    "    .map(lambda x: int(str(int(x))[:1]) if pd.notnull(x) else np.nan)\n",
    "    .replace(\n",
    "        {\n",
    "            1: \"NA/PI\",\n",
    "            2: \"Asian\",\n",
    "            3: \"Black\",\n",
    "            4: \"NA/PI\",\n",
    "            5: \"White\",\n",
    "            6: \"not_provided\",\n",
    "            7: \"not_applicable\",\n",
    "        }\n",
    "    )\n",
    ")\n",
    "df = df.drop([x for x in df.columns if x.startswith(\"applicant_race-\")], axis=1)\n",
    "\n",
    "# co-applicant race\n",
    "df[\"coapplicant_race\"] = (\n",
    "    df[[\"co-applicant_race-1\"]]\n",
    "    .map(lambda x: int(str(int(x))[:1]) if pd.notnull(x) else np.nan)\n",
    "    .replace(\n",
    "        {\n",
    "            1: \"NA/PI\",\n",
    "            2: \"Asian\",\n",
    "            3: \"Black\",\n",
    "            4: \"NA/PI\",\n",
    "            5: \"White\",\n",
    "            6: \"not_provided\",\n",
    "            7: \"not_applicable\",\n",
    "            8: \"no_coapplicant\",\n",
    "        }\n",
    "    )\n",
    ")\n",
    "df = df.drop([x for x in df.columns if x.startswith(\"co-applicant_race-\")], axis=1)\n",
    "\n",
    "# applicant ethnicity\n",
    "df[\"applicant_ethnicity\"] = (\n",
    "    df[[\"applicant_ethnicity-1\"]]\n",
    "    .map(lambda x: int(str(int(x))[:1]) if pd.notnull(x) else np.nan)\n",
    "    .replace(\n",
    "        {\n",
    "            1: \"Hispanic/Latino\",\n",
    "            2: \"Not Hispanic/Latino\",\n",
    "            3: \"not_provided\",\n",
    "            4: \"not_applicable\",\n",
    "        }\n",
    "    )\n",
    ")\n",
    "df = df.drop([x for x in df.columns if x.startswith(\"applicant_ethnicity-\")], axis=1)\n",
    "\n",
    "# co-applicant ethnicity\n",
    "df[\"coapplicant_ethnicity\"] = (\n",
    "    df[[\"co-applicant_ethnicity-1\"]]\n",
    "    .map(lambda x: int(str(int(x))[:1]) if pd.notnull(x) else np.nan)\n",
    "    .replace(\n",
    "        {\n",
    "            1: \"Hispanic/Latino\",\n",
    "            2: \"Not Hispanic/Latino\",\n",
    "            3: \"not_provided\",\n",
    "            4: \"not_applicable\",\n",
    "            5: \"no_coapplicant\",\n",
    "        }\n",
    "    )\n",
    ")\n",
    "df = df.drop([x for x in df.columns if x.startswith(\"co-applicant_ethnicity-\")], axis=1)\n",
    "\n",
    "print(df.shape)"
   ]
  },
  {
   "cell_type": "markdown",
   "metadata": {},
   "source": [
    "### Second-round: Analyse column counts and map to new variables\n",
    "\n",
    "Here I will go column by column checking the distribution of values and mapping them to better values. This will also be used to filter and remove rows in order to simplify the dataset."
   ]
  },
  {
   "cell_type": "markdown",
   "metadata": {},
   "source": [
    "#### Target feature: application outcome"
   ]
  },
  {
   "cell_type": "code",
   "execution_count": 9,
   "metadata": {},
   "outputs": [
    {
     "data": {
      "text/plain": [
       "application_outcome\n",
       "1    422694\n",
       "3     69890\n",
       "Name: count, dtype: int64"
      ]
     },
     "metadata": {},
     "output_type": "display_data"
    }
   ],
   "source": [
    "# 1 - Loan originated\n",
    "# 3 - Application denied\n",
    "display(df[\"application_outcome\"].value_counts(dropna=False))"
   ]
  },
  {
   "cell_type": "code",
   "execution_count": 10,
   "metadata": {},
   "outputs": [
    {
     "data": {
      "text/plain": [
       "application_outcome\n",
       "Approved    422694\n",
       "Denied       69890\n",
       "Name: count, dtype: int64"
      ]
     },
     "metadata": {},
     "output_type": "display_data"
    }
   ],
   "source": [
    "# Target feature\n",
    "df[\"application_outcome\"] = df[\"application_outcome\"].map({1: \"Approved\", 3: \"Denied\"})\n",
    "display(df[\"application_outcome\"].value_counts(dropna=False))"
   ]
  },
  {
   "cell_type": "code",
   "execution_count": 11,
   "metadata": {},
   "outputs": [
    {
     "name": "stdout",
     "output_type": "stream",
     "text": [
      "application_outcome\n",
      "Approved    0.858116\n",
      "Denied      0.141884\n",
      "Name: proportion, dtype: float64\n"
     ]
    },
    {
     "data": {
      "image/png": "[encoded data removed]",
      "text/plain": [
       "<Figure size 400x300 with 1 Axes>"
      ]
     },
     "metadata": {},
     "output_type": "display_data"
    }
   ],
   "source": [
    "print(f'{df[\"application_outcome\"].value_counts(normalize=True)}')\n",
    "\n",
    "f, ax = plt.subplots(figsize=(4, 3))\n",
    "sns.countplot(\n",
    "    df, x=\"application_outcome\", stat=\"percent\", hue=\"application_outcome\", ax=ax\n",
    ")\n",
    "plt.show()"
   ]
  },
  {
   "cell_type": "markdown",
   "metadata": {},
   "source": [
    "#### Age of applicant and co-applicant"
   ]
  },
  {
   "cell_type": "code",
   "execution_count": 12,
   "metadata": {},
   "outputs": [
    {
     "data": {
      "text/plain": [
       "applicant_age\n",
       "35-44    141339\n",
       "45-54    125543\n",
       "55-64     88058\n",
       "25-34     66758\n",
       "65-74     46754\n",
       ">74       18717\n",
       "8888       3388\n",
       "<25        2027\n",
       "Name: count, dtype: int64"
      ]
     },
     "metadata": {},
     "output_type": "display_data"
    }
   ],
   "source": [
    "display(df[\"applicant_age\"].value_counts(dropna=False))"
   ]
  },
  {
   "cell_type": "code",
   "execution_count": 13,
   "metadata": {},
   "outputs": [],
   "source": [
    "df['coapplicant_age'] = df[\"coapplicant_age\"].replace({'9999': 'no_coapplicant', '8888': np.nan})\n",
    "df = df.dropna(axis=0, subset='coapplicant_age')"
   ]
  },
  {
   "cell_type": "markdown",
   "metadata": {},
   "source": [
    "#### Sex of applicant and co-applicant"
   ]
  },
  {
   "cell_type": "code",
   "execution_count": 14,
   "metadata": {},
   "outputs": [
    {
     "data": {
      "text/plain": [
       "applicant_sex\n",
       "1    295874\n",
       "2    142442\n",
       "3     49159\n",
       "4      2384\n",
       "6       309\n",
       "Name: count, dtype: int64"
      ]
     },
     "metadata": {},
     "output_type": "display_data"
    }
   ],
   "source": [
    "# 1 - Male\n",
    "# 2 - Female\n",
    "# 3 - Information not provided by applicant in mail, internet, or telephone application\n",
    "# 4 - Not applicable\n",
    "# 6 - Applicant selected both male and female\n",
    "display(df[\"applicant_sex\"].value_counts(dropna=False))"
   ]
  },
  {
   "cell_type": "code",
   "execution_count": 15,
   "metadata": {},
   "outputs": [
    {
     "data": {
      "text/plain": [
       "applicant_sex\n",
       "Male            295874\n",
       "Female          142442\n",
       "not_provided     49159\n",
       "Name: count, dtype: int64"
      ]
     },
     "metadata": {},
     "output_type": "display_data"
    }
   ],
   "source": [
    "# Selecting Male (1), Female (2), not_provided (3); dropping the rest\n",
    "df[\"applicant_sex\"] = df[\"applicant_sex\"].map(\n",
    "    {1: \"Male\", 2: \"Female\", 3: \"not_provided\"}\n",
    ")\n",
    "df = df.dropna(axis=0, subset=\"applicant_sex\")\n",
    "display(df[\"applicant_sex\"].value_counts(dropna=False))"
   ]
  },
  {
   "cell_type": "code",
   "execution_count": 16,
   "metadata": {},
   "outputs": [
    {
     "data": {
      "text/plain": [
       "coapplicant_sex\n",
       "5    244194\n",
       "2    156945\n",
       "1     58526\n",
       "3     27200\n",
       "4       472\n",
       "6       138\n",
       "Name: count, dtype: int64"
      ]
     },
     "metadata": {},
     "output_type": "display_data"
    }
   ],
   "source": [
    "# 1 - Male\n",
    "# 2 - Female\n",
    "# 3 - Information not provided by applicant in mail, internet, or telephone application\n",
    "# 4 - Not applicable\n",
    "# 5 - no co-applicant\n",
    "# 6 - Applicant selected both male and female\n",
    "display(df[\"coapplicant_sex\"].value_counts())"
   ]
  },
  {
   "cell_type": "code",
   "execution_count": 17,
   "metadata": {},
   "outputs": [
    {
     "data": {
      "text/plain": [
       "coapplicant_sex\n",
       "no_coapplicant    244194\n",
       "Female            156945\n",
       "Male               58526\n",
       "not_provided       27200\n",
       "Name: count, dtype: int64"
      ]
     },
     "metadata": {},
     "output_type": "display_data"
    }
   ],
   "source": [
    "# Selecting Male (1), Female (2), not_provided (3), no_coapplicant (5)\n",
    "df[\"coapplicant_sex\"] = df[\"coapplicant_sex\"].map(\n",
    "    {1: \"Male\", 2: \"Female\", 3: \"not_provided\", 5: \"no_coapplicant\"}\n",
    ")\n",
    "df = df.dropna(axis=0, subset=\"coapplicant_sex\")\n",
    "display(df[\"coapplicant_sex\"].value_counts())"
   ]
  },
  {
   "cell_type": "markdown",
   "metadata": {},
   "source": [
    "#### Loan details"
   ]
  },
  {
   "cell_type": "code",
   "execution_count": 18,
   "metadata": {},
   "outputs": [
    {
     "data": {
      "text/plain": [
       "loan_type\n",
       "1    459230\n",
       "2     15740\n",
       "3     11724\n",
       "4       171\n",
       "Name: count, dtype: int64"
      ]
     },
     "metadata": {},
     "output_type": "display_data"
    }
   ],
   "source": [
    "# 1 - Conventional (not insured or guaranteed by FHA, VA, RHS, or FSA)\n",
    "# 2 - Federal Housing Administration insured (FHA)\n",
    "# 3 - Veterans Affairs guaranteed (VA)\n",
    "# 4 - USDA Rural Housing Service or Farm Service Agency guaranteed (RHS or FSA)\n",
    "display(df[\"loan_type\"].value_counts())"
   ]
  },
  {
   "cell_type": "code",
   "execution_count": 19,
   "metadata": {},
   "outputs": [
    {
     "data": {
      "text/plain": [
       "loan_type\n",
       "Conventional    459230\n",
       "FHA              15740\n",
       "VA               11724\n",
       "Name: count, dtype: int64"
      ]
     },
     "metadata": {},
     "output_type": "display_data"
    }
   ],
   "source": [
    "# Loan type - keeping 1/2/3\n",
    "df[\"loan_type\"] = df[\"loan_type\"].map({1: \"Conventional\", 2: \"FHA\", 3: \"VA\"})\n",
    "df = df.dropna(axis=0, subset=\"loan_type\")\n",
    "display(df[\"loan_type\"].value_counts())"
   ]
  },
  {
   "cell_type": "code",
   "execution_count": 20,
   "metadata": {},
   "outputs": [
    {
     "data": {
      "text/plain": [
       "purchaser_type\n",
       "GSE               226312\n",
       "not_applicable    185812\n",
       "CU/MC/FC           35690\n",
       "Bank               22483\n",
       "Private             7213\n",
       "Other               5304\n",
       "Affiliate           2189\n",
       "LifeInsurance       1690\n",
       "Farmer Mac             1\n",
       "Name: count, dtype: int64"
      ]
     },
     "metadata": {},
     "output_type": "display_data"
    }
   ],
   "source": [
    "# 0 - Not applicable\n",
    "# 1 - Fannie Mae\n",
    "# 2 - Ginnie Mae\n",
    "# 3 - Freddie Mac\n",
    "# 4 - Farmer Mac\n",
    "# 5 - Private securitizer\n",
    "# 6 - Commercial bank, savings bank, or savings association\n",
    "# 71 - Credit union, mortgage company, or finance company\n",
    "# 72 - Life insurance company\n",
    "# 8 - Affiliate institution\n",
    "# 9 - Other type of purchaser\n",
    "df[\"purchaser_type\"] = df[\"purchaser_type\"].map(\n",
    "    {\n",
    "        0: \"not_applicable\",\n",
    "        1: \"GSE\",\n",
    "        2: \"GSE\",\n",
    "        3: \"GSE\",\n",
    "        4: \"Farmer Mac\",\n",
    "        5: \"Private\",\n",
    "        6: \"Bank\",\n",
    "        71: \"CU/MC/FC\",\n",
    "        72: \"LifeInsurance\",\n",
    "        8: \"Affiliate\",\n",
    "        9: \"Other\",\n",
    "    }\n",
    ")\n",
    "display(df[\"purchaser_type\"].value_counts(dropna=False))"
   ]
  },
  {
   "cell_type": "code",
   "execution_count": 21,
   "metadata": {},
   "outputs": [
    {
     "data": {
      "text/plain": [
       "purchaser_type\n",
       "GSE               226312\n",
       "not_applicable    185812\n",
       "CU/MC/FC           35690\n",
       "Bank               22483\n",
       "Private             7213\n",
       "Affiliate           2189\n",
       "LifeInsurance       1690\n",
       "Name: count, dtype: int64"
      ]
     },
     "metadata": {},
     "output_type": "display_data"
    }
   ],
   "source": [
    "# Keeping not_applicable (0), GSE (1+2+3), Private (5), Bank (6), CU/MC/FC (71), LifeInsurance (72), Affiliate (8); dropping 9 and 4\n",
    "df = df[(df[\"purchaser_type\"] != \"Farmer Mac\") & (df[\"purchaser_type\"] != \"Other\")]\n",
    "display(df[\"purchaser_type\"].value_counts(dropna=False))"
   ]
  },
  {
   "cell_type": "code",
   "execution_count": 22,
   "metadata": {},
   "outputs": [
    {
     "data": {
      "text/plain": [
       "loan_purpose\n",
       "Refinancing             235898\n",
       "Home purchase            98656\n",
       "Cash-out refinancing     94531\n",
       "Home improvement         27698\n",
       "Other                    24573\n",
       "not_applicable              33\n",
       "Name: count, dtype: int64"
      ]
     },
     "metadata": {},
     "output_type": "display_data"
    }
   ],
   "source": [
    "# Description: The purpose of covered loan or application\n",
    "# Values:\n",
    "# 1 - Home purchase\n",
    "# 2 - Home improvement\n",
    "# 31 - Refinancing\n",
    "# 32 - Cash-out refinancing\n",
    "# 4 - Other purpose\n",
    "# 5 - Not applicable\n",
    "df[\"loan_purpose\"] = df[\"loan_purpose\"].map(\n",
    "    {\n",
    "        1: \"Home purchase\",\n",
    "        2: \"Home improvement\",\n",
    "        31: \"Refinancing\",\n",
    "        32: \"Cash-out refinancing\",\n",
    "        4: \"Other\",\n",
    "        5: \"not_applicable\",\n",
    "    }\n",
    ")\n",
    "display(df[\"loan_purpose\"].value_counts())"
   ]
  },
  {
   "cell_type": "code",
   "execution_count": 23,
   "metadata": {},
   "outputs": [
    {
     "data": {
      "text/plain": [
       "loan_purpose\n",
       "Refinancing             235898\n",
       "Home purchase            98656\n",
       "Cash-out refinancing     94531\n",
       "Home improvement         27698\n",
       "Other                    24573\n",
       "Name: count, dtype: int64"
      ]
     },
     "metadata": {},
     "output_type": "display_data"
    }
   ],
   "source": [
    "# Dropping `not_applicable`\n",
    "df = df[df[\"loan_purpose\"] != \"not_applicable\"]\n",
    "display(df[\"loan_purpose\"].value_counts(dropna=False))"
   ]
  },
  {
   "cell_type": "code",
   "execution_count": 24,
   "metadata": {},
   "outputs": [
    {
     "data": {
      "text/plain": [
       "lien_status\n",
       "First          427205\n",
       "Subordinate     54151\n",
       "Name: count, dtype: int64"
      ]
     },
     "metadata": {},
     "output_type": "display_data"
    }
   ],
   "source": [
    "# Description: Lien status of the property securing the covered loan, or in the case of an application, proposed to secure the covered loan\n",
    "# Values:\n",
    "# 1 - Secured by a first lien\n",
    "# 2 - Secured by a subordinate lien\n",
    "df[\"lien_status\"] = df[\"lien_status\"].map(\n",
    "    {\n",
    "        1: \"First\",\n",
    "        2: \"Subordinate\",\n",
    "    }\n",
    ")\n",
    "display(df[\"lien_status\"].value_counts(dropna=False))"
   ]
  },
  {
   "cell_type": "code",
   "execution_count": 25,
   "metadata": {},
   "outputs": [
    {
     "data": {
      "text/plain": [
       "business_or_commercial_purpose\n",
       "2       463648\n",
       "1        16515\n",
       "1111      1193\n",
       "Name: count, dtype: int64"
      ]
     },
     "metadata": {},
     "output_type": "display_data"
    }
   ],
   "source": [
    "# Description: Whether the covered loan or application is primarily for a business or commercial purpose\n",
    "# Values:\n",
    "# 1 - Primarily for a business or commercial purpose\n",
    "# 2 - Not primarily for a business or commercial purpose\n",
    "# 1111 - Exempt\n",
    "display(df[\"business_or_commercial_purpose\"].value_counts(dropna=False))"
   ]
  },
  {
   "cell_type": "code",
   "execution_count": 26,
   "metadata": {},
   "outputs": [
    {
     "data": {
      "text/plain": [
       "business_or_commercial_purpose\n",
       "No     463648\n",
       "Yes     16515\n",
       "Name: count, dtype: int64"
      ]
     },
     "metadata": {},
     "output_type": "display_data"
    }
   ],
   "source": [
    "# Dropping Exempt\n",
    "df[\"business_or_commercial_purpose\"] = df[\"business_or_commercial_purpose\"].map(\n",
    "    {1: \"Yes\", 2: \"No\"}\n",
    ")\n",
    "df = df.dropna(axis=0, subset=\"business_or_commercial_purpose\")\n",
    "display(df[\"business_or_commercial_purpose\"].value_counts(dropna=False))"
   ]
  },
  {
   "cell_type": "markdown",
   "metadata": {},
   "source": [
    "#### Race and ethnicity"
   ]
  },
  {
   "cell_type": "code",
   "execution_count": 27,
   "metadata": {},
   "outputs": [
    {
     "data": {
      "text/plain": [
       "applicant_race\n",
       "White             189521\n",
       "Asian             149180\n",
       "not_provided      112693\n",
       "Black              22979\n",
       "NA/PI               5699\n",
       "NaN                   59\n",
       "not_applicable        32\n",
       "Name: count, dtype: int64"
      ]
     },
     "metadata": {},
     "output_type": "display_data"
    }
   ],
   "source": [
    "display(df[\"applicant_race\"].value_counts(dropna=False))"
   ]
  },
  {
   "cell_type": "code",
   "execution_count": 28,
   "metadata": {},
   "outputs": [
    {
     "data": {
      "text/plain": [
       "applicant_race\n",
       "White           189521\n",
       "Asian           149180\n",
       "not_provided    112693\n",
       "Black            22979\n",
       "NA/PI             5699\n",
       "Name: count, dtype: int64"
      ]
     },
     "metadata": {},
     "output_type": "display_data"
    }
   ],
   "source": [
    "df = df.dropna(axis=0, subset=\"applicant_race\")\n",
    "df = df[df[\"applicant_race\"] != \"not_applicable\"]\n",
    "display(df[\"applicant_race\"].value_counts(dropna=False))"
   ]
  },
  {
   "cell_type": "code",
   "execution_count": 29,
   "metadata": {},
   "outputs": [
    {
     "data": {
      "text/plain": [
       "coapplicant_race\n",
       "no_coapplicant    240588\n",
       "White              98028\n",
       "Asian              70704\n",
       "not_provided       61010\n",
       "Black               7071\n",
       "NA/PI               2641\n",
       "not_applicable        17\n",
       "NaN                   13\n",
       "Name: count, dtype: int64"
      ]
     },
     "metadata": {},
     "output_type": "display_data"
    }
   ],
   "source": [
    "display(df[\"coapplicant_race\"].value_counts(dropna=False))"
   ]
  },
  {
   "cell_type": "code",
   "execution_count": 30,
   "metadata": {},
   "outputs": [
    {
     "data": {
      "text/plain": [
       "coapplicant_race\n",
       "no_coapplicant    240588\n",
       "White              98028\n",
       "Asian              70704\n",
       "not_provided       61010\n",
       "Black               7071\n",
       "NA/PI               2641\n",
       "Name: count, dtype: int64"
      ]
     },
     "metadata": {},
     "output_type": "display_data"
    }
   ],
   "source": [
    "df = df.dropna(axis=0, subset=\"coapplicant_race\")\n",
    "df = df[df[\"coapplicant_race\"] != \"not_applicable\"]\n",
    "display(df[\"coapplicant_race\"].value_counts(dropna=False))"
   ]
  },
  {
   "cell_type": "code",
   "execution_count": 31,
   "metadata": {},
   "outputs": [
    {
     "data": {
      "text/plain": [
       "applicant_ethnicity\n",
       "Not Hispanic/Latino    328619\n",
       "not_provided           104821\n",
       "Hispanic/Latino         46359\n",
       "NaN                       209\n",
       "not_applicable             34\n",
       "Name: count, dtype: int64"
      ]
     },
     "metadata": {},
     "output_type": "display_data"
    }
   ],
   "source": [
    "display(df[\"applicant_ethnicity\"].value_counts(dropna=False))"
   ]
  },
  {
   "cell_type": "code",
   "execution_count": 32,
   "metadata": {},
   "outputs": [
    {
     "data": {
      "text/plain": [
       "applicant_ethnicity\n",
       "Not Hispanic/Latino    328619\n",
       "not_provided           104821\n",
       "Hispanic/Latino         46359\n",
       "Name: count, dtype: int64"
      ]
     },
     "metadata": {},
     "output_type": "display_data"
    }
   ],
   "source": [
    "df = df.dropna(axis=0, subset=\"applicant_ethnicity\")\n",
    "df = df[df[\"applicant_ethnicity\"] != \"not_applicable\"]\n",
    "display(df[\"applicant_ethnicity\"].value_counts(dropna=False))"
   ]
  },
  {
   "cell_type": "code",
   "execution_count": 33,
   "metadata": {},
   "outputs": [
    {
     "data": {
      "text/plain": [
       "coapplicant_ethnicity\n",
       "no_coapplicant         240383\n",
       "Not Hispanic/Latino    159577\n",
       "not_provided            56823\n",
       "Hispanic/Latino         22992\n",
       "NaN                        14\n",
       "not_applicable             10\n",
       "Name: count, dtype: int64"
      ]
     },
     "metadata": {},
     "output_type": "display_data"
    }
   ],
   "source": [
    "display(df[\"coapplicant_ethnicity\"].value_counts(dropna=False))"
   ]
  },
  {
   "cell_type": "code",
   "execution_count": 34,
   "metadata": {},
   "outputs": [
    {
     "data": {
      "text/plain": [
       "coapplicant_ethnicity\n",
       "no_coapplicant         240383\n",
       "Not Hispanic/Latino    159577\n",
       "not_provided            56823\n",
       "Hispanic/Latino         22992\n",
       "Name: count, dtype: int64"
      ]
     },
     "metadata": {},
     "output_type": "display_data"
    }
   ],
   "source": [
    "df = df.dropna(axis=0, subset=\"coapplicant_ethnicity\")\n",
    "df = df[df[\"coapplicant_ethnicity\"] != \"not_applicable\"]\n",
    "display(df[\"coapplicant_ethnicity\"].value_counts(dropna=False))"
   ]
  },
  {
   "cell_type": "code",
   "execution_count": 35,
   "metadata": {},
   "outputs": [
    {
     "data": {
      "text/plain": [
       "derived_loan_product_type\n",
       "Conventional:First Lien          398933\n",
       "Conventional:Subordinate Lien     54002\n",
       "FHA:First Lien                    15209\n",
       "VA:First Lien                     11616\n",
       "FHA:Subordinate Lien                 15\n",
       "Name: count, dtype: int64"
      ]
     },
     "metadata": {},
     "output_type": "display_data"
    }
   ],
   "source": [
    "display(df[\"derived_loan_product_type\"].value_counts(dropna=False))"
   ]
  },
  {
   "cell_type": "code",
   "execution_count": 36,
   "metadata": {},
   "outputs": [
    {
     "data": {
      "text/plain": [
       "derived_loan_product_type\n",
       "Conventional:First Lien          398933\n",
       "Conventional:Subordinate Lien     54002\n",
       "FHA:First Lien                    15209\n",
       "VA:First Lien                     11616\n",
       "Name: count, dtype: int64"
      ]
     },
     "metadata": {},
     "output_type": "display_data"
    }
   ],
   "source": [
    "df = df[df[\"derived_loan_product_type\"] != \"FHA:Subordinate Lien\"]\n",
    "display(df[\"derived_loan_product_type\"].value_counts())"
   ]
  },
  {
   "cell_type": "code",
   "execution_count": 37,
   "metadata": {},
   "outputs": [
    {
     "data": {
      "text/plain": [
       "construction_method\n",
       "1    477890\n",
       "2      1870\n",
       "Name: count, dtype: int64"
      ]
     },
     "metadata": {},
     "output_type": "display_data"
    }
   ],
   "source": [
    "# Description: Construction method for the dwelling\n",
    "# Values:\n",
    "# 1 - Site-built\n",
    "# 2 - Manufactured home\n",
    "display(df[\"construction_method\"].value_counts(dropna=False))\n",
    "# keeping only site-built constrution method and dropping the column\n",
    "df = df[df[\"construction_method\"] == 1]\n",
    "df = df.drop(\"construction_method\", axis=1)"
   ]
  },
  {
   "cell_type": "code",
   "execution_count": 38,
   "metadata": {},
   "outputs": [
    {
     "data": {
      "text/plain": [
       "total_units\n",
       "1        384652\n",
       "1         80871\n",
       "2          6234\n",
       "4          2155\n",
       "3          1738\n",
       "2          1107\n",
       "5-24        398\n",
       "4           384\n",
       "3           320\n",
       "25-49        27\n",
       "50-99         4\n",
       "Name: count, dtype: int64"
      ]
     },
     "metadata": {},
     "output_type": "display_data"
    },
    {
     "data": {
      "text/plain": [
       "total_units\n",
       "1-4    477461\n",
       "5+        429\n",
       "Name: count, dtype: int64"
      ]
     },
     "metadata": {},
     "output_type": "display_data"
    }
   ],
   "source": [
    "display(df[\"total_units\"].value_counts(dropna=False))\n",
    "# keeping only 1-4 units and dropping the column\n",
    "df[\"total_units\"] = (\n",
    "    df[\"total_units\"]\n",
    "    .astype(str)\n",
    "    .map(lambda x: \"1-4\" if int(x.split(\"-\")[0]) <= 4 else \"5+\")\n",
    ")\n",
    "display(df[\"total_units\"].value_counts(dropna=False))\n",
    "df = df[df[\"total_units\"] == \"1-4\"]\n",
    "df = df.drop(\"total_units\", axis=1)"
   ]
  },
  {
   "cell_type": "code",
   "execution_count": 39,
   "metadata": {},
   "outputs": [
    {
     "data": {
      "text/plain": [
       "derived_dwelling_category\n",
       "Single Family (1-4 Units):Site-Built    477461\n",
       "Name: count, dtype: int64"
      ]
     },
     "metadata": {},
     "output_type": "display_data"
    }
   ],
   "source": [
    "# this column is based on the previous 2, so now can be dropped\n",
    "display(df[\"derived_dwelling_category\"].value_counts(dropna=False))\n",
    "df = df.drop(\"derived_dwelling_category\", axis=1)"
   ]
  },
  {
   "cell_type": "code",
   "execution_count": 40,
   "metadata": {},
   "outputs": [
    {
     "data": {
      "text/plain": [
       "open-end_line_of_credit\n",
       "2    421008\n",
       "1     56453\n",
       "Name: count, dtype: int64"
      ]
     },
     "metadata": {},
     "output_type": "display_data"
    },
    {
     "data": {
      "text/plain": [
       "open-end_line_of_credit\n",
       "No     421008\n",
       "Yes     56453\n",
       "Name: count, dtype: int64"
      ]
     },
     "metadata": {},
     "output_type": "display_data"
    }
   ],
   "source": [
    "display(df[\"open-end_line_of_credit\"].value_counts(dropna=False))\n",
    "df[\"open-end_line_of_credit\"] = df[\"open-end_line_of_credit\"].map({1: \"Yes\", 2: \"No\"})\n",
    "display(df[\"open-end_line_of_credit\"].value_counts(dropna=False))"
   ]
  },
  {
   "cell_type": "code",
   "execution_count": 41,
   "metadata": {},
   "outputs": [
    {
     "data": {
      "text/plain": [
       "hoepa_status\n",
       "No                378349\n",
       "not_applicable     99025\n",
       "High-cost             87\n",
       "Name: count, dtype: int64"
      ]
     },
     "metadata": {},
     "output_type": "display_data"
    }
   ],
   "source": [
    "# Description: Whether the covered loan is a high-cost mortgage\n",
    "# Values:\n",
    "# 1 - High-cost mortgage\n",
    "# 2 - Not a high-cost mortgage\n",
    "# 3 - Not applicable\n",
    "df[\"hoepa_status\"] = df[\"hoepa_status\"].map(\n",
    "    {\n",
    "        1: \"High-cost\",\n",
    "        2: \"No\",\n",
    "        3: \"not_applicable\",\n",
    "    }\n",
    ")\n",
    "display(df[\"hoepa_status\"].value_counts(dropna=False))\n",
    "\n",
    "# dropping high-cost\n",
    "df = df[df[\"hoepa_status\"] != \"High-cost\"]"
   ]
  },
  {
   "cell_type": "code",
   "execution_count": 42,
   "metadata": {},
   "outputs": [
    {
     "data": {
      "text/plain": [
       "reverse_mortgage\n",
       "2    473769\n",
       "1      3605\n",
       "Name: count, dtype: int64"
      ]
     },
     "metadata": {},
     "output_type": "display_data"
    }
   ],
   "source": [
    "display(df[\"reverse_mortgage\"].value_counts(dropna=False))\n",
    "# dropping this column\n",
    "df = df.drop(\"reverse_mortgage\", axis=1)"
   ]
  },
  {
   "cell_type": "code",
   "execution_count": 43,
   "metadata": {},
   "outputs": [
    {
     "data": {
      "text/plain": [
       "interest_only_payment\n",
       "2       440611\n",
       "1        36104\n",
       "1111       659\n",
       "Name: count, dtype: int64"
      ]
     },
     "metadata": {},
     "output_type": "display_data"
    }
   ],
   "source": [
    "display(df[\"interest_only_payment\"].value_counts(dropna=False))\n",
    "df[\"interest_only_payment\"] = df[\"interest_only_payment\"].map({1: \"Yes\", 2: \"No\"})\n",
    "df = df.dropna(axis=0, subset=\"interest_only_payment\")  # dropping Exempt (1111)"
   ]
  },
  {
   "cell_type": "code",
   "execution_count": 44,
   "metadata": {},
   "outputs": [
    {
     "data": {
      "text/plain": [
       "balloon_payment\n",
       "2    476080\n",
       "1       635\n",
       "Name: count, dtype: int64"
      ]
     },
     "metadata": {},
     "output_type": "display_data"
    }
   ],
   "source": [
    "display(df[\"balloon_payment\"].value_counts())\n",
    "df = df.drop(\"balloon_payment\", axis=1)  # dropping"
   ]
  },
  {
   "cell_type": "code",
   "execution_count": 45,
   "metadata": {},
   "outputs": [
    {
     "data": {
      "text/plain": [
       "occupancy_type\n",
       "1    439948\n",
       "3     33137\n",
       "2      3630\n",
       "Name: count, dtype: int64"
      ]
     },
     "metadata": {},
     "output_type": "display_data"
    }
   ],
   "source": [
    "display(df[\"occupancy_type\"].value_counts())\n",
    "df[\"occupancy_type\"] = df[\"occupancy_type\"].map(\n",
    "    {1: \"Main residence\", 2: \"Second residence\", 3: \"Investiment property\"}\n",
    ")"
   ]
  },
  {
   "cell_type": "markdown",
   "metadata": {},
   "source": [
    "#### Check-point: check null values\n",
    "\n",
    "Here I check the columns for how many null values they have to decide what will be done."
   ]
  },
  {
   "cell_type": "code",
   "execution_count": 46,
   "metadata": {},
   "outputs": [
    {
     "name": "stdout",
     "output_type": "stream",
     "text": [
      "loan_to_value_ratio 15084\n",
      "interest_rate 67903\n",
      "rate_spread 90484\n",
      "total_loan_costs 123392\n",
      "total_points_and_fees 474391\n",
      "origination_charges 121997\n",
      "discount_points 362772\n",
      "lender_credits 302668\n",
      "loan_term 4456\n",
      "prepayment_penalty_term 455787\n",
      "intro_rate_period 383675\n",
      "property_value 9216\n",
      "multifamily_affordable_units 476715\n",
      "income 15386\n",
      "debt_to_income_ratio 19934\n",
      "applicant_age_above_62 87\n",
      "co-applicant_age_above_62 238832\n"
     ]
    }
   ],
   "source": [
    "for col in df.columns:\n",
    "    is_null = df[col].isnull().sum()\n",
    "    if is_null > 0:\n",
    "        print(col, is_null)"
   ]
  },
  {
   "cell_type": "markdown",
   "metadata": {},
   "source": [
    "The features that have a lot of missing values and cannot be rebuilt will be dropped."
   ]
  },
  {
   "cell_type": "code",
   "execution_count": 47,
   "metadata": {},
   "outputs": [],
   "source": [
    "df = df.drop(\n",
    "    [\n",
    "        \"total_loan_costs\",\n",
    "        \"total_points_and_fees\",\n",
    "        \"origination_charges\",\n",
    "        \"discount_points\",\n",
    "        \"lender_credits\",\n",
    "        \"prepayment_penalty_term\",\n",
    "        \"intro_rate_period\",\n",
    "        \"multifamily_affordable_units\",\n",
    "        \"co-applicant_age_above_62\",\n",
    "    ],\n",
    "    axis=1,\n",
    "    errors=\"ignore\",\n",
    ")"
   ]
  },
  {
   "cell_type": "code",
   "execution_count": 48,
   "metadata": {},
   "outputs": [
    {
     "name": "stdout",
     "output_type": "stream",
     "text": [
      "loan_to_value_ratio 15084\n",
      "interest_rate 67903\n",
      "rate_spread 90484\n",
      "loan_term 4456\n",
      "property_value 9216\n",
      "income 15386\n",
      "debt_to_income_ratio 19934\n",
      "applicant_age_above_62 87\n"
     ]
    }
   ],
   "source": [
    "for col in df.columns:\n",
    "    is_null = df[col].isnull().sum()\n",
    "    if is_null > 0:\n",
    "        print(col, is_null)"
   ]
  },
  {
   "cell_type": "markdown",
   "metadata": {},
   "source": [
    "The features `loan_term`, `property_value` and `income` are important, so all rows with null values will be dropped."
   ]
  },
  {
   "cell_type": "code",
   "execution_count": 49,
   "metadata": {},
   "outputs": [
    {
     "name": "stdout",
     "output_type": "stream",
     "text": [
      "loan_to_value_ratio 1813\n",
      "interest_rate 61193\n",
      "rate_spread 79509\n",
      "debt_to_income_ratio 2118\n",
      "applicant_age_above_62 50\n"
     ]
    }
   ],
   "source": [
    "df = df.dropna(axis=0, subset=[\"loan_term\", \"property_value\", \"income\"])\n",
    "\n",
    "for col in df.columns:\n",
    "    is_null = df[col].isnull().sum()\n",
    "    if is_null > 0:\n",
    "        print(col, is_null)"
   ]
  },
  {
   "cell_type": "markdown",
   "metadata": {},
   "source": [
    "I will impute the missing `interest_rate` and `rate_spread` values with the median of their columns."
   ]
  },
  {
   "cell_type": "code",
   "execution_count": 50,
   "metadata": {},
   "outputs": [
    {
     "data": {
      "text/plain": [
       "count    390037.000000\n",
       "mean          3.229420\n",
       "std           4.713438\n",
       "min           0.000000\n",
       "25%           2.750000\n",
       "50%           2.990000\n",
       "75%           3.375000\n",
       "max        2875.000000\n",
       "Name: interest_rate, dtype: float64"
      ]
     },
     "metadata": {},
     "output_type": "display_data"
    },
    {
     "data": {
      "text/plain": [
       "count    390035.000000\n",
       "mean          3.221360\n",
       "std           0.939524\n",
       "min           0.000000\n",
       "25%           2.750000\n",
       "50%           2.990000\n",
       "75%           3.375000\n",
       "max          15.130000\n",
       "Name: interest_rate, dtype: float64"
      ]
     },
     "metadata": {},
     "output_type": "display_data"
    },
    {
     "name": "stderr",
     "output_type": "stream",
     "text": [
      "/tmp/ipykernel_294422/1299212761.py:8: FutureWarning: Downcasting object dtype arrays on .fillna, .ffill, .bfill is deprecated and will change in a future version. Call result.infer_objects(copy=False) instead. To opt-in to the future behavior, set `pd.set_option('future.no_silent_downcasting', True)`\n",
      "  df[\"interest_rate\"] = df[\"interest_rate\"].fillna(\n"
     ]
    },
    {
     "data": {
      "text/plain": [
       "count    390035.000000\n",
       "mean          3.221360\n",
       "std           0.939524\n",
       "min           0.000000\n",
       "25%           2.750000\n",
       "50%           2.990000\n",
       "75%           3.375000\n",
       "max          15.130000\n",
       "Name: interest_rate, dtype: float64"
      ]
     },
     "metadata": {},
     "output_type": "display_data"
    }
   ],
   "source": [
    "# Converting non-null values to float and checking outliers\n",
    "df.loc[df[\"interest_rate\"].notna(), \"interest_rate\"] = pd.to_numeric(\n",
    "    df[df[\"interest_rate\"].notna()][\"interest_rate\"]\n",
    ")\n",
    "display(df[df[\"interest_rate\"].notna()][\"interest_rate\"].astype(float).describe())\n",
    "df = df[df[\"interest_rate\"] < 30]  # removing outliers\n",
    "display(df[df[\"interest_rate\"].notna()][\"interest_rate\"].astype(float).describe())\n",
    "df[\"interest_rate\"] = df[\"interest_rate\"].fillna(\n",
    "    df[\"interest_rate\"].median()\n",
    ")  # imputing\n",
    "display(df[df[\"interest_rate\"].notna()][\"interest_rate\"].astype(float).describe())"
   ]
  },
  {
   "cell_type": "code",
   "execution_count": 51,
   "metadata": {},
   "outputs": [
    {
     "data": {
      "text/plain": [
       "count    371702.000000\n",
       "mean          0.107340\n",
       "std           0.635111\n",
       "min          -7.280000\n",
       "25%          -0.193000\n",
       "50%           0.030000\n",
       "75%           0.300000\n",
       "max           9.366000\n",
       "Name: rate_spread, dtype: float64"
      ]
     },
     "metadata": {},
     "output_type": "display_data"
    },
    {
     "name": "stderr",
     "output_type": "stream",
     "text": [
      "/tmp/ipykernel_294422/3181630949.py:6: FutureWarning: Downcasting object dtype arrays on .fillna, .ffill, .bfill is deprecated and will change in a future version. Call result.infer_objects(copy=False) instead. To opt-in to the future behavior, set `pd.set_option('future.no_silent_downcasting', True)`\n",
      "  df[\"rate_spread\"] = df[\"rate_spread\"].fillna(df[\"rate_spread\"].median())  # imputing\n"
     ]
    },
    {
     "data": {
      "text/plain": [
       "count    390035.000000\n",
       "mean          0.103705\n",
       "std           0.620221\n",
       "min          -7.280000\n",
       "25%          -0.180000\n",
       "50%           0.030000\n",
       "75%           0.282000\n",
       "max           9.366000\n",
       "Name: rate_spread, dtype: float64"
      ]
     },
     "metadata": {},
     "output_type": "display_data"
    }
   ],
   "source": [
    "# Converting non-null values to float and checking outliers\n",
    "df.loc[df[\"rate_spread\"].notna(), \"rate_spread\"] = pd.to_numeric(\n",
    "    df[df[\"rate_spread\"].notna()][\"rate_spread\"]\n",
    ")\n",
    "display(df[df[\"rate_spread\"].notna()][\"rate_spread\"].astype(float).describe())\n",
    "df[\"rate_spread\"] = df[\"rate_spread\"].fillna(df[\"rate_spread\"].median())  # imputing\n",
    "display(df[df[\"rate_spread\"].notna()][\"rate_spread\"].astype(float).describe())"
   ]
  },
  {
   "cell_type": "markdown",
   "metadata": {},
   "source": [
    "Finally, I will drop the remaining rows with null values:"
   ]
  },
  {
   "cell_type": "code",
   "execution_count": 52,
   "metadata": {},
   "outputs": [
    {
     "name": "stdout",
     "output_type": "stream",
     "text": [
      "loan_to_value_ratio 970\n",
      "debt_to_income_ratio 991\n",
      "applicant_age_above_62 11\n"
     ]
    }
   ],
   "source": [
    "for col in df.columns:\n",
    "    is_null = df[col].isnull().sum()\n",
    "    if is_null > 0:\n",
    "        print(col, is_null)"
   ]
  },
  {
   "cell_type": "code",
   "execution_count": 53,
   "metadata": {},
   "outputs": [],
   "source": [
    "df = df.dropna()"
   ]
  },
  {
   "cell_type": "code",
   "execution_count": 54,
   "metadata": {},
   "outputs": [
    {
     "name": "stdout",
     "output_type": "stream",
     "text": [
      "(388209, 39)\n"
     ]
    }
   ],
   "source": [
    "print(df.shape)\n",
    "for col in df.columns:\n",
    "    is_null = df[col].isnull().sum()\n",
    "    if is_null > 0:\n",
    "        print(col, is_null)"
   ]
  },
  {
   "cell_type": "code",
   "execution_count": 55,
   "metadata": {},
   "outputs": [
    {
     "name": "stdout",
     "output_type": "stream",
     "text": [
      "<class 'pandas.core.frame.DataFrame'>\n",
      "Index: 388209 entries, 0 to 492563\n",
      "Data columns (total 39 columns):\n",
      " #   Column                             Non-Null Count   Dtype  \n",
      "---  ------                             --------------   -----  \n",
      " 0   conforming_loan_limit              388209 non-null  object \n",
      " 1   derived_loan_product_type          388209 non-null  object \n",
      " 2   derived_ethnicity                  388209 non-null  object \n",
      " 3   derived_race                       388209 non-null  object \n",
      " 4   derived_sex                        388209 non-null  object \n",
      " 5   application_outcome                388209 non-null  object \n",
      " 6   purchaser_type                     388209 non-null  object \n",
      " 7   loan_type                          388209 non-null  object \n",
      " 8   loan_purpose                       388209 non-null  object \n",
      " 9   lien_status                        388209 non-null  object \n",
      " 10  open-end_line_of_credit            388209 non-null  object \n",
      " 11  business_or_commercial_purpose     388209 non-null  object \n",
      " 12  loan_amount                        388209 non-null  float64\n",
      " 13  loan_to_value_ratio                388209 non-null  object \n",
      " 14  interest_rate                      388209 non-null  float64\n",
      " 15  rate_spread                        388209 non-null  float64\n",
      " 16  hoepa_status                       388209 non-null  object \n",
      " 17  loan_term                          388209 non-null  object \n",
      " 18  interest_only_payment              388209 non-null  object \n",
      " 19  property_value                     388209 non-null  object \n",
      " 20  occupancy_type                     388209 non-null  object \n",
      " 21  income                             388209 non-null  float64\n",
      " 22  debt_to_income_ratio               388209 non-null  object \n",
      " 23  applicant_sex                      388209 non-null  object \n",
      " 24  coapplicant_sex                    388209 non-null  object \n",
      " 25  applicant_age                      388209 non-null  object \n",
      " 26  coapplicant_age                    388209 non-null  object \n",
      " 27  applicant_age_above_62             388209 non-null  object \n",
      " 28  tract_population                   388209 non-null  int64  \n",
      " 29  tract_minority_population_percent  388209 non-null  float64\n",
      " 30  tract_to_msa_income_percentage     388209 non-null  int64  \n",
      " 31  tract_owner_occupied_units         388209 non-null  int64  \n",
      " 32  tract_one_to_four_family_homes     388209 non-null  int64  \n",
      " 33  tract_median_age_of_housing_units  388209 non-null  int64  \n",
      " 34  denial_reason                      388209 non-null  object \n",
      " 35  applicant_race                     388209 non-null  object \n",
      " 36  coapplicant_race                   388209 non-null  object \n",
      " 37  applicant_ethnicity                388209 non-null  object \n",
      " 38  coapplicant_ethnicity              388209 non-null  object \n",
      "dtypes: float64(5), int64(5), object(29)\n",
      "memory usage: 118.5+ MB\n"
     ]
    }
   ],
   "source": [
    "df.info()"
   ]
  },
  {
   "cell_type": "markdown",
   "metadata": {},
   "source": [
    "#### More transformations and filters"
   ]
  },
  {
   "cell_type": "markdown",
   "metadata": {},
   "source": [
    "`loan_term`: converting from months to years"
   ]
  },
  {
   "cell_type": "code",
   "execution_count": 56,
   "metadata": {},
   "outputs": [],
   "source": [
    "df[\"loan_term\"] = pd.to_numeric(df[\"loan_term\"]) / 12"
   ]
  },
  {
   "cell_type": "markdown",
   "metadata": {},
   "source": [
    "`loan_amount`: limiting from 20k to 2kk USD"
   ]
  },
  {
   "cell_type": "code",
   "execution_count": 57,
   "metadata": {},
   "outputs": [
    {
     "data": {
      "image/png": "[encoded data removed]",
      "text/plain": [
       "<Figure size 400x300 with 1 Axes>"
      ]
     },
     "metadata": {},
     "output_type": "display_data"
    }
   ],
   "source": [
    "f, ax = plt.subplots(figsize=(4, 3))\n",
    "df[(df[\"loan_amount\"] > 2e4) & (df[\"loan_amount\"] < 2e6)][\"loan_amount\"].hist(\n",
    "    bins=100, ax=ax\n",
    ")\n",
    "plt.ylabel(\"Count\")\n",
    "plt.xlabel(\"Loan amount (millions of USD)\")\n",
    "plt.title(\"Distribution of loan amounts\")\n",
    "plt.show()"
   ]
  },
  {
   "cell_type": "code",
   "execution_count": 58,
   "metadata": {},
   "outputs": [],
   "source": [
    "df = df[(df[\"loan_amount\"] > 2e4) & (df[\"loan_amount\"] < 2e6)]"
   ]
  },
  {
   "cell_type": "markdown",
   "metadata": {},
   "source": [
    "`property_value`: above 250k and below "
   ]
  },
  {
   "cell_type": "code",
   "execution_count": 59,
   "metadata": {},
   "outputs": [],
   "source": [
    "df[\"property_value\"] = pd.to_numeric(df[\"property_value\"])"
   ]
  },
  {
   "cell_type": "code",
   "execution_count": 60,
   "metadata": {},
   "outputs": [
    {
     "data": {
      "image/png": "[encoded data removed]",
      "text/plain": [
       "<Figure size 400x300 with 1 Axes>"
      ]
     },
     "metadata": {},
     "output_type": "display_data"
    }
   ],
   "source": [
    "f, ax = plt.subplots(figsize=(4, 3))\n",
    "df[(df[\"property_value\"] >= 250e3) & (df[\"property_value\"] < 3e6)][\n",
    "    \"property_value\"\n",
    "].hist(bins=100, ax=ax)\n",
    "plt.ylabel(\"Count\")\n",
    "plt.xlabel(\"Property value (millions of USD)\")\n",
    "plt.title(\"Distribution of property values\")\n",
    "plt.show()"
   ]
  },
  {
   "cell_type": "code",
   "execution_count": 61,
   "metadata": {},
   "outputs": [],
   "source": [
    "df = df[(df[\"property_value\"] >= 250e3) & (df[\"property_value\"] < 3e6)]"
   ]
  },
  {
   "cell_type": "markdown",
   "metadata": {},
   "source": [
    "`income`:\n",
    "\n",
    "- convert to millions of USD\n",
    "- limiting from above 10k USD and below 1kk USD"
   ]
  },
  {
   "cell_type": "code",
   "execution_count": 62,
   "metadata": {},
   "outputs": [],
   "source": [
    "df[\"income\"] *= 1000"
   ]
  },
  {
   "cell_type": "code",
   "execution_count": 63,
   "metadata": {},
   "outputs": [
    {
     "data": {
      "image/png": "[encoded data removed]",
      "text/plain": [
       "<Figure size 400x300 with 1 Axes>"
      ]
     },
     "metadata": {},
     "output_type": "display_data"
    }
   ],
   "source": [
    "f, ax = plt.subplots(figsize=(4, 3))\n",
    "df[(df[\"income\"] > 1.0e4) & (df[\"income\"] < 1.0e6)][\"income\"].hist(bins=100, ax=ax)\n",
    "plt.ylabel(\"Count\")\n",
    "plt.xlabel(\"Income (millions of USD)\")\n",
    "plt.title(\"Distribution of incomes\")\n",
    "plt.show()"
   ]
  },
  {
   "cell_type": "code",
   "execution_count": 64,
   "metadata": {},
   "outputs": [],
   "source": [
    "df = df[(df[\"income\"] > 1e4) & (df[\"income\"] < 1e6)]"
   ]
  },
  {
   "cell_type": "markdown",
   "metadata": {},
   "source": [
    "Other values:\n",
    "\n",
    "`loan_to_value_ratio`"
   ]
  },
  {
   "cell_type": "code",
   "execution_count": 65,
   "metadata": {},
   "outputs": [
    {
     "data": {
      "image/png": "[encoded data removed]",
      "text/plain": [
       "<Figure size 400x300 with 1 Axes>"
      ]
     },
     "metadata": {},
     "output_type": "display_data"
    }
   ],
   "source": [
    "df[\"loan_to_value_ratio\"] = pd.to_numeric(df[\"loan_to_value_ratio\"])\n",
    "df = df[df[\"loan_to_value_ratio\"] <= 102.0]  # almost all values are <100%\n",
    "\n",
    "f, ax = plt.subplots(figsize=(4, 3))\n",
    "df[\"loan_to_value_ratio\"].hist(bins=100, ax=ax)\n",
    "plt.show()"
   ]
  },
  {
   "cell_type": "markdown",
   "metadata": {},
   "source": [
    "`debt_to_income_ratio`"
   ]
  },
  {
   "cell_type": "code",
   "execution_count": 66,
   "metadata": {},
   "outputs": [
    {
     "data": {
      "text/plain": [
       "debt_to_income_ratio\n",
       "(0.00154, 0.101]    146962\n",
       "(0.101, 0.201]      207258\n",
       "(0.201, 0.3]         23929\n",
       "(0.3, 0.399]          1076\n",
       "Name: count, dtype: int64"
      ]
     },
     "metadata": {},
     "output_type": "display_data"
    },
    {
     "data": {
      "text/plain": [
       "debt_to_income_ratio\n",
       "(0.0009400000000000001, 0.0811]    94807\n",
       "(0.0811, 0.116]                    94807\n",
       "(0.116, 0.153]                     94820\n",
       "(0.153, 0.399]                     94791\n",
       "Name: count, dtype: int64"
      ]
     },
     "metadata": {},
     "output_type": "display_data"
    },
    {
     "data": {
      "image/png": "[encoded data removed]",
      "text/plain": [
       "<Figure size 400x300 with 1 Axes>"
      ]
     },
     "metadata": {},
     "output_type": "display_data"
    }
   ],
   "source": [
    "# Redefining the `debt_to_income_ratio` with the values in the dataset\n",
    "df[\"debt_to_income_ratio\"] = (df[\"loan_amount\"] / (df[\"loan_term\"])) / df[\"income\"]\n",
    "\n",
    "test_cuts(df, \"debt_to_income_ratio\", 0.4, n=4)\n",
    "\n",
    "f, ax = plt.subplots(figsize=(4, 3))\n",
    "df[df[\"debt_to_income_ratio\"] <= 0.4][\"debt_to_income_ratio\"].hist(bins=100, ax=ax)\n",
    "plt.show()"
   ]
  },
  {
   "cell_type": "code",
   "execution_count": 67,
   "metadata": {},
   "outputs": [],
   "source": [
    "# Removing very large values\n",
    "df = df[df[\"debt_to_income_ratio\"] < 0.4]"
   ]
  },
  {
   "cell_type": "markdown",
   "metadata": {},
   "source": [
    "`tract_population`, `tract_to_msa_income_percentage`, `tract_median_age_of_housing_units`"
   ]
  },
  {
   "cell_type": "code",
   "execution_count": 68,
   "metadata": {},
   "outputs": [],
   "source": [
    "df = df[(df[\"tract_population\"] > 1000) & (df[\"tract_population\"] < 20000)]\n",
    "df[\"tract_population\"] = pd.to_numeric(df[\"tract_population\"])"
   ]
  },
  {
   "cell_type": "code",
   "execution_count": 69,
   "metadata": {},
   "outputs": [],
   "source": [
    "df = df[df[\"tract_to_msa_income_percentage\"] > 0]"
   ]
  },
  {
   "cell_type": "code",
   "execution_count": 70,
   "metadata": {},
   "outputs": [],
   "source": [
    "df[\"tract_median_age_of_housing_units\"] = pd.to_numeric(\n",
    "    df[\"tract_median_age_of_housing_units\"]\n",
    ")\n",
    "df[\"tract_median_age_of_housing_units\"] = (\n",
    "    df[\"tract_median_age_of_housing_units\"].astype(float) / 10\n",
    ").astype(int)"
   ]
  },
  {
   "cell_type": "code",
   "execution_count": 71,
   "metadata": {},
   "outputs": [],
   "source": [
    "for c in [x for x in df.columns if x.startswith(\"tract\") or x.startswith(\"ffiec\")]:\n",
    "    df[c] = pd.to_numeric(df[c]).astype(float)"
   ]
  },
  {
   "cell_type": "code",
   "execution_count": 72,
   "metadata": {},
   "outputs": [],
   "source": [
    "# Sorting the columns by dtype\n",
    "order = {np.dtype('float64'): 0, np.dtype('object'): 1}\n",
    "\n",
    "df = df[df.dtypes.map(order).sort_values().index]"
   ]
  },
  {
   "cell_type": "code",
   "execution_count": 73,
   "metadata": {},
   "outputs": [
    {
     "name": "stdout",
     "output_type": "stream",
     "text": [
      "<class 'pandas.core.frame.DataFrame'>\n",
      "Index: 378726 entries, 0 to 492563\n",
      "Data columns (total 39 columns):\n",
      " #   Column                             Non-Null Count   Dtype  \n",
      "---  ------                             --------------   -----  \n",
      " 0   property_value                     378726 non-null  float64\n",
      " 1   loan_term                          378726 non-null  float64\n",
      " 2   rate_spread                        378726 non-null  float64\n",
      " 3   interest_rate                      378726 non-null  float64\n",
      " 4   loan_to_value_ratio                378726 non-null  float64\n",
      " 5   loan_amount                        378726 non-null  float64\n",
      " 6   debt_to_income_ratio               378726 non-null  float64\n",
      " 7   tract_population                   378726 non-null  float64\n",
      " 8   income                             378726 non-null  float64\n",
      " 9   tract_to_msa_income_percentage     378726 non-null  float64\n",
      " 10  tract_owner_occupied_units         378726 non-null  float64\n",
      " 11  tract_one_to_four_family_homes     378726 non-null  float64\n",
      " 12  tract_median_age_of_housing_units  378726 non-null  float64\n",
      " 13  tract_minority_population_percent  378726 non-null  float64\n",
      " 14  coapplicant_age                    378726 non-null  object \n",
      " 15  denial_reason                      378726 non-null  object \n",
      " 16  applicant_race                     378726 non-null  object \n",
      " 17  applicant_age                      378726 non-null  object \n",
      " 18  coapplicant_race                   378726 non-null  object \n",
      " 19  coapplicant_sex                    378726 non-null  object \n",
      " 20  applicant_sex                      378726 non-null  object \n",
      " 21  applicant_age_above_62             378726 non-null  object \n",
      " 22  conforming_loan_limit              378726 non-null  object \n",
      " 23  applicant_ethnicity                378726 non-null  object \n",
      " 24  interest_only_payment              378726 non-null  object \n",
      " 25  hoepa_status                       378726 non-null  object \n",
      " 26  business_or_commercial_purpose     378726 non-null  object \n",
      " 27  open-end_line_of_credit            378726 non-null  object \n",
      " 28  lien_status                        378726 non-null  object \n",
      " 29  loan_purpose                       378726 non-null  object \n",
      " 30  loan_type                          378726 non-null  object \n",
      " 31  purchaser_type                     378726 non-null  object \n",
      " 32  application_outcome                378726 non-null  object \n",
      " 33  derived_sex                        378726 non-null  object \n",
      " 34  derived_race                       378726 non-null  object \n",
      " 35  derived_ethnicity                  378726 non-null  object \n",
      " 36  derived_loan_product_type          378726 non-null  object \n",
      " 37  occupancy_type                     378726 non-null  object \n",
      " 38  coapplicant_ethnicity              378726 non-null  object \n",
      "dtypes: float64(14), object(25)\n",
      "memory usage: 115.6+ MB\n"
     ]
    }
   ],
   "source": [
    "df.info()"
   ]
  },
  {
   "cell_type": "code",
   "execution_count": 74,
   "metadata": {},
   "outputs": [],
   "source": [
    "df.reset_index(drop=True).to_csv(\"../../data-hdma-eastbay-2020-2022-preprocessed.csv\")"
   ]
  }
 ],
 "metadata": {
  "kernelspec": {
   "display_name": ".venv",
   "language": "python",
   "name": "python3"
  },
  "language_info": {
   "codemirror_mode": {
    "name": "ipython",
    "version": 3
   },
   "file_extension": ".py",
   "mimetype": "text/x-python",
   "name": "python",
   "nbconvert_exporter": "python",
   "pygments_lexer": "ipython3",
   "version": "3.11.2"
  }
 },
 "nbformat": 4,
 "nbformat_minor": 2
}
