{
 "cells": [
  {
   "cell_type": "code",
   "execution_count": 1,
   "metadata": {},
   "outputs": [],
   "source": [
    "import pandas as pd\n",
    "import numpy as np\n",
    "import matplotlib.pyplot as plt\n",
    "import seaborn as sns"
   ]
  },
  {
   "cell_type": "code",
   "execution_count": 2,
   "metadata": {},
   "outputs": [],
   "source": [
    "def test_cuts(x, col, thr, n=4):\n",
    "    display(pd.cut(x[x[col] < thr][col], bins=n).value_counts(sort=False))\n",
    "    display(pd.qcut(x[x[col] < thr][col], q=n).value_counts(sort=False))"
   ]
  },
  {
   "cell_type": "code",
   "execution_count": 3,
   "metadata": {},
   "outputs": [
    {
     "name": "stderr",
     "output_type": "stream",
     "text": [
      "/tmp/ipykernel_125179/3013834244.py:1: DtypeWarning: Columns (22,23,24,26,27,28,29,30,31,32,33,38,43,44,46,77,78,79,80) have mixed types. Specify dtype option on import or set low_memory=False.\n",
      "  orig_df = pd.read_csv('../../state_CA.csv').drop_duplicates()\n"
     ]
    }
   ],
   "source": [
    "orig_df = pd.read_csv('../../state_CA.csv').drop_duplicates()"
   ]
  },
  {
   "cell_type": "code",
   "execution_count": 4,
   "metadata": {},
   "outputs": [],
   "source": [
    "df = orig_df.drop(\n",
    "    [\n",
    "        \"activity_year\",\n",
    "        \"lei\",\n",
    "        \"derived_msa-md\",\n",
    "        \"state_code\",\n",
    "        \"census_tract\",\n",
    "        \"aus-2\",\n",
    "        \"aus-3\",\n",
    "        \"aus-4\",\n",
    "        \"aus-5\",\n",
    "        \"denial_reason-1\",\n",
    "        \"denial_reason-2\",\n",
    "        \"denial_reason-2\",\n",
    "        \"denial_reason-3\",\n",
    "        \"denial_reason-4\",\n",
    "        \"reverse_mortgage\",\n",
    "        \"hoepa_status\",\n",
    "        \"negative_amortization\",\n",
    "        \"derived_dwelling_category\",\n",
    "        \"other_nonamortizing_features\",\n",
    "        \"manufactured_home_secured_property_type\",\n",
    "        \"manufactured_home_land_property_interest\",\n",
    "        \"initially_payable_to_institution\",\n",
    "    ],\n",
    "    axis = 1\n",
    ")\n",
    "df = df.drop([x for x in df.columns if x.endswith('observed')], axis=1)\n",
    "# df = df.drop([x for x in df.columns if 'tract' in x or 'ffiec' in x], axis=1)\n",
    "df = df[df != 'Exempt']"
   ]
  },
  {
   "cell_type": "code",
   "execution_count": 5,
   "metadata": {},
   "outputs": [
    {
     "data": {
      "text/plain": [
       "action_taken\n",
       "1    798306\n",
       "3    242203\n",
       "4    233023\n",
       "6    145043\n",
       "5     85203\n",
       "2     40347\n",
       "8      4469\n",
       "7      1409\n",
       "Name: count, dtype: int64"
      ]
     },
     "metadata": {},
     "output_type": "display_data"
    },
    {
     "data": {
      "text/plain": [
       "action_taken\n",
       "Approved    798306\n",
       "Denied      242203\n",
       "Name: count, dtype: int64"
      ]
     },
     "metadata": {},
     "output_type": "display_data"
    }
   ],
   "source": [
    "# 1 - Loan originated\n",
    "# 2 - Application approved but not accepted\n",
    "# 3 - Application denied\n",
    "# 4 - Application withdrawn by applicant\n",
    "# 5 - File closed for incompleteness\n",
    "# 6 - Purchased loan\n",
    "# 7 - Preapproval request denied\n",
    "# 8 - Preapproval request approved but not accepted\n",
    "display(df['action_taken'].value_counts())\n",
    "df = df[df['action_taken'].isin([1, 3])]\n",
    "df[\"action_taken\"] = df[\"action_taken\"].map({1: 'Approved', 3: 'Denied'})\n",
    "display(df['action_taken'].value_counts())"
   ]
  },
  {
   "cell_type": "code",
   "execution_count": 6,
   "metadata": {},
   "outputs": [
    {
     "data": {
      "text/plain": [
       "applicant_sex\n",
       "1    604047\n",
       "2    321530\n",
       "3     94910\n",
       "4     19197\n",
       "6       825\n",
       "Name: count, dtype: int64"
      ]
     },
     "metadata": {},
     "output_type": "display_data"
    },
    {
     "data": {
      "text/plain": [
       "applicant_sex\n",
       "Male      604047\n",
       "Female    321530\n",
       "Name: count, dtype: int64"
      ]
     },
     "metadata": {},
     "output_type": "display_data"
    }
   ],
   "source": [
    "# 1 - Male\n",
    "# 2 - Female\n",
    "# 3 - Information not provided by applicant in mail, internet, or telephone application\n",
    "# 4 - Not applicable\n",
    "# 6 - Applicant selected both male and female\n",
    "display(df['applicant_sex'].value_counts())\n",
    "df = df[df['applicant_sex'].isin([1, 2])]\n",
    "df['applicant_sex'] = df['applicant_sex'].map({1: 'Male', 2: 'Female'})\n",
    "display(df['applicant_sex'].value_counts())"
   ]
  },
  {
   "cell_type": "code",
   "execution_count": 7,
   "metadata": {},
   "outputs": [
    {
     "data": {
      "text/plain": [
       "co-applicant_sex\n",
       "5    494132\n",
       "2    290533\n",
       "1    128903\n",
       "3      9434\n",
       "4      2237\n",
       "6       338\n",
       "Name: count, dtype: int64"
      ]
     },
     "metadata": {},
     "output_type": "display_data"
    },
    {
     "data": {
      "text/plain": [
       "co-applicant_sex\n",
       "no_coapplicant    494132\n",
       "Female            290533\n",
       "Male              128903\n",
       "Name: count, dtype: int64"
      ]
     },
     "metadata": {},
     "output_type": "display_data"
    }
   ],
   "source": [
    "# 1 - Male\n",
    "# 2 - Female\n",
    "# 3 - Information not provided by applicant in mail, internet, or telephone application\n",
    "# 4 - Not applicable\n",
    "# 5 - no co-applicant\n",
    "# 6 - Applicant selected both male and female\n",
    "display(df['co-applicant_sex'].value_counts())\n",
    "df = df[df['co-applicant_sex'].isin([1, 2, 5])]\n",
    "df['co-applicant_sex'] = df['co-applicant_sex'].map({1: 'Male', 2: 'Female', 5: 'no_coapplicant'})\n",
    "display(df['co-applicant_sex'].value_counts())"
   ]
  },
  {
   "cell_type": "code",
   "execution_count": 8,
   "metadata": {},
   "outputs": [
    {
     "data": {
      "text/plain": [
       "loan_type\n",
       "1    794617\n",
       "2     78145\n",
       "3     39980\n",
       "4       826\n",
       "Name: count, dtype: int64"
      ]
     },
     "metadata": {},
     "output_type": "display_data"
    },
    {
     "data": {
      "text/plain": [
       "loan_type\n",
       "Conventional    794617\n",
       "FHA              78145\n",
       "VA               39980\n",
       "Name: count, dtype: int64"
      ]
     },
     "metadata": {},
     "output_type": "display_data"
    }
   ],
   "source": [
    "# Loan type - keeping 1/2/3\n",
    "# 1 - Conventional (not insured or guaranteed by FHA, VA, RHS, or FSA)\n",
    "# 2 - Federal Housing Administration insured (FHA)\n",
    "# 3 - Veterans Affairs guaranteed (VA)\n",
    "# 4 - USDA Rural Housing Service or Farm Service Agency guaranteed (RHS or FSA)\n",
    "display(df['loan_type'].value_counts())\n",
    "df[\"loan_type\"] = df[\"loan_type\"].map(\n",
    "    {1: \"Conventional\", 2: \"FHA\", 3: \"VA\", 4: \"RHS/FSA\"}\n",
    ")\n",
    "df = df[df[\"loan_type\"] != \"RHS/FSA\"]\n",
    "display(df['loan_type'].value_counts())"
   ]
  },
  {
   "cell_type": "code",
   "execution_count": 9,
   "metadata": {},
   "outputs": [
    {
     "data": {
      "text/plain": [
       "purchaser_type\n",
       "0     482292\n",
       "1     133218\n",
       "3      92471\n",
       "71     70968\n",
       "2      59515\n",
       "6      31272\n",
       "9      15468\n",
       "5      15035\n",
       "8       6826\n",
       "72      5677\n",
       "Name: count, dtype: int64"
      ]
     },
     "metadata": {},
     "output_type": "display_data"
    },
    {
     "data": {
      "text/plain": [
       "purchaser_type\n",
       "NotApplicable    482292\n",
       "GSE              285204\n",
       "CU/MC/FC          70968\n",
       "Bank              31272\n",
       "Private           15035\n",
       "Affiliate          6826\n",
       "LifeInsurance      5677\n",
       "Name: count, dtype: int64"
      ]
     },
     "metadata": {},
     "output_type": "display_data"
    }
   ],
   "source": [
    "display(df['purchaser_type'].value_counts())\n",
    "df[\"purchaser_type\"] = df[\"purchaser_type\"].map(\n",
    "    {\n",
    "        0: \"NotApplicable\",\n",
    "        1: \"GSE\",\n",
    "        2: \"GSE\",\n",
    "        3: \"GSE\",\n",
    "        4: \"Farmer Mac\",\n",
    "        5: \"Private\",\n",
    "        6: \"Bank\",\n",
    "        71: \"CU/MC/FC\",\n",
    "        72: \"LifeInsurance\",\n",
    "        8: \"Affiliate\",\n",
    "        9: \"Other\",\n",
    "    }\n",
    ")\n",
    "df = df[df[\"purchaser_type\"] != \"Other\"]\n",
    "display(df['purchaser_type'].value_counts())"
   ]
  },
  {
   "cell_type": "code",
   "execution_count": 10,
   "metadata": {},
   "outputs": [
    {
     "data": {
      "text/plain": [
       "derived_loan_product_type\n",
       "Conventional:First Lien          562620\n",
       "Conventional:Subordinate Lien    219574\n",
       "FHA:First Lien                    75373\n",
       "VA:First Lien                     39679\n",
       "FHA:Subordinate Lien                 27\n",
       "VA:Subordinate Lien                   1\n",
       "Name: count, dtype: int64"
      ]
     },
     "metadata": {},
     "output_type": "display_data"
    },
    {
     "data": {
      "text/plain": [
       "derived_loan_product_type\n",
       "Conventional:First Lien          562620\n",
       "Conventional:Subordinate Lien    219574\n",
       "FHA:First Lien                    75373\n",
       "VA:First Lien                     39679\n",
       "Name: count, dtype: int64"
      ]
     },
     "metadata": {},
     "output_type": "display_data"
    }
   ],
   "source": [
    "display(df[\"derived_loan_product_type\"].value_counts())\n",
    "df = df[\n",
    "    (df[\"derived_loan_product_type\"] != \"FHA:Subordinate Lien\")\n",
    "    & (df[\"derived_loan_product_type\"] != \"VA:Subordinate Lien\")\n",
    "]\n",
    "display(df[\"derived_loan_product_type\"].value_counts())"
   ]
  },
  {
   "cell_type": "code",
   "execution_count": 11,
   "metadata": {},
   "outputs": [
    {
     "data": {
      "text/plain": [
       "loan_purpose\n",
       "1     340693\n",
       "32    220289\n",
       "31    128326\n",
       "2     117593\n",
       "4      90321\n",
       "5         24\n",
       "Name: count, dtype: int64"
      ]
     },
     "metadata": {},
     "output_type": "display_data"
    },
    {
     "data": {
      "text/plain": [
       "loan_purpose\n",
       "Refinancing         348615\n",
       "Home purchase       340693\n",
       "Home improvement    117593\n",
       "Name: count, dtype: int64"
      ]
     },
     "metadata": {},
     "output_type": "display_data"
    }
   ],
   "source": [
    "display(df[\"loan_purpose\"].value_counts())\n",
    "df[\"loan_purpose\"] = df[\"loan_purpose\"].map(\n",
    "    {\n",
    "        1: \"Home purchase\",\n",
    "        2: \"Home improvement\",\n",
    "        31: \"Refinancing\",\n",
    "        32: \"Refinancing\",\n",
    "        4: \"Other\",\n",
    "        5: \"Not applicable\",\n",
    "    }\n",
    ")\n",
    "df = df[df[\"loan_purpose\"] != \"Not applicable\"]\n",
    "df = df[df[\"loan_purpose\"] != \"Other\"]\n",
    "display(df[\"loan_purpose\"].value_counts(dropna=False))"
   ]
  },
  {
   "cell_type": "code",
   "execution_count": 12,
   "metadata": {},
   "outputs": [
    {
     "data": {
      "text/plain": [
       "preapproval\n",
       "No     787520\n",
       "Yes     19381\n",
       "Name: count, dtype: int64"
      ]
     },
     "metadata": {},
     "output_type": "display_data"
    }
   ],
   "source": [
    "df[\"preapproval\"] = df[\"preapproval\"].map({1: 'Yes', 2: 'No'})\n",
    "display(df[\"preapproval\"].value_counts(dropna=False))"
   ]
  },
  {
   "cell_type": "code",
   "execution_count": 13,
   "metadata": {},
   "outputs": [
    {
     "data": {
      "text/plain": [
       "lien_status\n",
       "First          658848\n",
       "Subordinate    148053\n",
       "Name: count, dtype: int64"
      ]
     },
     "metadata": {},
     "output_type": "display_data"
    }
   ],
   "source": [
    "df[\"lien_status\"] = df[\"lien_status\"].map(\n",
    "    {\n",
    "        1: \"First\",\n",
    "        2: \"Subordinate\",\n",
    "    }\n",
    ")\n",
    "display(df[\"lien_status\"].value_counts(dropna=False))"
   ]
  },
  {
   "cell_type": "code",
   "execution_count": 14,
   "metadata": {},
   "outputs": [
    {
     "data": {
      "text/plain": [
       "business_or_commercial_purpose\n",
       "2       759726\n",
       "1        42623\n",
       "1111      4552\n",
       "Name: count, dtype: int64"
      ]
     },
     "metadata": {},
     "output_type": "display_data"
    },
    {
     "data": {
      "text/plain": [
       "business_or_commercial_purpose\n",
       "No     759726\n",
       "Yes     42623\n",
       "NaN      4552\n",
       "Name: count, dtype: int64"
      ]
     },
     "metadata": {},
     "output_type": "display_data"
    }
   ],
   "source": [
    "display(df[\"business_or_commercial_purpose\"].value_counts())\n",
    "df[\"business_or_commercial_purpose\"] = (\n",
    "    df[\"business_or_commercial_purpose\"].map({1: 'Yes', 2: 'No'})\n",
    ")\n",
    "display(df[\"business_or_commercial_purpose\"].value_counts(dropna=False))"
   ]
  },
  {
   "cell_type": "code",
   "execution_count": 15,
   "metadata": {},
   "outputs": [
    {
     "data": {
      "text/plain": [
       "open-end_line_of_credit\n",
       "2       658409\n",
       "1       144120\n",
       "1111      4372\n",
       "Name: count, dtype: int64"
      ]
     },
     "metadata": {},
     "output_type": "display_data"
    },
    {
     "data": {
      "text/plain": [
       "open-end_line_of_credit\n",
       "No     658409\n",
       "Yes    144120\n",
       "Name: count, dtype: int64"
      ]
     },
     "metadata": {},
     "output_type": "display_data"
    }
   ],
   "source": [
    "display(df[\"open-end_line_of_credit\"].value_counts())\n",
    "df[\"open-end_line_of_credit\"] = (\n",
    "    df[\"open-end_line_of_credit\"].map({1: 'Yes', 2: 'No'})\n",
    ")\n",
    "display(df[\"open-end_line_of_credit\"].value_counts())"
   ]
  },
  {
   "cell_type": "code",
   "execution_count": 16,
   "metadata": {},
   "outputs": [
    {
     "data": {
      "text/plain": [
       "loan_amount\n",
       "(3010.0, 502500.0]        500509\n",
       "(502500.0, 1000000.0]     234289\n",
       "(1000000.0, 1497500.0]     43576\n",
       "(1497500.0, 1995000.0]     14884\n",
       "Name: count, dtype: int64"
      ]
     },
     "metadata": {},
     "output_type": "display_data"
    },
    {
     "data": {
      "text/plain": [
       "loan_amount\n",
       "(4999.999, 225000.0]     201729\n",
       "(225000.0, 395000.0]     194938\n",
       "(395000.0, 605000.0]     200550\n",
       "(605000.0, 1995000.0]    196041\n",
       "Name: count, dtype: int64"
      ]
     },
     "metadata": {},
     "output_type": "display_data"
    }
   ],
   "source": [
    "test_cuts(df, 'loan_amount', 2e6, n=4)\n",
    "df = df[df['loan_amount'] <= 2e6]\n",
    "df = df[df['loan_amount'] > 0]"
   ]
  },
  {
   "cell_type": "code",
   "execution_count": 17,
   "metadata": {},
   "outputs": [
    {
     "name": "stdout",
     "output_type": "stream",
     "text": [
      "county_code 1078\n",
      "conforming_loan_limit 791\n",
      "open-end_line_of_credit 4301\n",
      "business_or_commercial_purpose 4481\n",
      "loan_to_value_ratio 49921\n",
      "interest_rate 170923\n",
      "rate_spread 229830\n",
      "total_loan_costs 313939\n",
      "total_points_and_fees 782183\n",
      "origination_charges 303587\n",
      "discount_points 529109\n",
      "lender_credits 603046\n",
      "loan_term 22387\n",
      "prepayment_penalty_term 739080\n",
      "intro_rate_period 590665\n",
      "property_value 19819\n",
      "multifamily_affordable_units 792574\n",
      "income 23202\n",
      "debt_to_income_ratio 50304\n",
      "applicant_ethnicity-1 521\n",
      "applicant_ethnicity-2 692335\n",
      "applicant_ethnicity-3 791679\n",
      "applicant_ethnicity-4 793225\n",
      "applicant_ethnicity-5 793255\n",
      "co-applicant_ethnicity-1 194\n",
      "co-applicant_ethnicity-2 746963\n",
      "co-applicant_ethnicity-3 792618\n",
      "co-applicant_ethnicity-4 793244\n",
      "co-applicant_ethnicity-5 793257\n",
      "applicant_race-1 260\n",
      "applicant_race-2 685028\n",
      "applicant_race-3 785398\n",
      "applicant_race-4 792539\n",
      "applicant_race-5 793066\n",
      "co-applicant_race-1 91\n",
      "co-applicant_race-2 743579\n",
      "co-applicant_race-3 789621\n",
      "co-applicant_race-4 792940\n",
      "co-applicant_race-5 793195\n",
      "applicant_age_above_62 771\n",
      "co-applicant_age_above_62 424553\n"
     ]
    }
   ],
   "source": [
    "for col in df.columns:\n",
    "    is_null = df[col].isnull().sum()\n",
    "    if is_null > 0:\n",
    "        print(col, is_null)"
   ]
  },
  {
   "cell_type": "code",
   "execution_count": 18,
   "metadata": {},
   "outputs": [
    {
     "name": "stdout",
     "output_type": "stream",
     "text": [
      "(793258, 45)\n",
      "(715984, 45)\n",
      "(715984, 31)\n"
     ]
    }
   ],
   "source": [
    "drop_df = df.copy()\n",
    "\n",
    "above_threshold_null_cols = [x for x in drop_df.columns if drop_df[x].isnull().sum() > 80000]\n",
    "drop_df = drop_df.drop(above_threshold_null_cols, axis=1)\n",
    "\n",
    "print(drop_df.shape)\n",
    "drop_df = drop_df.dropna()\n",
    "print(drop_df.shape)\n",
    "\n",
    "for col in drop_df.columns:\n",
    "    is_null = drop_df[col].isnull().sum()\n",
    "    if is_null > 0:\n",
    "        print(col, is_null)\n",
    "\n",
    "drop_df = drop_df.drop(['applicant_credit_score_type', 'co-applicant_credit_score_type'], axis=1)\n",
    "\n",
    "drop_df = drop_df.drop([\n",
    "    'aus-1',\n",
    "    'preapproval',\n",
    "    'applicant_age_above_62',\n",
    "    'submission_of_application',\n",
    "], axis=1)\n",
    "\n",
    "drop_df = drop_df.drop([x for x in drop_df.columns if x.startswith('co-')], axis=1)\n",
    "drop_df = drop_df.drop([x for x in drop_df.columns if x.startswith('derived_')], axis=1)\n",
    "\n",
    "print(drop_df.shape)"
   ]
  },
  {
   "cell_type": "code",
   "execution_count": 82,
   "metadata": {},
   "outputs": [],
   "source": [
    "mapped_df = drop_df.copy()\n",
    "\n",
    "mapped_df[\"total_units\"] = pd.to_numeric(mapped_df[\"total_units\"])\n",
    "\n",
    "mapped_df[\"interest_only_payment\"] = mapped_df[\"interest_only_payment\"].map(\n",
    "    {1: 'Yes', 2: 'No'}\n",
    ")\n",
    "mapped_df[\"construction_method\"] = mapped_df[\"construction_method\"].map(\n",
    "    {1: \"site\", 2: \"manufactured\"}\n",
    ")\n",
    "# mapped_df[\"submission_of_application\"] = mapped_df[\"submission_of_application\"].map(\n",
    "#     {1: \"direct\", 2: \"indirect\"}\n",
    "# )\n",
    "\n",
    "mapped_df[\"balloon_payment\"] = mapped_df[\"balloon_payment\"].map({1: 'Yes', 2: 'No'})\n",
    "\n",
    "mapped_df[\"occupancy_type\"] = mapped_df[\"occupancy_type\"].map(\n",
    "    {1: \"mainres\", 2: \"secondres\", 3: \"investproperty\"}\n",
    ")\n",
    "\n",
    "mapped_df[\"applicant_ethnicity-1\"] = mapped_df[\"applicant_ethnicity-1\"].map({\n",
    "    1: 'Hispanic/Latino',\n",
    "    2: 'Not Hispanic/Latino',\n",
    "    3: 'Not Provided',\n",
    "    4: 'NotApplicable',\n",
    "    11: 'Hispanic/Latino', # Mexican\n",
    "    12: 'Hispanic/Latino', # Puerto Rico\n",
    "    13: 'Hispanic/Latino', # Cuban\n",
    "    14: 'Hispanic/Latino', # other Hispanic or Latino\n",
    "})\n",
    "mapped_df = mapped_df[mapped_df[\"applicant_ethnicity-1\"] != 'NotApplicable']\n",
    "\n",
    "# mapped_df[\"co-applicant_ethnicity-1\"] = mapped_df[\"co-applicant_ethnicity-1\"].map({\n",
    "#     1: 'Hispanic/Latino',\n",
    "#     2: 'Not Hispanic/Latino',\n",
    "#     3: 'Not Provided',\n",
    "#     4: 'NotApplicable',\n",
    "#     5: 'no_coapplicant',\n",
    "#     11: 'Hispanic/Latino', # Mexican\n",
    "#     12: 'Hispanic/Latino', # Puerto Rico\n",
    "#     13: 'Hispanic/Latino', # Cuban\n",
    "#     14: 'Hispanic/Latino', # other Hispanic or Latino\n",
    "# })\n",
    "# mapped_df = mapped_df[mapped_df[\"co-applicant_ethnicity-1\"] != 'NotApplicable']\n",
    "\n",
    "mapped_df[\"applicant_race-1\"] = mapped_df[\"applicant_race-1\"].apply(lambda x: int(str(x)[:1])).map(\n",
    "    {\n",
    "        1: 'Native American',\n",
    "        2: 'Asian',\n",
    "        3: 'Black',\n",
    "        4: 'Islander',\n",
    "        5: 'White',\n",
    "        6: 'Not Provided',\n",
    "        7: 'NotApplicable',\n",
    "    }\n",
    ")\n",
    "mapped_df = mapped_df[mapped_df[\"applicant_race-1\"] != 'NotApplicable']\n",
    "\n",
    "# mapped_df[\"co-applicant_race-1\"] = mapped_df[\"co-applicant_race-1\"].apply(lambda x: int(str(x)[:1])).map(\n",
    "#     {\n",
    "#         1: 'Native American',\n",
    "#         2: 'Asian',\n",
    "#         3: 'Black',\n",
    "#         4: 'Islander',\n",
    "#         5: 'White',\n",
    "#         6: 'Not Provided',\n",
    "#         7: 'NotApplicable',\n",
    "#         8: 'no_coapplicant',\n",
    "#     }\n",
    "# )\n",
    "# mapped_df = mapped_df[mapped_df[\"co-applicant_race-1\"] != 'NotApplicable']\n",
    "\n",
    "mapped_df[\"loan_to_value_ratio\"] = pd.to_numeric(mapped_df[\"loan_to_value_ratio\"])\n",
    "mapped_df[\"loan_term\"] = pd.to_numeric(mapped_df[\"loan_term\"]) / 12\n",
    "\n",
    "mapped_df['property_value'] = pd.to_numeric(mapped_df['property_value'])\n",
    "mapped_df = mapped_df[(mapped_df[\"property_value\"] > 0) & (mapped_df[\"property_value\"] <= 3e6)]\n",
    "\n",
    "mapped_df['income'] *= 1000\n",
    "mapped_df = mapped_df[(mapped_df['income'] > 0) & (mapped_df['income'] < 1e6)]\n",
    "\n",
    "# mapped_df[\"debt_to_income_ratio\"] = mapped_df[\"debt_to_income_ratio\"].replace(\n",
    "#     {\n",
    "#         \"<20%\": \"10\",\n",
    "#         \"20%-<30%\": \"25\",\n",
    "#         \"30%-<36%\": \"33\",\n",
    "#         \"50%-60%\": \"55\",\n",
    "#         \">60%\": \"70\"\n",
    "#      }\n",
    "# ).astype(float)\n",
    "\n",
    "# mapped_df[\"co-applicant_age\"] = mapped_df[\"co-applicant_age\"].replace('9999', 'none')\n",
    "# mapped_df = mapped_df[mapped_df[\"co-applicant_age\"] != \"8888\"]\n",
    "\n",
    "mapped_df = mapped_df[(mapped_df['tract_population'] > 1000) & (mapped_df['tract_population'] < 20000)]\n",
    "mapped_df = mapped_df[mapped_df['tract_to_msa_income_percentage'] > 0]\n",
    "mapped_df['tract_median_age_of_housing_units'] = [int(x/10) for x in mapped_df['tract_median_age_of_housing_units'].values]\n",
    "\n",
    "mapped_df = mapped_df.rename(columns = {\n",
    "    'action_taken': 'success',\n",
    "    'applicant_ethnicity-1': 'applicant_ethnicity',\n",
    "    'applicant_race-1': 'applicant_race',\n",
    "})"
   ]
  },
  {
   "cell_type": "code",
   "execution_count": 83,
   "metadata": {},
   "outputs": [
    {
     "data": {
      "image/png": "[encoded data removed]",
      "text/plain": [
       "<Figure size 640x480 with 1 Axes>"
      ]
     },
     "metadata": {},
     "output_type": "display_data"
    },
    {
     "data": {
      "image/png": "[encoded data removed]",
      "text/plain": [
       "<Figure size 640x480 with 1 Axes>"
      ]
     },
     "metadata": {},
     "output_type": "display_data"
    },
    {
     "data": {
      "image/png": "[encoded data removed]",
      "text/plain": [
       "<Figure size 640x480 with 1 Axes>"
      ]
     },
     "metadata": {},
     "output_type": "display_data"
    },
    {
     "data": {
      "image/png": "[encoded data removed]",
      "text/plain": [
       "<Figure size 640x480 with 1 Axes>"
      ]
     },
     "metadata": {},
     "output_type": "display_data"
    },
    {
     "data": {
      "image/png": "[encoded data removed]",
      "text/plain": [
       "<Figure size 640x480 with 1 Axes>"
      ]
     },
     "metadata": {},
     "output_type": "display_data"
    },
    {
     "data": {
      "image/png": "[encoded data removed]",
      "text/plain": [
       "<Figure size 640x480 with 1 Axes>"
      ]
     },
     "metadata": {},
     "output_type": "display_data"
    }
   ],
   "source": [
    "for c in [x for x in mapped_df.columns if x.startswith('tract')]:\n",
    "    mapped_df[c].hist(bins=100)\n",
    "    plt.title(c)\n",
    "    plt.show()"
   ]
  },
  {
   "cell_type": "code",
   "execution_count": 84,
   "metadata": {},
   "outputs": [],
   "source": [
    "mapped_df.reset_index(drop=True).to_csv('../../mapped_df.csv')"
   ]
  },
  {
   "cell_type": "code",
   "execution_count": null,
   "metadata": {},
   "outputs": [],
   "source": []
  }
 ],
 "metadata": {
  "kernelspec": {
   "display_name": ".venv",
   "language": "python",
   "name": "python3"
  },
  "language_info": {
   "codemirror_mode": {
    "name": "ipython",
    "version": 3
   },
   "file_extension": ".py",
   "mimetype": "text/x-python",
   "name": "python",
   "nbconvert_exporter": "python",
   "pygments_lexer": "ipython3",
   "version": "3.11.2"
  }
 },
 "nbformat": 4,
 "nbformat_minor": 2
}
