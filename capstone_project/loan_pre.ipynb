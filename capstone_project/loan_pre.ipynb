{
 "cells": [
  {
   "cell_type": "code",
   "execution_count": 1,
   "metadata": {},
   "outputs": [],
   "source": [
    "import pandas as pd\n",
    "import numpy as np\n",
    "import matplotlib.pyplot as plt\n",
    "import seaborn as sns"
   ]
  },
  {
   "cell_type": "code",
   "execution_count": 2,
   "metadata": {},
   "outputs": [],
   "source": [
    "def test_cuts(x, col, thr, n=4):\n",
    "    display(pd.cut(x[x[col] < thr][col], bins=n).value_counts(sort=False))\n",
    "    display(pd.qcut(x[x[col] < thr][col], q=n).value_counts(sort=False))"
   ]
  },
  {
   "cell_type": "code",
   "execution_count": 3,
   "metadata": {},
   "outputs": [
    {
     "name": "stderr",
     "output_type": "stream",
     "text": [
      "/tmp/ipykernel_90307/3013834244.py:1: DtypeWarning: Columns (22,23,24,26,27,28,29,30,31,32,33,38,43,44,46,77,78,79,80) have mixed types. Specify dtype option on import or set low_memory=False.\n",
      "  orig_df = pd.read_csv('../../state_CA.csv').drop_duplicates()\n"
     ]
    }
   ],
   "source": [
    "orig_df = pd.read_csv('../../state_CA.csv').drop_duplicates()"
   ]
  },
  {
   "cell_type": "code",
   "execution_count": 4,
   "metadata": {},
   "outputs": [],
   "source": [
    "df = orig_df.drop(\n",
    "    [\n",
    "        \"activity_year\",\n",
    "        \"lei\",\n",
    "        \"derived_msa-md\",\n",
    "        \"state_code\",\n",
    "        \"census_tract\",\n",
    "        \"aus-2\",\n",
    "        \"aus-3\",\n",
    "        \"aus-4\",\n",
    "        \"aus-5\",\n",
    "        \"denial_reason-1\",\n",
    "        \"denial_reason-2\",\n",
    "        \"denial_reason-2\",\n",
    "        \"denial_reason-3\",\n",
    "        \"denial_reason-4\",\n",
    "        \"reverse_mortgage\",\n",
    "        \"hoepa_status\",\n",
    "        \"negative_amortization\",\n",
    "        \"derived_dwelling_category\",\n",
    "        \"other_nonamortizing_features\",\n",
    "        \"manufactured_home_secured_property_type\",\n",
    "        \"manufactured_home_land_property_interest\",\n",
    "        \"initially_payable_to_institution\",\n",
    "    ],\n",
    "    axis = 1\n",
    ")\n",
    "df = df.drop([x for x in df.columns if x.endswith('observed')], axis=1)\n",
    "df = df.drop([x for x in df.columns if 'tract' in x or 'ffiec' in x], axis=1)\n",
    "df = df[df != 'Exempt']"
   ]
  },
  {
   "cell_type": "code",
   "execution_count": 5,
   "metadata": {},
   "outputs": [
    {
     "data": {
      "text/plain": [
       "action_taken\n",
       "1    798306\n",
       "3    242203\n",
       "4    233023\n",
       "6    145043\n",
       "5     85203\n",
       "2     40347\n",
       "8      4469\n",
       "7      1409\n",
       "Name: count, dtype: int64"
      ]
     },
     "metadata": {},
     "output_type": "display_data"
    },
    {
     "data": {
      "text/plain": [
       "action_taken\n",
       "Yes    838653\n",
       "No     242203\n",
       "Name: count, dtype: int64"
      ]
     },
     "metadata": {},
     "output_type": "display_data"
    }
   ],
   "source": [
    "# 1 - Loan originated\n",
    "# 2 - Application approved but not accepted\n",
    "# 3 - Application denied\n",
    "# 4 - Application withdrawn by applicant\n",
    "# 5 - File closed for incompleteness\n",
    "# 6 - Purchased loan\n",
    "# 7 - Preapproval request denied\n",
    "# 8 - Preapproval request approved but not accepted\n",
    "display(df['action_taken'].value_counts())\n",
    "df = df[df['action_taken'].isin([1, 2, 3])]\n",
    "df[\"action_taken\"] = df[\"action_taken\"].map({1: 'Yes', 2: 'Yes', 3: 'No'})\n",
    "display(df['action_taken'].value_counts())"
   ]
  },
  {
   "cell_type": "code",
   "execution_count": 6,
   "metadata": {},
   "outputs": [
    {
     "data": {
      "text/plain": [
       "applicant_sex\n",
       "1    627136\n",
       "2    334119\n",
       "3     99086\n",
       "4     19674\n",
       "6       841\n",
       "Name: count, dtype: int64"
      ]
     },
     "metadata": {},
     "output_type": "display_data"
    },
    {
     "data": {
      "text/plain": [
       "applicant_sex\n",
       "male      627136\n",
       "female    334119\n",
       "Name: count, dtype: int64"
      ]
     },
     "metadata": {},
     "output_type": "display_data"
    }
   ],
   "source": [
    "# 1 - Male\n",
    "# 2 - Female\n",
    "# 3 - Information not provided by applicant in mail, internet, or telephone application\n",
    "# 4 - Not applicable\n",
    "# 6 - Applicant selected both male and female\n",
    "display(df['applicant_sex'].value_counts())\n",
    "df = df[df['applicant_sex'].isin([1, 2])]\n",
    "df['applicant_sex'] = df['applicant_sex'].map({1: 'male', 2: 'female'})\n",
    "display(df['applicant_sex'].value_counts())"
   ]
  },
  {
   "cell_type": "code",
   "execution_count": 7,
   "metadata": {},
   "outputs": [
    {
     "data": {
      "text/plain": [
       "co-applicant_sex\n",
       "5    515399\n",
       "2    300301\n",
       "1    133036\n",
       "3      9912\n",
       "4      2259\n",
       "6       348\n",
       "Name: count, dtype: int64"
      ]
     },
     "metadata": {},
     "output_type": "display_data"
    },
    {
     "data": {
      "text/plain": [
       "co-applicant_sex\n",
       "none      515399\n",
       "female    300301\n",
       "male      133036\n",
       "Name: count, dtype: int64"
      ]
     },
     "metadata": {},
     "output_type": "display_data"
    }
   ],
   "source": [
    "# 1 - Male\n",
    "# 2 - Female\n",
    "# 3 - Information not provided by applicant in mail, internet, or telephone application\n",
    "# 4 - Not applicable\n",
    "# 5 - no co-applicant\n",
    "# 6 - Applicant selected both male and female\n",
    "display(df['co-applicant_sex'].value_counts())\n",
    "df = df[df['co-applicant_sex'].isin([1, 2, 5])]\n",
    "df['co-applicant_sex'] = df['co-applicant_sex'].map({1: 'male', 2: 'female', 5: 'none'})\n",
    "display(df['co-applicant_sex'].value_counts())"
   ]
  },
  {
   "cell_type": "code",
   "execution_count": 8,
   "metadata": {},
   "outputs": [
    {
     "data": {
      "text/plain": [
       "loan_type\n",
       "1    824901\n",
       "2     81749\n",
       "3     41228\n",
       "4       858\n",
       "Name: count, dtype: int64"
      ]
     },
     "metadata": {},
     "output_type": "display_data"
    },
    {
     "data": {
      "text/plain": [
       "loan_type\n",
       "Conventional    824901\n",
       "FHA              81749\n",
       "VA               41228\n",
       "Name: count, dtype: int64"
      ]
     },
     "metadata": {},
     "output_type": "display_data"
    }
   ],
   "source": [
    "# Loan type - keeping 1/2/3\n",
    "# 1 - Conventional (not insured or guaranteed by FHA, VA, RHS, or FSA)\n",
    "# 2 - Federal Housing Administration insured (FHA)\n",
    "# 3 - Veterans Affairs guaranteed (VA)\n",
    "# 4 - USDA Rural Housing Service or Farm Service Agency guaranteed (RHS or FSA)\n",
    "display(df['loan_type'].value_counts())\n",
    "df[\"loan_type\"] = df[\"loan_type\"].map(\n",
    "    {1: \"Conventional\", 2: \"FHA\", 3: \"VA\", 4: \"RHS/FSA\"}\n",
    ")\n",
    "df = df[df[\"loan_type\"] != \"RHS/FSA\"]\n",
    "display(df['loan_type'].value_counts())"
   ]
  },
  {
   "cell_type": "code",
   "execution_count": 9,
   "metadata": {},
   "outputs": [
    {
     "data": {
      "text/plain": [
       "purchaser_type\n",
       "0     517428\n",
       "1     133218\n",
       "3      92471\n",
       "71     70968\n",
       "2      59515\n",
       "6      31272\n",
       "9      15468\n",
       "5      15035\n",
       "8       6826\n",
       "72      5677\n",
       "Name: count, dtype: int64"
      ]
     },
     "metadata": {},
     "output_type": "display_data"
    },
    {
     "data": {
      "text/plain": [
       "purchaser_type\n",
       "NotApplicable    517428\n",
       "GSE              285204\n",
       "CU/MC/FC          70968\n",
       "Bank              31272\n",
       "Private           15035\n",
       "Affiliate          6826\n",
       "LifeInsurance      5677\n",
       "Name: count, dtype: int64"
      ]
     },
     "metadata": {},
     "output_type": "display_data"
    }
   ],
   "source": [
    "display(df['purchaser_type'].value_counts())\n",
    "df[\"purchaser_type\"] = df[\"purchaser_type\"].map(\n",
    "    {\n",
    "        0: \"NotApplicable\",\n",
    "        1: \"GSE\",\n",
    "        2: \"GSE\",\n",
    "        3: \"GSE\",\n",
    "        4: \"Farmer Mac\",\n",
    "        5: \"Private\",\n",
    "        6: \"Bank\",\n",
    "        71: \"CU/MC/FC\",\n",
    "        72: \"LifeInsurance\",\n",
    "        8: \"Affiliate\",\n",
    "        9: \"Other\",\n",
    "    }\n",
    ")\n",
    "df = df[df[\"purchaser_type\"] != \"Other\"]\n",
    "display(df['purchaser_type'].value_counts())"
   ]
  },
  {
   "cell_type": "code",
   "execution_count": 10,
   "metadata": {},
   "outputs": [
    {
     "data": {
      "text/plain": [
       "derived_loan_product_type\n",
       "Conventional:First Lien          585749\n",
       "Conventional:Subordinate Lien    226729\n",
       "FHA:First Lien                    78976\n",
       "VA:First Lien                     40927\n",
       "FHA:Subordinate Lien                 28\n",
       "VA:Subordinate Lien                   1\n",
       "Name: count, dtype: int64"
      ]
     },
     "metadata": {},
     "output_type": "display_data"
    },
    {
     "data": {
      "text/plain": [
       "derived_loan_product_type\n",
       "Conventional:First Lien          585749\n",
       "Conventional:Subordinate Lien    226729\n",
       "FHA:First Lien                    78976\n",
       "VA:First Lien                     40927\n",
       "Name: count, dtype: int64"
      ]
     },
     "metadata": {},
     "output_type": "display_data"
    }
   ],
   "source": [
    "display(df[\"derived_loan_product_type\"].value_counts())\n",
    "df = df[\n",
    "    (df[\"derived_loan_product_type\"] != \"FHA:Subordinate Lien\")\n",
    "    & (df[\"derived_loan_product_type\"] != \"VA:Subordinate Lien\")\n",
    "]\n",
    "display(df[\"derived_loan_product_type\"].value_counts())"
   ]
  },
  {
   "cell_type": "code",
   "execution_count": 11,
   "metadata": {},
   "outputs": [
    {
     "data": {
      "text/plain": [
       "loan_purpose\n",
       "1     354780\n",
       "32    229046\n",
       "31    134248\n",
       "2     121023\n",
       "4      93259\n",
       "5         25\n",
       "Name: count, dtype: int64"
      ]
     },
     "metadata": {},
     "output_type": "display_data"
    },
    {
     "data": {
      "text/plain": [
       "loan_purpose\n",
       "Home purchase           354780\n",
       "Cash-out refinancing    229046\n",
       "Refinancing             134248\n",
       "Home improvement        121023\n",
       "Other                    93259\n",
       "Name: count, dtype: int64"
      ]
     },
     "metadata": {},
     "output_type": "display_data"
    }
   ],
   "source": [
    "display(df[\"loan_purpose\"].value_counts())\n",
    "df[\"loan_purpose\"] = df[\"loan_purpose\"].map(\n",
    "    {\n",
    "        1: \"Home purchase\",\n",
    "        2: \"Home improvement\",\n",
    "        31: \"Refinancing\",\n",
    "        32: \"Cash-out refinancing\",\n",
    "        4: \"Other\",\n",
    "        5: \"Not applicable\",\n",
    "    }\n",
    ")\n",
    "df = df[df[\"loan_purpose\"] != \"Not applicable\"]\n",
    "display(df[\"loan_purpose\"].value_counts(dropna=False))"
   ]
  },
  {
   "cell_type": "code",
   "execution_count": 12,
   "metadata": {},
   "outputs": [
    {
     "data": {
      "text/plain": [
       "preapproval\n",
       "No     911931\n",
       "Yes     20425\n",
       "Name: count, dtype: int64"
      ]
     },
     "metadata": {},
     "output_type": "display_data"
    }
   ],
   "source": [
    "df[\"preapproval\"] = df[\"preapproval\"].map({1: 'Yes', 2: 'No'})\n",
    "display(df[\"preapproval\"].value_counts(dropna=False))"
   ]
  },
  {
   "cell_type": "code",
   "execution_count": 13,
   "metadata": {},
   "outputs": [
    {
     "data": {
      "text/plain": [
       "lien_status\n",
       "First          705629\n",
       "Subordinate    226727\n",
       "Name: count, dtype: int64"
      ]
     },
     "metadata": {},
     "output_type": "display_data"
    }
   ],
   "source": [
    "df[\"lien_status\"] = df[\"lien_status\"].map(\n",
    "    {\n",
    "        1: \"First\",\n",
    "        2: \"Subordinate\",\n",
    "    }\n",
    ")\n",
    "display(df[\"lien_status\"].value_counts(dropna=False))"
   ]
  },
  {
   "cell_type": "code",
   "execution_count": 14,
   "metadata": {},
   "outputs": [
    {
     "data": {
      "text/plain": [
       "business_or_commercial_purpose\n",
       "2       881898\n",
       "1        44911\n",
       "1111      5547\n",
       "Name: count, dtype: int64"
      ]
     },
     "metadata": {},
     "output_type": "display_data"
    },
    {
     "data": {
      "text/plain": [
       "business_or_commercial_purpose\n",
       "No     881898\n",
       "Yes     44911\n",
       "NaN      5547\n",
       "Name: count, dtype: int64"
      ]
     },
     "metadata": {},
     "output_type": "display_data"
    }
   ],
   "source": [
    "display(df[\"business_or_commercial_purpose\"].value_counts())\n",
    "df[\"business_or_commercial_purpose\"] = (\n",
    "    df[\"business_or_commercial_purpose\"].map({1: 'Yes', 2: 'No'})\n",
    ")\n",
    "display(df[\"business_or_commercial_purpose\"].value_counts(dropna=False))"
   ]
  },
  {
   "cell_type": "code",
   "execution_count": 15,
   "metadata": {},
   "outputs": [
    {
     "data": {
      "text/plain": [
       "open-end_line_of_credit\n",
       "2       714526\n",
       "1       212525\n",
       "1111      5305\n",
       "Name: count, dtype: int64"
      ]
     },
     "metadata": {},
     "output_type": "display_data"
    },
    {
     "data": {
      "text/plain": [
       "open-end_line_of_credit\n",
       "No     714526\n",
       "Yes    212525\n",
       "Name: count, dtype: int64"
      ]
     },
     "metadata": {},
     "output_type": "display_data"
    }
   ],
   "source": [
    "display(df[\"open-end_line_of_credit\"].value_counts())\n",
    "df[\"open-end_line_of_credit\"] = (\n",
    "    df[\"open-end_line_of_credit\"].map({1: 'Yes', 2: 'No'})\n",
    ")\n",
    "display(df[\"open-end_line_of_credit\"].value_counts())"
   ]
  },
  {
   "cell_type": "code",
   "execution_count": 16,
   "metadata": {},
   "outputs": [
    {
     "data": {
      "text/plain": [
       "loan_amount\n",
       "(3010.0, 502500.0]        603903\n",
       "(502500.0, 1000000.0]     249845\n",
       "(1000000.0, 1497500.0]     47108\n",
       "(1497500.0, 1995000.0]     16068\n",
       "Name: count, dtype: int64"
      ]
     },
     "metadata": {},
     "output_type": "display_data"
    },
    {
     "data": {
      "text/plain": [
       "loan_amount\n",
       "(4999.999, 195000.0]     231417\n",
       "(195000.0, 365000.0]     227663\n",
       "(365000.0, 585000.0]     232722\n",
       "(585000.0, 1995000.0]    225122\n",
       "Name: count, dtype: int64"
      ]
     },
     "metadata": {},
     "output_type": "display_data"
    }
   ],
   "source": [
    "test_cuts(df, 'loan_amount', 2e6, n=4)\n",
    "df = df[df['loan_amount'] <= 2e6]"
   ]
  },
  {
   "cell_type": "code",
   "execution_count": 17,
   "metadata": {},
   "outputs": [
    {
     "name": "stdout",
     "output_type": "stream",
     "text": [
      "county_code 1656\n",
      "conforming_loan_limit 824\n",
      "open-end_line_of_credit 5227\n",
      "business_or_commercial_purpose 5469\n",
      "loan_to_value_ratio 59959\n",
      "interest_rate 214029\n",
      "rate_spread 280535\n",
      "total_loan_costs 425780\n",
      "total_points_and_fees 903926\n",
      "origination_charges 414476\n",
      "discount_points 650226\n",
      "lender_credits 724024\n",
      "loan_term 27838\n",
      "prepayment_penalty_term 830426\n",
      "intro_rate_period 651549\n",
      "property_value 25281\n",
      "multifamily_affordable_units 916217\n",
      "income 26263\n",
      "debt_to_income_ratio 58905\n",
      "applicant_ethnicity-1 568\n",
      "applicant_ethnicity-2 802011\n",
      "applicant_ethnicity-3 915074\n",
      "applicant_ethnicity-4 916887\n",
      "applicant_ethnicity-5 916921\n",
      "co-applicant_ethnicity-1 209\n",
      "co-applicant_ethnicity-2 865322\n",
      "co-applicant_ethnicity-3 916188\n",
      "co-applicant_ethnicity-4 916908\n",
      "co-applicant_ethnicity-5 916923\n",
      "applicant_race-1 286\n",
      "applicant_race-2 792489\n",
      "applicant_race-3 907996\n",
      "applicant_race-4 916073\n",
      "applicant_race-5 916705\n",
      "co-applicant_race-1 99\n",
      "co-applicant_race-2 861008\n",
      "co-applicant_race-3 912895\n",
      "co-applicant_race-4 916573\n",
      "co-applicant_race-5 916849\n",
      "applicant_age_above_62 919\n",
      "co-applicant_age_above_62 500093\n"
     ]
    }
   ],
   "source": [
    "for col in df.columns:\n",
    "    is_null = df[col].isnull().sum()\n",
    "    if is_null > 0:\n",
    "        print(col, is_null)"
   ]
  },
  {
   "cell_type": "code",
   "execution_count": 18,
   "metadata": {},
   "outputs": [
    {
     "name": "stdout",
     "output_type": "stream",
     "text": [
      "(916924, 38)\n",
      "(822957, 38)\n",
      "(822957, 36)\n"
     ]
    }
   ],
   "source": [
    "drop_df = df.copy()\n",
    "\n",
    "above_threshold_null_cols = [x for x in drop_df.columns if drop_df[x].isnull().sum() > 80000]\n",
    "drop_df = drop_df.drop(above_threshold_null_cols, axis=1)\n",
    "\n",
    "print(drop_df.shape)\n",
    "drop_df = drop_df.dropna()\n",
    "print(drop_df.shape)\n",
    "\n",
    "for col in drop_df.columns:\n",
    "    is_null = drop_df[col].isnull().sum()\n",
    "    if is_null > 0:\n",
    "        print(col, is_null)\n",
    "\n",
    "drop_df = drop_df.drop(['applicant_credit_score_type', 'co-applicant_credit_score_type'], axis=1)\n",
    "print(drop_df.shape)"
   ]
  },
  {
   "cell_type": "code",
   "execution_count": 19,
   "metadata": {},
   "outputs": [],
   "source": [
    "mapped_df = drop_df.copy()\n",
    "\n",
    "# 1 - Desktop Underwriter (DU)\n",
    "# 2 - Loan Prospector (LP) or Loan Product Advisor\n",
    "# 3 - Technology Open to Approved Lenders (TOTAL) Scorecard\n",
    "# 4 - Guaranteed Underwriting System (GUS)\n",
    "# 5 - Other\n",
    "# 6 - Not applicable\n",
    "# 7 - Internal Proprietary System\n",
    "# 1111 - Exempt\n",
    "mapped_df[\"aus-1\"] = (\n",
    "    mapped_df[\"aus-1\"].map({1: \"DU\", 2: \"LP\", 3: \"TOTAL\", 6: \"NotApplicable\", 7: \"IPS\"})\n",
    ")\n",
    "mapped_df = mapped_df.dropna(subset=[\"aus-1\"], axis=0)\n",
    "\n",
    "mapped_df[\"total_units\"] = pd.to_numeric(mapped_df[\"total_units\"])\n",
    "mapped_df[\"interest_only_payment\"] = mapped_df[\"interest_only_payment\"].map(\n",
    "    {1: 'Yes', 2: 'No'}\n",
    ")\n",
    "mapped_df[\"construction_method\"] = mapped_df[\"construction_method\"].map(\n",
    "    {1: \"site\", 2: \"manufactured\"}\n",
    ")\n",
    "mapped_df[\"submission_of_application\"] = mapped_df[\"submission_of_application\"].map(\n",
    "    {1: \"direct\", 2: \"indirect\"}\n",
    ")\n",
    "\n",
    "mapped_df[\"balloon_payment\"] = mapped_df[\"balloon_payment\"].map({1: 'Yes', 2: 'No'})\n",
    "\n",
    "mapped_df[\"occupancy_type\"] = mapped_df[\"occupancy_type\"].map(\n",
    "    {1: \"mainres\", 2: \"secondres\", 3: \"investproperty\"}\n",
    ")\n",
    "\n",
    "mapped_df[\"applicant_ethnicity-1\"] = mapped_df[\"applicant_ethnicity-1\"].map({\n",
    "    1: 'Hispanic/Latino',\n",
    "    2: 'Not Hispanic/Latino',\n",
    "    3: 'Not Provided',\n",
    "    4: 'NotApplicable',\n",
    "    11: 'Hispanic/Latino', # Mexican\n",
    "    12: 'Hispanic/Latino', # Puerto Rico\n",
    "    13: 'Hispanic/Latino', # Cuban\n",
    "    14: 'Hispanic/Latino', # other Hispanic or Latino\n",
    "})\n",
    "mapped_df = mapped_df[mapped_df[\"applicant_ethnicity-1\"] != 'NotApplicable']\n",
    "\n",
    "mapped_df[\"co-applicant_ethnicity-1\"] = mapped_df[\"co-applicant_ethnicity-1\"].map({\n",
    "    1: 'Hispanic/Latino',\n",
    "    2: 'Not Hispanic/Latino',\n",
    "    3: 'Not Provided',\n",
    "    4: 'NotApplicable',\n",
    "    5: 'none',\n",
    "    11: 'Hispanic/Latino', # Mexican\n",
    "    12: 'Hispanic/Latino', # Puerto Rico\n",
    "    13: 'Hispanic/Latino', # Cuban\n",
    "    14: 'Hispanic/Latino', # other Hispanic or Latino\n",
    "})\n",
    "mapped_df = mapped_df[mapped_df[\"co-applicant_ethnicity-1\"] != 'NotApplicable']\n",
    "\n",
    "mapped_df[\"applicant_race-1\"] = mapped_df[\"applicant_race-1\"].apply(lambda x: int(str(x)[:1])).map(\n",
    "    {\n",
    "        1: 'American Indian',\n",
    "        2: 'Asian',\n",
    "        3: 'Black',\n",
    "        4: 'Pacific Islander',\n",
    "        5: 'White',\n",
    "        6: 'Not Provided',\n",
    "        7: 'NotApplicable',\n",
    "    }\n",
    ")\n",
    "mapped_df = mapped_df[mapped_df[\"applicant_race-1\"] != 'NotApplicable']\n",
    "\n",
    "mapped_df[\"co-applicant_race-1\"] = mapped_df[\"co-applicant_race-1\"].apply(lambda x: int(str(x)[:1])).map(\n",
    "    {\n",
    "        1: 'American Indian',\n",
    "        2: 'Asian',\n",
    "        3: 'Black',\n",
    "        4: 'Pacific Islander',\n",
    "        5: 'White',\n",
    "        6: 'Not Provided',\n",
    "        7: 'NotApplicable',\n",
    "        8: 'none',\n",
    "    }\n",
    ")\n",
    "mapped_df = mapped_df[mapped_df[\"co-applicant_race-1\"] != 'NotApplicable']\n",
    "\n",
    "mapped_df[\"loan_to_value_ratio\"] = pd.to_numeric(mapped_df[\"loan_to_value_ratio\"])\n",
    "mapped_df[\"loan_term\"] = pd.to_numeric(mapped_df[\"loan_term\"]) / 12\n",
    "\n",
    "mapped_df['property_value'] = pd.to_numeric(mapped_df['property_value'])\n",
    "mapped_df = mapped_df[mapped_df[\"property_value\"] <= 3e6]\n",
    "\n",
    "mapped_df['income'] *= 1000\n",
    "mapped_df = mapped_df[(mapped_df['income'] > 0) & (mapped_df['income'] < 1e6)]\n",
    "\n",
    "mapped_df[\"debt_to_income_ratio\"] = mapped_df[\"debt_to_income_ratio\"].replace(\n",
    "    {\n",
    "        \"<20%\": \"10\",\n",
    "        \"20%-<30%\": \"25\",\n",
    "        \"30%-<36%\": \"33\",\n",
    "        \"50%-60%\": \"55\",\n",
    "        \">60%\": \"70\"\n",
    "     }\n",
    ").astype(float)\n",
    "\n",
    "mapped_df[\"co-applicant_age\"] = mapped_df[\"co-applicant_age\"].replace('9999', 'none')\n",
    "mapped_df = mapped_df[mapped_df[\"co-applicant_age\"] != \"8888\"]\n",
    "\n",
    "mapped_df = mapped_df.drop([\n",
    "    'aus-1',\n",
    "    'preapproval',\n",
    "    'applicant_age_above_62',\n",
    "    'submission_of_application',\n",
    "], axis=1)\n",
    "\n",
    "mapped_df = mapped_df.drop([x for x in mapped_df.columns if x.startswith('co-')], axis=1)\n",
    "mapped_df = mapped_df.drop([x for x in mapped_df.columns if x.startswith('derived_')], axis=1)"
   ]
  },
  {
   "cell_type": "code",
   "execution_count": 20,
   "metadata": {},
   "outputs": [
    {
     "data": {
      "text/plain": [
       "Index(['county_code', 'conforming_loan_limit', 'action_taken',\n",
       "       'purchaser_type', 'loan_type', 'loan_purpose', 'lien_status',\n",
       "       'open-end_line_of_credit', 'business_or_commercial_purpose',\n",
       "       'loan_amount', 'loan_to_value_ratio', 'loan_term',\n",
       "       'interest_only_payment', 'balloon_payment', 'property_value',\n",
       "       'construction_method', 'occupancy_type', 'total_units', 'income',\n",
       "       'debt_to_income_ratio', 'applicant_ethnicity-1', 'applicant_race-1',\n",
       "       'applicant_sex', 'applicant_age'],\n",
       "      dtype='object')"
      ]
     },
     "execution_count": 20,
     "metadata": {},
     "output_type": "execute_result"
    }
   ],
   "source": [
    "mapped_df.columns"
   ]
  },
  {
   "cell_type": "code",
   "execution_count": 21,
   "metadata": {},
   "outputs": [],
   "source": [
    "mapped_df = mapped_df.rename(columns = {\n",
    "    'action_taken': 'success',\n",
    "    'applicant_ethnicity-1': 'applicant_ethnicity',\n",
    "    'applicant_race-1': 'applicant_race',\n",
    "})"
   ]
  },
  {
   "cell_type": "code",
   "execution_count": 22,
   "metadata": {},
   "outputs": [],
   "source": [
    "mapped_df.reset_index(drop=True).to_csv('../../mapped_df.csv')"
   ]
  }
 ],
 "metadata": {
  "kernelspec": {
   "display_name": ".venv",
   "language": "python",
   "name": "python3"
  },
  "language_info": {
   "codemirror_mode": {
    "name": "ipython",
    "version": 3
   },
   "file_extension": ".py",
   "mimetype": "text/x-python",
   "name": "python",
   "nbconvert_exporter": "python",
   "pygments_lexer": "ipython3",
   "version": "3.11.2"
  }
 },
 "nbformat": 4,
 "nbformat_minor": 2
}
