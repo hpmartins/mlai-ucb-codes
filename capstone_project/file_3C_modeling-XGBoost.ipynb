{
 "cells": [
  {
   "cell_type": "markdown",
   "metadata": {},
   "source": [
    "# Home Loan Approval/Denial: Models, part C: XGBoost"
   ]
  },
  {
   "cell_type": "markdown",
   "metadata": {},
   "source": [
    "#### Imports"
   ]
  },
  {
   "cell_type": "code",
   "execution_count": 2,
   "metadata": {},
   "outputs": [],
   "source": [
    "import pandas as pd\n",
    "import numpy as np\n",
    "import matplotlib.pyplot as plt\n",
    "import seaborn as sns"
   ]
  },
  {
   "cell_type": "code",
   "execution_count": 3,
   "metadata": {},
   "outputs": [],
   "source": [
    "from sklearn.model_selection import GridSearchCV\n",
    "from sklearn.metrics import classification_report\n",
    "\n",
    "from xgboost import XGBClassifier, callback"
   ]
  },
  {
   "cell_type": "code",
   "execution_count": 4,
   "metadata": {},
   "outputs": [],
   "source": [
    "# Local functions\n",
    "from modeling_preparation import get_X_y"
   ]
  },
  {
   "cell_type": "markdown",
   "metadata": {},
   "source": [
    "#### Auxiliary variables"
   ]
  },
  {
   "cell_type": "code",
   "execution_count": 5,
   "metadata": {},
   "outputs": [],
   "source": [
    "filename_input = \"data-hdma-eastbay-2019-2022-processed\""
   ]
  },
  {
   "cell_type": "markdown",
   "metadata": {},
   "source": [
    "## Loading the processed data"
   ]
  },
  {
   "cell_type": "code",
   "execution_count": 6,
   "metadata": {},
   "outputs": [],
   "source": [
    "X_train, X_test, y_train, y_test = get_X_y(filename_input, ohe_transform=False)\n",
    "\n",
    "for col in list(X_train.select_dtypes(include=object).columns):\n",
    "    X_train[col] = X_train[col].astype(\"category\")\n",
    "    X_test[col] = X_test[col].astype(\"category\")"
   ]
  },
  {
   "cell_type": "markdown",
   "metadata": {},
   "source": [
    "## XGBoost"
   ]
  },
  {
   "cell_type": "code",
   "execution_count": null,
   "metadata": {},
   "outputs": [],
   "source": [
    "early_stop = callback.EarlyStopping(\n",
    "    rounds=30,\n",
    "    metric_name=\"aucpr\",\n",
    "    maximize=True,\n",
    "    data_name=\"validation_0\",\n",
    "    save_best=True,\n",
    "    min_delta=0.001,\n",
    ")\n",
    "\n",
    "clf = XGBClassifier(\n",
    "    tree_method=\"hist\",\n",
    "    booster=\"dart\",\n",
    "    rate_drop=0.1,\n",
    "    enable_categorical=True,\n",
    "    eval_metric=[\"error\", \"error@0.2\", \"error@0.4\", \"error@0.6\", \"error@0.8\", \"aucpr\"],\n",
    "    objective=\"binary:logistic\",\n",
    "    callbacks=[early_stop],\n",
    "    nthread=4,\n",
    ")\n",
    "\n",
    "gridcv = GridSearchCV(\n",
    "    estimator=clf,\n",
    "    param_grid={\n",
    "        \"n_estimators\": [300],\n",
    "        \"max_depth\": [6],\n",
    "        \"learning_rate\": [0.8],\n",
    "        \"lambda\": [0.01, 0.1, 1, 10]\n",
    "    },\n",
    "    n_jobs=1,\n",
    "    verbose=4,\n",
    "    cv=4,\n",
    ").fit(X_train, y_train, eval_set=[(X_test, y_test)])"
   ]
  },
  {
   "cell_type": "code",
   "execution_count": 8,
   "metadata": {},
   "outputs": [
    {
     "data": {
      "text/plain": [
       "{'lambda': 1, 'learning_rate': 0.8, 'max_depth': 6, 'n_estimators': 300}"
      ]
     },
     "execution_count": 8,
     "metadata": {},
     "output_type": "execute_result"
    }
   ],
   "source": [
    "gridcv.best_params_"
   ]
  },
  {
   "cell_type": "code",
   "execution_count": 9,
   "metadata": {},
   "outputs": [
    {
     "name": "stdout",
     "output_type": "stream",
     "text": [
      "train score = 0.8069726229102329\n",
      "test score = 0.8029826241619921\n"
     ]
    }
   ],
   "source": [
    "print(f'train score = {gridcv.score(X_train, y_train)}')\n",
    "print(f'test score = {gridcv.score(X_test, y_test)}')"
   ]
  },
  {
   "cell_type": "code",
   "execution_count": 13,
   "metadata": {},
   "outputs": [
    {
     "data": {
      "text/html": [
       "<div>\n",
       "<style scoped>\n",
       "    .dataframe tbody tr th:only-of-type {\n",
       "        vertical-align: middle;\n",
       "    }\n",
       "\n",
       "    .dataframe tbody tr th {\n",
       "        vertical-align: top;\n",
       "    }\n",
       "\n",
       "    .dataframe thead th {\n",
       "        text-align: right;\n",
       "    }\n",
       "</style>\n",
       "<table border=\"1\" class=\"dataframe\">\n",
       "  <thead>\n",
       "    <tr style=\"text-align: right;\">\n",
       "      <th></th>\n",
       "      <th>F</th>\n",
       "    </tr>\n",
       "  </thead>\n",
       "  <tbody>\n",
       "    <tr>\n",
       "      <th>debt_to_income_ratio</th>\n",
       "      <td>0.584916</td>\n",
       "    </tr>\n",
       "    <tr>\n",
       "      <th>property_value</th>\n",
       "      <td>0.094277</td>\n",
       "    </tr>\n",
       "    <tr>\n",
       "      <th>loan_type</th>\n",
       "      <td>0.079867</td>\n",
       "    </tr>\n",
       "    <tr>\n",
       "      <th>loan_purpose</th>\n",
       "      <td>0.073168</td>\n",
       "    </tr>\n",
       "    <tr>\n",
       "      <th>loan_to_value_ratio</th>\n",
       "      <td>0.040606</td>\n",
       "    </tr>\n",
       "    <tr>\n",
       "      <th>applicant_race</th>\n",
       "      <td>0.033108</td>\n",
       "    </tr>\n",
       "    <tr>\n",
       "      <th>loan_amount</th>\n",
       "      <td>0.032091</td>\n",
       "    </tr>\n",
       "    <tr>\n",
       "      <th>income</th>\n",
       "      <td>0.018033</td>\n",
       "    </tr>\n",
       "    <tr>\n",
       "      <th>applicant_ethnicity</th>\n",
       "      <td>0.015829</td>\n",
       "    </tr>\n",
       "    <tr>\n",
       "      <th>applicant_sex</th>\n",
       "      <td>0.014151</td>\n",
       "    </tr>\n",
       "    <tr>\n",
       "      <th>applicant_age</th>\n",
       "      <td>0.013955</td>\n",
       "    </tr>\n",
       "  </tbody>\n",
       "</table>\n",
       "</div>"
      ],
      "text/plain": [
       "                             F\n",
       "debt_to_income_ratio  0.584916\n",
       "property_value        0.094277\n",
       "loan_type             0.079867\n",
       "loan_purpose          0.073168\n",
       "loan_to_value_ratio   0.040606\n",
       "applicant_race        0.033108\n",
       "loan_amount           0.032091\n",
       "income                0.018033\n",
       "applicant_ethnicity   0.015829\n",
       "applicant_sex         0.014151\n",
       "applicant_age         0.013955"
      ]
     },
     "execution_count": 13,
     "metadata": {},
     "output_type": "execute_result"
    }
   ],
   "source": [
    "importances = pd.DataFrame(gridcv.best_estimator_.feature_importances_, gridcv.best_estimator_.feature_names_in_)\n",
    "importances.columns = ['F']\n",
    "importances.sort_values(by=['F'], ascending=False)"
   ]
  },
  {
   "cell_type": "code",
   "execution_count": 28,
   "metadata": {},
   "outputs": [
    {
     "data": {
      "image/png": "[encoded data removed]",
      "text/plain": [
       "<Figure size 600x400 with 1 Axes>"
      ]
     },
     "metadata": {},
     "output_type": "display_data"
    }
   ],
   "source": [
    "f, ax = plt.subplots(figsize=(6,4))\n",
    "sns.barplot(importances.sort_values(by='F', ascending=False).T, orient='h', ax=ax)\n",
    "\n",
    "ax.set_title('Feature importances [XGBoost]')\n",
    "ax.set_xlabel('Importance')\n",
    "\n",
    "plt.tight_layout()\n",
    "plt.savefig('images/models-feat_importance.png', dpi=600)\n",
    "plt.show()"
   ]
  },
  {
   "cell_type": "code",
   "execution_count": null,
   "metadata": {},
   "outputs": [
    {
     "name": "stdout",
     "output_type": "stream",
     "text": [
      "              precision    recall  f1-score   support\n",
      "\n",
      "           0       0.83      0.53      0.65     22501\n",
      "           1       0.80      0.94      0.86     43280\n",
      "\n",
      "    accuracy                           0.80     65781\n",
      "   macro avg       0.81      0.74      0.76     65781\n",
      "weighted avg       0.81      0.80      0.79     65781\n",
      "\n"
     ]
    }
   ],
   "source": [
    "predictions = np.where(gridcv.predict(X_test) > 0.5, 1, 0)\n",
    "print(classification_report(y_test, predictions))"
   ]
  }
 ],
 "metadata": {
  "kernelspec": {
   "display_name": ".venv",
   "language": "python",
   "name": "python3"
  },
  "language_info": {
   "codemirror_mode": {
    "name": "ipython",
    "version": 3
   },
   "file_extension": ".py",
   "mimetype": "text/x-python",
   "name": "python",
   "nbconvert_exporter": "python",
   "pygments_lexer": "ipython3",
   "version": "3.11.2"
  }
 },
 "nbformat": 4,
 "nbformat_minor": 2
}
