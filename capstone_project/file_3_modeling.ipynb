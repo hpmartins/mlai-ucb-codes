{
 "cells": [
  {
   "cell_type": "code",
   "execution_count": null,
   "metadata": {},
   "outputs": [],
   "source": [
    "import pandas as pd\n",
    "import numpy as np\n",
    "import matplotlib.pyplot as plt\n",
    "import seaborn as sns"
   ]
  },
  {
   "cell_type": "code",
   "execution_count": null,
   "metadata": {},
   "outputs": [],
   "source": [
    "from sklearn.preprocessing import OneHotEncoder, StandardScaler\n",
    "from sklearn.pipeline import Pipeline\n",
    "from sklearn.metrics import accuracy_score, RocCurveDisplay\n",
    "from sklearn.metrics import PrecisionRecallDisplay\n",
    "from sklearn import metrics\n",
    "from sklearn.metrics import ConfusionMatrixDisplay\n",
    "from sklearn.model_selection import train_test_split, GridSearchCV\n",
    "from sklearn.compose import make_column_transformer, make_column_selector\n",
    "\n",
    "from sklearn.dummy import DummyClassifier\n",
    "from sklearn.feature_selection import chi2\n",
    "from sklearn.impute import SimpleImputer\n",
    "\n",
    "from sklearn.linear_model import LogisticRegression\n",
    "from sklearn.neighbors import KNeighborsClassifier\n",
    "from sklearn.tree import DecisionTreeClassifier\n",
    "from sklearn.svm import SVC\n",
    "\n",
    "from sklearn import set_config\n",
    "\n",
    "set_config(display=\"diagram\")"
   ]
  },
  {
   "cell_type": "code",
   "execution_count": null,
   "metadata": {},
   "outputs": [],
   "source": [
    "from sklearn.compose import ColumnTransformer\n",
    "\n",
    "class InvertableColumnTransformer(ColumnTransformer):\n",
    "    \"\"\"\n",
    "    Adds an inverse transform method to the standard sklearn.compose.ColumnTransformer.\n",
    "\n",
    "    Warning this is flaky and use at your own risk.  Validation checks that the column count in \n",
    "    `transformers` are in your object `X` to be inverted.  Reordering of columns will break things!\n",
    "    \"\"\"\n",
    "    def inverse_transform(self, X):\n",
    "        if isinstance(X,pd.DataFrame):\n",
    "            X = X.to_numpy()\n",
    "\n",
    "        arrays = []\n",
    "        for name, indices in self.output_indices_.items():\n",
    "            transformer = self.named_transformers_.get(name, None)\n",
    "            arr = X[:, indices.start: indices.stop]\n",
    "\n",
    "            if transformer in (None, \"passthrough\", \"drop\"):\n",
    "                pass\n",
    "\n",
    "            else:\n",
    "                arr = transformer.inverse_transform(arr)\n",
    "\n",
    "            arrays.append(arr)\n",
    "\n",
    "        retarr = np.concatenate(arrays, axis=1)\n",
    "\n",
    "        if retarr.shape[1] != X.shape[1]:\n",
    "            raise ValueError(f\"Received {X.shape[1]} columns but transformer expected {retarr.shape[1]}\")\n",
    "\n",
    "        return retarr"
   ]
  },
  {
   "cell_type": "code",
   "execution_count": null,
   "metadata": {},
   "outputs": [],
   "source": [
    "df = pd.read_csv('../../mapped_df.csv', index_col=0)"
   ]
  },
  {
   "cell_type": "code",
   "execution_count": null,
   "metadata": {},
   "outputs": [],
   "source": [
    "df.info()"
   ]
  },
  {
   "cell_type": "code",
   "execution_count": null,
   "metadata": {},
   "outputs": [],
   "source": [
    "X = df[\n",
    "    [\n",
    "        \"purchaser_type\",\n",
    "        \"loan_type\",\n",
    "        \"loan_purpose\",\n",
    "        \"lien_status\",\n",
    "        \"open-end_line_of_credit\",\n",
    "        \"business_or_commercial_purpose\",\n",
    "        \"loan_amount\",\n",
    "        \"loan_to_value_ratio\",\n",
    "        \"loan_term\",\n",
    "        \"interest_only_payment\",\n",
    "        \"balloon_payment\",\n",
    "        \"property_value\",\n",
    "        \"construction_method\",\n",
    "        \"occupancy_type\",\n",
    "        \"total_units\",\n",
    "        \"income\",\n",
    "        \"debt_to_income_ratio\",\n",
    "        \"applicant_ethnicity-1\",\n",
    "        \"applicant_race-1\",\n",
    "        \"applicant_sex\",\n",
    "        \"applicant_age\",\n",
    "    ]\n",
    "]\n",
    "y = df[\"action_taken\"]"
   ]
  },
  {
   "cell_type": "code",
   "execution_count": null,
   "metadata": {},
   "outputs": [],
   "source": [
    "categorical_columns = X.select_dtypes(include=[bool, object]).columns\n",
    "numerical_columns = X.select_dtypes(include=[int, float]).columns\n",
    "\n",
    "print(categorical_columns)\n",
    "print(numerical_columns)\n",
    "\n",
    "print(len(categorical_columns)+len(numerical_columns), X.shape)"
   ]
  },
  {
   "cell_type": "code",
   "execution_count": null,
   "metadata": {},
   "outputs": [],
   "source": [
    "preprocess = InvertableColumnTransformer([\n",
    "    ('ohe', OneHotEncoder(sparse_output=False), categorical_columns),\n",
    "    ('scaler', StandardScaler(), numerical_columns),\n",
    "], remainder = 'drop')\n",
    "preprocess.fit(X)"
   ]
  },
  {
   "cell_type": "code",
   "execution_count": null,
   "metadata": {},
   "outputs": [],
   "source": [
    "X_transformed = pd.DataFrame(preprocess.fit_transform(X), columns = preprocess.get_feature_names_out())"
   ]
  },
  {
   "cell_type": "code",
   "execution_count": null,
   "metadata": {},
   "outputs": [],
   "source": [
    "preprocess.inverse_transform(X)"
   ]
  },
  {
   "cell_type": "code",
   "execution_count": null,
   "metadata": {},
   "outputs": [],
   "source": [
    "pipeline = Pipeline([\n",
    "    ('preprocess', preprocess),\n",
    "    ('model', LogisticRegression(max_iter=1000)),\n",
    "])\n",
    "pipeline.fit(X, y)\n",
    "print(pipeline.score(X,y))"
   ]
  },
  {
   "cell_type": "code",
   "execution_count": null,
   "metadata": {},
   "outputs": [],
   "source": [
    "preprocess.named_transformers_"
   ]
  },
  {
   "cell_type": "code",
   "execution_count": null,
   "metadata": {},
   "outputs": [],
   "source": []
  }
 ],
 "metadata": {
  "kernelspec": {
   "display_name": ".venv",
   "language": "python",
   "name": "python3"
  },
  "language_info": {
   "codemirror_mode": {
    "name": "ipython",
    "version": 3
   },
   "file_extension": ".py",
   "mimetype": "text/x-python",
   "name": "python",
   "nbconvert_exporter": "python",
   "pygments_lexer": "ipython3",
   "version": "3.11.2"
  }
 },
 "nbformat": 4,
 "nbformat_minor": 2
}
