{
 "cells": [
  {
   "cell_type": "code",
   "execution_count": null,
   "metadata": {},
   "outputs": [],
   "source": [
    "import pandas as pd\n",
    "import numpy as np\n",
    "import matplotlib.pyplot as plt\n",
    "import seaborn as sns"
   ]
  },
  {
   "cell_type": "code",
   "execution_count": null,
   "metadata": {},
   "outputs": [],
   "source": [
    "df = pd.read_csv(\"../../mapped_df.csv\", index_col=0)\n",
    "\n",
    "pos_label = \"Approved\"\n",
    "neg_label = \"Denied\""
   ]
  },
  {
   "cell_type": "code",
   "execution_count": null,
   "metadata": {},
   "outputs": [],
   "source": [
    "def plot_success(df, col, xlabel, col_order=None):\n",
    "    _, ax = plt.subplots(figsize=(7, 4))\n",
    "\n",
    "    sns.countplot(df, x=col, hue=\"success\", order=col_order, ax=ax)\n",
    "\n",
    "    ax2 = ax.twinx()\n",
    "    ct = pd.crosstab(df[col], df[\"success\"], normalize=\"index\")\n",
    "\n",
    "    if col_order is None:\n",
    "        ax2.scatter(ct.index.values, ct.loc[:, pos_label], c=\"k\")\n",
    "    else:\n",
    "        ax2.plot(col_order, ct.loc[col_order, pos_label], c=\"k\", marker=\"o\")\n",
    "\n",
    "    ax.tick_params(axis=\"x\", labelrotation=15)\n",
    "    ax.set_xlabel(xlabel)\n",
    "    ax2.set_ylabel(\"Success rate\")\n",
    "    ax2.set_ylim(np.min([ct.loc[:, pos_label].min() - 0.1, 0.5]), 1.1)\n",
    "\n",
    "    plt.tight_layout()\n",
    "    plt.show()\n",
    "\n",
    "\n",
    "def plot_success_numerical(df, col, xlabel, bins=5, q=False):\n",
    "    _, ax = plt.subplots(figsize=(7, 4))\n",
    "\n",
    "    tdf = df.copy()\n",
    "    if q:\n",
    "        tdf[col] = pd.qcut(df[col], q=bins)\n",
    "    else:\n",
    "        tdf[col] = pd.cut(df[col], bins=bins)\n",
    "    sns.countplot(tdf, x=col, hue=\"success\", ax=ax)\n",
    "\n",
    "    ax2 = ax.twinx()\n",
    "    ct = pd.crosstab(tdf[col], tdf[\"success\"], normalize=\"index\")\n",
    "\n",
    "    ax2.scatter(ct.index.astype(str), ct.loc[:, pos_label].values, c=\"k\")\n",
    "\n",
    "    ax.tick_params(axis=\"x\", labelrotation=25)\n",
    "    ax.set_xlabel(xlabel)\n",
    "    ax2.set_ylabel(\"Success rate\")\n",
    "    ax2.set_ylim(np.min([ct.loc[:, pos_label].values.min() - 0.1, 0.5]), 1.1)\n",
    "\n",
    "    plt.tight_layout()\n",
    "    plt.show()"
   ]
  },
  {
   "cell_type": "code",
   "execution_count": null,
   "metadata": {},
   "outputs": [],
   "source": [
    "plot_success(\n",
    "    df,\n",
    "    \"debt_to_income_ratio\",\n",
    "    \"Debt/Income ratio (%)\",\n",
    "    col_order=[\n",
    "        \"<20%\",\n",
    "        \"20%-<30%\",\n",
    "        \"30%-<36%\",\n",
    "        \"36\",\n",
    "        \"37\",\n",
    "        \"38\",\n",
    "        \"39\",\n",
    "        \"40\",\n",
    "        \"41\",\n",
    "        \"42\",\n",
    "        \"43\",\n",
    "        \"44\",\n",
    "        \"45\",\n",
    "        \"46\",\n",
    "        \"47\",\n",
    "        \"48\",\n",
    "        \"49\",\n",
    "        \"50%-60%\",\n",
    "        \">60%\",\n",
    "    ],\n",
    ")"
   ]
  },
  {
   "cell_type": "code",
   "execution_count": null,
   "metadata": {},
   "outputs": [],
   "source": [
    "tdf = df[[\"total_units\", \"success\"]].copy()\n",
    "tdf[\"total_units\"] = [str(x) for x in tdf[\"total_units\"].values]\n",
    "plot_success(\n",
    "    tdf, \"total_units\", \"Total units\", col_order=[str(x) for x in [1, 2, 3, 4]]\n",
    ")"
   ]
  },
  {
   "cell_type": "code",
   "execution_count": null,
   "metadata": {},
   "outputs": [],
   "source": [
    "plot_success(df, \"occupancy_type\", \"Occupancy type\")"
   ]
  },
  {
   "cell_type": "code",
   "execution_count": null,
   "metadata": {},
   "outputs": [],
   "source": [
    "plot_success(df, \"construction_method\", \"Construction method\")"
   ]
  },
  {
   "cell_type": "code",
   "execution_count": null,
   "metadata": {},
   "outputs": [],
   "source": [
    "plot_success(df, \"balloon_payment\", \"Balloon payment?\")"
   ]
  },
  {
   "cell_type": "code",
   "execution_count": null,
   "metadata": {},
   "outputs": [],
   "source": [
    "plot_success(df, \"interest_only_payment\", \"Interest only payment?\")"
   ]
  },
  {
   "cell_type": "code",
   "execution_count": null,
   "metadata": {},
   "outputs": [],
   "source": [
    "plot_success_numerical(df, \"loan_to_value_ratio\", \"Loan/Value Ratio\", bins=4, q=True)"
   ]
  },
  {
   "cell_type": "code",
   "execution_count": null,
   "metadata": {},
   "outputs": [],
   "source": [
    "plot_success(df, \"business_or_commercial_purpose\", \"Business/Commercial Purpose?\")"
   ]
  },
  {
   "cell_type": "code",
   "execution_count": null,
   "metadata": {},
   "outputs": [],
   "source": [
    "plot_success(df, \"lien_status\", \"Lien Status\")"
   ]
  },
  {
   "cell_type": "code",
   "execution_count": null,
   "metadata": {},
   "outputs": [],
   "source": [
    "plot_success(df, \"open-end_line_of_credit\", \"Open-end line of credit\")"
   ]
  },
  {
   "cell_type": "code",
   "execution_count": null,
   "metadata": {},
   "outputs": [],
   "source": [
    "plot_success(df, \"purchaser_type\", \"Purchaser Type\")"
   ]
  },
  {
   "cell_type": "code",
   "execution_count": null,
   "metadata": {},
   "outputs": [],
   "source": [
    "plot_success(df, \"conforming_loan_limit\", \"Conforming Loan Limit\")"
   ]
  },
  {
   "cell_type": "code",
   "execution_count": null,
   "metadata": {},
   "outputs": [],
   "source": [
    "plot_success(\n",
    "    df,\n",
    "    \"applicant_age\",\n",
    "    \"Age of applicant\",\n",
    "    col_order=[\"<25\", \"25-34\", \"35-44\", \"45-54\", \"55-64\", \"65-74\", \">74\"],\n",
    ")"
   ]
  },
  {
   "cell_type": "code",
   "execution_count": null,
   "metadata": {},
   "outputs": [],
   "source": [
    "plot_success(df, \"applicant_sex\", \"Sex of applicant\")"
   ]
  },
  {
   "cell_type": "code",
   "execution_count": null,
   "metadata": {},
   "outputs": [],
   "source": [
    "plot_success(\n",
    "    df,\n",
    "    \"applicant_race\",\n",
    "    \"Race of applicant\",\n",
    ")"
   ]
  },
  {
   "cell_type": "code",
   "execution_count": null,
   "metadata": {},
   "outputs": [],
   "source": [
    "plot_success(df, \"applicant_ethnicity\", \"Ethnicity of applicant\")"
   ]
  },
  {
   "cell_type": "code",
   "execution_count": null,
   "metadata": {},
   "outputs": [],
   "source": [
    "plot_success(df, \"loan_purpose\", \"Loan purpose\")"
   ]
  },
  {
   "cell_type": "code",
   "execution_count": null,
   "metadata": {},
   "outputs": [],
   "source": [
    "plot_success(df, \"loan_type\", \"Loan Type\")"
   ]
  },
  {
   "cell_type": "code",
   "execution_count": null,
   "metadata": {},
   "outputs": [],
   "source": [
    "plot_success_numerical(df, \"income\", \"Income (USD)\", bins=10, q=True)"
   ]
  },
  {
   "cell_type": "code",
   "execution_count": null,
   "metadata": {},
   "outputs": [],
   "source": [
    "plot_success_numerical(df, \"property_value\", \"Property Value (USD)\", bins=4, q=False)"
   ]
  },
  {
   "cell_type": "code",
   "execution_count": null,
   "metadata": {},
   "outputs": [],
   "source": [
    "plot_success_numerical(df, \"loan_amount\", \"Loan Amount (USD)\", bins=6, q=False)"
   ]
  },
  {
   "cell_type": "code",
   "execution_count": null,
   "metadata": {},
   "outputs": [],
   "source": [
    "tdf = df[[\"loan_term\", \"success\"]].copy()\n",
    "tdf[\"loan_term\"] = np.array([int(x) for x in tdf.loc[:, \"loan_term\"].values])\n",
    "tdf[\"loan_term\"].value_counts()\n",
    "plot_success_numerical(tdf, \"loan_term\", \"Loan Term (years)\", bins=8, q=False)"
   ]
  },
  {
   "cell_type": "code",
   "execution_count": null,
   "metadata": {},
   "outputs": [],
   "source": [
    "df.columns.tolist()"
   ]
  },
  {
   "cell_type": "code",
   "execution_count": null,
   "metadata": {},
   "outputs": [],
   "source": [
    "plot_success_numerical(df, \"tract_population\", \"Tract Population\", bins=10)"
   ]
  },
  {
   "cell_type": "code",
   "execution_count": null,
   "metadata": {},
   "outputs": [],
   "source": [
    "plot_success_numerical(\n",
    "    df, \"tract_minority_population_percent\", \"Tract Minority Population %\", bins=10\n",
    ")"
   ]
  },
  {
   "cell_type": "code",
   "execution_count": null,
   "metadata": {},
   "outputs": [],
   "source": [
    "plot_success_numerical(\n",
    "    df, \"ffiec_msa_md_median_family_income\", \"FFIEC MSA median family income\", bins=10\n",
    ")"
   ]
  },
  {
   "cell_type": "code",
   "execution_count": null,
   "metadata": {},
   "outputs": [],
   "source": [
    "plot_success_numerical(\n",
    "    df, \"tract_to_msa_income_percentage\", \"% of tract vs MSA median family income\", bins=10\n",
    ")"
   ]
  },
  {
   "cell_type": "code",
   "execution_count": null,
   "metadata": {},
   "outputs": [],
   "source": [
    "plot_success_numerical(\n",
    "    df, \"tract_owner_occupied_units\", \"Number of dwellings\", bins=10\n",
    ")"
   ]
  },
  {
   "cell_type": "code",
   "execution_count": null,
   "metadata": {},
   "outputs": [],
   "source": [
    "plot_success_numerical(\n",
    "    df, \"tract_one_to_four_family_homes\", \"Dwellings that are built to houses with <5 families\", bins=10\n",
    ")"
   ]
  },
  {
   "cell_type": "code",
   "execution_count": null,
   "metadata": {},
   "outputs": [],
   "source": [
    "tdf = df[[\"tract_median_age_of_housing_units\", \"success\"]].copy()\n",
    "tdf[\"tract_median_age_of_housing_units\"] = [x for x in tdf[\"tract_median_age_of_housing_units\"].values]\n",
    "plot_success(\n",
    "    tdf, \"tract_median_age_of_housing_units\", \"Median age of homes in tract\",\n",
    ")"
   ]
  }
 ],
 "metadata": {
  "kernelspec": {
   "display_name": ".venv",
   "language": "python",
   "name": "python3"
  },
  "language_info": {
   "codemirror_mode": {
    "name": "ipython",
    "version": 3
   },
   "file_extension": ".py",
   "mimetype": "text/x-python",
   "name": "python",
   "nbconvert_exporter": "python",
   "pygments_lexer": "ipython3",
   "version": "3.11.2"
  }
 },
 "nbformat": 4,
 "nbformat_minor": 2
}
