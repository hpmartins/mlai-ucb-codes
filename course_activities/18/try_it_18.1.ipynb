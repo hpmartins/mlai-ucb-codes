{
 "cells": [
  {
   "cell_type": "markdown",
   "metadata": {},
   "source": [
    "### Comparing Models and Vectorization Strategies for Text Classification\n",
    "\n",
    "This try-it focuses on weighing the positives and negatives of different estimators and vectorization strategies for a text classification problem.  In order to consider each of these components, you should make use of the `Pipeline` and `GridSearchCV` objects in scikitlearn to try different combinations of vectorizers with different estimators.  For each of these, you also want to use the `.cv_results_` to examine the time for the estimator to fit the data."
   ]
  },
  {
   "cell_type": "markdown",
   "metadata": {},
   "source": [
    "### The Data\n",
    "\n",
    "The dataset below is from [kaggle]() and contains a dataset named the \"ColBert Dataset\" created for this [paper](https://arxiv.org/pdf/2004.12765.pdf).  You are to use the text column to classify whether or not the text was humorous.  It is loaded and displayed below.\n",
    "\n",
    "**Note:** The original dataset contains 200K rows of data. It is best to try to use the full dtaset. If the original dataset is too large for your computer, please use the 'dataset-minimal.csv', which has been reduced to 100K."
   ]
  },
  {
   "cell_type": "code",
   "execution_count": 5,
   "metadata": {},
   "outputs": [],
   "source": [
    "import pandas as pd\n",
    "from sklearn.model_selection import GridSearchCV, train_test_split\n",
    "from sklearn.pipeline import Pipeline\n",
    "from sklearn.feature_extraction.text import CountVectorizer, TfidfVectorizer\n",
    "from sklearn.linear_model import LogisticRegression\n",
    "from sklearn.tree import DecisionTreeClassifier\n",
    "from sklearn.naive_bayes import MultinomialNB\n",
    "\n",
    "from nltk.stem import PorterStemmer, WordNetLemmatizer\n",
    "from nltk.corpus import stopwords"
   ]
  },
  {
   "cell_type": "code",
   "execution_count": 2,
   "metadata": {},
   "outputs": [],
   "source": [
    "df = pd.read_csv('text_data/dataset.csv')"
   ]
  },
  {
   "cell_type": "code",
   "execution_count": 3,
   "metadata": {},
   "outputs": [
    {
     "data": {
      "text/html": [
       "<div>\n",
       "<style scoped>\n",
       "    .dataframe tbody tr th:only-of-type {\n",
       "        vertical-align: middle;\n",
       "    }\n",
       "\n",
       "    .dataframe tbody tr th {\n",
       "        vertical-align: top;\n",
       "    }\n",
       "\n",
       "    .dataframe thead th {\n",
       "        text-align: right;\n",
       "    }\n",
       "</style>\n",
       "<table border=\"1\" class=\"dataframe\">\n",
       "  <thead>\n",
       "    <tr style=\"text-align: right;\">\n",
       "      <th></th>\n",
       "      <th>text</th>\n",
       "      <th>humor</th>\n",
       "    </tr>\n",
       "  </thead>\n",
       "  <tbody>\n",
       "    <tr>\n",
       "      <th>0</th>\n",
       "      <td>Joe biden rules out 2020 bid: 'guys, i'm not r...</td>\n",
       "      <td>False</td>\n",
       "    </tr>\n",
       "    <tr>\n",
       "      <th>1</th>\n",
       "      <td>Watch: darvish gave hitter whiplash with slow ...</td>\n",
       "      <td>False</td>\n",
       "    </tr>\n",
       "    <tr>\n",
       "      <th>2</th>\n",
       "      <td>What do you call a turtle without its shell? d...</td>\n",
       "      <td>True</td>\n",
       "    </tr>\n",
       "    <tr>\n",
       "      <th>3</th>\n",
       "      <td>5 reasons the 2016 election feels so personal</td>\n",
       "      <td>False</td>\n",
       "    </tr>\n",
       "    <tr>\n",
       "      <th>4</th>\n",
       "      <td>Pasco police shot mexican migrant from behind,...</td>\n",
       "      <td>False</td>\n",
       "    </tr>\n",
       "  </tbody>\n",
       "</table>\n",
       "</div>"
      ],
      "text/plain": [
       "                                                text  humor\n",
       "0  Joe biden rules out 2020 bid: 'guys, i'm not r...  False\n",
       "1  Watch: darvish gave hitter whiplash with slow ...  False\n",
       "2  What do you call a turtle without its shell? d...   True\n",
       "3      5 reasons the 2016 election feels so personal  False\n",
       "4  Pasco police shot mexican migrant from behind,...  False"
      ]
     },
     "execution_count": 3,
     "metadata": {},
     "output_type": "execute_result"
    }
   ],
   "source": [
    "df.head()"
   ]
  },
  {
   "cell_type": "markdown",
   "metadata": {},
   "source": [
    "#### Task\n",
    "\n",
    "\n",
    "**Text preprocessing:** As a pre-processing step, perform both `stemming` and `lemmatizing` to normalize your text before classifying. For each technique use both the `CountVectorize`r and `TfidifVectorizer` and use options for stop words and max features to prepare the text data for your estimator.\n",
    "\n",
    "**Classification:** Once you have prepared the text data with stemming lemmatizing techniques, consider `LogisticRegression`, `DecisionTreeClassifier`, and `MultinomialNB` as classification algorithms for the data. Compare their performance in terms of accuracy and speed.\n",
    "\n",
    "Share the results of your best classifier in the form of a table with the best version of each estimator, a dictionary of the best parameters and the best score."
   ]
  },
  {
   "cell_type": "code",
   "execution_count": 35,
   "metadata": {},
   "outputs": [
    {
     "name": "stderr",
     "output_type": "stream",
     "text": [
      "[nltk_data] Downloading package wordnet to /home/henrique/nltk_data...\n",
      "[nltk_data]   Package wordnet is already up-to-date!\n"
     ]
    }
   ],
   "source": [
    "import nltk\n",
    "nltk.download('wordnet')\n",
    "  \n",
    "stemmer = PorterStemmer()\n",
    "lemmatizer = WordNetLemmatizer()\n",
    "from sklearn.base import BaseEstimator, TransformerMixin\n",
    "\n",
    "def stem_text(text):\n",
    "    return \" \".join([stemmer.stem(word) for word in text.split()])\n",
    "\n",
    "def lemmatize_text(text):\n",
    "    return \" \".join([lemmatizer.lemmatize(word) for word in text.split()])\n",
    "\n",
    "class StemmingTransformer(BaseEstimator, TransformerMixin):\n",
    "    def fit(self, X, y=None):\n",
    "        return self\n",
    "\n",
    "    def transform(self, X):\n",
    "        return X.apply(stem_text)\n",
    "\n",
    "class LemmatizationTransformer(BaseEstimator, TransformerMixin):\n",
    "    def fit(self, X, y=None):\n",
    "        return self\n",
    "\n",
    "    def transform(self, X):\n",
    "        return X.apply(lemmatize_text)\n",
    "    \n",
    "tokenizers = {\n",
    "    \"Stemmer\": StemmingTransformer(),\n",
    "    \"Lemmatizer\": LemmatizationTransformer(),\n",
    "}\n",
    "\n",
    "vectorizers = {\n",
    "    \"CountVectorizer\": CountVectorizer(),\n",
    "    \"TfidfVectorizer\": TfidfVectorizer(),\n",
    "}"
   ]
  },
  {
   "cell_type": "code",
   "execution_count": 36,
   "metadata": {},
   "outputs": [
    {
     "name": "stdout",
     "output_type": "stream",
     "text": [
      "Fitting 3 folds for each of 3 candidates, totalling 9 fits\n",
      "[CV 1/3] END classifier=LogisticRegression(max_iter=1000);, score=(train=0.956, test=0.926) total time=   4.4s\n",
      "[CV 2/3] END classifier=LogisticRegression(max_iter=1000);, score=(train=0.957, test=0.925) total time=   4.9s\n",
      "[CV 3/3] END classifier=LogisticRegression(max_iter=1000);, score=(train=0.957, test=0.924) total time=   4.8s\n",
      "[CV 1/3] END classifier=MultinomialNB();, score=(train=0.927, test=0.914) total time=   2.4s\n",
      "[CV 2/3] END classifier=MultinomialNB();, score=(train=0.927, test=0.913) total time=   3.3s\n",
      "[CV 3/3] END classifier=MultinomialNB();, score=(train=0.928, test=0.913) total time=   2.8s\n",
      "[CV 1/3] END classifier=DecisionTreeClassifier();, score=(train=1.000, test=0.865) total time=  59.3s\n",
      "[CV 2/3] END classifier=DecisionTreeClassifier();, score=(train=1.000, test=0.865) total time=  59.5s\n",
      "[CV 3/3] END classifier=DecisionTreeClassifier();, score=(train=1.000, test=0.863) total time= 1.0min\n",
      "Fitting 3 folds for each of 3 candidates, totalling 9 fits\n",
      "[CV 1/3] END classifier=LogisticRegression(max_iter=1000);, score=(train=0.932, test=0.917) total time=   2.9s\n",
      "[CV 2/3] END classifier=LogisticRegression(max_iter=1000);, score=(train=0.933, test=0.917) total time=   3.0s\n",
      "[CV 3/3] END classifier=LogisticRegression(max_iter=1000);, score=(train=0.933, test=0.915) total time=   3.0s\n",
      "[CV 1/3] END classifier=MultinomialNB();, score=(train=0.929, test=0.912) total time=   2.2s\n",
      "[CV 2/3] END classifier=MultinomialNB();, score=(train=0.929, test=0.912) total time=   2.7s\n",
      "[CV 3/3] END classifier=MultinomialNB();, score=(train=0.929, test=0.910) total time=   2.6s\n",
      "[CV 1/3] END classifier=DecisionTreeClassifier();, score=(train=1.000, test=0.854) total time= 1.4min\n",
      "[CV 3/3] END classifier=DecisionTreeClassifier();, score=(train=1.000, test=0.852) total time= 1.3min\n",
      "[CV 2/3] END classifier=DecisionTreeClassifier();, score=(train=1.000, test=0.854) total time= 1.4min\n",
      "Fitting 3 folds for each of 3 candidates, totalling 9 fits\n",
      "[CV 2/3] END classifier=LogisticRegression(max_iter=1000);, score=(train=0.959, test=0.926) total time=   4.8s\n",
      "[CV 1/3] END classifier=LogisticRegression(max_iter=1000);, score=(train=0.958, test=0.926) total time=   4.9s\n",
      "[CV 3/3] END classifier=LogisticRegression(max_iter=1000);, score=(train=0.959, test=0.926) total time=   4.8s\n",
      "[CV 1/3] END classifier=MultinomialNB();, score=(train=0.929, test=0.914) total time=   2.6s\n",
      "[CV 2/3] END classifier=MultinomialNB();, score=(train=0.930, test=0.914) total time=   3.4s\n",
      "[CV 3/3] END classifier=MultinomialNB();, score=(train=0.929, test=0.913) total time=   2.6s\n",
      "[CV 1/3] END classifier=DecisionTreeClassifier();, score=(train=1.000, test=0.869) total time= 1.1min\n",
      "[CV 3/3] END classifier=DecisionTreeClassifier();, score=(train=1.000, test=0.865) total time= 1.0min\n",
      "[CV 2/3] END classifier=DecisionTreeClassifier();, score=(train=1.000, test=0.869) total time= 1.0min\n",
      "Fitting 3 folds for each of 3 candidates, totalling 9 fits\n",
      "[CV 1/3] END classifier=LogisticRegression(max_iter=1000);, score=(train=0.934, test=0.918) total time=   3.3s\n",
      "[CV 2/3] END classifier=LogisticRegression(max_iter=1000);, score=(train=0.932, test=0.918) total time=   3.2s\n",
      "[CV 3/3] END classifier=LogisticRegression(max_iter=1000);, score=(train=0.934, test=0.917) total time=   3.3s\n",
      "[CV 1/3] END classifier=MultinomialNB();, score=(train=0.930, test=0.911) total time=   2.4s\n",
      "[CV 2/3] END classifier=MultinomialNB();, score=(train=0.930, test=0.911) total time=   2.9s\n",
      "[CV 3/3] END classifier=MultinomialNB();, score=(train=0.930, test=0.911) total time=   2.4s\n",
      "[CV 1/3] END classifier=DecisionTreeClassifier();, score=(train=1.000, test=0.855) total time= 1.3min\n",
      "[CV 3/3] END classifier=DecisionTreeClassifier();, score=(train=1.000, test=0.854) total time= 1.3min\n",
      "[CV 2/3] END classifier=DecisionTreeClassifier();, score=(train=1.000, test=0.856) total time= 1.4min\n"
     ]
    }
   ],
   "source": [
    "results = {}\n",
    "\n",
    "param_grid = {\n",
    "    # \"vectorizer\": [CountVectorizer(max_features=500, stop_words=None), TfidfVectorizer(max_features=500, stop_words=None)],\n",
    "    \"classifier\": [\n",
    "        LogisticRegression(max_iter=1000),\n",
    "        DecisionTreeClassifier(),\n",
    "        MultinomialNB(),\n",
    "    ],\n",
    "}\n",
    "\n",
    "\n",
    "for tkname, tk in tokenizers.items():\n",
    "    X_transformed = tk.fit_transform(df[\"text\"])\n",
    "    X_train, X_test, y_train, y_test = train_test_split(\n",
    "        X_transformed, df[\"humor\"], test_size=0.3, random_state=42\n",
    "    )\n",
    "    for vcname, vc in vectorizers.items():\n",
    "        out = {\n",
    "            \"tokenizer\": tkname,\n",
    "            \"vectorizer\": vcname,\n",
    "        }\n",
    "        pipeline = Pipeline([(\"vectorizer\", vc), (\"classifier\", None)])\n",
    "        gridcv = GridSearchCV(\n",
    "            pipeline, param_grid, cv=3, scoring=\"accuracy\", n_jobs=-1, return_train_score=True, verbose=4,\n",
    "        ).fit(X_train, y_train)\n",
    "\n",
    "stemmed_X = StemmingTransformer().fit_transform(df[\"text\"])\n",
    "lemmatized_X = LemmatizationTransformer().fit_transform(df[\"text\"])"
   ]
  }
 ],
 "metadata": {
  "kernelspec": {
   "display_name": "Python 3",
   "language": "python",
   "name": "python3"
  },
  "language_info": {
   "codemirror_mode": {
    "name": "ipython",
    "version": 3
   },
   "file_extension": ".py",
   "mimetype": "text/x-python",
   "name": "python",
   "nbconvert_exporter": "python",
   "pygments_lexer": "ipython3",
   "version": "3.11.2"
  }
 },
 "nbformat": 4,
 "nbformat_minor": 4
}
