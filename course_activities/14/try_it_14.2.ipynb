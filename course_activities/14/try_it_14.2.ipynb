{
 "cells": [
  {
   "cell_type": "markdown",
   "metadata": {},
   "source": [
    "### Grid Searching Decision Trees\n",
    "\n",
    "This try-it focuses on performing a grid search with a `DecisionTreeClassifier`.  As mentioned in the lectures, the grid search for a tree model can get large very easily. In addition to using `GridSearchCV`, scikitlearn implements additional tools that can save energy and offer alternatives to the brute force exhaustive search.  Below, you will compare the performance of some of these alternatives and discuss the time these searches take.  Note that this will be in large part determined by your personal computing power however the relative speed of the searches should be consistent."
   ]
  },
  {
   "cell_type": "code",
   "execution_count": 75,
   "metadata": {
    "metadata": {}
   },
   "outputs": [],
   "source": [
    "import pandas as pd\n",
    "import numpy as np\n",
    "import matplotlib.pyplot as plt\n",
    "import seaborn as sns\n",
    "from scipy.stats import randint\n",
    "\n",
    "from sklearn.experimental import enable_halving_search_cv\n",
    "from sklearn.tree import DecisionTreeClassifier, export_text, plot_tree\n",
    "from sklearn.model_selection import train_test_split, GridSearchCV, RandomizedSearchCV, HalvingGridSearchCV, HalvingRandomSearchCV"
   ]
  },
  {
   "cell_type": "code",
   "execution_count": 2,
   "metadata": {
    "metadata": {}
   },
   "outputs": [],
   "source": [
    "data = pd.read_csv('data/Whickham.txt')\n",
    "data['smoker'] = data['smoker'].map({'Yes': 1, 'No': 0})\n",
    "\n",
    "X = data[['smoker', 'age']]\n",
    "y = data['outcome']"
   ]
  },
  {
   "cell_type": "code",
   "execution_count": 3,
   "metadata": {
    "metadata": {}
   },
   "outputs": [
    {
     "name": "stdout",
     "output_type": "stream",
     "text": [
      "<class 'pandas.core.frame.DataFrame'>\n",
      "RangeIndex: 1314 entries, 0 to 1313\n",
      "Data columns (total 3 columns):\n",
      " #   Column   Non-Null Count  Dtype \n",
      "---  ------   --------------  ----- \n",
      " 0   outcome  1314 non-null   object\n",
      " 1   smoker   1314 non-null   int64 \n",
      " 2   age      1314 non-null   int64 \n",
      "dtypes: int64(2), object(1)\n",
      "memory usage: 30.9+ KB\n"
     ]
    }
   ],
   "source": [
    "data.info()"
   ]
  },
  {
   "cell_type": "code",
   "execution_count": 76,
   "metadata": {
    "metadata": {}
   },
   "outputs": [
    {
     "data": {
      "text/plain": [
       "<scipy.stats._distn_infrastructure.rv_discrete_frozen at 0x7f66bee1cce0>"
      ]
     },
     "execution_count": 76,
     "metadata": {},
     "output_type": "execute_result"
    }
   ],
   "source": [
    "randint(low=1, high=200)"
   ]
  },
  {
   "cell_type": "code",
   "execution_count": 156,
   "metadata": {
    "metadata": {}
   },
   "outputs": [],
   "source": [
    "max_m_depth = 10\n",
    "max_s_split = 40\n",
    "max_s_leaf = 20\n",
    "\n",
    "params = {\n",
    "    'max_depth': [None, *np.arange(1,max_m_depth+1)],\n",
    "    'min_samples_split': np.arange(2,max_s_split+1, 2),\n",
    "    'criterion': ['entropy', 'gini'],\n",
    "    'min_samples_leaf': [1, *np.arange(2,max_s_leaf+1, 2)]\n",
    "}\n",
    "\n",
    "dtree = DecisionTreeClassifier(random_state = 42)\n",
    "\n",
    "searches = {\n",
    "    'Grid': GridSearchCV(dtree, param_grid = params, scoring = 'accuracy', return_train_score=True),\n",
    "    'Randomized': RandomizedSearchCV(dtree, param_distributions=params, scoring='accuracy', return_train_score=True, random_state=42, n_iter = 50),\n",
    "    'Halving': HalvingGridSearchCV(dtree, param_grid=params, scoring = 'accuracy', return_train_score=True, random_state=42),\n",
    "    'HalvingRandom': HalvingRandomSearchCV(dtree, param_distributions=params, scoring='accuracy', return_train_score=True, random_state=42),\n",
    "}\n",
    "\n",
    "data_dict = {}\n",
    "for name, search_cv in searches.items():\n",
    "    tmp = search_cv.fit(X, y)\n",
    "\n",
    "    score_time = tmp.cv_results_['mean_score_time'].sum()\n",
    "    fit_time = tmp.cv_results_['mean_fit_time'].sum()\n",
    "    mean_time_per_param = (tmp.cv_results_['mean_score_time'].mean() + tmp.cv_results_['mean_fit_time'].mean())\n",
    "    train_score = tmp.cv_results_['mean_train_score'][tmp.best_index_]\n",
    "\n",
    "    data_dict[name] = {\n",
    "        'train_acc': tmp.best_score_,\n",
    "        'test_acc': train_score,\n",
    "        **tmp.best_params_,\n",
    "        'mean_time_per_param': mean_time_per_param * tmp.n_splits_,\n",
    "        'total_score_time': score_time,\n",
    "        'total_fit_time': fit_time,\n",
    "        'total_time': (score_time + fit_time) * tmp.n_splits_,\n",
    "    }\n",
    "\n",
    "results = pd.DataFrame.from_records(data_dict).T"
   ]
  },
  {
   "cell_type": "code",
   "execution_count": 157,
   "metadata": {
    "metadata": {}
   },
   "outputs": [
    {
     "data": {
      "text/html": [
       "<div>\n",
       "<style scoped>\n",
       "    .dataframe tbody tr th:only-of-type {\n",
       "        vertical-align: middle;\n",
       "    }\n",
       "\n",
       "    .dataframe tbody tr th {\n",
       "        vertical-align: top;\n",
       "    }\n",
       "\n",
       "    .dataframe thead th {\n",
       "        text-align: right;\n",
       "    }\n",
       "</style>\n",
       "<table border=\"1\" class=\"dataframe\">\n",
       "  <thead>\n",
       "    <tr style=\"text-align: right;\">\n",
       "      <th></th>\n",
       "      <th>train_acc</th>\n",
       "      <th>test_acc</th>\n",
       "      <th>criterion</th>\n",
       "      <th>max_depth</th>\n",
       "      <th>min_samples_leaf</th>\n",
       "      <th>min_samples_split</th>\n",
       "      <th>mean_time_per_param</th>\n",
       "      <th>total_score_time</th>\n",
       "      <th>total_fit_time</th>\n",
       "      <th>total_time</th>\n",
       "    </tr>\n",
       "  </thead>\n",
       "  <tbody>\n",
       "    <tr>\n",
       "      <th>Grid</th>\n",
       "      <td>0.853122</td>\n",
       "      <td>0.859589</td>\n",
       "      <td>gini</td>\n",
       "      <td>None</td>\n",
       "      <td>18</td>\n",
       "      <td>2</td>\n",
       "      <td>0.017318</td>\n",
       "      <td>6.231904</td>\n",
       "      <td>10.531523</td>\n",
       "      <td>83.817134</td>\n",
       "    </tr>\n",
       "    <tr>\n",
       "      <th>Halving</th>\n",
       "      <td>0.855296</td>\n",
       "      <td>0.863645</td>\n",
       "      <td>entropy</td>\n",
       "      <td>3</td>\n",
       "      <td>10</td>\n",
       "      <td>32</td>\n",
       "      <td>0.012558</td>\n",
       "      <td>7.663811</td>\n",
       "      <td>10.34944</td>\n",
       "      <td>90.066252</td>\n",
       "    </tr>\n",
       "    <tr>\n",
       "      <th>HalvingRandom</th>\n",
       "      <td>0.844185</td>\n",
       "      <td>0.859933</td>\n",
       "      <td>gini</td>\n",
       "      <td>1</td>\n",
       "      <td>10</td>\n",
       "      <td>20</td>\n",
       "      <td>0.012272</td>\n",
       "      <td>0.103101</td>\n",
       "      <td>0.137426</td>\n",
       "      <td>1.202633</td>\n",
       "    </tr>\n",
       "    <tr>\n",
       "      <th>Randomized</th>\n",
       "      <td>0.853122</td>\n",
       "      <td>0.859399</td>\n",
       "      <td>gini</td>\n",
       "      <td>9</td>\n",
       "      <td>20</td>\n",
       "      <td>34</td>\n",
       "      <td>0.017438</td>\n",
       "      <td>0.065043</td>\n",
       "      <td>0.109336</td>\n",
       "      <td>0.871895</td>\n",
       "    </tr>\n",
       "  </tbody>\n",
       "</table>\n",
       "</div>"
      ],
      "text/plain": [
       "              train_acc  test_acc criterion max_depth min_samples_leaf  \\\n",
       "Grid           0.853122  0.859589      gini      None               18   \n",
       "Halving        0.855296  0.863645   entropy         3               10   \n",
       "HalvingRandom  0.844185  0.859933      gini         1               10   \n",
       "Randomized     0.853122  0.859399      gini         9               20   \n",
       "\n",
       "              min_samples_split mean_time_per_param total_score_time  \\\n",
       "Grid                          2            0.017318         6.231904   \n",
       "Halving                      32            0.012558         7.663811   \n",
       "HalvingRandom                20            0.012272         0.103101   \n",
       "Randomized                   34            0.017438         0.065043   \n",
       "\n",
       "              total_fit_time total_time  \n",
       "Grid               10.531523  83.817134  \n",
       "Halving             10.34944  90.066252  \n",
       "HalvingRandom       0.137426   1.202633  \n",
       "Randomized          0.109336   0.871895  "
      ]
     },
     "execution_count": 157,
     "metadata": {},
     "output_type": "execute_result"
    }
   ],
   "source": [
    "results"
   ]
  },
  {
   "cell_type": "code",
   "execution_count": 163,
   "metadata": {
    "metadata": {}
   },
   "outputs": [
    {
     "data": {
      "image/png": "[encoded data removed]",
      "text/plain": [
       "<Figure size 600x400 with 2 Axes>"
      ]
     },
     "metadata": {},
     "output_type": "display_data"
    }
   ],
   "source": [
    "f, ax1 = plt.subplots(figsize=(6,4))\n",
    "\n",
    "ax2 = ax1.twinx()\n",
    "\n",
    "ax1.bar(results.index, results.total_time, color = 'gray')\n",
    "ax2.plot(results.index, 100*results.test_acc, c = 'b', label = 'test', marker='o')\n",
    "ax2.plot(results.index, 100*results.train_acc, c='r', label = 'train', marker='o')\n",
    "\n",
    "ax1.set_ylabel('Total search time (s)')\n",
    "ax2.set_ylabel('Accuracy (%)')\n",
    "\n",
    "ax1.set_title('Comparison of different search methods')\n",
    "ax1.set_xlabel('Search method')\n",
    "\n",
    "plt.legend()\n",
    "\n",
    "plt.tight_layout()\n",
    "plt.savefig('try_14.2-plot.png')\n",
    "plt.show()"
   ]
  },
  {
   "cell_type": "code",
   "execution_count": null,
   "metadata": {},
   "outputs": [],
   "source": []
  },
  {
   "cell_type": "code",
   "execution_count": null,
   "metadata": {},
   "outputs": [],
   "source": []
  },
  {
   "cell_type": "code",
   "execution_count": null,
   "metadata": {},
   "outputs": [],
   "source": []
  },
  {
   "cell_type": "code",
   "execution_count": null,
   "metadata": {},
   "outputs": [],
   "source": []
  },
  {
   "cell_type": "code",
   "execution_count": 79,
   "metadata": {
    "metadata": {}
   },
   "outputs": [
    {
     "data": {
      "text/plain": [
       "<matplotlib.collections.LineCollection at 0x7f66ccdd1b20>"
      ]
     },
     "execution_count": 79,
     "metadata": {},
     "output_type": "execute_result"
    },
    {
     "data": {
      "image/png": "[encoded data removed]",
      "text/plain": [
       "<Figure size 640x480 with 1 Axes>"
      ]
     },
     "metadata": {},
     "output_type": "display_data"
    }
   ],
   "source": [
    "low  = 1\n",
    "high = 5\n",
    "\n",
    "fig, ax = plt.subplots(1, 1)\n",
    "x = np.arange(low - 5, high + 5)\n",
    "ax.plot(x, randint.pmf(x, low, high), 'bo', ms=8, label='randint pmf')\n",
    "ax.vlines(x, 0, randint.pmf(x, low, high), colors='b', lw=5, alpha=0.5)"
   ]
  }
 ],
 "metadata": {
  "kernelspec": {
   "display_name": "Python 3",
   "language": "python",
   "name": "python3"
  },
  "language_info": {
   "codemirror_mode": {
    "name": "ipython",
    "version": 3
   },
   "file_extension": ".py",
   "mimetype": "text/x-python",
   "name": "python",
   "nbconvert_exporter": "python",
   "pygments_lexer": "ipython3",
   "version": "3.12.1"
  },
  "widgets": {
   "application/vnd.jupyter.widget-state+json": {
    "state": {},
    "version_major": 2,
    "version_minor": 0
   }
  }
 },
 "nbformat": 4,
 "nbformat_minor": 4
}
